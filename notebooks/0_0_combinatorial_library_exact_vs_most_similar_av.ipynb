{
 "cells": [
  {
   "cell_type": "markdown",
   "metadata": {},
   "source": [
    "# Recombined ligands in ChEMBL: Exact vs. most similar matches"
   ]
  },
  {
   "cell_type": "code",
   "execution_count": 1,
   "metadata": {},
   "outputs": [],
   "source": [
    "from pathlib import Path\n",
    "\n",
    "import pandas as pd\n",
    "from rdkit import Chem\n",
    "\n",
    "from utils import read_fragment_library, construct_ligand, standardize_mol"
   ]
  },
  {
   "cell_type": "markdown",
   "metadata": {},
   "source": [
    "## Get ChEMBL dataset (standardized by us)"
   ]
  },
  {
   "cell_type": "code",
   "execution_count": 3,
   "metadata": {},
   "outputs": [],
   "source": [
    "chembl = pd.read_csv('../data/combinatorial_library/chembl_standardized_inchi.csv')"
   ]
  },
  {
   "cell_type": "code",
   "execution_count": 4,
   "metadata": {},
   "outputs": [
    {
     "data": {
      "text/plain": [
       "(1782229, 2)"
      ]
     },
     "execution_count": 4,
     "metadata": {},
     "output_type": "execute_result"
    }
   ],
   "source": [
    "chembl.shape"
   ]
  },
  {
   "cell_type": "markdown",
   "metadata": {},
   "source": [
    "## Get exact matches"
   ]
  },
  {
   "cell_type": "code",
   "execution_count": 5,
   "metadata": {},
   "outputs": [
    {
     "name": "stdout",
     "output_type": "stream",
     "text": [
      "Number of exact matches: 298\n"
     ]
    },
    {
     "data": {
      "text/html": [
       "<div>\n",
       "<style scoped>\n",
       "    .dataframe tbody tr th:only-of-type {\n",
       "        vertical-align: middle;\n",
       "    }\n",
       "\n",
       "    .dataframe tbody tr th {\n",
       "        vertical-align: top;\n",
       "    }\n",
       "\n",
       "    .dataframe thead th {\n",
       "        text-align: right;\n",
       "    }\n",
       "</style>\n",
       "<table border=\"1\" class=\"dataframe\">\n",
       "  <thead>\n",
       "    <tr style=\"text-align: right;\">\n",
       "      <th></th>\n",
       "      <th>bond_ids</th>\n",
       "      <th>fragment_ids</th>\n",
       "      <th>hba</th>\n",
       "      <th>hbd</th>\n",
       "      <th>mwt</th>\n",
       "      <th>logp</th>\n",
       "      <th>n_atoms</th>\n",
       "      <th>chembl_exact</th>\n",
       "      <th>chembl_most_similar</th>\n",
       "      <th>original_exact</th>\n",
       "      <th>original_substructure</th>\n",
       "      <th>inchi</th>\n",
       "    </tr>\n",
       "  </thead>\n",
       "  <tbody>\n",
       "    <tr>\n",
       "      <th>0</th>\n",
       "      <td>[[GA_10, B1_7], [GA_9, AP_11], [AP_12, SE_13]]</td>\n",
       "      <td>[B1_19, GA_35, AP_6, SE_1]</td>\n",
       "      <td>1</td>\n",
       "      <td>1</td>\n",
       "      <td>0</td>\n",
       "      <td>0</td>\n",
       "      <td>40</td>\n",
       "      <td>1</td>\n",
       "      <td>[CHEMBL2347516, 1.0]</td>\n",
       "      <td>0</td>\n",
       "      <td>0</td>\n",
       "      <td>InChI=1S/C32H28ClFN4O2/c33-29-18-27(9-11-31(29...</td>\n",
       "    </tr>\n",
       "    <tr>\n",
       "      <th>1</th>\n",
       "      <td>[[SE_8, AP_8], [FP_6, AP_9]]</td>\n",
       "      <td>[AP_99, SE_16, FP_25]</td>\n",
       "      <td>1</td>\n",
       "      <td>1</td>\n",
       "      <td>1</td>\n",
       "      <td>1</td>\n",
       "      <td>22</td>\n",
       "      <td>1</td>\n",
       "      <td>[CHEMBL265923, 1.0]</td>\n",
       "      <td>0</td>\n",
       "      <td>0</td>\n",
       "      <td>InChI=1S/C16H13N3O2S/c1-21-13-6-4-12(5-7-13)18...</td>\n",
       "    </tr>\n",
       "  </tbody>\n",
       "</table>\n",
       "</div>"
      ],
      "text/plain": [
       "                                         bond_ids                fragment_ids  \\\n",
       "0  [[GA_10, B1_7], [GA_9, AP_11], [AP_12, SE_13]]  [B1_19, GA_35, AP_6, SE_1]   \n",
       "1                    [[SE_8, AP_8], [FP_6, AP_9]]       [AP_99, SE_16, FP_25]   \n",
       "\n",
       "   hba  hbd  mwt  logp  n_atoms  chembl_exact   chembl_most_similar  \\\n",
       "0    1    1    0     0       40             1  [CHEMBL2347516, 1.0]   \n",
       "1    1    1    1     1       22             1   [CHEMBL265923, 1.0]   \n",
       "\n",
       "   original_exact  original_substructure  \\\n",
       "0               0                      0   \n",
       "1               0                      0   \n",
       "\n",
       "                                               inchi  \n",
       "0  InChI=1S/C32H28ClFN4O2/c33-29-18-27(9-11-31(29...  \n",
       "1  InChI=1S/C16H13N3O2S/c1-21-13-6-4-12(5-7-13)18...  "
      ]
     },
     "execution_count": 5,
     "metadata": {},
     "output_type": "execute_result"
    }
   ],
   "source": [
    "exact_matches = pd.read_json('../data/combinatorial_library/chembl_exact.json')\n",
    "print(f'Number of exact matches: {exact_matches.shape[0]}')\n",
    "exact_matches.head(2)"
   ]
  },
  {
   "cell_type": "markdown",
   "metadata": {},
   "source": [
    "## Exact matches have similarity of 1.0?"
   ]
  },
  {
   "cell_type": "markdown",
   "metadata": {},
   "source": [
    "In theory, the exact matches should have a similarity of 1.0. \n",
    "\n",
    "Procedure for calculating (i) exact matches and (ii) similarities.\n",
    "- (i) Recombined ligands are constructed as `ROMol`, standardized, `ROMol` > `InChI` (InChI as basis for comparison)\n",
    "- (ii) Recombined ligands are constructed as `ROMol`, standardized and directly used for fingerprint generation."
   ]
  },
  {
   "cell_type": "code",
   "execution_count": 6,
   "metadata": {},
   "outputs": [
    {
     "name": "stdout",
     "output_type": "stream",
     "text": [
      "Number of exact matches with similarity != 1: 100\n"
     ]
    },
    {
     "data": {
      "text/html": [
       "<div>\n",
       "<style scoped>\n",
       "    .dataframe tbody tr th:only-of-type {\n",
       "        vertical-align: middle;\n",
       "    }\n",
       "\n",
       "    .dataframe tbody tr th {\n",
       "        vertical-align: top;\n",
       "    }\n",
       "\n",
       "    .dataframe thead th {\n",
       "        text-align: right;\n",
       "    }\n",
       "</style>\n",
       "<table border=\"1\" class=\"dataframe\">\n",
       "  <thead>\n",
       "    <tr style=\"text-align: right;\">\n",
       "      <th></th>\n",
       "      <th>bond_ids</th>\n",
       "      <th>fragment_ids</th>\n",
       "      <th>hba</th>\n",
       "      <th>hbd</th>\n",
       "      <th>mwt</th>\n",
       "      <th>logp</th>\n",
       "      <th>n_atoms</th>\n",
       "      <th>chembl_exact</th>\n",
       "      <th>chembl_most_similar</th>\n",
       "      <th>original_exact</th>\n",
       "      <th>original_substructure</th>\n",
       "      <th>inchi</th>\n",
       "    </tr>\n",
       "  </thead>\n",
       "  <tbody>\n",
       "    <tr>\n",
       "      <th>2</th>\n",
       "      <td>[[FP_6, AP_9], [AP_8, SE_6]]</td>\n",
       "      <td>[AP_99, FP_103, SE_138]</td>\n",
       "      <td>1</td>\n",
       "      <td>1</td>\n",
       "      <td>1</td>\n",
       "      <td>1</td>\n",
       "      <td>20</td>\n",
       "      <td>1</td>\n",
       "      <td>[CHEMBL1446166, 0.9400000000000001]</td>\n",
       "      <td>0</td>\n",
       "      <td>0</td>\n",
       "      <td>InChI=1S/C16H12N2OS/c19-15(17-13-9-5-2-6-10-13...</td>\n",
       "    </tr>\n",
       "    <tr>\n",
       "      <th>5</th>\n",
       "      <td>[[FP_6, AP_9], [SE_15, AP_8]]</td>\n",
       "      <td>[AP_99, SE_9, FP_25]</td>\n",
       "      <td>1</td>\n",
       "      <td>1</td>\n",
       "      <td>1</td>\n",
       "      <td>1</td>\n",
       "      <td>29</td>\n",
       "      <td>1</td>\n",
       "      <td>[CHEMBL254546, 0.87]</td>\n",
       "      <td>0</td>\n",
       "      <td>0</td>\n",
       "      <td>InChI=1S/C21H23N5O2S/c1-25-8-10-26(11-9-25)16-...</td>\n",
       "    </tr>\n",
       "    <tr>\n",
       "      <th>6</th>\n",
       "      <td>[[FP_6, AP_9], [SE_3, AP_8]]</td>\n",
       "      <td>[AP_99, FP_103, SE_74]</td>\n",
       "      <td>1</td>\n",
       "      <td>1</td>\n",
       "      <td>1</td>\n",
       "      <td>1</td>\n",
       "      <td>17</td>\n",
       "      <td>1</td>\n",
       "      <td>[CHEMBL4070122, 0.79]</td>\n",
       "      <td>0</td>\n",
       "      <td>0</td>\n",
       "      <td>InChI=1S/C13H12N2OS/c1-2-8-14-12(16)11-9-17-13...</td>\n",
       "    </tr>\n",
       "    <tr>\n",
       "      <th>8</th>\n",
       "      <td>[[FP_10, AP_8], [SE_10, AP_9]]</td>\n",
       "      <td>[AP_95, SE_22, FP_14]</td>\n",
       "      <td>1</td>\n",
       "      <td>1</td>\n",
       "      <td>1</td>\n",
       "      <td>1</td>\n",
       "      <td>28</td>\n",
       "      <td>1</td>\n",
       "      <td>[CHEMBL2203552, 0.71]</td>\n",
       "      <td>1</td>\n",
       "      <td>1</td>\n",
       "      <td>InChI=1S/C21H17N5O2/c1-28-18-11-24-20(13-8-12-...</td>\n",
       "    </tr>\n",
       "    <tr>\n",
       "      <th>10</th>\n",
       "      <td>[[SE_12, AP_8], [FP_6, AP_9]]</td>\n",
       "      <td>[AP_99, FP_103, SE_15]</td>\n",
       "      <td>1</td>\n",
       "      <td>1</td>\n",
       "      <td>1</td>\n",
       "      <td>1</td>\n",
       "      <td>26</td>\n",
       "      <td>1</td>\n",
       "      <td>[CHEMBL265923, 0.8200000000000001]</td>\n",
       "      <td>0</td>\n",
       "      <td>0</td>\n",
       "      <td>InChI=1S/C19H18N2O4S/c1-23-15-9-13(10-16(24-2)...</td>\n",
       "    </tr>\n",
       "    <tr>\n",
       "      <th>...</th>\n",
       "      <td>...</td>\n",
       "      <td>...</td>\n",
       "      <td>...</td>\n",
       "      <td>...</td>\n",
       "      <td>...</td>\n",
       "      <td>...</td>\n",
       "      <td>...</td>\n",
       "      <td>...</td>\n",
       "      <td>...</td>\n",
       "      <td>...</td>\n",
       "      <td>...</td>\n",
       "      <td>...</td>\n",
       "    </tr>\n",
       "    <tr>\n",
       "      <th>279</th>\n",
       "      <td>[[GA_4, AP_6]]</td>\n",
       "      <td>[GA_47, AP_139]</td>\n",
       "      <td>1</td>\n",
       "      <td>1</td>\n",
       "      <td>1</td>\n",
       "      <td>1</td>\n",
       "      <td>10</td>\n",
       "      <td>1</td>\n",
       "      <td>[CHEMBL1288882, 0.6900000000000001]</td>\n",
       "      <td>0</td>\n",
       "      <td>0</td>\n",
       "      <td>InChI=1S/C3H2F3N3S/c4-3(5,6)1-8-9-2(7)10-1/h(H...</td>\n",
       "    </tr>\n",
       "    <tr>\n",
       "      <th>282</th>\n",
       "      <td>[[SE_11, AP_9]]</td>\n",
       "      <td>[SE_130, AP_32]</td>\n",
       "      <td>1</td>\n",
       "      <td>1</td>\n",
       "      <td>1</td>\n",
       "      <td>1</td>\n",
       "      <td>20</td>\n",
       "      <td>1</td>\n",
       "      <td>[CHEMBL1724387, 0.8200000000000001]</td>\n",
       "      <td>0</td>\n",
       "      <td>1</td>\n",
       "      <td>InChI=1S/C16H13N3O/c20-16(13-9-5-2-6-10-13)17-...</td>\n",
       "    </tr>\n",
       "    <tr>\n",
       "      <th>288</th>\n",
       "      <td>[[AP_16, FP_8]]</td>\n",
       "      <td>[AP_112, FP_19]</td>\n",
       "      <td>1</td>\n",
       "      <td>1</td>\n",
       "      <td>1</td>\n",
       "      <td>1</td>\n",
       "      <td>24</td>\n",
       "      <td>1</td>\n",
       "      <td>[CHEMBL257317, 0.72]</td>\n",
       "      <td>0</td>\n",
       "      <td>0</td>\n",
       "      <td>InChI=1S/C20H16N2O2/c1-24-15-6-4-5-13(11-15)14...</td>\n",
       "    </tr>\n",
       "    <tr>\n",
       "      <th>292</th>\n",
       "      <td>[[AP_9, SE_9]]</td>\n",
       "      <td>[SE_35, AP_32]</td>\n",
       "      <td>1</td>\n",
       "      <td>1</td>\n",
       "      <td>1</td>\n",
       "      <td>1</td>\n",
       "      <td>18</td>\n",
       "      <td>1</td>\n",
       "      <td>[CHEMBL1427072, 0.99]</td>\n",
       "      <td>0</td>\n",
       "      <td>1</td>\n",
       "      <td>InChI=1S/C14H11N3O/c18-13(10-6-2-1-3-7-10)17-1...</td>\n",
       "    </tr>\n",
       "    <tr>\n",
       "      <th>297</th>\n",
       "      <td>[[AP_6, GA_5]]</td>\n",
       "      <td>[GA_86, AP_139]</td>\n",
       "      <td>1</td>\n",
       "      <td>1</td>\n",
       "      <td>1</td>\n",
       "      <td>1</td>\n",
       "      <td>11</td>\n",
       "      <td>1</td>\n",
       "      <td>[CHEMBL1381977, 0.73]</td>\n",
       "      <td>0</td>\n",
       "      <td>0</td>\n",
       "      <td>InChI=1S/C6H5N3S2/c7-6-9-8-5(11-6)4-2-1-3-10-4...</td>\n",
       "    </tr>\n",
       "  </tbody>\n",
       "</table>\n",
       "<p>100 rows × 12 columns</p>\n",
       "</div>"
      ],
      "text/plain": [
       "                           bond_ids             fragment_ids  hba  hbd  mwt  \\\n",
       "2      [[FP_6, AP_9], [AP_8, SE_6]]  [AP_99, FP_103, SE_138]    1    1    1   \n",
       "5     [[FP_6, AP_9], [SE_15, AP_8]]     [AP_99, SE_9, FP_25]    1    1    1   \n",
       "6      [[FP_6, AP_9], [SE_3, AP_8]]   [AP_99, FP_103, SE_74]    1    1    1   \n",
       "8    [[FP_10, AP_8], [SE_10, AP_9]]    [AP_95, SE_22, FP_14]    1    1    1   \n",
       "10    [[SE_12, AP_8], [FP_6, AP_9]]   [AP_99, FP_103, SE_15]    1    1    1   \n",
       "..                              ...                      ...  ...  ...  ...   \n",
       "279                  [[GA_4, AP_6]]          [GA_47, AP_139]    1    1    1   \n",
       "282                 [[SE_11, AP_9]]          [SE_130, AP_32]    1    1    1   \n",
       "288                 [[AP_16, FP_8]]          [AP_112, FP_19]    1    1    1   \n",
       "292                  [[AP_9, SE_9]]           [SE_35, AP_32]    1    1    1   \n",
       "297                  [[AP_6, GA_5]]          [GA_86, AP_139]    1    1    1   \n",
       "\n",
       "     logp  n_atoms  chembl_exact                  chembl_most_similar  \\\n",
       "2       1       20             1  [CHEMBL1446166, 0.9400000000000001]   \n",
       "5       1       29             1                 [CHEMBL254546, 0.87]   \n",
       "6       1       17             1                [CHEMBL4070122, 0.79]   \n",
       "8       1       28             1                [CHEMBL2203552, 0.71]   \n",
       "10      1       26             1   [CHEMBL265923, 0.8200000000000001]   \n",
       "..    ...      ...           ...                                  ...   \n",
       "279     1       10             1  [CHEMBL1288882, 0.6900000000000001]   \n",
       "282     1       20             1  [CHEMBL1724387, 0.8200000000000001]   \n",
       "288     1       24             1                 [CHEMBL257317, 0.72]   \n",
       "292     1       18             1                [CHEMBL1427072, 0.99]   \n",
       "297     1       11             1                [CHEMBL1381977, 0.73]   \n",
       "\n",
       "     original_exact  original_substructure  \\\n",
       "2                 0                      0   \n",
       "5                 0                      0   \n",
       "6                 0                      0   \n",
       "8                 1                      1   \n",
       "10                0                      0   \n",
       "..              ...                    ...   \n",
       "279               0                      0   \n",
       "282               0                      1   \n",
       "288               0                      0   \n",
       "292               0                      1   \n",
       "297               0                      0   \n",
       "\n",
       "                                                 inchi  \n",
       "2    InChI=1S/C16H12N2OS/c19-15(17-13-9-5-2-6-10-13...  \n",
       "5    InChI=1S/C21H23N5O2S/c1-25-8-10-26(11-9-25)16-...  \n",
       "6    InChI=1S/C13H12N2OS/c1-2-8-14-12(16)11-9-17-13...  \n",
       "8    InChI=1S/C21H17N5O2/c1-28-18-11-24-20(13-8-12-...  \n",
       "10   InChI=1S/C19H18N2O4S/c1-23-15-9-13(10-16(24-2)...  \n",
       "..                                                 ...  \n",
       "279  InChI=1S/C3H2F3N3S/c4-3(5,6)1-8-9-2(7)10-1/h(H...  \n",
       "282  InChI=1S/C16H13N3O/c20-16(13-9-5-2-6-10-13)17-...  \n",
       "288  InChI=1S/C20H16N2O2/c1-24-15-6-4-5-13(11-15)14...  \n",
       "292  InChI=1S/C14H11N3O/c18-13(10-6-2-1-3-7-10)17-1...  \n",
       "297  InChI=1S/C6H5N3S2/c7-6-9-8-5(11-6)4-2-1-3-10-4...  \n",
       "\n",
       "[100 rows x 12 columns]"
      ]
     },
     "execution_count": 6,
     "metadata": {},
     "output_type": "execute_result"
    }
   ],
   "source": [
    "exact_matches_not_1 = exact_matches[exact_matches.apply(lambda x: x.chembl_most_similar[1] != 1.0, axis=1)]\n",
    "print(f'Number of exact matches with similarity != 1: {exact_matches_not_1.shape[0]}')\n",
    "exact_matches_not_1"
   ]
  },
  {
   "cell_type": "markdown",
   "metadata": {},
   "source": [
    "## Example recombined ligands"
   ]
  },
  {
   "cell_type": "markdown",
   "metadata": {},
   "source": [
    "### Example 1"
   ]
  },
  {
   "cell_type": "code",
   "execution_count": 7,
   "metadata": {},
   "outputs": [
    {
     "data": {
      "text/plain": [
       "bond_ids                                      [[FP_6, AP_9], [AP_8, SE_6]]\n",
       "fragment_ids                                       [AP_99, FP_103, SE_138]\n",
       "hba                                                                      1\n",
       "hbd                                                                      1\n",
       "mwt                                                                      1\n",
       "logp                                                                     1\n",
       "n_atoms                                                                 20\n",
       "chembl_exact                                                             1\n",
       "chembl_most_similar                    [CHEMBL1446166, 0.9400000000000001]\n",
       "original_exact                                                           0\n",
       "original_substructure                                                    0\n",
       "inchi                    InChI=1S/C16H12N2OS/c19-15(17-13-9-5-2-6-10-13...\n",
       "Name: 2, dtype: object"
      ]
     },
     "execution_count": 7,
     "metadata": {},
     "output_type": "execute_result"
    }
   ],
   "source": [
    "recombined_ligand = exact_matches.loc[2, :]\n",
    "recombined_ligand"
   ]
  },
  {
   "cell_type": "code",
   "execution_count": 8,
   "metadata": {},
   "outputs": [
    {
     "data": {
      "image/png": "[encoded data removed]",
      "text/plain": [
       "<rdkit.Chem.rdchem.Mol at 0x1f6d5caa030>"
      ]
     },
     "execution_count": 8,
     "metadata": {},
     "output_type": "execute_result"
    }
   ],
   "source": [
    "# Construct ligand from metadata\n",
    "fragment_library = read_fragment_library(Path('../data/fragment_library_reduced/'))\n",
    "mol = construct_ligand(\n",
    "    recombined_ligand.fragment_ids, \n",
    "    recombined_ligand.bond_ids,\n",
    "    fragment_library\n",
    ")\n",
    "# Show standardized molecule\n",
    "standardize_mol(mol)"
   ]
  },
  {
   "cell_type": "code",
   "execution_count": 9,
   "metadata": {},
   "outputs": [
    {
     "data": {
      "text/html": [
       "<div>\n",
       "<style scoped>\n",
       "    .dataframe tbody tr th:only-of-type {\n",
       "        vertical-align: middle;\n",
       "    }\n",
       "\n",
       "    .dataframe tbody tr th {\n",
       "        vertical-align: top;\n",
       "    }\n",
       "\n",
       "    .dataframe thead th {\n",
       "        text-align: right;\n",
       "    }\n",
       "</style>\n",
       "<table border=\"1\" class=\"dataframe\">\n",
       "  <thead>\n",
       "    <tr style=\"text-align: right;\">\n",
       "      <th></th>\n",
       "      <th>chembl_id</th>\n",
       "      <th>inchi</th>\n",
       "    </tr>\n",
       "  </thead>\n",
       "  <tbody>\n",
       "    <tr>\n",
       "      <th>840804</th>\n",
       "      <td>CHEMBL1458369</td>\n",
       "      <td>InChI=1S/C16H12N2OS/c19-15(17-13-9-5-2-6-10-13...</td>\n",
       "    </tr>\n",
       "  </tbody>\n",
       "</table>\n",
       "</div>"
      ],
      "text/plain": [
       "            chembl_id                                              inchi\n",
       "840804  CHEMBL1458369  InChI=1S/C16H12N2OS/c19-15(17-13-9-5-2-6-10-13..."
      ]
     },
     "execution_count": 9,
     "metadata": {},
     "output_type": "execute_result"
    }
   ],
   "source": [
    "# Get exact ChEMBL match\n",
    "chembl[chembl.inchi == recombined_ligand.inchi]"
   ]
  },
  {
   "cell_type": "markdown",
   "metadata": {},
   "source": [
    "Compare in ChEMBL:\n",
    "\n",
    "- ChEMBL - most similar: https://www.ebi.ac.uk/chembl/compound_report_card/CHEMBL1446166/\n",
    "- ChEMBL - exact match: https://www.ebi.ac.uk/chembl/compound_report_card/CHEMBL1458369/"
   ]
  },
  {
   "cell_type": "markdown",
   "metadata": {},
   "source": [
    "### Example 2"
   ]
  },
  {
   "cell_type": "code",
   "execution_count": 10,
   "metadata": {},
   "outputs": [
    {
     "data": {
      "text/plain": [
       "bond_ids                                     [[FP_6, AP_9], [SE_15, AP_8]]\n",
       "fragment_ids                                          [AP_99, SE_9, FP_25]\n",
       "hba                                                                      1\n",
       "hbd                                                                      1\n",
       "mwt                                                                      1\n",
       "logp                                                                     1\n",
       "n_atoms                                                                 29\n",
       "chembl_exact                                                             1\n",
       "chembl_most_similar                                   [CHEMBL254546, 0.87]\n",
       "original_exact                                                           0\n",
       "original_substructure                                                    0\n",
       "inchi                    InChI=1S/C21H23N5O2S/c1-25-8-10-26(11-9-25)16-...\n",
       "Name: 5, dtype: object"
      ]
     },
     "execution_count": 10,
     "metadata": {},
     "output_type": "execute_result"
    }
   ],
   "source": [
    "recombined_ligand = exact_matches.loc[5, :]\n",
    "recombined_ligand"
   ]
  },
  {
   "cell_type": "code",
   "execution_count": 11,
   "metadata": {},
   "outputs": [
    {
     "data": {
      "image/png": "[encoded data removed]",
      "text/plain": [
       "<rdkit.Chem.rdchem.Mol at 0x1f6d5c9d580>"
      ]
     },
     "execution_count": 11,
     "metadata": {},
     "output_type": "execute_result"
    }
   ],
   "source": [
    "# Construct ligand from metadata\n",
    "fragment_library = read_fragment_library(Path('../data/fragment_library_reduced/'))\n",
    "mol = construct_ligand(\n",
    "    recombined_ligand.fragment_ids, \n",
    "    recombined_ligand.bond_ids,\n",
    "    fragment_library\n",
    ")\n",
    "# Show standardized molecule\n",
    "standardize_mol(mol)"
   ]
  },
  {
   "cell_type": "code",
   "execution_count": 12,
   "metadata": {},
   "outputs": [
    {
     "data": {
      "text/html": [
       "<div>\n",
       "<style scoped>\n",
       "    .dataframe tbody tr th:only-of-type {\n",
       "        vertical-align: middle;\n",
       "    }\n",
       "\n",
       "    .dataframe tbody tr th {\n",
       "        vertical-align: top;\n",
       "    }\n",
       "\n",
       "    .dataframe thead th {\n",
       "        text-align: right;\n",
       "    }\n",
       "</style>\n",
       "<table border=\"1\" class=\"dataframe\">\n",
       "  <thead>\n",
       "    <tr style=\"text-align: right;\">\n",
       "      <th></th>\n",
       "      <th>chembl_id</th>\n",
       "      <th>inchi</th>\n",
       "    </tr>\n",
       "  </thead>\n",
       "  <tbody>\n",
       "    <tr>\n",
       "      <th>229870</th>\n",
       "      <td>CHEMBL257127</td>\n",
       "      <td>InChI=1S/C21H23N5O2S/c1-25-8-10-26(11-9-25)16-...</td>\n",
       "    </tr>\n",
       "  </tbody>\n",
       "</table>\n",
       "</div>"
      ],
      "text/plain": [
       "           chembl_id                                              inchi\n",
       "229870  CHEMBL257127  InChI=1S/C21H23N5O2S/c1-25-8-10-26(11-9-25)16-..."
      ]
     },
     "execution_count": 12,
     "metadata": {},
     "output_type": "execute_result"
    }
   ],
   "source": [
    "# Get exact ChEMBL match\n",
    "chembl[chembl.inchi == recombined_ligand.inchi]"
   ]
  },
  {
   "cell_type": "markdown",
   "metadata": {},
   "source": [
    "Compare in ChEMBL:\n",
    "\n",
    "- ChEMBL - most similar: https://www.ebi.ac.uk/chembl/compound_report_card/CHEMBL254546/\n",
    "- ChEMBL - exact match: https://www.ebi.ac.uk/chembl/compound_report_card/CHEMBL257127/"
   ]
  },
  {
   "cell_type": "markdown",
   "metadata": {},
   "source": [
    "### Example 3"
   ]
  },
  {
   "cell_type": "code",
   "execution_count": 13,
   "metadata": {},
   "outputs": [
    {
     "data": {
      "text/plain": [
       "bond_ids                                      [[FP_6, AP_9], [SE_3, AP_8]]\n",
       "fragment_ids                                        [AP_99, FP_103, SE_74]\n",
       "hba                                                                      1\n",
       "hbd                                                                      1\n",
       "mwt                                                                      1\n",
       "logp                                                                     1\n",
       "n_atoms                                                                 17\n",
       "chembl_exact                                                             1\n",
       "chembl_most_similar                                  [CHEMBL4070122, 0.79]\n",
       "original_exact                                                           0\n",
       "original_substructure                                                    0\n",
       "inchi                    InChI=1S/C13H12N2OS/c1-2-8-14-12(16)11-9-17-13...\n",
       "Name: 6, dtype: object"
      ]
     },
     "execution_count": 13,
     "metadata": {},
     "output_type": "execute_result"
    }
   ],
   "source": [
    "recombined_ligand = exact_matches.loc[6, :]\n",
    "recombined_ligand"
   ]
  },
  {
   "cell_type": "code",
   "execution_count": 14,
   "metadata": {},
   "outputs": [
    {
     "data": {
      "image/png": "[encoded data removed]",
      "text/plain": [
       "<rdkit.Chem.rdchem.Mol at 0x1f6d5d71440>"
      ]
     },
     "execution_count": 14,
     "metadata": {},
     "output_type": "execute_result"
    }
   ],
   "source": [
    "# Construct ligand from metadata\n",
    "fragment_library = read_fragment_library(Path('../data/fragment_library_reduced/'))\n",
    "mol = construct_ligand(\n",
    "    recombined_ligand.fragment_ids, \n",
    "    recombined_ligand.bond_ids,\n",
    "    fragment_library\n",
    ")\n",
    "# Show standardized molecule\n",
    "standardize_mol(mol)"
   ]
  },
  {
   "cell_type": "code",
   "execution_count": 15,
   "metadata": {},
   "outputs": [
    {
     "data": {
      "text/html": [
       "<div>\n",
       "<style scoped>\n",
       "    .dataframe tbody tr th:only-of-type {\n",
       "        vertical-align: middle;\n",
       "    }\n",
       "\n",
       "    .dataframe tbody tr th {\n",
       "        vertical-align: top;\n",
       "    }\n",
       "\n",
       "    .dataframe thead th {\n",
       "        text-align: right;\n",
       "    }\n",
       "</style>\n",
       "<table border=\"1\" class=\"dataframe\">\n",
       "  <thead>\n",
       "    <tr style=\"text-align: right;\">\n",
       "      <th></th>\n",
       "      <th>chembl_id</th>\n",
       "      <th>inchi</th>\n",
       "    </tr>\n",
       "  </thead>\n",
       "  <tbody>\n",
       "    <tr>\n",
       "      <th>700447</th>\n",
       "      <td>CHEMBL1349528</td>\n",
       "      <td>InChI=1S/C13H12N2OS/c1-2-8-14-12(16)11-9-17-13...</td>\n",
       "    </tr>\n",
       "  </tbody>\n",
       "</table>\n",
       "</div>"
      ],
      "text/plain": [
       "            chembl_id                                              inchi\n",
       "700447  CHEMBL1349528  InChI=1S/C13H12N2OS/c1-2-8-14-12(16)11-9-17-13..."
      ]
     },
     "execution_count": 15,
     "metadata": {},
     "output_type": "execute_result"
    }
   ],
   "source": [
    "# Get exact ChEMBL match\n",
    "chembl[chembl.inchi == recombined_ligand.inchi]"
   ]
  },
  {
   "cell_type": "markdown",
   "metadata": {},
   "source": [
    "Compare in ChEMBL:\n",
    "\n",
    "- ChEMBL - most similar: https://www.ebi.ac.uk/chembl/compound_report_card/CHEMBL4070122/\n",
    "- ChEMBL - exact match: https://www.ebi.ac.uk/chembl/compound_report_card/CHEMBL1349528/"
   ]
  },
  {
   "cell_type": "markdown",
   "metadata": {},
   "source": [
    "### Example 4 (of interest!!)"
   ]
  },
  {
   "cell_type": "code",
   "execution_count": 16,
   "metadata": {},
   "outputs": [
    {
     "data": {
      "text/plain": [
       "bond_ids                                    [[FP_10, AP_8], [SE_10, AP_9]]\n",
       "fragment_ids                                         [AP_95, SE_22, FP_14]\n",
       "hba                                                                      1\n",
       "hbd                                                                      1\n",
       "mwt                                                                      1\n",
       "logp                                                                     1\n",
       "n_atoms                                                                 28\n",
       "chembl_exact                                                             1\n",
       "chembl_most_similar                                  [CHEMBL2203552, 0.71]\n",
       "original_exact                                                           1\n",
       "original_substructure                                                    1\n",
       "inchi                    InChI=1S/C21H17N5O2/c1-28-18-11-24-20(13-8-12-...\n",
       "Name: 8, dtype: object"
      ]
     },
     "execution_count": 16,
     "metadata": {},
     "output_type": "execute_result"
    }
   ],
   "source": [
    "recombined_ligand = exact_matches.loc[8, :]\n",
    "recombined_ligand"
   ]
  },
  {
   "cell_type": "code",
   "execution_count": 17,
   "metadata": {},
   "outputs": [
    {
     "data": {
      "image/png": "[encoded data removed]",
      "text/plain": [
       "<rdkit.Chem.rdchem.Mol at 0x1f6d5c49cb0>"
      ]
     },
     "execution_count": 17,
     "metadata": {},
     "output_type": "execute_result"
    }
   ],
   "source": [
    "# Construct ligand from metadata\n",
    "fragment_library = read_fragment_library(Path('../data/fragment_library_reduced/'))\n",
    "mol = construct_ligand(\n",
    "    recombined_ligand.fragment_ids, \n",
    "    recombined_ligand.bond_ids,\n",
    "    fragment_library\n",
    ")\n",
    "# Show standardized molecule\n",
    "standardize_mol(mol)"
   ]
  },
  {
   "cell_type": "code",
   "execution_count": 18,
   "metadata": {},
   "outputs": [
    {
     "data": {
      "text/html": [
       "<div>\n",
       "<style scoped>\n",
       "    .dataframe tbody tr th:only-of-type {\n",
       "        vertical-align: middle;\n",
       "    }\n",
       "\n",
       "    .dataframe tbody tr th {\n",
       "        vertical-align: top;\n",
       "    }\n",
       "\n",
       "    .dataframe thead th {\n",
       "        text-align: right;\n",
       "    }\n",
       "</style>\n",
       "<table border=\"1\" class=\"dataframe\">\n",
       "  <thead>\n",
       "    <tr style=\"text-align: right;\">\n",
       "      <th></th>\n",
       "      <th>chembl_id</th>\n",
       "      <th>inchi</th>\n",
       "    </tr>\n",
       "  </thead>\n",
       "  <tbody>\n",
       "    <tr>\n",
       "      <th>1190263</th>\n",
       "      <td>CHEMBL2203552</td>\n",
       "      <td>InChI=1S/C21H17N5O2/c1-28-18-11-24-20(13-8-12-...</td>\n",
       "    </tr>\n",
       "  </tbody>\n",
       "</table>\n",
       "</div>"
      ],
      "text/plain": [
       "             chembl_id                                              inchi\n",
       "1190263  CHEMBL2203552  InChI=1S/C21H17N5O2/c1-28-18-11-24-20(13-8-12-..."
      ]
     },
     "execution_count": 18,
     "metadata": {},
     "output_type": "execute_result"
    }
   ],
   "source": [
    "# Get exact ChEMBL match\n",
    "chembl[chembl.inchi == recombined_ligand.inchi]"
   ]
  },
  {
   "cell_type": "markdown",
   "metadata": {},
   "source": [
    "Compare in ChEMBL (same ChEMBL ID but similarity < 1!!!):\n",
    "\n",
    "- ChEMBL - most similar: https://www.ebi.ac.uk/chembl/compound_report_card/CHEMBL2203552/\n",
    "- ChEMBL - exact match: https://www.ebi.ac.uk/chembl/compound_report_card/CHEMBL2203552/"
   ]
  },
  {
   "cell_type": "markdown",
   "metadata": {},
   "source": [
    "### Test fingerprint calculation"
   ]
  },
  {
   "cell_type": "code",
   "execution_count": 29,
   "metadata": {},
   "outputs": [],
   "source": [
    "from rdkit.Chem import PandasTools, rdFingerprintGenerator\n",
    "from rdkit import DataStructs"
   ]
  },
  {
   "cell_type": "markdown",
   "metadata": {},
   "source": [
    "### klifs molecule"
   ]
  },
  {
   "cell_type": "code",
   "execution_count": 41,
   "metadata": {},
   "outputs": [
    {
     "name": "stdout",
     "output_type": "stream",
     "text": [
      "InChI=1S/C21H17N5O2/c1-28-18-11-24-20(13-8-12-4-2-3-5-15(12)23-10-13)26-19(18)17-9-14-16(25-17)6-7-22-21(14)27/h2-5,8-11,25H,6-7H2,1H3,(H,22,27)\n",
      "COc1cnc(-c2cnc3ccccc3c2)nc1-c1cc2c([nH]1)CCNC2=O\n"
     ]
    }
   ],
   "source": [
    "ligand = mol\n",
    "start_inchi= Chem.MolToInchi(mol)\n",
    "print(start_inchi)\n",
    "start_smiles= Chem.MolToSmiles(mol)\n",
    "print(start_smiles)\n",
    "# generate query ligand fingerprint\n",
    "rdkit_gen = rdFingerprintGenerator.GetRDKitFPGenerator(maxPath=5)\n",
    "query_fingerprint = rdkit_gen.GetFingerprint(ligand)"
   ]
  },
  {
   "cell_type": "markdown",
   "metadata": {},
   "source": [
    "### chembl molecule"
   ]
  },
  {
   "cell_type": "code",
   "execution_count": 46,
   "metadata": {},
   "outputs": [
    {
     "name": "stdout",
     "output_type": "stream",
     "text": [
      "InChI=1S/C21H17N5O2/c1-28-18-11-24-20(13-8-12-4-2-3-5-15(12)23-10-13)26-19(18)17-9-14-16(25-17)6-7-22-21(14)27/h2-5,8-11,25H,6-7H2,1H3,(H,22,27)\n",
      "COc1cnc(-c2cnc3ccccc3c2)nc1-c1cc2c([nH]1)CCN=C2O\n"
     ]
    }
   ],
   "source": [
    "# get ChEMBL fingerprint\n",
    "chembl_fingerprints=[]\n",
    "tmp_inchi = exact_matches.loc[8, :].inchi\n",
    "print(tmp_inchi)\n",
    "tmp_mol = Chem.MolFromInchi(tmp_inchi)\n",
    "tmp_smiles= Chem.MolToSmiles(tmp_mol)\n",
    "print(tmp_smiles)\n",
    "# get fingerprint generator\n",
    "rdkit_gen = rdFingerprintGenerator.GetRDKitFPGenerator(maxPath=5)\n",
    "chembl_fingerprints.append(rdkit_gen.GetFingerprint(tmp_mol))"
   ]
  },
  {
   "cell_type": "code",
   "execution_count": 48,
   "metadata": {},
   "outputs": [
    {
     "data": {
      "image/png": "[encoded data removed]",
      "text/plain": [
       "<PIL.PngImagePlugin.PngImageFile image mode=RGB size=600x200 at 0x1F6F289D588>"
      ]
     },
     "execution_count": 48,
     "metadata": {},
     "output_type": "execute_result"
    }
   ],
   "source": [
    "Chem.Draw.MolsToGridImage([ligand,tmp_mol])"
   ]
  },
  {
   "cell_type": "code",
   "execution_count": null,
   "metadata": {},
   "outputs": [],
   "source": [
    "#COc1cnc(-c2cnc3ccccc3c2)nc1-c1cc2c([nH]1)CCNC2=O\n",
    "#COc1cnc(-c2cnc3ccccc3c2)nc1-c1cc2c([nH]1)CCN=C2O"
   ]
  },
  {
   "cell_type": "code",
   "execution_count": 40,
   "metadata": {},
   "outputs": [
    {
     "name": "stdout",
     "output_type": "stream",
     "text": [
      "True\n"
     ]
    }
   ],
   "source": [
    "print(start_inchi==tmp_inchi)"
   ]
  },
  {
   "cell_type": "code",
   "execution_count": 43,
   "metadata": {},
   "outputs": [
    {
     "name": "stdout",
     "output_type": "stream",
     "text": [
      "False\n"
     ]
    }
   ],
   "source": [
    "print(start_smiles==tmp_smiles)"
   ]
  },
  {
   "cell_type": "code",
   "execution_count": 36,
   "metadata": {},
   "outputs": [
    {
     "data": {
      "text/plain": [
       "[0.7076648841354723]"
      ]
     },
     "execution_count": 36,
     "metadata": {},
     "output_type": "execute_result"
    }
   ],
   "source": [
    "DataStructs.BulkTanimotoSimilarity(query_fingerprint, chembl_fingerprints)"
   ]
  },
  {
   "cell_type": "markdown",
   "metadata": {},
   "source": [
    "### Below functions only copied to use the same here"
   ]
  },
  {
   "cell_type": "code",
   "execution_count": 20,
   "metadata": {},
   "outputs": [],
   "source": [
    "def _most_similar_chembl_ligand(ligand, chembl):\n",
    "        \"\"\"\n",
    "        Get the most similar ChEMBL ligand (ChEMBL compound ID and Tanimoto similarity) to the query ligand.\n",
    "        Parameters\n",
    "        ----------\n",
    "        ligand : rdkit.Chem.rdchem.Mol\n",
    "        chembl : pandas.DataFrame\n",
    "            ChEMBL ligands, column fingerprint necessary.\n",
    "        Returns\n",
    "        -------\n",
    "        tuple of (str, float)\n",
    "            ChEMBL compound ID and Tanimoto similarity of ChEMBL ligand most similar to the query ligand.\n",
    "        \"\"\"\n",
    "\n",
    "        # generate query ligand fingerprint\n",
    "        rdkit_gen = rdFingerprintGenerator.GetRDKitFPGenerator(maxPath=5)\n",
    "        query_fingerprint = rdkit_gen.GetFingerprint(ligand)\n",
    "\n",
    "        # get ChEMBL fingerprints as list\n",
    "        chembl_fingerprints = chembl.fingerprint.to_list()\n",
    "\n",
    "        # get pairwise similarities\n",
    "        chembl['similarity'] = DataStructs.BulkTanimotoSimilarity(query_fingerprint, chembl_fingerprints)\n",
    "\n",
    "        # get ligand with maximal similarity\n",
    "        chembl_most_similar_ix = chembl.similarity.idxmax()\n",
    "\n",
    "        return [\n",
    "            chembl.loc[chembl_most_similar_ix].chembl_id,\n",
    "            round(chembl.loc[chembl_most_similar_ix].similarity, 2)\n",
    "        ]"
   ]
  },
  {
   "cell_type": "code",
   "execution_count": 24,
   "metadata": {},
   "outputs": [],
   "source": [
    "def get_fingerprint_from_inchi(inchi):\n",
    "    \"\"\"\n",
    "    Get fingerprint from InChI.\n",
    "    Parameters\n",
    "    ----------\n",
    "    inchi : str\n",
    "        InChI.\n",
    "    Returns\n",
    "    -------\n",
    "    rdkit.DataStructs.cDataStructs.ExplicitBitVect\n",
    "        Fingerprint.\n",
    "    \"\"\"\n",
    "\n",
    "    # get molecule from InChI\n",
    "    mol = Chem.MolFromInchi(inchi)\n",
    "\n",
    "    # get fingerprint generator\n",
    "    rdkit_gen = rdFingerprintGenerator.GetRDKitFPGenerator(maxPath=5)\n",
    "\n",
    "    # get fingerprint\n",
    "    if mol is not None:\n",
    "        return rdkit_gen.GetFingerprint(mol)\n",
    "    else:\n",
    "        return None"
   ]
  },
  {
   "cell_type": "code",
   "execution_count": null,
   "metadata": {},
   "outputs": [],
   "source": []
  }
 ],
 "metadata": {
  "kernelspec": {
   "display_name": "kinfraglib",
   "language": "python",
   "name": "kinfraglib"
  },
  "language_info": {
   "codemirror_mode": {
    "name": "ipython",
    "version": 3
   },
   "file_extension": ".py",
   "mimetype": "text/x-python",
   "name": "python",
   "nbconvert_exporter": "python",
   "pygments_lexer": "ipython3",
   "version": "3.7.6"
  }
 },
 "nbformat": 4,
 "nbformat_minor": 4
}
