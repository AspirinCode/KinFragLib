{
 "cells": [
  {
   "cell_type": "markdown",
   "metadata": {},
   "source": [
    "# Combinatorial library data preparation"
   ]
  },
  {
   "cell_type": "markdown",
   "metadata": {},
   "source": [
    "## Aim of this notebook\n",
    "\n",
    "Extract information from the combinatorial library `json` file:\n",
    "\n",
    "- Number of ligands\n",
    "- Number of atoms for each recombined ligand\n",
    "- Number of ligands that fulfill Lipinski's rule of five (Ro5)\n",
    "- Number of ligands that fulfill the Ro5 criteria (i) molecular weight <= 500Da, (ii) number of hydrogen bond donors <= 5, (iii) number of hydrogen bond acceptors <= 10, and (iv) logP value <= 5 \n",
    "- Number of ligands per subpocket combination\n",
    "- Ligands with exact matches in original KLIFS ligands\n",
    "- Ligands with substructure matches in original KLIFS ligands\n",
    "- Ligands with exact matches in ChEMBL\n",
    "- Most similar ligand in ChEMBL for each recombined ligand (molecule ChEMBL ID and similarity value)\n",
    "\n",
    "Since the `json` file holds mulitple millions of ligands, we do this data processing once here at the beginning and save the results to separate files which will be used for analysis/visualization in the following notebooks."
   ]
  },
  {
   "cell_type": "markdown",
   "metadata": {},
   "source": [
    "## Table of contents\n",
    "\n",
    "1. Combinatorial library data\n",
    "2. Get properties from `json` file\n",
    "3. Show results overview\n",
    "4. Save properties to `csv` file"
   ]
  },
  {
   "cell_type": "code",
   "execution_count": 1,
   "metadata": {},
   "outputs": [],
   "source": [
    "%load_ext autoreload\n",
    "%autoreload 2"
   ]
  },
  {
   "cell_type": "code",
   "execution_count": 2,
   "metadata": {},
   "outputs": [],
   "source": [
    "from datetime import datetime\n",
    "from pathlib import Path\n",
    "\n",
    "import ijson\n",
    "import matplotlib.pyplot as plt\n",
    "import pandas as pd\n",
    "from rdkit import Chem\n",
    "\n",
    "from utils import get_original_ligands, get_ro5_from_mol, read_fragment_library"
   ]
  },
  {
   "cell_type": "markdown",
   "metadata": {},
   "source": [
    "## 1. Combinatorial library data"
   ]
  },
  {
   "cell_type": "markdown",
   "metadata": {},
   "source": [
    "### Download data\n",
    "\n",
    "The combinatorial library comes as large `json` file (3.3 GB).\n",
    "\n",
    "**Note 1**: Due to its size, this file is not included in this GitHub repository but can be downloaded alongside all output files from this notebook from https://osf.io/cy7tr/. Save files to `../data/combinatorial_library/` to run this notebook as-is.\n",
    "\n",
    "**Note 2**: This notebook prepares data for the subsequent analysis notebooks. Since all output files from this notebook are included in the download, is it not necessary to rerun this notebook (takes about 20 minutes) to continue with the analysis notebooks. "
   ]
  },
  {
   "cell_type": "markdown",
   "metadata": {},
   "source": [
    "### Explain the data format\n",
    "\n",
    "This `json` file contains a list of dictionaries, each describing a recombined ligand's properties:\n",
    "\n",
    "`[ligand_1_dict, ligand_2_dict, ..., ligand_n_dict]`\n",
    "\n",
    "This is an example dictionary:\n",
    "\n",
    "```\n",
    "{\n",
    "    \"bond_ids\": [[\"AP_9\", \"SE_6\"], [\"GA_14\", \"AP_10\"], [\"B1_8\", \"GA_13\"]], \n",
    "    \"fragment_ids\": [\"B1_13\", \"SE_138\", \"GA_77\", \"AP_12\"], \n",
    "    \"hba\": 1, \n",
    "    \"hbd\": 1, \n",
    "    \"mwt\": 1, \n",
    "    \"logp\": 1, \n",
    "    \"n_atoms\": 36, \n",
    "    \"chembl_exact\": 0, \n",
    "    \"chembl_most_similar\": [\"CHEMBL4089123\", 0.52], \n",
    "    \"original_exact\": 0, \n",
    "    \"original_substructure\": 0, \n",
    "    \"inchi\": \"InChI=1S/C27H21FN6O2/c1-16-21(27(36)31-32(16)2)12-24(35)33-11-10-20-23(33)9-8-19(25(20)28)22-14-30-34-15-18(13-29-\n",
    "26(22)34)17-6-4-3-5-7-17/h3-11,13-15H,12H2,1-2H3,(H,31,36)\"\n",
    "}\n",
    "```"
   ]
  },
  {
   "cell_type": "markdown",
   "metadata": {},
   "source": [
    "Each dictionary key contains the following value:\n",
    "\n",
    "- `bond_ids` and `fragment_ids`: \n",
    "  - Bond IDs (`bond_ids`), e.g. `[[\"AP_9\", \"SE_6\"], [\"GA_14\", \"AP_10\"], [\"B1_8\", \"GA_13\"]]`: Atom (`<subpocket>_<atom ID>`) pairs per fragment bond\n",
    "  - Fragment IDs (`fragment_ids`), e.g. `[\"B1_13\", \"SE_138\", \"GA_77\", \"AP_12\"]` (`<subpocket>_<fragment index in subpocket pool>`)\n",
    "  - With this information it is possible to construct the recombined ligand from the fragment library\n",
    "- `hba`, `hbd`, `mwt`, and `logp`: Ligand fulfills Lipinski's rule of five criteria? (`0` or `1`)\n",
    "  - Number of hydrogen bond acceptors (`hba`) <= 10\n",
    "  - Number of hydrogen bond donors (`hbd`) <= 5\n",
    "  - Molecular weight (`mwt`) <= 500\n",
    "  - LogP value (`logp`) <= 5 \n",
    "- `n_atoms`: Number of heavy atoms\n",
    "- `chembl_exact`: Ligand has exact match in ChEMBL? (`0` or `1`)\n",
    "- `chembl_most_similar`: Most similar molecule in ChEMBL, e.g. `[\"CHEMBL4089123\", 0.52]` (`[<molecule ChEMBL ID>, <Tanimoto similarity>]` \n",
    "- `original_exact`: Ligand has exact match in original ligands? (`0` or `1`)\n",
    "- `original_substructure`: Ligand is substructure of original ligands? (`0` or `1`)\n",
    "- `inchi`: InChI "
   ]
  },
  {
   "cell_type": "markdown",
   "metadata": {},
   "source": [
    "### Set file/folder paths"
   ]
  },
  {
   "cell_type": "code",
   "execution_count": 3,
   "metadata": {},
   "outputs": [],
   "source": [
    "PATH_FRAGMENT_LIBRARY = Path('../data/fragment_library/')\n",
    "PATH_COMBINATORIAL_LIBRARY = Path('../data/combinatorial_library/combinatorial_library_deduplicated.json')"
   ]
  },
  {
   "cell_type": "markdown",
   "metadata": {},
   "source": [
    "In order to access/filter the ligands' properties efficiently (time and memory), we use the `ijson` library:\n",
    "\n",
    "> Ijson is an iterative JSON parser with standard Python iterator interfaces.\n",
    "\n",
    "https://pypi.org/project/ijson/"
   ]
  },
  {
   "cell_type": "markdown",
   "metadata": {},
   "source": [
    "## 2. Get properties from `json` file"
   ]
  },
  {
   "cell_type": "code",
   "execution_count": 4,
   "metadata": {},
   "outputs": [],
   "source": [
    "def get_properties(path_combinatorial_library):\n",
    "    \"\"\"\n",
    "    Get a set of properties from the combinatorial library json file:\n",
    "    \n",
    "    - Number of ligands\n",
    "    - Number of atoms for each recombined ligand\n",
    "    - Number of ligands that fulfill Lipinski's rule of five (Ro5)\n",
    "    - Number of ligands that fulfill the Ro5 criteria (i) molecular weight <= 500Da, (ii) number of hydrogen bond donors <= 5, (iii) number of hydrogen bond acceptors <= 10, and (iv) logP value <= 5 \n",
    "    - Number of ligands per subpocket combination\n",
    "    - Ligands with exact matches in original KLIFS ligands\n",
    "    - Ligands with substructure matches in original KLIFS ligands\n",
    "    - Ligands with exact matches in ChEMBL\n",
    "    - Most similar ligand in ChEMBL for each recombined ligand (molecule ChEMBL ID and similarity value)\n",
    "    \n",
    "    Parameters\n",
    "    ----------\n",
    "    path_combinatorial_library : pathlib.Path\n",
    "        Path to combinatorial library json file.\n",
    "    \n",
    "    Returns\n",
    "    -------\n",
    "    dict\n",
    "        Combinatorial library properties.\n",
    "    \"\"\"\n",
    "    \n",
    "    print(datetime.now())\n",
    "\n",
    "    # Get object generator from json\n",
    "    f = open(path_combinatorial_library, 'rb')\n",
    "    objects = ijson.items(f, 'item')\n",
    "\n",
    "    # Filter objects\n",
    "    properties = {\n",
    "        'n_ligands': 0,\n",
    "        'n_atoms': [],\n",
    "        'lipinski': 0,\n",
    "        'mw': 0, \n",
    "        'logp': 0, \n",
    "        'hbd': 0, \n",
    "        'hba': 0, \n",
    "        'subpockets': {},\n",
    "        'original_exact': [], \n",
    "        'original_substructure': [], \n",
    "        'chembl_exact': [],\n",
    "        'chembl_most_similar': []\n",
    "    }\n",
    "    \n",
    "    for o in objects:\n",
    "        \n",
    "        # Get number of ligands and number of atoms per ligand\n",
    "        properties['n_ligands'] += 1\n",
    "        properties['n_atoms'].append(o['n_atoms'])\n",
    "        properties['chembl_most_similar'].append([o['fragment_ids'], o['bond_ids'], o['chembl_most_similar'][0], o['chembl_most_similar'][1]])\n",
    "        \n",
    "        # Get number of subpocket combinations\n",
    "        subpocket_key = \"-\".join(sorted([subpocket[:2] for subpocket in o['fragment_ids']]))\n",
    "        if subpocket_key in properties['subpockets'].keys():\n",
    "            properties['subpockets'][subpocket_key] +=1\n",
    "        else:\n",
    "            properties['subpockets'][subpocket_key] = 1\n",
    "        \n",
    "        # Get Lipinski's rule of five + criteria\n",
    "        if o['mwt'] == 1:\n",
    "            properties['mw'] += 1\n",
    "        if o['logp'] == 1:\n",
    "            properties['logp'] += 1\n",
    "        if o['hbd'] == 1:\n",
    "            properties['hbd'] += 1\n",
    "        if o['hba'] == 1:\n",
    "            properties['hba'] += 1\n",
    "        if o['hba']+o['hbd']+o['mwt']+o['logp'] >= 3:\n",
    "            properties['lipinski'] += 1\n",
    "            \n",
    "        # Get KLIFS and ChEMBL matches\n",
    "        if o['original_exact'] == 1:\n",
    "            properties['original_exact'].append(o)\n",
    "        if o['original_substructure'] == 1:\n",
    "            properties['original_substructure'].append(o)\n",
    "        if o['chembl_exact'] == 1:\n",
    "            properties['chembl_exact'].append(o)\n",
    "\n",
    "    properties['original_exact'] = pd.DataFrame(properties['original_exact'])\n",
    "    properties['original_substructure'] = pd.DataFrame(properties['original_substructure'])\n",
    "    properties['chembl_exact'] = pd.DataFrame(properties['chembl_exact'])\n",
    "    properties['chembl_most_similar'] = pd.DataFrame(\n",
    "        properties['chembl_most_similar'], \n",
    "        columns=['fragment_ids', 'bond_ids', 'chembl_id', 'similarity']\n",
    "    )\n",
    "        \n",
    "    print(datetime.now())\n",
    "    \n",
    "    return properties"
   ]
  },
  {
   "cell_type": "code",
   "execution_count": 5,
   "metadata": {},
   "outputs": [
    {
     "name": "stdout",
     "output_type": "stream",
     "text": [
      "2020-07-16 18:16:42.120790\n",
      "2020-07-16 18:42:50.733121\n"
     ]
    }
   ],
   "source": [
    "# Takes up to 20 minutes\n",
    "properties = get_properties(PATH_COMBINATORIAL_LIBRARY)"
   ]
  },
  {
   "cell_type": "markdown",
   "metadata": {},
   "source": [
    "## 3. Show results overview"
   ]
  },
  {
   "cell_type": "code",
   "execution_count": 6,
   "metadata": {},
   "outputs": [
    {
     "data": {
      "text/plain": [
       "6720637"
      ]
     },
     "execution_count": 6,
     "metadata": {},
     "output_type": "execute_result"
    }
   ],
   "source": [
    "properties['n_ligands']"
   ]
  },
  {
   "cell_type": "code",
   "execution_count": 7,
   "metadata": {},
   "outputs": [
    {
     "data": {
      "text/plain": [
       "6720637"
      ]
     },
     "execution_count": 7,
     "metadata": {},
     "output_type": "execute_result"
    }
   ],
   "source": [
    "len(properties['n_atoms'])"
   ]
  },
  {
   "cell_type": "code",
   "execution_count": 8,
   "metadata": {},
   "outputs": [
    {
     "data": {
      "text/plain": [
       "4260776"
      ]
     },
     "execution_count": 8,
     "metadata": {},
     "output_type": "execute_result"
    }
   ],
   "source": [
    "properties['lipinski']"
   ]
  },
  {
   "cell_type": "code",
   "execution_count": 9,
   "metadata": {},
   "outputs": [
    {
     "data": {
      "text/plain": [
       "298"
      ]
     },
     "execution_count": 9,
     "metadata": {},
     "output_type": "execute_result"
    }
   ],
   "source": [
    "properties['chembl_exact'].shape[0]"
   ]
  },
  {
   "cell_type": "code",
   "execution_count": 10,
   "metadata": {},
   "outputs": [
    {
     "data": {
      "text/plain": [
       "6720637"
      ]
     },
     "execution_count": 10,
     "metadata": {},
     "output_type": "execute_result"
    }
   ],
   "source": [
    "properties['chembl_most_similar'].shape[0]"
   ]
  },
  {
   "cell_type": "code",
   "execution_count": 11,
   "metadata": {},
   "outputs": [
    {
     "data": {
      "text/plain": [
       "35"
      ]
     },
     "execution_count": 11,
     "metadata": {},
     "output_type": "execute_result"
    }
   ],
   "source": [
    "properties['original_exact'].shape[0]"
   ]
  },
  {
   "cell_type": "code",
   "execution_count": 12,
   "metadata": {},
   "outputs": [
    {
     "data": {
      "text/plain": [
       "324"
      ]
     },
     "execution_count": 12,
     "metadata": {},
     "output_type": "execute_result"
    }
   ],
   "source": [
    "properties['original_substructure'].shape[0]"
   ]
  },
  {
   "cell_type": "code",
   "execution_count": 13,
   "metadata": {},
   "outputs": [
    {
     "data": {
      "text/plain": [
       "{'AP-B1-GA-SE': 255096,\n",
       " 'AP-FP-GA-SE': 5016284,\n",
       " 'AP-B2-GA-SE': 359534,\n",
       " 'AP-B2-FP-GA': 178027,\n",
       " 'AP-B1-FP-GA': 209843,\n",
       " 'AP-B1-B2-GA': 3498,\n",
       " 'AP-GA-SE': 102733,\n",
       " 'AP-FP-SE': 512671,\n",
       " 'AP-FP-GA': 71885,\n",
       " 'AP-B2-GA': 1812,\n",
       " 'AP-B1-GA': 1279,\n",
       " 'AP-GA': 682,\n",
       " 'AP-FP': 5924,\n",
       " 'AP-SE': 1369}"
      ]
     },
     "execution_count": 13,
     "metadata": {},
     "output_type": "execute_result"
    }
   ],
   "source": [
    "properties['subpockets']"
   ]
  },
  {
   "cell_type": "markdown",
   "metadata": {},
   "source": [
    "## 4. Save properties to `csv`/`json` files"
   ]
  },
  {
   "cell_type": "code",
   "execution_count": 14,
   "metadata": {},
   "outputs": [],
   "source": [
    "properties['original_exact'].to_json(\n",
    "    '../data/combinatorial_library/original_exact.json'\n",
    ")"
   ]
  },
  {
   "cell_type": "code",
   "execution_count": 15,
   "metadata": {},
   "outputs": [],
   "source": [
    "properties['original_substructure'].to_json(\n",
    "    '../data/combinatorial_library/original_substructure.json'\n",
    ")"
   ]
  },
  {
   "cell_type": "code",
   "execution_count": 16,
   "metadata": {},
   "outputs": [],
   "source": [
    "properties['chembl_exact'].to_json(\n",
    "    '../data/combinatorial_library/chembl_exact.json'\n",
    ")"
   ]
  },
  {
   "cell_type": "code",
   "execution_count": 17,
   "metadata": {},
   "outputs": [],
   "source": [
    "# Takes a moment (20s)\n",
    "properties['chembl_most_similar'].to_json(\n",
    "    '../data/combinatorial_library/chembl_most_similar.json'\n",
    ")"
   ]
  },
  {
   "cell_type": "code",
   "execution_count": 18,
   "metadata": {},
   "outputs": [],
   "source": [
    "# Takes a moment (20s)\n",
    "pd.DataFrame(properties['n_atoms']).to_csv(\n",
    "    '../data/combinatorial_library/n_atoms.csv',\n",
    "    index=None,\n",
    "    header=None\n",
    ")"
   ]
  },
  {
   "cell_type": "code",
   "execution_count": 19,
   "metadata": {},
   "outputs": [],
   "source": [
    "subpockets = pd.DataFrame.from_dict(properties['subpockets'], orient=\"index\")\n",
    "subpockets = subpockets.rename(columns={0: 'count'})\n",
    "subpockets.to_csv(\n",
    "    '../data/combinatorial_library/subpockets.csv'\n",
    ")"
   ]
  },
  {
   "cell_type": "code",
   "execution_count": 20,
   "metadata": {},
   "outputs": [],
   "source": [
    "pd.Series(\n",
    "    {key: properties[key] for key in ['mw', 'logp', 'hbd', 'hba', 'lipinski', 'n_ligands']}\n",
    ").to_csv(\n",
    "    '../data/combinatorial_library/properties.csv',\n",
    "    header=None\n",
    ")"
   ]
  }
 ],
 "metadata": {
  "kernelspec": {
   "display_name": "kinfraglib",
   "language": "python",
   "name": "kinfraglib"
  },
  "language_info": {
   "codemirror_mode": {
    "name": "ipython",
    "version": 3
   },
   "file_extension": ".py",
   "mimetype": "text/x-python",
   "name": "python",
   "nbconvert_exporter": "python",
   "pygments_lexer": "ipython3",
   "version": "3.6.10"
  }
 },
 "nbformat": 4,
 "nbformat_minor": 4
}
