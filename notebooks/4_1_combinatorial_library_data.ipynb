{
 "cells": [
  {
   "cell_type": "markdown",
   "metadata": {},
   "source": [
    "# Combinatorial library data"
   ]
  },
  {
   "cell_type": "markdown",
   "metadata": {},
   "source": [
    "## Aim of this notebook\n",
    "\n",
    "Extract information from the combinatorial library `json` file:\n",
    "\n",
    "- Number of ligands\n",
    "- Number of ligands that fulfill Lipinski's rule of five (Ro5)\n",
    "- Number of ligands that fulfill the Ro5 criteria (i) molecular weight <= 500Da, (ii) number of hydrogen bond donors <= 5, (iii) number of hydrogen bond acceptors <= 10, and (iv) logP value <= 5 \n",
    "- Ligands with exact matches in ChEMBL\n",
    "- Ligands with exact matches in original KLIFS ligands\n",
    "- Ligands with substructure matches in original KLIFS ligands\n",
    "\n",
    "Since the `json` file holds mulitple millions of ligands, we do this data processing once here at the beginning and save the results to separate files which will be used for analysis/visualization in the following notebooks."
   ]
  },
  {
   "cell_type": "markdown",
   "metadata": {},
   "source": [
    "## Table of contents\n",
    "\n",
    "1. Combinatorial library data\n",
    "2. Get properties from `json` file\n",
    "3. Show results overview\n",
    "4. Save properties to `csv` file"
   ]
  },
  {
   "cell_type": "code",
   "execution_count": 1,
   "metadata": {},
   "outputs": [],
   "source": [
    "%load_ext autoreload\n",
    "%autoreload 2"
   ]
  },
  {
   "cell_type": "code",
   "execution_count": 2,
   "metadata": {},
   "outputs": [],
   "source": [
    "from datetime import datetime\n",
    "from pathlib import Path\n",
    "\n",
    "import ijson\n",
    "import matplotlib.pyplot as plt\n",
    "import pandas as pd\n",
    "from rdkit import Chem\n",
    "\n",
    "from utils import get_original_ligands, get_ro5_from_mol, read_fragment_library"
   ]
  },
  {
   "cell_type": "code",
   "execution_count": 3,
   "metadata": {},
   "outputs": [],
   "source": [
    "PATH_FRAGMENT_LIBRARY = Path('../data/fragment_library/')\n",
    "PATH_COMBINATORIAL_LIBRARY = Path('../data/combinatorial_library/combinatorial_library_deduplicated.json')"
   ]
  },
  {
   "cell_type": "markdown",
   "metadata": {},
   "source": [
    "## 1. Combinatorial library data"
   ]
  },
  {
   "cell_type": "markdown",
   "metadata": {},
   "source": [
    "The combinatorial library comes as large JSON file. In order to access/filter ligands efficiently (time and memory), we use the `ijson` library:\n",
    "\n",
    "> Ijson is an iterative JSON parser with standard Python iterator interfaces.\n",
    "\n",
    "https://pypi.org/project/ijson/"
   ]
  },
  {
   "cell_type": "markdown",
   "metadata": {},
   "source": [
    "Here, we take a look at the first entry in the combinatorial library:"
   ]
  },
  {
   "cell_type": "markdown",
   "metadata": {},
   "source": [
    "The combinatorial library contains the following information:\n",
    "- `bond_ids` and `fragment_ids`: \n",
    "  - Bond IDs (`bond_ids`), e.g. `[[\"FP_6\", \"AP_10\"], [\"AP_11\", \"SE_13\"]]`: Atom (`<subpocket>_<atom ID>`) pairs per fragment bond\n",
    "  - Fragment IDs (`fragment_ids`), e.g. `[\"SE_2\", \"AP_0\", \"FP_2\"]` (`<subpocket>_<fragment index in subpocket pool>`)\n",
    "  - With this information it is possible to construct the recombined ligand from the fragment library\n",
    "- `hba`, `hbd`, `mwt`, and `logp`: Ligand fulfills Lipinski's rule of five criteria? (`0` or `1`)\n",
    "  - Number of hydrogen bond acceptors (`hba`) <= 10\n",
    "  - Number of hydrogen bond donors (`hbd`) <= 5\n",
    "  - Molecular weight (`mwt`) <= 500\n",
    "  - LogP value (`logp`) <= 5 \n",
    "- `n_atoms`: Number of heavy atoms\n",
    "- `chembl_exact`: Ligand has exact match in ChEMBL? List of ChEMBL molecule indicies (`[]` if no match)\n",
    "- `chembl_most_similar`: Most similar molecule in ChEMBL, e.g. `[500021, 0.34]` (`[<ChEMBL ID without \"CHEMBL\" prefix>, <Tanimoto similarity>]` \n",
    "- `original_exact`: Ligand has exact match in original ligands? List of original ligand indicies (`[]` if no match)\n",
    "- `original_substructure`: Ligand is substructure of original ligands? List of original ligand indicies (`[]` if no match)\n",
    "- `inchi`: InChI "
   ]
  },
  {
   "cell_type": "markdown",
   "metadata": {},
   "source": [
    "## 2. Get properties from `json` file"
   ]
  },
  {
   "cell_type": "code",
   "execution_count": 4,
   "metadata": {},
   "outputs": [],
   "source": [
    "def get_properties(path_combinatorial_library):\n",
    "    \n",
    "    print(datetime.now())\n",
    "\n",
    "    # get object generator from json\n",
    "    f = open(path_combinatorial_library, 'rb')\n",
    "    objects = ijson.items(f, 'item')\n",
    "\n",
    "    # filter objects\n",
    "    properties = {\n",
    "        'mw': 0, \n",
    "        'logp': 0, \n",
    "        'hbd': 0, \n",
    "        'hba': 0, \n",
    "        'lipinski': 0,\n",
    "        'n_ligands': 0,\n",
    "        'n_atoms': [],\n",
    "        'subpockets': {},\n",
    "        'original_exact': [], \n",
    "        'original_substructure': [], \n",
    "        'chembl_exact': []\n",
    "    }\n",
    "    \n",
    "    for o in objects:\n",
    "        \n",
    "        # Get number of ligands and number of atoms per ligand\n",
    "        properties['n_ligands'] += 1\n",
    "        properties['n_atoms'].append(o['n_atoms'])\n",
    "        \n",
    "        # Get number of subpocket combinations\n",
    "        subpocket_key = \"-\".join(sorted([subpocket[:2] for subpocket in o['fragment_ids']]))\n",
    "        if subpocket_key in properties['subpockets'].keys():\n",
    "            properties['subpockets'][subpocket_key] +=1\n",
    "        else:\n",
    "            properties['subpockets'][subpocket_key] = 1\n",
    "        \n",
    "        # Get Lipinski's rule of five + criteria\n",
    "        if o['mwt'] == 1:\n",
    "            properties['mw'] += 1\n",
    "        if o['logp'] == 1:\n",
    "            properties['logp'] += 1\n",
    "        if o['hbd'] == 1:\n",
    "            properties['hbd'] += 1\n",
    "        if o['hba'] == 1:\n",
    "            properties['hba'] += 1\n",
    "        if o['hba']+o['hbd']+o['mwt']+o['logp'] >= 3:\n",
    "            properties['lipinski'] += 1\n",
    "            \n",
    "        # Get KLIFS and ChEMBL matches\n",
    "        if o['original_exact'] == 1:\n",
    "            properties['original_exact'].append(o)\n",
    "        if o['original_substructure'] == 1:\n",
    "            properties['original_substructure'].append(o)\n",
    "        if o['chembl_exact'] == 1:\n",
    "            properties['chembl_exact'].append(o)\n",
    "\n",
    "    #properties['subpockets'] = pd.DataFrame(properties['subpockets'])\n",
    "    properties['original_exact'] = pd.DataFrame(properties['original_exact'])\n",
    "    properties['original_substructure'] = pd.DataFrame(properties['original_substructure'])\n",
    "    properties['chembl_exact'] = pd.DataFrame(properties['chembl_exact'])\n",
    "        \n",
    "    print(datetime.now())\n",
    "    \n",
    "    return properties"
   ]
  },
  {
   "cell_type": "code",
   "execution_count": 5,
   "metadata": {},
   "outputs": [
    {
     "name": "stdout",
     "output_type": "stream",
     "text": [
      "2020-07-01 21:44:29.912817\n",
      "2020-07-01 22:02:36.904108\n"
     ]
    }
   ],
   "source": [
    "# Takes up to 20 minutes\n",
    "properties = get_properties(PATH_COMBINATORIAL_LIBRARY)"
   ]
  },
  {
   "cell_type": "markdown",
   "metadata": {},
   "source": [
    "## 3. Show results overview"
   ]
  },
  {
   "cell_type": "code",
   "execution_count": 6,
   "metadata": {},
   "outputs": [
    {
     "data": {
      "text/plain": [
       "6720637"
      ]
     },
     "execution_count": 6,
     "metadata": {},
     "output_type": "execute_result"
    }
   ],
   "source": [
    "properties['n_ligands']"
   ]
  },
  {
   "cell_type": "code",
   "execution_count": 7,
   "metadata": {},
   "outputs": [
    {
     "data": {
      "text/plain": [
       "6720637"
      ]
     },
     "execution_count": 7,
     "metadata": {},
     "output_type": "execute_result"
    }
   ],
   "source": [
    "len(properties['n_atoms'])"
   ]
  },
  {
   "cell_type": "code",
   "execution_count": 8,
   "metadata": {},
   "outputs": [
    {
     "data": {
      "text/plain": [
       "4260776"
      ]
     },
     "execution_count": 8,
     "metadata": {},
     "output_type": "execute_result"
    }
   ],
   "source": [
    "properties['lipinski']"
   ]
  },
  {
   "cell_type": "code",
   "execution_count": 9,
   "metadata": {},
   "outputs": [
    {
     "data": {
      "text/plain": [
       "298"
      ]
     },
     "execution_count": 9,
     "metadata": {},
     "output_type": "execute_result"
    }
   ],
   "source": [
    "properties['chembl_exact'].shape[0]"
   ]
  },
  {
   "cell_type": "code",
   "execution_count": 10,
   "metadata": {},
   "outputs": [
    {
     "data": {
      "text/plain": [
       "35"
      ]
     },
     "execution_count": 10,
     "metadata": {},
     "output_type": "execute_result"
    }
   ],
   "source": [
    "properties['original_exact'].shape[0]"
   ]
  },
  {
   "cell_type": "code",
   "execution_count": 11,
   "metadata": {},
   "outputs": [
    {
     "data": {
      "text/plain": [
       "324"
      ]
     },
     "execution_count": 11,
     "metadata": {},
     "output_type": "execute_result"
    }
   ],
   "source": [
    "properties['original_substructure'].shape[0]"
   ]
  },
  {
   "cell_type": "code",
   "execution_count": 12,
   "metadata": {},
   "outputs": [
    {
     "data": {
      "text/plain": [
       "{'AP-B1-GA-SE': 255096,\n",
       " 'AP-FP-GA-SE': 5016284,\n",
       " 'AP-B2-GA-SE': 359534,\n",
       " 'AP-B2-FP-GA': 178027,\n",
       " 'AP-B1-FP-GA': 209843,\n",
       " 'AP-B1-B2-GA': 3498,\n",
       " 'AP-GA-SE': 102733,\n",
       " 'AP-FP-SE': 512671,\n",
       " 'AP-FP-GA': 71885,\n",
       " 'AP-B2-GA': 1812,\n",
       " 'AP-B1-GA': 1279,\n",
       " 'AP-GA': 682,\n",
       " 'AP-FP': 5924,\n",
       " 'AP-SE': 1369}"
      ]
     },
     "execution_count": 12,
     "metadata": {},
     "output_type": "execute_result"
    }
   ],
   "source": [
    "properties['subpockets']"
   ]
  },
  {
   "cell_type": "markdown",
   "metadata": {},
   "source": [
    "## 4. Save properties to `csv`/`json` files"
   ]
  },
  {
   "cell_type": "code",
   "execution_count": 13,
   "metadata": {},
   "outputs": [],
   "source": [
    "properties['original_exact'].to_json(\n",
    "    '../data/combinatorial_library/original_exact.json'\n",
    ")\n",
    "del properties['original_exact']"
   ]
  },
  {
   "cell_type": "code",
   "execution_count": 14,
   "metadata": {},
   "outputs": [],
   "source": [
    "properties['original_substructure'].to_json(\n",
    "    '../data/combinatorial_library/original_substructure.json'\n",
    ")\n",
    "del properties['original_substructure']"
   ]
  },
  {
   "cell_type": "code",
   "execution_count": 15,
   "metadata": {},
   "outputs": [],
   "source": [
    "properties['chembl_exact'].to_json(\n",
    "    '../data/combinatorial_library/chembl_exact.json'\n",
    ")\n",
    "del properties['chembl_exact']"
   ]
  },
  {
   "cell_type": "code",
   "execution_count": 16,
   "metadata": {},
   "outputs": [],
   "source": [
    "# Takes a moment (20s)\n",
    "pd.DataFrame(properties['n_atoms']).to_csv(\n",
    "    '../data/combinatorial_library/n_atoms.csv',\n",
    "    index=None,\n",
    "    header=None\n",
    ")\n",
    "del properties['n_atoms']"
   ]
  },
  {
   "cell_type": "code",
   "execution_count": 17,
   "metadata": {},
   "outputs": [
    {
     "data": {
      "text/plain": [
       "{'AP-B1-GA-SE': 255096,\n",
       " 'AP-FP-GA-SE': 5016284,\n",
       " 'AP-B2-GA-SE': 359534,\n",
       " 'AP-B2-FP-GA': 178027,\n",
       " 'AP-B1-FP-GA': 209843,\n",
       " 'AP-B1-B2-GA': 3498,\n",
       " 'AP-GA-SE': 102733,\n",
       " 'AP-FP-SE': 512671,\n",
       " 'AP-FP-GA': 71885,\n",
       " 'AP-B2-GA': 1812,\n",
       " 'AP-B1-GA': 1279,\n",
       " 'AP-GA': 682,\n",
       " 'AP-FP': 5924,\n",
       " 'AP-SE': 1369}"
      ]
     },
     "execution_count": 17,
     "metadata": {},
     "output_type": "execute_result"
    }
   ],
   "source": [
    "properties['subpockets']"
   ]
  },
  {
   "cell_type": "code",
   "execution_count": 18,
   "metadata": {},
   "outputs": [],
   "source": [
    "subpockets = pd.DataFrame.from_dict(properties['subpockets'], orient=\"index\")\n",
    "subpockets = subpockets.rename(columns={0: 'count'})\n",
    "subpockets.to_csv(\n",
    "    '../data/combinatorial_library/subpockets.csv'\n",
    ")\n",
    "del properties['subpockets']"
   ]
  },
  {
   "cell_type": "code",
   "execution_count": 19,
   "metadata": {},
   "outputs": [],
   "source": [
    "pd.Series(properties).to_csv(\n",
    "    '../data/combinatorial_library/properties.csv',\n",
    "    header=None\n",
    ")"
   ]
  }
 ],
 "metadata": {
  "kernelspec": {
   "display_name": "kinfraglib",
   "language": "python",
   "name": "kinfraglib"
  },
  "language_info": {
   "codemirror_mode": {
    "name": "ipython",
    "version": 3
   },
   "file_extension": ".py",
   "mimetype": "text/x-python",
   "name": "python",
   "nbconvert_exporter": "python",
   "pygments_lexer": "ipython3",
   "version": "3.6.10"
  }
 },
 "nbformat": 4,
 "nbformat_minor": 4
}
