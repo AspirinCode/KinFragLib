{
 "cells": [
  {
   "cell_type": "markdown",
   "metadata": {},
   "source": [
    "# Combinatorial library data preparation"
   ]
  },
  {
   "cell_type": "markdown",
   "metadata": {},
   "source": [
    "## Aim of this notebook\n",
    "\n",
    "Extract information from the combinatorial library `json` file:\n",
    "\n",
    "- Number of ligands\n",
    "- Number of atoms for each recombined ligand\n",
    "- Number of ligands that fulfill Lipinski's rule of five (Ro5)\n",
    "- Number of ligands that fulfill the Ro5 criteria (i) molecular weight <= 500Da, (ii) number of hydrogen bond donors <= 5, (iii) number of hydrogen bond acceptors <= 10, and (iv) logP value <= 5 \n",
    "- Number of ligands per subpocket combination\n",
    "- Ligands with exact matches in original KLIFS ligands\n",
    "- Ligands with substructure matches in original KLIFS ligands\n",
    "- Ligands with exact matches in ChEMBL\n",
    "- Most similar ligand in ChEMBL for each recombined ligand (molecule ChEMBL ID and similarity value)\n",
    "\n",
    "Since the `json` file holds mulitple millions of ligands, we do this data processing once here at the beginning and save the results to separate files which will be used for analysis/visualization in the following notebooks."
   ]
  },
  {
   "cell_type": "markdown",
   "metadata": {},
   "source": [
    "## Table of contents\n",
    "\n",
    "1. Combinatorial library data\n",
    "2. Get properties from `json` file\n",
    "3. Show results overview\n",
    "4. Save properties to `csv` file"
   ]
  },
  {
   "cell_type": "code",
   "execution_count": 1,
   "metadata": {},
   "outputs": [],
   "source": [
    "%load_ext autoreload\n",
    "%autoreload 2"
   ]
  },
  {
   "cell_type": "code",
   "execution_count": 2,
   "metadata": {},
   "outputs": [],
   "source": [
    "from datetime import datetime\n",
    "from pathlib import Path\n",
    "\n",
    "import ijson\n",
    "import matplotlib.pyplot as plt\n",
    "import pandas as pd\n",
    "from rdkit import Chem\n",
    "\n",
    "from utils import get_original_ligands, get_ro5_from_mol, read_fragment_library"
   ]
  },
  {
   "cell_type": "markdown",
   "metadata": {},
   "source": [
    "## 1. Combinatorial library data"
   ]
  },
  {
   "cell_type": "markdown",
   "metadata": {},
   "source": [
    "### Download data\n",
    "\n",
    "The combinatorial library comes as large `json` file (3.3 GB).\n",
    "\n",
    "**Note 1**: Due to its size, this file is not included in this GitHub repository but can be downloaded alongside all output files from this notebook from https://osf.io/cy7tr/. Save files to `../data/combinatorial_library/` to run this notebook as-is.\n",
    "\n",
    "**Note 2**: This notebook prepares data for the subsequent analysis notebooks. Since all output files from this notebook are included in the download, is it not necessary to rerun this notebook (takes about 20 minutes) to continue with the analysis notebooks. "
   ]
  },
  {
   "cell_type": "markdown",
   "metadata": {},
   "source": [
    "### Explain the data format\n",
    "\n",
    "This `json` file contains a list of dictionaries, each describing a recombined ligand's properties:\n",
    "\n",
    "`[ligand_1_dict, ligand_2_dict, ..., ligand_n_dict]`\n",
    "\n",
    "This is an example dictionary:\n",
    "\n",
    "```\n",
    "{\n",
    "    \"bond_ids\": [[\"AP_9\", \"SE_6\"], [\"GA_14\", \"AP_10\"], [\"B1_8\", \"GA_13\"]], \n",
    "    \"fragment_ids\": [\"B1_13\", \"SE_138\", \"GA_77\", \"AP_12\"], \n",
    "    \"hba\": 1, \n",
    "    \"hbd\": 1, \n",
    "    \"mwt\": 1, \n",
    "    \"logp\": 1, \n",
    "    \"n_atoms\": 36, \n",
    "    \"chembl_exact\": 0, \n",
    "    \"chembl_most_similar\": [\"CHEMBL4089123\", 0.52], \n",
    "    \"original_exact\": 0, \n",
    "    \"original_substructure\": 0, \n",
    "    \"inchi\": \"InChI=1S/C27H21FN6O2/c1-16-21(27(36)31-32(16)2)12-24(35)33-11-10-20-23(33)9-8-19(25(20)28)22-14-30-34-15-18(13-29-\n",
    "26(22)34)17-6-4-3-5-7-17/h3-11,13-15H,12H2,1-2H3,(H,31,36)\"\n",
    "}\n",
    "```"
   ]
  },
  {
   "cell_type": "markdown",
   "metadata": {},
   "source": [
    "Each dictionary key contains the following value:\n",
    "\n",
    "- `bond_ids` and `fragment_ids`: \n",
    "  - Bond IDs (`bond_ids`), e.g. `[[\"AP_9\", \"SE_6\"], [\"GA_14\", \"AP_10\"], [\"B1_8\", \"GA_13\"]]`: Atom (`<subpocket>_<atom ID>`) pairs per fragment bond\n",
    "  - Fragment IDs (`fragment_ids`), e.g. `[\"B1_13\", \"SE_138\", \"GA_77\", \"AP_12\"]` (`<subpocket>_<fragment index in subpocket pool>`)\n",
    "  - With this information it is possible to construct the recombined ligand from the fragment library\n",
    "- `hba`, `hbd`, `mwt`, and `logp`: Ligand fulfills Lipinski's rule of five criteria? (`0` or `1`)\n",
    "  - Number of hydrogen bond acceptors (`hba`) <= 10\n",
    "  - Number of hydrogen bond donors (`hbd`) <= 5\n",
    "  - Molecular weight (`mwt`) <= 500\n",
    "  - LogP value (`logp`) <= 5 \n",
    "- `n_atoms`: Number of heavy atoms\n",
    "- `chembl_exact`: Ligand has exact match in ChEMBL? (`0` or `1`)\n",
    "- `chembl_most_similar`: Most similar molecule in ChEMBL, e.g. `[\"CHEMBL4089123\", 0.52]` (`[<molecule ChEMBL ID>, <Tanimoto similarity>]` \n",
    "- `original_exact`: Ligand has exact match in original ligands? (`0` or `1`)\n",
    "- `original_substructure`: Ligand is substructure of original ligands? (`0` or `1`)\n",
    "- `inchi`: InChI "
   ]
  },
  {
   "cell_type": "markdown",
   "metadata": {},
   "source": [
    "### Set file/folder paths"
   ]
  },
  {
   "cell_type": "code",
   "execution_count": 3,
   "metadata": {},
   "outputs": [],
   "source": [
    "PATH_FRAGMENT_LIBRARY = Path('../data/fragment_library/')\n",
    "PATH_COMBINATORIAL_LIBRARY = Path('../data/combinatorial_library/combinatorial_library_deduplicated.json')"
   ]
  },
  {
   "cell_type": "markdown",
   "metadata": {},
   "source": [
    "In order to access/filter the ligands' properties efficiently (time and memory), we use the `ijson` library:\n",
    "\n",
    "> Ijson is an iterative JSON parser with standard Python iterator interfaces.\n",
    "\n",
    "https://pypi.org/project/ijson/"
   ]
  },
  {
   "cell_type": "markdown",
   "metadata": {},
   "source": [
    "## 2. Get properties from `json` file"
   ]
  },
  {
   "cell_type": "code",
   "execution_count": 4,
   "metadata": {},
   "outputs": [],
   "source": [
    "def get_properties(path_combinatorial_library):\n",
    "    \"\"\"\n",
    "    Get a set of properties from the combinatorial library json file:\n",
    "    \n",
    "    - Number of ligands\n",
    "    - Number of atoms for each recombined ligand\n",
    "    - Number of ligands that fulfill Lipinski's rule of five (Ro5)\n",
    "    - Number of ligands that fulfill the Ro5 criteria (i) molecular weight <= 500Da, (ii) number of hydrogen bond donors <= 5, (iii) number of hydrogen bond acceptors <= 10, and (iv) logP value <= 5 \n",
    "    - Number of ligands per subpocket combination\n",
    "    - Ligands with exact matches in original KLIFS ligands\n",
    "    - Ligands with substructure matches in original KLIFS ligands\n",
    "    - Ligands with exact matches in ChEMBL\n",
    "    - Most similar ligand in ChEMBL for each recombined ligand (molecule ChEMBL ID and similarity value)\n",
    "    \n",
    "    Parameters\n",
    "    ----------\n",
    "    path_combinatorial_library : pathlib.Path\n",
    "        Path to combinatorial library json file.\n",
    "    \n",
    "    Returns\n",
    "    -------\n",
    "    dict\n",
    "        Combinatorial library properties.\n",
    "    \"\"\"\n",
    "    \n",
    "    print(datetime.now())\n",
    "\n",
    "    # Get object generator from json\n",
    "    f = open(path_combinatorial_library, 'rb')\n",
    "    objects = ijson.items(f, 'item')\n",
    "\n",
    "    # Filter objects\n",
    "    properties = {\n",
    "        'n_ligands': 0,\n",
    "        'n_atoms': [],\n",
    "        'lipinski': 0,\n",
    "        'mw': 0, \n",
    "        'logp': 0, \n",
    "        'hbd': 0, \n",
    "        'hba': 0, \n",
    "        'subpockets': {},\n",
    "        'original_exact': [], \n",
    "        'original_substructure': [], \n",
    "        'chembl_exact': [],\n",
    "        'chembl_most_similar': []\n",
    "    }\n",
    "    \n",
    "    for o in objects:\n",
    "        \n",
    "        # Get number of ligands and number of atoms per ligand\n",
    "        properties['n_ligands'] += 1\n",
    "        properties['n_atoms'].append(o['n_atoms'])\n",
    "        properties['chembl_most_similar'].append([o['fragment_ids'], o['bond_ids'], o['chembl_most_similar'][0], o['chembl_most_similar'][1]])\n",
    "        \n",
    "        # Get number of subpocket combinations\n",
    "        subpocket_key = \"-\".join(sorted([subpocket[:2] for subpocket in o['fragment_ids']]))\n",
    "        if subpocket_key in properties['subpockets'].keys():\n",
    "            properties['subpockets'][subpocket_key] +=1\n",
    "        else:\n",
    "            properties['subpockets'][subpocket_key] = 1\n",
    "        \n",
    "        # Get Lipinski's rule of five + criteria\n",
    "        if o['mwt'] == 1:\n",
    "            properties['mw'] += 1\n",
    "        if o['logp'] == 1:\n",
    "            properties['logp'] += 1\n",
    "        if o['hbd'] == 1:\n",
    "            properties['hbd'] += 1\n",
    "        if o['hba'] == 1:\n",
    "            properties['hba'] += 1\n",
    "        if o['hba']+o['hbd']+o['mwt']+o['logp'] >= 3:\n",
    "            properties['lipinski'] += 1\n",
    "            \n",
    "        # Get KLIFS and ChEMBL matches\n",
    "        if o['original_exact'] == 1:\n",
    "            properties['original_exact'].append(o)\n",
    "        if o['original_substructure'] == 1:\n",
    "            properties['original_substructure'].append(o)\n",
    "        if o['chembl_exact'] == 1:\n",
    "            properties['chembl_exact'].append(o)\n",
    "\n",
    "    properties['original_exact'] = pd.DataFrame(properties['original_exact'])\n",
    "    properties['original_substructure'] = pd.DataFrame(properties['original_substructure'])\n",
    "    properties['chembl_exact'] = pd.DataFrame(properties['chembl_exact'])\n",
    "    properties['chembl_most_similar'] = pd.DataFrame(\n",
    "        properties['chembl_most_similar'], \n",
    "        columns=['fragment_ids', 'bond_ids', 'chembl_id', 'similarity']\n",
    "    )\n",
    "        \n",
    "    print(datetime.now())\n",
    "    \n",
    "    return properties"
   ]
  },
  {
   "cell_type": "code",
   "execution_count": 5,
   "metadata": {},
   "outputs": [
    {
     "name": "stdout",
     "output_type": "stream",
     "text": [
      "2020-07-16 22:00:08.906837\n",
      "2020-07-16 22:24:57.114274\n"
     ]
    }
   ],
   "source": [
    "# Takes up to 20 minutes\n",
    "properties = get_properties(PATH_COMBINATORIAL_LIBRARY)"
   ]
  },
  {
   "cell_type": "markdown",
   "metadata": {},
   "source": [
    "## 3. Show results overview"
   ]
  },
  {
   "cell_type": "code",
   "execution_count": 6,
   "metadata": {},
   "outputs": [
    {
     "data": {
      "text/plain": [
       "6720637"
      ]
     },
     "execution_count": 6,
     "metadata": {},
     "output_type": "execute_result"
    }
   ],
   "source": [
    "properties['n_ligands']"
   ]
  },
  {
   "cell_type": "code",
   "execution_count": 7,
   "metadata": {},
   "outputs": [
    {
     "data": {
      "text/plain": [
       "6720637"
      ]
     },
     "execution_count": 7,
     "metadata": {},
     "output_type": "execute_result"
    }
   ],
   "source": [
    "len(properties['n_atoms'])"
   ]
  },
  {
   "cell_type": "code",
   "execution_count": 8,
   "metadata": {},
   "outputs": [
    {
     "data": {
      "text/plain": [
       "4260776"
      ]
     },
     "execution_count": 8,
     "metadata": {},
     "output_type": "execute_result"
    }
   ],
   "source": [
    "properties['lipinski']"
   ]
  },
  {
   "cell_type": "code",
   "execution_count": 9,
   "metadata": {},
   "outputs": [
    {
     "data": {
      "text/plain": [
       "298"
      ]
     },
     "execution_count": 9,
     "metadata": {},
     "output_type": "execute_result"
    }
   ],
   "source": [
    "properties['chembl_exact'].shape[0]"
   ]
  },
  {
   "cell_type": "code",
   "execution_count": 10,
   "metadata": {},
   "outputs": [
    {
     "data": {
      "text/html": [
       "<div>\n",
       "<style scoped>\n",
       "    .dataframe tbody tr th:only-of-type {\n",
       "        vertical-align: middle;\n",
       "    }\n",
       "\n",
       "    .dataframe tbody tr th {\n",
       "        vertical-align: top;\n",
       "    }\n",
       "\n",
       "    .dataframe thead th {\n",
       "        text-align: right;\n",
       "    }\n",
       "</style>\n",
       "<table border=\"1\" class=\"dataframe\">\n",
       "  <thead>\n",
       "    <tr style=\"text-align: right;\">\n",
       "      <th></th>\n",
       "      <th>bond_ids</th>\n",
       "      <th>fragment_ids</th>\n",
       "      <th>hba</th>\n",
       "      <th>hbd</th>\n",
       "      <th>mwt</th>\n",
       "      <th>logp</th>\n",
       "      <th>n_atoms</th>\n",
       "      <th>chembl_exact</th>\n",
       "      <th>chembl_most_similar</th>\n",
       "      <th>original_exact</th>\n",
       "      <th>original_substructure</th>\n",
       "      <th>inchi</th>\n",
       "    </tr>\n",
       "  </thead>\n",
       "  <tbody>\n",
       "    <tr>\n",
       "      <th>0</th>\n",
       "      <td>[[GA_10, B1_7], [GA_9, AP_11], [AP_12, SE_13]]</td>\n",
       "      <td>[B1_19, GA_35, AP_6, SE_1]</td>\n",
       "      <td>1</td>\n",
       "      <td>1</td>\n",
       "      <td>0</td>\n",
       "      <td>0</td>\n",
       "      <td>40</td>\n",
       "      <td>1</td>\n",
       "      <td>[CHEMBL2347516, 1.0]</td>\n",
       "      <td>0</td>\n",
       "      <td>0</td>\n",
       "      <td>InChI=1S/C32H28ClFN4O2/c33-29-18-27(9-11-31(29...</td>\n",
       "    </tr>\n",
       "    <tr>\n",
       "      <th>1</th>\n",
       "      <td>[[SE_8, AP_8], [FP_6, AP_9]]</td>\n",
       "      <td>[AP_99, SE_16, FP_25]</td>\n",
       "      <td>1</td>\n",
       "      <td>1</td>\n",
       "      <td>1</td>\n",
       "      <td>1</td>\n",
       "      <td>22</td>\n",
       "      <td>1</td>\n",
       "      <td>[CHEMBL265923, 1.0]</td>\n",
       "      <td>0</td>\n",
       "      <td>0</td>\n",
       "      <td>InChI=1S/C16H13N3O2S/c1-21-13-6-4-12(5-7-13)18...</td>\n",
       "    </tr>\n",
       "    <tr>\n",
       "      <th>2</th>\n",
       "      <td>[[FP_6, AP_9], [AP_8, SE_6]]</td>\n",
       "      <td>[AP_99, FP_103, SE_138]</td>\n",
       "      <td>1</td>\n",
       "      <td>1</td>\n",
       "      <td>1</td>\n",
       "      <td>1</td>\n",
       "      <td>20</td>\n",
       "      <td>1</td>\n",
       "      <td>[CHEMBL1446166, 0.9400000000000001]</td>\n",
       "      <td>0</td>\n",
       "      <td>0</td>\n",
       "      <td>InChI=1S/C16H12N2OS/c19-15(17-13-9-5-2-6-10-13...</td>\n",
       "    </tr>\n",
       "    <tr>\n",
       "      <th>3</th>\n",
       "      <td>[[AP_8, SE_7], [FP_6, AP_9]]</td>\n",
       "      <td>[AP_99, FP_103, SE_38]</td>\n",
       "      <td>1</td>\n",
       "      <td>1</td>\n",
       "      <td>1</td>\n",
       "      <td>1</td>\n",
       "      <td>21</td>\n",
       "      <td>1</td>\n",
       "      <td>[CHEMBL1446166, 1.0]</td>\n",
       "      <td>0</td>\n",
       "      <td>0</td>\n",
       "      <td>InChI=1S/C16H11ClN2OS/c17-12-6-8-13(9-7-12)18-...</td>\n",
       "    </tr>\n",
       "    <tr>\n",
       "      <th>4</th>\n",
       "      <td>[[GA_10, B1_7], [GA_9, AP_11], [AP_12, SE_14]]</td>\n",
       "      <td>[GA_35, SE_2, AP_6, B1_19]</td>\n",
       "      <td>1</td>\n",
       "      <td>1</td>\n",
       "      <td>0</td>\n",
       "      <td>0</td>\n",
       "      <td>41</td>\n",
       "      <td>1</td>\n",
       "      <td>[CHEMBL2347518, 1.0]</td>\n",
       "      <td>0</td>\n",
       "      <td>0</td>\n",
       "      <td>InChI=1S/C32H26ClFN4O3/c33-28-18-26(9-11-30(28...</td>\n",
       "    </tr>\n",
       "  </tbody>\n",
       "</table>\n",
       "</div>"
      ],
      "text/plain": [
       "                                         bond_ids                fragment_ids  \\\n",
       "0  [[GA_10, B1_7], [GA_9, AP_11], [AP_12, SE_13]]  [B1_19, GA_35, AP_6, SE_1]   \n",
       "1                    [[SE_8, AP_8], [FP_6, AP_9]]       [AP_99, SE_16, FP_25]   \n",
       "2                    [[FP_6, AP_9], [AP_8, SE_6]]     [AP_99, FP_103, SE_138]   \n",
       "3                    [[AP_8, SE_7], [FP_6, AP_9]]      [AP_99, FP_103, SE_38]   \n",
       "4  [[GA_10, B1_7], [GA_9, AP_11], [AP_12, SE_14]]  [GA_35, SE_2, AP_6, B1_19]   \n",
       "\n",
       "   hba  hbd  mwt  logp  n_atoms  chembl_exact  \\\n",
       "0    1    1    0     0       40             1   \n",
       "1    1    1    1     1       22             1   \n",
       "2    1    1    1     1       20             1   \n",
       "3    1    1    1     1       21             1   \n",
       "4    1    1    0     0       41             1   \n",
       "\n",
       "                   chembl_most_similar  original_exact  original_substructure  \\\n",
       "0                 [CHEMBL2347516, 1.0]               0                      0   \n",
       "1                  [CHEMBL265923, 1.0]               0                      0   \n",
       "2  [CHEMBL1446166, 0.9400000000000001]               0                      0   \n",
       "3                 [CHEMBL1446166, 1.0]               0                      0   \n",
       "4                 [CHEMBL2347518, 1.0]               0                      0   \n",
       "\n",
       "                                               inchi  \n",
       "0  InChI=1S/C32H28ClFN4O2/c33-29-18-27(9-11-31(29...  \n",
       "1  InChI=1S/C16H13N3O2S/c1-21-13-6-4-12(5-7-13)18...  \n",
       "2  InChI=1S/C16H12N2OS/c19-15(17-13-9-5-2-6-10-13...  \n",
       "3  InChI=1S/C16H11ClN2OS/c17-12-6-8-13(9-7-12)18-...  \n",
       "4  InChI=1S/C32H26ClFN4O3/c33-28-18-26(9-11-30(28...  "
      ]
     },
     "execution_count": 10,
     "metadata": {},
     "output_type": "execute_result"
    }
   ],
   "source": [
    "properties['chembl_exact'].head()"
   ]
  },
  {
   "cell_type": "code",
   "execution_count": 11,
   "metadata": {},
   "outputs": [
    {
     "data": {
      "text/plain": [
       "6720637"
      ]
     },
     "execution_count": 11,
     "metadata": {},
     "output_type": "execute_result"
    }
   ],
   "source": [
    "properties['chembl_most_similar'].shape[0]"
   ]
  },
  {
   "cell_type": "code",
   "execution_count": 12,
   "metadata": {},
   "outputs": [
    {
     "data": {
      "text/html": [
       "<div>\n",
       "<style scoped>\n",
       "    .dataframe tbody tr th:only-of-type {\n",
       "        vertical-align: middle;\n",
       "    }\n",
       "\n",
       "    .dataframe tbody tr th {\n",
       "        vertical-align: top;\n",
       "    }\n",
       "\n",
       "    .dataframe thead th {\n",
       "        text-align: right;\n",
       "    }\n",
       "</style>\n",
       "<table border=\"1\" class=\"dataframe\">\n",
       "  <thead>\n",
       "    <tr style=\"text-align: right;\">\n",
       "      <th></th>\n",
       "      <th>fragment_ids</th>\n",
       "      <th>bond_ids</th>\n",
       "      <th>chembl_id</th>\n",
       "      <th>similarity</th>\n",
       "    </tr>\n",
       "  </thead>\n",
       "  <tbody>\n",
       "    <tr>\n",
       "      <th>0</th>\n",
       "      <td>[B1_13, SE_138, GA_77, AP_12]</td>\n",
       "      <td>[[AP_9, SE_6], [GA_14, AP_10], [B1_8, GA_13]]</td>\n",
       "      <td>CHEMBL4089123</td>\n",
       "      <td>0.52</td>\n",
       "    </tr>\n",
       "    <tr>\n",
       "      <th>1</th>\n",
       "      <td>[FP_3, SE_2, GA_41, AP_14]</td>\n",
       "      <td>[[FP_7, GA_11], [AP_7, FP_6], [SE_14, AP_8]]</td>\n",
       "      <td>CHEMBL3641905</td>\n",
       "      <td>0.61</td>\n",
       "    </tr>\n",
       "    <tr>\n",
       "      <th>2</th>\n",
       "      <td>[GA_9, AP_11, B1_1, SE_100]</td>\n",
       "      <td>[[GA_9, B1_11], [GA_10, AP_12], [AP_11, SE_13]]</td>\n",
       "      <td>CHEMBL3355540</td>\n",
       "      <td>0.63</td>\n",
       "    </tr>\n",
       "    <tr>\n",
       "      <th>3</th>\n",
       "      <td>[FP_3, AP_21, SE_116, GA_16]</td>\n",
       "      <td>[[FP_7, GA_8], [SE_11, AP_14], [FP_6, AP_13]]</td>\n",
       "      <td>CHEMBL149168</td>\n",
       "      <td>0.5700000000000001</td>\n",
       "    </tr>\n",
       "    <tr>\n",
       "      <th>4</th>\n",
       "      <td>[GA_49, SE_138, FP_130, AP_14]</td>\n",
       "      <td>[[FP_11, GA_13], [AP_7, FP_12], [AP_8, SE_6]]</td>\n",
       "      <td>CHEMBL3759442</td>\n",
       "      <td>0.65</td>\n",
       "    </tr>\n",
       "  </tbody>\n",
       "</table>\n",
       "</div>"
      ],
      "text/plain": [
       "                     fragment_ids  \\\n",
       "0   [B1_13, SE_138, GA_77, AP_12]   \n",
       "1      [FP_3, SE_2, GA_41, AP_14]   \n",
       "2     [GA_9, AP_11, B1_1, SE_100]   \n",
       "3    [FP_3, AP_21, SE_116, GA_16]   \n",
       "4  [GA_49, SE_138, FP_130, AP_14]   \n",
       "\n",
       "                                          bond_ids      chembl_id  \\\n",
       "0    [[AP_9, SE_6], [GA_14, AP_10], [B1_8, GA_13]]  CHEMBL4089123   \n",
       "1     [[FP_7, GA_11], [AP_7, FP_6], [SE_14, AP_8]]  CHEMBL3641905   \n",
       "2  [[GA_9, B1_11], [GA_10, AP_12], [AP_11, SE_13]]  CHEMBL3355540   \n",
       "3    [[FP_7, GA_8], [SE_11, AP_14], [FP_6, AP_13]]   CHEMBL149168   \n",
       "4    [[FP_11, GA_13], [AP_7, FP_12], [AP_8, SE_6]]  CHEMBL3759442   \n",
       "\n",
       "           similarity  \n",
       "0                0.52  \n",
       "1                0.61  \n",
       "2                0.63  \n",
       "3  0.5700000000000001  \n",
       "4                0.65  "
      ]
     },
     "execution_count": 12,
     "metadata": {},
     "output_type": "execute_result"
    }
   ],
   "source": [
    "properties['chembl_most_similar'].head()"
   ]
  },
  {
   "cell_type": "code",
   "execution_count": 13,
   "metadata": {},
   "outputs": [
    {
     "data": {
      "text/plain": [
       "35"
      ]
     },
     "execution_count": 13,
     "metadata": {},
     "output_type": "execute_result"
    }
   ],
   "source": [
    "properties['original_exact'].shape[0]"
   ]
  },
  {
   "cell_type": "code",
   "execution_count": 14,
   "metadata": {},
   "outputs": [
    {
     "data": {
      "text/html": [
       "<div>\n",
       "<style scoped>\n",
       "    .dataframe tbody tr th:only-of-type {\n",
       "        vertical-align: middle;\n",
       "    }\n",
       "\n",
       "    .dataframe tbody tr th {\n",
       "        vertical-align: top;\n",
       "    }\n",
       "\n",
       "    .dataframe thead th {\n",
       "        text-align: right;\n",
       "    }\n",
       "</style>\n",
       "<table border=\"1\" class=\"dataframe\">\n",
       "  <thead>\n",
       "    <tr style=\"text-align: right;\">\n",
       "      <th></th>\n",
       "      <th>bond_ids</th>\n",
       "      <th>fragment_ids</th>\n",
       "      <th>hba</th>\n",
       "      <th>hbd</th>\n",
       "      <th>mwt</th>\n",
       "      <th>logp</th>\n",
       "      <th>n_atoms</th>\n",
       "      <th>chembl_exact</th>\n",
       "      <th>chembl_most_similar</th>\n",
       "      <th>original_exact</th>\n",
       "      <th>original_substructure</th>\n",
       "      <th>inchi</th>\n",
       "    </tr>\n",
       "  </thead>\n",
       "  <tbody>\n",
       "    <tr>\n",
       "      <th>0</th>\n",
       "      <td>[[FP_10, AP_8], [SE_10, AP_9]]</td>\n",
       "      <td>[AP_95, SE_22, FP_14]</td>\n",
       "      <td>1</td>\n",
       "      <td>1</td>\n",
       "      <td>1</td>\n",
       "      <td>1</td>\n",
       "      <td>28</td>\n",
       "      <td>1</td>\n",
       "      <td>[CHEMBL2203552, 0.71]</td>\n",
       "      <td>1</td>\n",
       "      <td>1</td>\n",
       "      <td>InChI=1S/C21H17N5O2/c1-28-18-11-24-20(13-8-12-...</td>\n",
       "    </tr>\n",
       "    <tr>\n",
       "      <th>1</th>\n",
       "      <td>[[GA_10, B1_7], [GA_9, AP_12]]</td>\n",
       "      <td>[AP_134, GA_35, B1_19]</td>\n",
       "      <td>1</td>\n",
       "      <td>1</td>\n",
       "      <td>1</td>\n",
       "      <td>1</td>\n",
       "      <td>28</td>\n",
       "      <td>0</td>\n",
       "      <td>[CHEMBL205652, 0.6000000000000001]</td>\n",
       "      <td>1</td>\n",
       "      <td>1</td>\n",
       "      <td>InChI=1S/C22H17ClFN3O/c1-14-5-7-20-18(9-14)22(...</td>\n",
       "    </tr>\n",
       "    <tr>\n",
       "      <th>2</th>\n",
       "      <td>[[GA_10, AP_10]]</td>\n",
       "      <td>[AP_117, GA_37]</td>\n",
       "      <td>1</td>\n",
       "      <td>1</td>\n",
       "      <td>1</td>\n",
       "      <td>1</td>\n",
       "      <td>20</td>\n",
       "      <td>1</td>\n",
       "      <td>[CHEMBL1354522, 0.6900000000000001]</td>\n",
       "      <td>1</td>\n",
       "      <td>1</td>\n",
       "      <td>InChI=1S/C13H10ClFN4O/c14-9-3-1-4-10(15)8(9)7-...</td>\n",
       "    </tr>\n",
       "    <tr>\n",
       "      <th>3</th>\n",
       "      <td>[[SE_13, AP_8], [AP_7, FP_8]]</td>\n",
       "      <td>[AP_24, FP_180, SE_1]</td>\n",
       "      <td>1</td>\n",
       "      <td>1</td>\n",
       "      <td>1</td>\n",
       "      <td>1</td>\n",
       "      <td>28</td>\n",
       "      <td>1</td>\n",
       "      <td>[CHEMBL3971067, 1.0]</td>\n",
       "      <td>1</td>\n",
       "      <td>1</td>\n",
       "      <td>InChI=1S/C21H26N6O/c1-15(2)27-14-20(24-25-27)1...</td>\n",
       "    </tr>\n",
       "    <tr>\n",
       "      <th>4</th>\n",
       "      <td>[[SE_9, AP_10], [GA_6, AP_9]]</td>\n",
       "      <td>[GA_83, AP_69, SE_82]</td>\n",
       "      <td>1</td>\n",
       "      <td>1</td>\n",
       "      <td>1</td>\n",
       "      <td>1</td>\n",
       "      <td>24</td>\n",
       "      <td>1</td>\n",
       "      <td>[CHEMBL3425867, 1.0]</td>\n",
       "      <td>1</td>\n",
       "      <td>1</td>\n",
       "      <td>InChI=1S/C17H18N4O2S/c1-22-15-9-11(2-3-13(15)1...</td>\n",
       "    </tr>\n",
       "  </tbody>\n",
       "</table>\n",
       "</div>"
      ],
      "text/plain": [
       "                         bond_ids            fragment_ids  hba  hbd  mwt  \\\n",
       "0  [[FP_10, AP_8], [SE_10, AP_9]]   [AP_95, SE_22, FP_14]    1    1    1   \n",
       "1  [[GA_10, B1_7], [GA_9, AP_12]]  [AP_134, GA_35, B1_19]    1    1    1   \n",
       "2                [[GA_10, AP_10]]         [AP_117, GA_37]    1    1    1   \n",
       "3   [[SE_13, AP_8], [AP_7, FP_8]]   [AP_24, FP_180, SE_1]    1    1    1   \n",
       "4   [[SE_9, AP_10], [GA_6, AP_9]]   [GA_83, AP_69, SE_82]    1    1    1   \n",
       "\n",
       "   logp  n_atoms  chembl_exact                  chembl_most_similar  \\\n",
       "0     1       28             1                [CHEMBL2203552, 0.71]   \n",
       "1     1       28             0   [CHEMBL205652, 0.6000000000000001]   \n",
       "2     1       20             1  [CHEMBL1354522, 0.6900000000000001]   \n",
       "3     1       28             1                 [CHEMBL3971067, 1.0]   \n",
       "4     1       24             1                 [CHEMBL3425867, 1.0]   \n",
       "\n",
       "   original_exact  original_substructure  \\\n",
       "0               1                      1   \n",
       "1               1                      1   \n",
       "2               1                      1   \n",
       "3               1                      1   \n",
       "4               1                      1   \n",
       "\n",
       "                                               inchi  \n",
       "0  InChI=1S/C21H17N5O2/c1-28-18-11-24-20(13-8-12-...  \n",
       "1  InChI=1S/C22H17ClFN3O/c1-14-5-7-20-18(9-14)22(...  \n",
       "2  InChI=1S/C13H10ClFN4O/c14-9-3-1-4-10(15)8(9)7-...  \n",
       "3  InChI=1S/C21H26N6O/c1-15(2)27-14-20(24-25-27)1...  \n",
       "4  InChI=1S/C17H18N4O2S/c1-22-15-9-11(2-3-13(15)1...  "
      ]
     },
     "execution_count": 14,
     "metadata": {},
     "output_type": "execute_result"
    }
   ],
   "source": [
    "properties['original_exact'].head()"
   ]
  },
  {
   "cell_type": "code",
   "execution_count": 15,
   "metadata": {},
   "outputs": [
    {
     "data": {
      "text/plain": [
       "324"
      ]
     },
     "execution_count": 15,
     "metadata": {},
     "output_type": "execute_result"
    }
   ],
   "source": [
    "properties['original_substructure'].shape[0]"
   ]
  },
  {
   "cell_type": "code",
   "execution_count": 16,
   "metadata": {},
   "outputs": [
    {
     "data": {
      "text/html": [
       "<div>\n",
       "<style scoped>\n",
       "    .dataframe tbody tr th:only-of-type {\n",
       "        vertical-align: middle;\n",
       "    }\n",
       "\n",
       "    .dataframe tbody tr th {\n",
       "        vertical-align: top;\n",
       "    }\n",
       "\n",
       "    .dataframe thead th {\n",
       "        text-align: right;\n",
       "    }\n",
       "</style>\n",
       "<table border=\"1\" class=\"dataframe\">\n",
       "  <thead>\n",
       "    <tr style=\"text-align: right;\">\n",
       "      <th></th>\n",
       "      <th>bond_ids</th>\n",
       "      <th>fragment_ids</th>\n",
       "      <th>hba</th>\n",
       "      <th>hbd</th>\n",
       "      <th>mwt</th>\n",
       "      <th>logp</th>\n",
       "      <th>n_atoms</th>\n",
       "      <th>chembl_exact</th>\n",
       "      <th>chembl_most_similar</th>\n",
       "      <th>original_exact</th>\n",
       "      <th>original_substructure</th>\n",
       "      <th>inchi</th>\n",
       "    </tr>\n",
       "  </thead>\n",
       "  <tbody>\n",
       "    <tr>\n",
       "      <th>0</th>\n",
       "      <td>[[FP_7, GA_4], [SE_10, AP_8], [AP_7, FP_6]]</td>\n",
       "      <td>[FP_3, GA_40, AP_14, SE_18]</td>\n",
       "      <td>1</td>\n",
       "      <td>1</td>\n",
       "      <td>1</td>\n",
       "      <td>1</td>\n",
       "      <td>26</td>\n",
       "      <td>0</td>\n",
       "      <td>[CHEMBL1922009, 0.72]</td>\n",
       "      <td>0</td>\n",
       "      <td>1</td>\n",
       "      <td>InChI=1S/C18H23N5O3/c1-25-14-6-5-13(10-15(14)2...</td>\n",
       "    </tr>\n",
       "    <tr>\n",
       "      <th>1</th>\n",
       "      <td>[[AP_8, SE_7], [AP_7, FP_8], [FP_7, GA_6]]</td>\n",
       "      <td>[FP_128, GA_45, AP_14, SE_27]</td>\n",
       "      <td>1</td>\n",
       "      <td>1</td>\n",
       "      <td>1</td>\n",
       "      <td>1</td>\n",
       "      <td>27</td>\n",
       "      <td>0</td>\n",
       "      <td>[CHEMBL3356000, 0.77]</td>\n",
       "      <td>0</td>\n",
       "      <td>1</td>\n",
       "      <td>InChI=1S/C21H23N5O/c22-15-8-10-16(11-9-15)25-2...</td>\n",
       "    </tr>\n",
       "    <tr>\n",
       "      <th>2</th>\n",
       "      <td>[[SE_10, FP_14], [AP_7, GA_3], [AP_6, SE_9]]</td>\n",
       "      <td>[SE_73, GA_14, AP_18, FP_83]</td>\n",
       "      <td>1</td>\n",
       "      <td>1</td>\n",
       "      <td>1</td>\n",
       "      <td>1</td>\n",
       "      <td>32</td>\n",
       "      <td>0</td>\n",
       "      <td>[CHEMBL1222710, 0.71]</td>\n",
       "      <td>0</td>\n",
       "      <td>1</td>\n",
       "      <td>InChI=1S/C22H23FN8O/c1-13(2)15-11-19(28-27-15)...</td>\n",
       "    </tr>\n",
       "    <tr>\n",
       "      <th>3</th>\n",
       "      <td>[[SE_12, AP_8], [AP_7, FP_6], [FP_7, GA_4]]</td>\n",
       "      <td>[FP_3, SE_15, GA_31, AP_14]</td>\n",
       "      <td>1</td>\n",
       "      <td>1</td>\n",
       "      <td>1</td>\n",
       "      <td>1</td>\n",
       "      <td>29</td>\n",
       "      <td>0</td>\n",
       "      <td>[CHEMBL1922009, 0.71]</td>\n",
       "      <td>0</td>\n",
       "      <td>1</td>\n",
       "      <td>InChI=1S/C20H27N5O4/c1-21-19(26)13-6-5-9-25(12...</td>\n",
       "    </tr>\n",
       "    <tr>\n",
       "      <th>4</th>\n",
       "      <td>[[FP_7, GA_4], [AP_7, FP_6], [B1_6, GA_5]]</td>\n",
       "      <td>[FP_3, GA_31, B1_23, AP_14]</td>\n",
       "      <td>1</td>\n",
       "      <td>1</td>\n",
       "      <td>1</td>\n",
       "      <td>1</td>\n",
       "      <td>23</td>\n",
       "      <td>0</td>\n",
       "      <td>[CHEMBL370861, 0.6900000000000001]</td>\n",
       "      <td>0</td>\n",
       "      <td>1</td>\n",
       "      <td>InChI=1S/C17H21N5O/c18-17-19-9-8-15(21-17)22-1...</td>\n",
       "    </tr>\n",
       "  </tbody>\n",
       "</table>\n",
       "</div>"
      ],
      "text/plain": [
       "                                       bond_ids  \\\n",
       "0   [[FP_7, GA_4], [SE_10, AP_8], [AP_7, FP_6]]   \n",
       "1    [[AP_8, SE_7], [AP_7, FP_8], [FP_7, GA_6]]   \n",
       "2  [[SE_10, FP_14], [AP_7, GA_3], [AP_6, SE_9]]   \n",
       "3   [[SE_12, AP_8], [AP_7, FP_6], [FP_7, GA_4]]   \n",
       "4    [[FP_7, GA_4], [AP_7, FP_6], [B1_6, GA_5]]   \n",
       "\n",
       "                    fragment_ids  hba  hbd  mwt  logp  n_atoms  chembl_exact  \\\n",
       "0    [FP_3, GA_40, AP_14, SE_18]    1    1    1     1       26             0   \n",
       "1  [FP_128, GA_45, AP_14, SE_27]    1    1    1     1       27             0   \n",
       "2   [SE_73, GA_14, AP_18, FP_83]    1    1    1     1       32             0   \n",
       "3    [FP_3, SE_15, GA_31, AP_14]    1    1    1     1       29             0   \n",
       "4    [FP_3, GA_31, B1_23, AP_14]    1    1    1     1       23             0   \n",
       "\n",
       "                  chembl_most_similar  original_exact  original_substructure  \\\n",
       "0               [CHEMBL1922009, 0.72]               0                      1   \n",
       "1               [CHEMBL3356000, 0.77]               0                      1   \n",
       "2               [CHEMBL1222710, 0.71]               0                      1   \n",
       "3               [CHEMBL1922009, 0.71]               0                      1   \n",
       "4  [CHEMBL370861, 0.6900000000000001]               0                      1   \n",
       "\n",
       "                                               inchi  \n",
       "0  InChI=1S/C18H23N5O3/c1-25-14-6-5-13(10-15(14)2...  \n",
       "1  InChI=1S/C21H23N5O/c22-15-8-10-16(11-9-15)25-2...  \n",
       "2  InChI=1S/C22H23FN8O/c1-13(2)15-11-19(28-27-15)...  \n",
       "3  InChI=1S/C20H27N5O4/c1-21-19(26)13-6-5-9-25(12...  \n",
       "4  InChI=1S/C17H21N5O/c18-17-19-9-8-15(21-17)22-1...  "
      ]
     },
     "execution_count": 16,
     "metadata": {},
     "output_type": "execute_result"
    }
   ],
   "source": [
    "properties['original_substructure'].head()"
   ]
  },
  {
   "cell_type": "code",
   "execution_count": 17,
   "metadata": {},
   "outputs": [
    {
     "data": {
      "text/plain": [
       "{'AP-B1-GA-SE': 255096,\n",
       " 'AP-FP-GA-SE': 5016284,\n",
       " 'AP-B2-GA-SE': 359534,\n",
       " 'AP-B2-FP-GA': 178027,\n",
       " 'AP-B1-FP-GA': 209843,\n",
       " 'AP-B1-B2-GA': 3498,\n",
       " 'AP-GA-SE': 102733,\n",
       " 'AP-FP-SE': 512671,\n",
       " 'AP-FP-GA': 71885,\n",
       " 'AP-B2-GA': 1812,\n",
       " 'AP-B1-GA': 1279,\n",
       " 'AP-GA': 682,\n",
       " 'AP-FP': 5924,\n",
       " 'AP-SE': 1369}"
      ]
     },
     "execution_count": 17,
     "metadata": {},
     "output_type": "execute_result"
    }
   ],
   "source": [
    "properties['subpockets']"
   ]
  },
  {
   "cell_type": "markdown",
   "metadata": {},
   "source": [
    "## 4. Save properties to `csv`/`json` files"
   ]
  },
  {
   "cell_type": "code",
   "execution_count": 18,
   "metadata": {},
   "outputs": [],
   "source": [
    "properties['original_exact'].to_json(\n",
    "    '../data/combinatorial_library/original_exact.json'\n",
    ")"
   ]
  },
  {
   "cell_type": "code",
   "execution_count": 19,
   "metadata": {},
   "outputs": [],
   "source": [
    "properties['original_substructure'].to_json(\n",
    "    '../data/combinatorial_library/original_substructure.json'\n",
    ")"
   ]
  },
  {
   "cell_type": "code",
   "execution_count": 20,
   "metadata": {},
   "outputs": [],
   "source": [
    "properties['chembl_exact'].to_json(\n",
    "    '../data/combinatorial_library/chembl_exact.json'\n",
    ")"
   ]
  },
  {
   "cell_type": "code",
   "execution_count": 21,
   "metadata": {},
   "outputs": [],
   "source": [
    "# Takes a moment (20s)\n",
    "properties['chembl_most_similar'].to_json(\n",
    "    '../data/combinatorial_library/chembl_most_similar.json'\n",
    ")"
   ]
  },
  {
   "cell_type": "code",
   "execution_count": 22,
   "metadata": {},
   "outputs": [],
   "source": [
    "# Takes a moment (20s)\n",
    "pd.DataFrame(properties['n_atoms']).to_csv(\n",
    "    '../data/combinatorial_library/n_atoms.csv',\n",
    "    index=None,\n",
    "    header=None\n",
    ")"
   ]
  },
  {
   "cell_type": "code",
   "execution_count": 23,
   "metadata": {},
   "outputs": [],
   "source": [
    "subpockets = pd.DataFrame.from_dict(properties['subpockets'], orient=\"index\")\n",
    "subpockets = subpockets.rename(columns={0: 'count'})\n",
    "subpockets.to_csv(\n",
    "    '../data/combinatorial_library/subpockets.csv'\n",
    ")"
   ]
  },
  {
   "cell_type": "code",
   "execution_count": 24,
   "metadata": {},
   "outputs": [],
   "source": [
    "pd.Series(\n",
    "    {key: properties[key] for key in ['mw', 'logp', 'hbd', 'hba', 'lipinski', 'n_ligands']}\n",
    ").to_csv(\n",
    "    '../data/combinatorial_library/properties.csv',\n",
    "    header=None\n",
    ")"
   ]
  }
 ],
 "metadata": {
  "kernelspec": {
   "display_name": "kinfraglib",
   "language": "python",
   "name": "kinfraglib"
  },
  "language_info": {
   "codemirror_mode": {
    "name": "ipython",
    "version": 3
   },
   "file_extension": ".py",
   "mimetype": "text/x-python",
   "name": "python",
   "nbconvert_exporter": "python",
   "pygments_lexer": "ipython3",
   "version": "3.6.10"
  }
 },
 "nbformat": 4,
 "nbformat_minor": 4
}
