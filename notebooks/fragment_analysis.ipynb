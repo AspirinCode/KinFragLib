{
 "cells": [
  {
   "cell_type": "markdown",
   "metadata": {},
   "source": [
    "# Fragment analysis\n",
    "\n",
    "Note that this notebook contains the code that was used to caluclate most of the statistics as well as to generate the respective plots shown in the mnauscript. "
   ]
  },
  {
   "cell_type": "code",
   "execution_count": 1,
   "metadata": {},
   "outputs": [],
   "source": [
    "%load_ext autoreload\n",
    "%autoreload 2"
   ]
  },
  {
   "cell_type": "code",
   "execution_count": 2,
   "metadata": {},
   "outputs": [],
   "source": [
    "from pathlib import Path\n",
    "\n",
    "import pandas as pd\n",
    "\n",
    "from util import *"
   ]
  },
  {
   "cell_type": "markdown",
   "metadata": {},
   "source": [
    "## Load fragment library"
   ]
  },
  {
   "cell_type": "markdown",
   "metadata": {},
   "source": [
    "Let's load the fragment library (in different formats for different kind of analysis lateron):\n",
    "\n",
    "- `fragment_library`: Dictionary of fragments (values as DataFrame) by subpockets (keys).\n",
    "- `fragment_library_concat`: All fragments in one DataFrame.\n",
    "- `fragment_library_concat_wo_x`: All fragments except fragments from pool X in one DataFrame."
   ]
  },
  {
   "cell_type": "code",
   "execution_count": 3,
   "metadata": {},
   "outputs": [],
   "source": [
    "# Path to library folder\n",
    "PATH_TO_LIB = Path('.') / '..' / 'data' / 'fragment_library'"
   ]
  },
  {
   "cell_type": "code",
   "execution_count": null,
   "metadata": {},
   "outputs": [],
   "source": [
    "# Get fragment library by subpocket\n",
    "fragment_library = read_fragment_library(PATH_TO_LIB)\n",
    "\n",
    "for subpocket, fragments in fragment_library.items():\n",
    "    fragments['subpocket'] = subpocket"
   ]
  },
  {
   "cell_type": "code",
   "execution_count": null,
   "metadata": {},
   "outputs": [],
   "source": [
    "print(fragment_library.keys())\n",
    "print(f'Example fragments for subpocket AP:')"
   ]
  },
  {
   "cell_type": "code",
   "execution_count": null,
   "metadata": {},
   "outputs": [],
   "source": [
    "# Merge all subpockets\n",
    "fragment_library_concat = pd.concat(fragment_library)\n",
    "fragment_library_concat.reset_index(drop=True, inplace=True)"
   ]
  },
  {
   "cell_type": "code",
   "execution_count": null,
   "metadata": {},
   "outputs": [],
   "source": [
    "# Remove pool X\n",
    "fragment_library_concat_wo_x = fragment_library_concat[\n",
    "    fragment_library_concat.subpocket != 'X'\n",
    "].copy()"
   ]
  },
  {
   "cell_type": "markdown",
   "metadata": {},
   "source": [
    "## Fragment library overview"
   ]
  },
  {
   "cell_type": "markdown",
   "metadata": {},
   "source": [
    "How many fragments (with and without pool X) do we have - and from how many original ligands do these come from?"
   ]
  },
  {
   "cell_type": "code",
   "execution_count": null,
   "metadata": {},
   "outputs": [],
   "source": [
    "# Number of fragments in all fragment subpocket pools\n",
    "n_fragments = fragment_library_concat.shape[0]\n",
    "\n",
    "# Number of fragments in all fragment subpocket pools except pool X\n",
    "n_fragments_wo_x = fragment_library_concat_wo_x.shape[0]\n",
    "\n",
    "print(f'Number of fragments in library: {n_fragments}')\n",
    "print(f'Number of fragments in library without pool X: {n_fragments_wo_x}')"
   ]
  },
  {
   "cell_type": "code",
   "execution_count": null,
   "metadata": {},
   "outputs": [],
   "source": [
    "# Deduplicate these strings in order to get the number of ligands from which the fragments originate\n",
    "n_original_ligands = fragment_library_concat.groupby(\n",
    "    ['kinase', 'complex_pdb', 'ligand_pdb']\n",
    ").size().shape[0]\n",
    "\n",
    "print(f'Number of original ligands (from which fragments originate): {n_original_ligands}')"
   ]
  },
  {
   "cell_type": "markdown",
   "metadata": {},
   "source": [
    "## Number of subpockets occupied by a ligand"
   ]
  },
  {
   "cell_type": "markdown",
   "metadata": {},
   "source": [
    "Ligands can occupy subpocket(s) multiple times. Let's check how often this happens for which subpockets."
   ]
  },
  {
   "cell_type": "code",
   "execution_count": null,
   "metadata": {},
   "outputs": [],
   "source": [
    "n_fragments_per_subpocket_per_ligand = fragment_library_concat_wo_x.groupby(\n",
    "    ['kinase', 'complex_pdb', 'ligand_pdb', 'subpocket']\n",
    ").size()\n",
    "n_fragments_per_subpocket_per_ligand = n_fragments_per_subpocket_per_ligand.reset_index()\n",
    "n_fragments_per_subpocket_per_ligand.rename(columns={0: 'n_fragments'}, inplace=True)"
   ]
  },
  {
   "cell_type": "markdown",
   "metadata": {},
   "source": [
    "### How often does a ligand occupy a subpocket mulitple times? And how many times?"
   ]
  },
  {
   "cell_type": "code",
   "execution_count": null,
   "metadata": {},
   "outputs": [],
   "source": [
    "n_fragments_per_subpocket_per_ligand.groupby('n_fragments').size()"
   ]
  },
  {
   "cell_type": "markdown",
   "metadata": {},
   "source": [
    "### Which subpockets are occupied how often by multiple fragments per ligand?"
   ]
  },
  {
   "cell_type": "code",
   "execution_count": null,
   "metadata": {},
   "outputs": [],
   "source": [
    "n_fragments_per_subpocket_per_ligand[\n",
    "    n_fragments_per_subpocket_per_ligand.n_fragments > 1\n",
    "].groupby('subpocket').size()"
   ]
  },
  {
   "cell_type": "markdown",
   "metadata": {},
   "source": [
    "In order to calculate the number of subpockets a ligand is occupying, it is not of interest how often a subpocket is occupied by a ligand. Thus, we keep only one entry per ligand and subpocket."
   ]
  },
  {
   "cell_type": "code",
   "execution_count": null,
   "metadata": {},
   "outputs": [],
   "source": [
    "n_subpockets_per_ligand = fragment_library_concat_wo_x.groupby(\n",
    "    ['kinase', 'complex_pdb', 'ligand_pdb', 'subpocket']\n",
    ").first().reset_index().groupby(\n",
    "    ['kinase', 'complex_pdb', 'ligand_pdb']\n",
    ").size()"
   ]
  },
  {
   "cell_type": "code",
   "execution_count": null,
   "metadata": {},
   "outputs": [],
   "source": [
    "n_subpockets_per_ligand_distribution = pd.concat(\n",
    "    [\n",
    "        n_subpockets_per_ligand.value_counts().sort_index().rename('ligand_count'), \n",
    "        n_subpockets_per_ligand.value_counts(normalize=True).sort_index().rename('ligand_frequency')*100\n",
    "    ],\n",
    "    axis=1\n",
    ")"
   ]
  },
  {
   "cell_type": "code",
   "execution_count": null,
   "metadata": {},
   "outputs": [],
   "source": [
    "print('Number of subpockets per ligand (distribution):')\n",
    "n_subpockets_per_ligand_distribution"
   ]
  },
  {
   "cell_type": "markdown",
   "metadata": {},
   "source": [
    "#### Creates Figure 3.A in manuscript"
   ]
  },
  {
   "cell_type": "code",
   "execution_count": null,
   "metadata": {},
   "outputs": [],
   "source": [
    "plot_n_subpockets(n_subpockets_per_ligand_distribution)"
   ]
  },
  {
   "cell_type": "markdown",
   "metadata": {},
   "source": [
    "## Examples for a few special cases of ligands/fragments discussed in the manuscript"
   ]
  },
  {
   "cell_type": "markdown",
   "metadata": {},
   "source": [
    "### Examples for ligands occupying 6 subpockets\n",
    "\n",
    "Could equally be adapted to get samples for ligands occupying less subpockets."
   ]
  },
  {
   "cell_type": "code",
   "execution_count": null,
   "metadata": {},
   "outputs": [],
   "source": [
    "ligand_of_interest_six = n_subpockets_per_ligand[n_subpockets_per_ligand == 6].reset_index()\n",
    "ligand_of_interest_six"
   ]
  },
  {
   "cell_type": "markdown",
   "metadata": {},
   "source": [
    "#### Creates Figure S1, subfgure A in supplementary "
   ]
  },
  {
   "cell_type": "code",
   "execution_count": null,
   "metadata": {},
   "outputs": [],
   "source": [
    "image_six_subpockets = draw_fragmented_ligand(\n",
    "    fragment_library, \n",
    "    ligand_of_interest_six.complex_pdb.values[0], \n",
    "    ligand_of_interest_six.ligand_pdb.values[0],\n",
    "    mols_per_row=3\n",
    ")\n",
    "image_six_subpockets.save(f'figures/extreme_subpockets_six_fragments.png')\n",
    "image_six_subpockets"
   ]
  },
  {
   "cell_type": "code",
   "execution_count": null,
   "metadata": {},
   "outputs": [],
   "source": [
    "pdb_ids = ['4fnz']\n",
    "image_ligand_from_pdb_ids = draw_ligands_from_pdb_ids(pdb_ids, sub_img_size=(300,300))\n",
    "image_ligand_from_pdb_ids.save(f'figures/extreme_subpockets_six_ligand.png')\n",
    "image_ligand_from_pdb_ids"
   ]
  },
  {
   "cell_type": "markdown",
   "metadata": {},
   "source": [
    "### Unfragmented ligands\n",
    "Collect all ligands that only (and thus fully) cover one subpocket"
   ]
  },
  {
   "cell_type": "code",
   "execution_count": null,
   "metadata": {},
   "outputs": [],
   "source": [
    "ligand_of_interest_one = n_subpockets_per_ligand[n_subpockets_per_ligand == 1].reset_index()"
   ]
  },
  {
   "cell_type": "code",
   "execution_count": null,
   "metadata": {},
   "outputs": [],
   "source": [
    "# get info for those ligands\n",
    "unfragmented_ligands = []\n",
    "\n",
    "for index, row in ligand_of_interest_one.iterrows():\n",
    "    \n",
    "    unfragmented_ligands.append(\n",
    "        get_fragmented_ligand(\n",
    "            fragment_library, \n",
    "            row.complex_pdb, \n",
    "            row.ligand_pdb\n",
    "        )\n",
    "    )\n",
    "    \n",
    "unfragmented_ligands = pd.concat(unfragmented_ligands)"
   ]
  },
  {
   "cell_type": "code",
   "execution_count": null,
   "metadata": {},
   "outputs": [],
   "source": [
    "# Draw and save those ligands\n",
    "image_unfragmented = draw_fragments(unfragmented_ligands, mols_per_row=10)\n",
    "image_unfragmented.save(f'figures/extreme_subpockets_one.png')\n",
    "image_unfragmented"
   ]
  },
  {
   "cell_type": "markdown",
   "metadata": {},
   "source": [
    "### Examples for unfragmented ligands in paper\n",
    "#### Creates supplement figure S1, subfigures B1-B8, C1-C3, D1-D3"
   ]
  },
  {
   "cell_type": "code",
   "execution_count": null,
   "metadata": {},
   "outputs": [],
   "source": [
    "unfragmented_ligands_paper_b = [\n",
    "    ['6q3b', 'PYZ'], \n",
    "    ['6q3c', 'BYZ'], \n",
    "    ['6q48', 'HHQ'],\n",
    "    ['6q4a', 'HGW'],\n",
    "    ['6q4b', 'HHN'], \n",
    "    ['6q4c', 'HH8'],\n",
    "    ['6q4e', 'HH5'],\n",
    "    ['6q4f', '26D']\n",
    "]\n",
    "unfragmented_ligands_paper_c = [\n",
    "    ['3q9y', 'TXQ'],\n",
    "    ['5j1w', '6FB'],\n",
    "    ['2o63', 'MYC']\n",
    "]\n",
    "unfragmented_ligands_paper_d = [\n",
    "    ['4fst', 'HK4'],\n",
    "    ['3fyj', 'B97'],\n",
    "    ['6cfm', 'EA7']\n",
    "]"
   ]
  },
  {
   "cell_type": "markdown",
   "metadata": {},
   "source": [
    "##### Fragment-like ligands B1-B8"
   ]
  },
  {
   "cell_type": "code",
   "execution_count": null,
   "metadata": {},
   "outputs": [],
   "source": [
    "image_unfragmented_paper_b = draw_selected_fragments(\n",
    "    unfragmented_ligands_paper_b, \n",
    "    unfragmented_ligands\n",
    ")\n",
    "image_unfragmented_paper_b.save(f'figures/extreme_subpockets_one_paper_b.png')\n",
    "image_unfragmented_paper_b"
   ]
  },
  {
   "cell_type": "markdown",
   "metadata": {},
   "source": [
    "##### Rigid/many fused rings containing ligands C1-C3"
   ]
  },
  {
   "cell_type": "code",
   "execution_count": null,
   "metadata": {},
   "outputs": [],
   "source": [
    "image_unfragmented_paper_c = draw_selected_fragments(\n",
    "    unfragmented_ligands_paper_c, \n",
    "    unfragmented_ligands\n",
    ")\n",
    "image_unfragmented_paper_c.save(f'figures/extreme_subpockets_one_paper_c.png')\n",
    "image_unfragmented_paper_c"
   ]
  },
  {
   "cell_type": "markdown",
   "metadata": {},
   "source": [
    "##### Other larger unfragmented ligands D1-D3"
   ]
  },
  {
   "cell_type": "code",
   "execution_count": null,
   "metadata": {},
   "outputs": [],
   "source": [
    "image_unfragmented_paper_d = draw_selected_fragments(\n",
    "    unfragmented_ligands_paper_d, \n",
    "    unfragmented_ligands\n",
    ")\n",
    "image_unfragmented_paper_d.save(f'figures/extreme_subpockets_one_paper_d.png')\n",
    "image_unfragmented_paper_d"
   ]
  },
  {
   "cell_type": "markdown",
   "metadata": {},
   "source": [
    "## Fragments per subpocket"
   ]
  },
  {
   "cell_type": "markdown",
   "metadata": {},
   "source": [
    "### Deduplicated fragments (per subpocket)"
   ]
  },
  {
   "cell_type": "code",
   "execution_count": null,
   "metadata": {},
   "outputs": [],
   "source": [
    "# collect all fragments and deduplicated version of them\n",
    "n_fragments_per_subpocket = [len(fragments) for subpocket, fragments in fragment_library.items()]\n",
    "n_fragments_per_subpocket_deduplicated = [len(fragments.drop_duplicates('smiles')) for subpocket, fragments in fragment_library.items()]"
   ]
  },
  {
   "cell_type": "code",
   "execution_count": null,
   "metadata": {},
   "outputs": [],
   "source": [
    "# get fragments numbers per subpocket\n",
    "stats_n_fragments = pd.DataFrame(\n",
    "    {\n",
    "        'n_fragments': n_fragments_per_subpocket,\n",
    "        'n_fragments_deduplicated': n_fragments_per_subpocket_deduplicated,\n",
    "        'freq_duplicates': [(i-j) / i * 100 for i, j in zip(n_fragments_per_subpocket, n_fragments_per_subpocket_deduplicated)]\n",
    "    },\n",
    "    index=fragment_library.keys()\n",
    ")\n",
    "stats_n_fragments"
   ]
  },
  {
   "cell_type": "code",
   "execution_count": null,
   "metadata": {},
   "outputs": [],
   "source": [
    "print(f'Mean duplicates frequency across subpockets: {stats_n_fragments.freq_duplicates.mean()}')"
   ]
  },
  {
   "cell_type": "code",
   "execution_count": null,
   "metadata": {},
   "outputs": [],
   "source": [
    "pd.DataFrame(\n",
    "    {\n",
    "        'freq_fragments': [i / sum(n_fragments_per_subpocket[:-1]) * 100 for i in n_fragments_per_subpocket[:-1]],\n",
    "        'freq_fragments_deduplicated': [i / sum(n_fragments_per_subpocket_deduplicated[:-1]) * 100 for i in n_fragments_per_subpocket_deduplicated[:-1]]\n",
    "    },\n",
    "    index=list(fragment_library.keys())[:-1]\n",
    ")"
   ]
  },
  {
   "cell_type": "code",
   "execution_count": null,
   "metadata": {},
   "outputs": [],
   "source": [
    "print(f'Number of fragments (wo X): {sum(n_fragments_per_subpocket[:-1])}')\n",
    "print(f'Number of deduplicated fragments (wo X): {sum(n_fragments_per_subpocket_deduplicated[:-1])}')"
   ]
  },
  {
   "cell_type": "markdown",
   "metadata": {},
   "source": [
    "#### Creates Figure 3.B in manuscript "
   ]
  },
  {
   "cell_type": "code",
   "execution_count": null,
   "metadata": {},
   "outputs": [],
   "source": [
    "plot_n_fragments_per_subpocket(n_fragments_per_subpocket, n_fragments_per_subpocket_deduplicated)"
   ]
  },
  {
   "cell_type": "markdown",
   "metadata": {},
   "source": [
    "### Singleton fragments\n",
    "\n",
    "Analyze which fragments appear only ones or several times in each subpocket."
   ]
  },
  {
   "cell_type": "code",
   "execution_count": null,
   "metadata": {},
   "outputs": [],
   "source": [
    "fragment_occurrence = fragment_library_concat.groupby(['subpocket', 'smiles']).size()\n",
    "fragment_occurrence.head()"
   ]
  },
  {
   "cell_type": "code",
   "execution_count": null,
   "metadata": {},
   "outputs": [],
   "source": [
    "# Collect numbers\n",
    "singletons = pd.DataFrame(\n",
    "    {\n",
    "        '# singletons': fragment_occurrence[fragment_occurrence == 1].reset_index().groupby('subpocket').size(),\n",
    "        '# duplicated fragments': fragment_occurrence[fragment_occurrence > 1].reset_index().groupby('subpocket').size(),\n",
    "        '# deduplicated fragments': fragment_occurrence.reset_index().groupby('subpocket').size()\n",
    "    }\n",
    ")\n",
    "singletons['% singletons'] = singletons['# singletons'] / singletons['# deduplicated fragments'] * 100\n",
    "singletons"
   ]
  },
  {
   "cell_type": "code",
   "execution_count": null,
   "metadata": {},
   "outputs": [],
   "source": [
    "print(f\"Average ratio of singletons across subpockets: {singletons.drop('X')['% singletons'].mean()}\")"
   ]
  },
  {
   "cell_type": "code",
   "execution_count": null,
   "metadata": {},
   "outputs": [],
   "source": [
    "singletons.sum()"
   ]
  },
  {
   "cell_type": "markdown",
   "metadata": {},
   "source": [
    "### Duplicate fragments\n",
    "Analyze if fragments that appear several times (duplicate fragments) bind to the same or different kinases (or even across kinase groups)."
   ]
  },
  {
   "cell_type": "markdown",
   "metadata": {},
   "source": [
    "Group fragments by subpocket and their SMILES. This deduplicates the dataset per subpocket based on the fragment SMILES.\n",
    "\n",
    "Per deduplicated fragment save all kinases and kinase groups. \n",
    "This allows to track the following:\n",
    "\n",
    "1. How many deduplicated fragments are there (within each subpocket)?\n",
    "2. How many fragments (within subpockets) are singletons?\n",
    "3. How many fragments (within subpockets) are duplicates?\n",
    "4. From the duplicates, how many bind to the same kinase?\n",
    "5. From the duplicates, how many bind to different kinases?\n",
    "6. From the duplicates binding to different kinases, how many bind to the same kinase group?\n",
    "7. From the duplicates binding to different kinases, how many to different kinase groups?"
   ]
  },
  {
   "cell_type": "code",
   "execution_count": null,
   "metadata": {},
   "outputs": [],
   "source": [
    "# Retain information on kinase and group during deduplication\n",
    "fragments_by_subpocket_and_smiles = pd.concat(\n",
    "    [\n",
    "        fragment_library_concat.groupby(['subpocket', 'smiles'])['kinase'].apply(list), \n",
    "        fragment_library_concat.groupby(['subpocket', 'smiles'])['group'].apply(list)\n",
    "    ], \n",
    "    axis=1\n",
    ")\n",
    "fragments_by_subpocket_and_smiles.head()"
   ]
  },
  {
   "cell_type": "markdown",
   "metadata": {},
   "source": [
    "#### 1. How many deduplicated fragments are there (within each subpocket)?"
   ]
  },
  {
   "cell_type": "code",
   "execution_count": null,
   "metadata": {},
   "outputs": [],
   "source": [
    "fragments_deduplicated = fragments_by_subpocket_and_smiles\n",
    "fragments_deduplicated.shape[0]"
   ]
  },
  {
   "cell_type": "markdown",
   "metadata": {},
   "source": [
    "#### 2. How many fragments (within subpockets) are singletons?"
   ]
  },
  {
   "cell_type": "code",
   "execution_count": null,
   "metadata": {},
   "outputs": [],
   "source": [
    "fragments_singletons = fragments_by_subpocket_and_smiles[\n",
    "        fragments_by_subpocket_and_smiles.apply(\n",
    "        lambda x: len(x.kinase) == 1,\n",
    "        axis=1\n",
    "    )\n",
    "]\n",
    "fragments_singletons.shape[0]"
   ]
  },
  {
   "cell_type": "markdown",
   "metadata": {},
   "source": [
    "#### 3. How many fragments (within subpockets) are duplicates?"
   ]
  },
  {
   "cell_type": "code",
   "execution_count": null,
   "metadata": {},
   "outputs": [],
   "source": [
    "fragments_duplicates = fragments_by_subpocket_and_smiles[\n",
    "        fragments_by_subpocket_and_smiles.apply(\n",
    "        lambda x: len(x.kinase) != 1,\n",
    "        axis=1\n",
    "    )\n",
    "]\n",
    "fragments_duplicates.shape[0]"
   ]
  },
  {
   "cell_type": "markdown",
   "metadata": {},
   "source": [
    "#### 4. From the duplicates, how many bind to the same kinase?"
   ]
  },
  {
   "cell_type": "code",
   "execution_count": null,
   "metadata": {},
   "outputs": [],
   "source": [
    "fragments_duplicates_same_kinase = fragments_by_subpocket_and_smiles[\n",
    "        fragments_by_subpocket_and_smiles.apply(\n",
    "        lambda x: (len(x.kinase) != 1) & (len(set(x.kinase)) == 1),\n",
    "        axis=1\n",
    "    )\n",
    "]\n",
    "fragments_duplicates_same_kinase.shape[0]"
   ]
  },
  {
   "cell_type": "markdown",
   "metadata": {},
   "source": [
    "#### 5. From the duplicates, how many bind to different kinases?"
   ]
  },
  {
   "cell_type": "code",
   "execution_count": null,
   "metadata": {},
   "outputs": [],
   "source": [
    "fragments_duplicates_different_kinases = fragments_by_subpocket_and_smiles[\n",
    "        fragments_by_subpocket_and_smiles.apply(\n",
    "        lambda x: (len(x.kinase) != 1) & (len(set(x.kinase)) != 1),\n",
    "        axis=1\n",
    "    )\n",
    "]\n",
    "fragments_duplicates_different_kinases.shape[0]"
   ]
  },
  {
   "cell_type": "markdown",
   "metadata": {},
   "source": [
    "#### 6. From the duplicates binding to different kinases, how many bind to the same kinase group?"
   ]
  },
  {
   "cell_type": "code",
   "execution_count": null,
   "metadata": {},
   "outputs": [],
   "source": [
    "fragments_duplicates_different_kinases_same_group = fragments_by_subpocket_and_smiles[\n",
    "        fragments_by_subpocket_and_smiles.apply(\n",
    "        lambda x: (len(x.kinase) != 1) & (len(set(x.kinase)) != 1) & (len(set(x.group)) == 1),\n",
    "        axis=1\n",
    "    )\n",
    "]\n",
    "fragments_duplicates_different_kinases_same_group.shape[0]"
   ]
  },
  {
   "cell_type": "markdown",
   "metadata": {},
   "source": [
    "#### 7. From the duplicates binding to different kinases, how many to different kinase groups?"
   ]
  },
  {
   "cell_type": "code",
   "execution_count": null,
   "metadata": {},
   "outputs": [],
   "source": [
    "fragments_duplicates_different_kinases_and_group = fragments_by_subpocket_and_smiles[\n",
    "        fragments_by_subpocket_and_smiles.apply(\n",
    "        lambda x: (len(x.kinase) != 1) & (len(set(x.kinase)) != 1) & (len(set(x.group)) != 1),\n",
    "        axis=1\n",
    "    )\n",
    "]\n",
    "fragments_duplicates_different_kinases_and_group.shape[0]"
   ]
  },
  {
   "cell_type": "markdown",
   "metadata": {},
   "source": [
    "#### Summarize numbers\n",
    "Note the below dataframes where created in steps 1-7 above"
   ]
  },
  {
   "cell_type": "code",
   "execution_count": null,
   "metadata": {},
   "outputs": [],
   "source": [
    "stats = pd.DataFrame(\n",
    "    [\n",
    "        fragments_deduplicated.reset_index().groupby('subpocket').size(),\n",
    "        fragments_singletons.reset_index().groupby('subpocket').size(),\n",
    "        fragments_duplicates.reset_index().groupby('subpocket').size(),\n",
    "        fragments_duplicates_same_kinase.reset_index().groupby('subpocket').size(),\n",
    "        fragments_duplicates_different_kinases.reset_index().groupby('subpocket').size(),\n",
    "        fragments_duplicates_different_kinases_same_group.reset_index().groupby('subpocket').size(),\n",
    "        fragments_duplicates_different_kinases_and_group.reset_index().groupby('subpocket').size(),\n",
    "    ],\n",
    "    index=[\n",
    "        'fragments_deduplicated',\n",
    "        'fragments_singletons',\n",
    "        'fragments_duplicates',\n",
    "        'fragments_duplicates_same_kinase',\n",
    "        'fragments_duplicates_different_kinases',\n",
    "        'fragments_duplicates_different_kinases_same_group',\n",
    "        'fragments_duplicates_different_kinases_and_group',\n",
    "    ]\n",
    ")\n",
    "stats"
   ]
  },
  {
   "cell_type": "code",
   "execution_count": null,
   "metadata": {},
   "outputs": [],
   "source": [
    "stats.transpose().sum()"
   ]
  },
  {
   "cell_type": "code",
   "execution_count": null,
   "metadata": {},
   "outputs": [],
   "source": [
    "print(\n",
    "    f'Ratio of singletons \\n(with respect to deduplicated fragments):\\n'\n",
    "    f'{fragments_singletons.shape[0] / fragments_deduplicated.shape[0]}\\n'\n",
    ")\n",
    "\n",
    "print(\n",
    "    f'Ratio of duplicate fragments that bind only to one kinase \\n(with respect to deduplicated fragments):\\n'\n",
    "    f'{fragments_duplicates_same_kinase.shape[0] / fragments_deduplicated.shape[0]}\\n'\n",
    ")\n",
    "\n",
    "print(\n",
    "    f'Ratio of duplicate fragments that bind to different kinases and kinase groups \\n(with respect to deduplicated fragments):\\n'\n",
    "    f'{fragments_duplicates_different_kinases_and_group.shape[0] / fragments_deduplicated.shape[0]}\\n'\n",
    ")\n",
    "\n",
    "print(\n",
    "    f'Ratio of duplicate fragments that bind to different kinase groups \\n(with respect to fragments that bind to different kinases):\\n'\n",
    "    f'{fragments_duplicates_different_kinases_and_group.shape[0] / fragments_duplicates_different_kinases.shape[0]}\\n'\n",
    ")"
   ]
  },
  {
   "cell_type": "markdown",
   "metadata": {},
   "source": [
    "## Subpocket connections\n",
    "\n",
    "What subpocket connections do we see how often (connection as in a connection between 2 subpockets)?"
   ]
  },
  {
   "cell_type": "code",
   "execution_count": null,
   "metadata": {},
   "outputs": [],
   "source": [
    "# Respective information is stored in 'connections' column\n",
    "connections_by_fragment = connections_by_fragment(fragment_library_concat_wo_x)\n",
    "connections_by_fragment.head()"
   ]
  },
  {
   "cell_type": "code",
   "execution_count": null,
   "metadata": {},
   "outputs": [],
   "source": [
    "n_ligands_multiple_fragments_in_subpocket = connections_by_fragment[\n",
    "    connections_by_fragment.apply(\n",
    "        lambda x: len(x.connections) != len(set(x.connections)),\n",
    "        axis=1\n",
    "    )\n",
    "].groupby(\n",
    "    ['kinase', 'complex_pdb', 'ligand_pdb']\n",
    ").size()\n",
    "\n",
    "print(f'Number of ligands that show multiple fragments in one or more subpockets: {len(n_ligands_multiple_fragments_in_subpocket)}')"
   ]
  },
  {
   "cell_type": "markdown",
   "metadata": {},
   "source": [
    "##### Connection frequencies"
   ]
  },
  {
   "cell_type": "code",
   "execution_count": null,
   "metadata": {},
   "outputs": [],
   "source": [
    "connections_by_ligand = connections_by_ligand(fragment_library_concat_wo_x)\n",
    "connections_by_ligand.head()"
   ]
  },
  {
   "cell_type": "code",
   "execution_count": null,
   "metadata": {},
   "outputs": [],
   "source": [
    "connections = connections_count_by_ligand(connections_by_ligand)\n",
    "connections"
   ]
  },
  {
   "cell_type": "markdown",
   "metadata": {},
   "source": [
    "## Fragment physicochemical properties"
   ]
  },
  {
   "cell_type": "markdown",
   "metadata": {},
   "source": [
    "Get descriptors for fragments per subpocket (deduplicated per subpocket):"
   ]
  },
  {
   "cell_type": "code",
   "execution_count": null,
   "metadata": {},
   "outputs": [],
   "source": [
    "descriptors = descriptors_by_fragments(fragment_library)"
   ]
  },
  {
   "cell_type": "code",
   "execution_count": null,
   "metadata": {},
   "outputs": [],
   "source": [
    "descriptors.groupby('subpocket').median()"
   ]
  },
  {
   "cell_type": "markdown",
   "metadata": {},
   "source": [
    "#### Creates Figure 5.A in manuscript"
   ]
  },
  {
   "cell_type": "code",
   "execution_count": null,
   "metadata": {},
   "outputs": [],
   "source": [
    "plot_fragment_descriptors(descriptors)"
   ]
  },
  {
   "cell_type": "markdown",
   "metadata": {},
   "source": [
    "##### Some more details on the descriptor values per subpocket"
   ]
  },
  {
   "cell_type": "code",
   "execution_count": null,
   "metadata": {},
   "outputs": [],
   "source": [
    "descriptors.groupby('subpocket')['# HBD'].describe()"
   ]
  },
  {
   "cell_type": "code",
   "execution_count": null,
   "metadata": {},
   "outputs": [],
   "source": [
    "descriptors.groupby('subpocket')['# HBA'].describe()"
   ]
  },
  {
   "cell_type": "code",
   "execution_count": null,
   "metadata": {},
   "outputs": [],
   "source": [
    "descriptors.groupby('subpocket')['LogP'].describe().sort_values('50%')"
   ]
  },
  {
   "cell_type": "code",
   "execution_count": null,
   "metadata": {},
   "outputs": [],
   "source": [
    "descriptors.groupby('subpocket')['# Heavy atoms'].describe()"
   ]
  },
  {
   "cell_type": "markdown",
   "metadata": {},
   "source": [
    "## Fragment similarity by subpockets"
   ]
  },
  {
   "cell_type": "markdown",
   "metadata": {},
   "source": [
    "1. Group and deduplicate all fragments by subpocket.\n",
    "2. Calculate similarities for all pairwise fragment combinations within subpockets."
   ]
  },
  {
   "cell_type": "code",
   "execution_count": null,
   "metadata": {},
   "outputs": [],
   "source": [
    "similarities_per_subpocket = fragment_similarity_per_subpocket(fragment_library_concat)\n",
    "similarities_per_subpocket.head()"
   ]
  },
  {
   "cell_type": "markdown",
   "metadata": {},
   "source": [
    "#### Creates Figure 5.B in manuscript"
   ]
  },
  {
   "cell_type": "code",
   "execution_count": null,
   "metadata": {},
   "outputs": [],
   "source": [
    "plot_fragment_similarity(similarities_per_subpocket, 'Subpocket')"
   ]
  },
  {
   "cell_type": "code",
   "execution_count": null,
   "metadata": {},
   "outputs": [],
   "source": [
    "similarities_per_subpocket.groupby('subpocket', sort=False).mean()"
   ]
  },
  {
   "cell_type": "code",
   "execution_count": null,
   "metadata": {},
   "outputs": [],
   "source": [
    "{key: len(value) for key, value in fragment_library.items()}"
   ]
  },
  {
   "cell_type": "markdown",
   "metadata": {},
   "source": [
    "## Fragment similarity by kinase group"
   ]
  },
  {
   "cell_type": "markdown",
   "metadata": {},
   "source": [
    "1. Group and deduplicate all fragments by kinase group and subpocket (excluding pool X).\n",
    "2. Calculate similarities for all pairwise fragment combinations within kinase groups and subpockets (excluding X).\n",
    "4. Calculate total distribution across all kinase groups (i.e. get all similarities by kinase groups and subpockets for the new kinase group 'Total')."
   ]
  },
  {
   "cell_type": "code",
   "execution_count": null,
   "metadata": {},
   "outputs": [],
   "source": [
    "similarities_per_kinase_group = fragment_similarity_per_kinase_group(fragment_library_concat_wo_x)\n",
    "similarities_per_kinase_group.head()"
   ]
  },
  {
   "cell_type": "code",
   "execution_count": null,
   "metadata": {},
   "outputs": [],
   "source": [
    "similarities_per_kinase_group.groupby('group').size()"
   ]
  },
  {
   "cell_type": "markdown",
   "metadata": {},
   "source": [
    "#### Creates Figure 5.C in manuscript"
   ]
  },
  {
   "cell_type": "code",
   "execution_count": null,
   "metadata": {},
   "outputs": [],
   "source": [
    "plot_fragment_similarity(similarities_per_kinase_group, 'Kinase group')"
   ]
  },
  {
   "cell_type": "code",
   "execution_count": null,
   "metadata": {},
   "outputs": [],
   "source": [
    "similarities_per_kinase_group.groupby('group', sort=False).mean()"
   ]
  },
  {
   "cell_type": "markdown",
   "metadata": {},
   "source": [
    "## Draw ligand and fragments for GitHub README figure"
   ]
  },
  {
   "cell_type": "code",
   "execution_count": null,
   "metadata": {},
   "outputs": [],
   "source": [
    "complex_pdb = '3w2s'\n",
    "ligand_pdb = 'W2R'"
   ]
  },
  {
   "cell_type": "code",
   "execution_count": null,
   "metadata": {},
   "outputs": [],
   "source": [
    "get_fragmented_ligand(fragment_library, complex_pdb, ligand_pdb)"
   ]
  },
  {
   "cell_type": "code",
   "execution_count": null,
   "metadata": {},
   "outputs": [],
   "source": [
    "img = draw_ligands_from_pdb_ids([complex_pdb], sub_img_size=(400,400))\n",
    "img.save(f'figures/ligands_3w2s.png')\n",
    "img"
   ]
  },
  {
   "cell_type": "code",
   "execution_count": null,
   "metadata": {},
   "outputs": [],
   "source": [
    "img = draw_fragmented_ligand(fragment_library, complex_pdb, ligand_pdb, mols_per_row=5)\n",
    "img.save(f'figures/fragments_3w2s_altA_chainA.png')\n",
    "img"
   ]
  }
 ],
 "metadata": {
  "kernelspec": {
   "display_name": "Python 3",
   "language": "python",
   "name": "python3"
  },
  "language_info": {
   "codemirror_mode": {
    "name": "ipython",
    "version": 3
   },
   "file_extension": ".py",
   "mimetype": "text/x-python",
   "name": "python",
   "nbconvert_exporter": "python",
   "pygments_lexer": "ipython3",
   "version": "3.6.8"
  }
 },
 "nbformat": 4,
 "nbformat_minor": 4
}
