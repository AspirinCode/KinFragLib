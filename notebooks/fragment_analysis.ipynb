{
 "cells": [
  {
   "cell_type": "markdown",
   "metadata": {},
   "source": [
    "# Fragment analysis"
   ]
  },
  {
   "cell_type": "code",
   "execution_count": 1,
   "metadata": {},
   "outputs": [],
   "source": [
    "%load_ext autoreload\n",
    "%autoreload 2"
   ]
  },
  {
   "cell_type": "code",
   "execution_count": 2,
   "metadata": {},
   "outputs": [
    {
     "name": "stderr",
     "output_type": "stream",
     "text": [
      "RDKit WARNING: [16:59:31] Enabling RDKit 2019.09.3 jupyter extensions\n"
     ]
    }
   ],
   "source": [
    "from pathlib import Path\n",
    "\n",
    "import matplotlib.pyplot as plt\n",
    "import numpy as np\n",
    "import pandas as pd\n",
    "from rdkit import Chem\n",
    "from rdkit import DataStructs\n",
    "from rdkit.Chem import AllChem, Draw\n",
    "from rdkit.Chem.Draw import IPythonConsole\n",
    "from rdkit.Chem import PandasTools\n",
    "import seaborn as sns\n",
    "\n",
    "from util import SUBPOCKET_COLORS\n",
    "from util import read_fragment_library, get_fragmented_ligand, draw_fragmented_ligand, most_common_fragments, generate_fingerprints\n",
    "from util import connections_by_fragment, connections_by_ligand, connections_count_by_ligand\n",
    "from util import descriptors_by_fragments, fragment_similarity, plot_fragment_similarity"
   ]
  },
  {
   "cell_type": "markdown",
   "metadata": {},
   "source": [
    "## Load fragment library"
   ]
  },
  {
   "cell_type": "code",
   "execution_count": 3,
   "metadata": {},
   "outputs": [],
   "source": [
    "# Path to library folder\n",
    "PATH_TO_LIB = Path('.') / '..' / 'data' / 'fragment_library'"
   ]
  },
  {
   "cell_type": "code",
   "execution_count": 4,
   "metadata": {},
   "outputs": [],
   "source": [
    "# Get fragment library by subpocket\n",
    "fragment_library = read_fragment_library(PATH_TO_LIB)\n",
    "\n",
    "for subpocket, fragments in fragment_library.items():\n",
    "    fragments['subpocket'] = subpocket"
   ]
  },
  {
   "cell_type": "code",
   "execution_count": 5,
   "metadata": {},
   "outputs": [
    {
     "name": "stdout",
     "output_type": "stream",
     "text": [
      "dict_keys(['AP', 'FP', 'SE', 'GA', 'B1', 'B2', 'X'])\n",
      "Example fragments for subpocket AP:\n"
     ]
    }
   ],
   "source": [
    "print(fragment_library.keys())\n",
    "print(f'Example fragments for subpocket AP:')"
   ]
  },
  {
   "cell_type": "code",
   "execution_count": 6,
   "metadata": {},
   "outputs": [],
   "source": [
    "# Merge all subpockets\n",
    "fragment_library_concat = pd.concat(fragment_library)\n",
    "fragment_library_concat.reset_index(drop=True, inplace=True)"
   ]
  },
  {
   "cell_type": "code",
   "execution_count": 7,
   "metadata": {},
   "outputs": [
    {
     "data": {
      "text/html": [
       "<div>\n",
       "<style scoped>\n",
       "    .dataframe tbody tr th:only-of-type {\n",
       "        vertical-align: middle;\n",
       "    }\n",
       "\n",
       "    .dataframe tbody tr th {\n",
       "        vertical-align: top;\n",
       "    }\n",
       "\n",
       "    .dataframe thead th {\n",
       "        text-align: right;\n",
       "    }\n",
       "</style>\n",
       "<table border=\"1\" class=\"dataframe\">\n",
       "  <thead>\n",
       "    <tr style=\"text-align: right;\">\n",
       "      <th></th>\n",
       "      <th>smiles</th>\n",
       "      <th>fragment</th>\n",
       "      <th>kinase</th>\n",
       "      <th>family</th>\n",
       "      <th>group</th>\n",
       "      <th>complex_pdb</th>\n",
       "      <th>ligand_pdb</th>\n",
       "      <th>alt</th>\n",
       "      <th>chain</th>\n",
       "      <th>atom_subpockets</th>\n",
       "      <th>atom_environments</th>\n",
       "      <th>subpocket</th>\n",
       "    </tr>\n",
       "  </thead>\n",
       "  <tbody>\n",
       "    <tr>\n",
       "      <th>0</th>\n",
       "      <td>Nc1c[nH]c2ncccc12</td>\n",
       "      <td>&lt;img data-content=\"rdkit/molecule\" src=\"data:i...</td>\n",
       "      <td>AAK1</td>\n",
       "      <td>NAK</td>\n",
       "      <td>Other</td>\n",
       "      <td>5l4q</td>\n",
       "      <td>LKB</td>\n",
       "      <td>B</td>\n",
       "      <td>A</td>\n",
       "      <td>AP AP AP AP AP AP AP AP AP AP AP AP AP AP AP F...</td>\n",
       "      <td>16 16 16 16 16 16 16 16 16 16 16 16 16 5 5 na na</td>\n",
       "      <td>AP</td>\n",
       "    </tr>\n",
       "    <tr>\n",
       "      <th>1</th>\n",
       "      <td>N/C(=C1\\C(=O)Nc2ccccc21)c1ccccc1</td>\n",
       "      <td>&lt;img data-content=\"rdkit/molecule\" src=\"data:i...</td>\n",
       "      <td>AAK1</td>\n",
       "      <td>NAK</td>\n",
       "      <td>Other</td>\n",
       "      <td>5te0</td>\n",
       "      <td>XIN</td>\n",
       "      <td></td>\n",
       "      <td>A</td>\n",
       "      <td>AP AP AP AP AP AP AP AP AP AP AP AP AP AP AP A...</td>\n",
       "      <td>7 7 7 7 7 7 7 7 7 7 7 7 7 7 7 7 7 7 7 7 7 7 7 ...</td>\n",
       "      <td>AP</td>\n",
       "    </tr>\n",
       "    <tr>\n",
       "      <th>2</th>\n",
       "      <td>Cc1cc(N)[nH]n1</td>\n",
       "      <td>&lt;img data-content=\"rdkit/molecule\" src=\"data:i...</td>\n",
       "      <td>ABL1</td>\n",
       "      <td>Abl</td>\n",
       "      <td>TK</td>\n",
       "      <td>2f4j</td>\n",
       "      <td>VX6</td>\n",
       "      <td></td>\n",
       "      <td>A</td>\n",
       "      <td>AP AP AP AP AP AP AP AP AP AP AP AP AP SE</td>\n",
       "      <td>5 5 14 14 14 14 14 14 14 8 8 8 8 na</td>\n",
       "      <td>AP</td>\n",
       "    </tr>\n",
       "    <tr>\n",
       "      <th>3</th>\n",
       "      <td>Nc1ncc(C=O)s1</td>\n",
       "      <td>&lt;img data-content=\"rdkit/molecule\" src=\"data:i...</td>\n",
       "      <td>ABL1</td>\n",
       "      <td>Abl</td>\n",
       "      <td>TK</td>\n",
       "      <td>2gqg</td>\n",
       "      <td>1N1</td>\n",
       "      <td>B</td>\n",
       "      <td>A</td>\n",
       "      <td>AP AP AP AP AP AP AP AP AP AP GA SE</td>\n",
       "      <td>14 14 14 6 5 5 14 14 14 6 na na</td>\n",
       "      <td>AP</td>\n",
       "    </tr>\n",
       "    <tr>\n",
       "      <th>4</th>\n",
       "      <td>COCC(=O)n1cc2[nH]nc(NC=O)c2c1</td>\n",
       "      <td>&lt;img data-content=\"rdkit/molecule\" src=\"data:i...</td>\n",
       "      <td>ABL1</td>\n",
       "      <td>Abl</td>\n",
       "      <td>TK</td>\n",
       "      <td>2v7a</td>\n",
       "      <td>627</td>\n",
       "      <td></td>\n",
       "      <td>B</td>\n",
       "      <td>AP AP AP AP AP AP AP AP AP AP AP AP AP AP AP A...</td>\n",
       "      <td>8 8 8 8 8 5 5 6 6 8 8 8 8 8 8 8 8 8 8 3 3 3 3 ...</td>\n",
       "      <td>AP</td>\n",
       "    </tr>\n",
       "    <tr>\n",
       "      <th>...</th>\n",
       "      <td>...</td>\n",
       "      <td>...</td>\n",
       "      <td>...</td>\n",
       "      <td>...</td>\n",
       "      <td>...</td>\n",
       "      <td>...</td>\n",
       "      <td>...</td>\n",
       "      <td>...</td>\n",
       "      <td>...</td>\n",
       "      <td>...</td>\n",
       "      <td>...</td>\n",
       "      <td>...</td>\n",
       "    </tr>\n",
       "    <tr>\n",
       "      <th>7481</th>\n",
       "      <td>FC(F)F</td>\n",
       "      <td>&lt;img data-content=\"rdkit/molecule\" src=\"data:i...</td>\n",
       "      <td>p70S6K</td>\n",
       "      <td>RSK</td>\n",
       "      <td>AGC</td>\n",
       "      <td>4l42</td>\n",
       "      <td>5FI</td>\n",
       "      <td></td>\n",
       "      <td>A</td>\n",
       "      <td>X-B2 X-B2 X-B2 X-B2 FP</td>\n",
       "      <td>8 8 8 8 na</td>\n",
       "      <td>X</td>\n",
       "    </tr>\n",
       "    <tr>\n",
       "      <th>7482</th>\n",
       "      <td>FC(F)F</td>\n",
       "      <td>&lt;img data-content=\"rdkit/molecule\" src=\"data:i...</td>\n",
       "      <td>p70S6K</td>\n",
       "      <td>RSK</td>\n",
       "      <td>AGC</td>\n",
       "      <td>4l43</td>\n",
       "      <td>5FI</td>\n",
       "      <td></td>\n",
       "      <td>A</td>\n",
       "      <td>X-B2 X-B2 X-B2 X-B2 FP</td>\n",
       "      <td>8 8 8 8 na</td>\n",
       "      <td>X</td>\n",
       "    </tr>\n",
       "    <tr>\n",
       "      <th>7483</th>\n",
       "      <td>FC(F)F</td>\n",
       "      <td>&lt;img data-content=\"rdkit/molecule\" src=\"data:i...</td>\n",
       "      <td>p70S6K</td>\n",
       "      <td>RSK</td>\n",
       "      <td>AGC</td>\n",
       "      <td>4l44</td>\n",
       "      <td>5FI</td>\n",
       "      <td></td>\n",
       "      <td>A</td>\n",
       "      <td>X-B2 X-B2 X-B2 X-B2 FP</td>\n",
       "      <td>8 8 8 8 na</td>\n",
       "      <td>X</td>\n",
       "    </tr>\n",
       "    <tr>\n",
       "      <th>7484</th>\n",
       "      <td>FC(F)F</td>\n",
       "      <td>&lt;img data-content=\"rdkit/molecule\" src=\"data:i...</td>\n",
       "      <td>p70S6K</td>\n",
       "      <td>RSK</td>\n",
       "      <td>AGC</td>\n",
       "      <td>4l45</td>\n",
       "      <td>5FI</td>\n",
       "      <td></td>\n",
       "      <td>A</td>\n",
       "      <td>X-B2 X-B2 X-B2 X-B2 FP</td>\n",
       "      <td>8 8 8 8 na</td>\n",
       "      <td>X</td>\n",
       "    </tr>\n",
       "    <tr>\n",
       "      <th>7485</th>\n",
       "      <td>FC(F)F</td>\n",
       "      <td>&lt;img data-content=\"rdkit/molecule\" src=\"data:i...</td>\n",
       "      <td>p70S6K</td>\n",
       "      <td>RSK</td>\n",
       "      <td>AGC</td>\n",
       "      <td>4l46</td>\n",
       "      <td>5FI</td>\n",
       "      <td></td>\n",
       "      <td>A</td>\n",
       "      <td>X-B2 X-B2 X-B2 X-B2 FP</td>\n",
       "      <td>8 8 8 8 na</td>\n",
       "      <td>X</td>\n",
       "    </tr>\n",
       "  </tbody>\n",
       "</table>\n",
       "<p>7486 rows × 12 columns</p>\n",
       "</div>"
      ],
      "text/plain": [
       "                                smiles  \\\n",
       "0                    Nc1c[nH]c2ncccc12   \n",
       "1     N/C(=C1\\C(=O)Nc2ccccc21)c1ccccc1   \n",
       "2                       Cc1cc(N)[nH]n1   \n",
       "3                        Nc1ncc(C=O)s1   \n",
       "4        COCC(=O)n1cc2[nH]nc(NC=O)c2c1   \n",
       "...                                ...   \n",
       "7481                            FC(F)F   \n",
       "7482                            FC(F)F   \n",
       "7483                            FC(F)F   \n",
       "7484                            FC(F)F   \n",
       "7485                            FC(F)F   \n",
       "\n",
       "                                               fragment  kinase family  group  \\\n",
       "0     <img data-content=\"rdkit/molecule\" src=\"data:i...    AAK1    NAK  Other   \n",
       "1     <img data-content=\"rdkit/molecule\" src=\"data:i...    AAK1    NAK  Other   \n",
       "2     <img data-content=\"rdkit/molecule\" src=\"data:i...    ABL1    Abl     TK   \n",
       "3     <img data-content=\"rdkit/molecule\" src=\"data:i...    ABL1    Abl     TK   \n",
       "4     <img data-content=\"rdkit/molecule\" src=\"data:i...    ABL1    Abl     TK   \n",
       "...                                                 ...     ...    ...    ...   \n",
       "7481  <img data-content=\"rdkit/molecule\" src=\"data:i...  p70S6K    RSK    AGC   \n",
       "7482  <img data-content=\"rdkit/molecule\" src=\"data:i...  p70S6K    RSK    AGC   \n",
       "7483  <img data-content=\"rdkit/molecule\" src=\"data:i...  p70S6K    RSK    AGC   \n",
       "7484  <img data-content=\"rdkit/molecule\" src=\"data:i...  p70S6K    RSK    AGC   \n",
       "7485  <img data-content=\"rdkit/molecule\" src=\"data:i...  p70S6K    RSK    AGC   \n",
       "\n",
       "     complex_pdb ligand_pdb alt chain  \\\n",
       "0           5l4q        LKB   B     A   \n",
       "1           5te0        XIN         A   \n",
       "2           2f4j        VX6         A   \n",
       "3           2gqg        1N1   B     A   \n",
       "4           2v7a        627         B   \n",
       "...          ...        ...  ..   ...   \n",
       "7481        4l42        5FI         A   \n",
       "7482        4l43        5FI         A   \n",
       "7483        4l44        5FI         A   \n",
       "7484        4l45        5FI         A   \n",
       "7485        4l46        5FI         A   \n",
       "\n",
       "                                        atom_subpockets  \\\n",
       "0     AP AP AP AP AP AP AP AP AP AP AP AP AP AP AP F...   \n",
       "1     AP AP AP AP AP AP AP AP AP AP AP AP AP AP AP A...   \n",
       "2             AP AP AP AP AP AP AP AP AP AP AP AP AP SE   \n",
       "3                   AP AP AP AP AP AP AP AP AP AP GA SE   \n",
       "4     AP AP AP AP AP AP AP AP AP AP AP AP AP AP AP A...   \n",
       "...                                                 ...   \n",
       "7481                             X-B2 X-B2 X-B2 X-B2 FP   \n",
       "7482                             X-B2 X-B2 X-B2 X-B2 FP   \n",
       "7483                             X-B2 X-B2 X-B2 X-B2 FP   \n",
       "7484                             X-B2 X-B2 X-B2 X-B2 FP   \n",
       "7485                             X-B2 X-B2 X-B2 X-B2 FP   \n",
       "\n",
       "                                      atom_environments subpocket  \n",
       "0      16 16 16 16 16 16 16 16 16 16 16 16 16 5 5 na na        AP  \n",
       "1     7 7 7 7 7 7 7 7 7 7 7 7 7 7 7 7 7 7 7 7 7 7 7 ...        AP  \n",
       "2                   5 5 14 14 14 14 14 14 14 8 8 8 8 na        AP  \n",
       "3                       14 14 14 6 5 5 14 14 14 6 na na        AP  \n",
       "4     8 8 8 8 8 5 5 6 6 8 8 8 8 8 8 8 8 8 8 3 3 3 3 ...        AP  \n",
       "...                                                 ...       ...  \n",
       "7481                                         8 8 8 8 na         X  \n",
       "7482                                         8 8 8 8 na         X  \n",
       "7483                                         8 8 8 8 na         X  \n",
       "7484                                         8 8 8 8 na         X  \n",
       "7485                                         8 8 8 8 na         X  \n",
       "\n",
       "[7486 rows x 12 columns]"
      ]
     },
     "execution_count": 7,
     "metadata": {},
     "output_type": "execute_result"
    }
   ],
   "source": [
    "fragment_library_concat"
   ]
  },
  {
   "cell_type": "code",
   "execution_count": 8,
   "metadata": {},
   "outputs": [],
   "source": [
    "# Remove pool X\n",
    "fragment_library_concat_wo_x = fragment_library_concat[\n",
    "    fragment_library_concat.subpocket != 'X'\n",
    "].copy()"
   ]
  },
  {
   "cell_type": "markdown",
   "metadata": {},
   "source": [
    "## Fragment library overview"
   ]
  },
  {
   "cell_type": "code",
   "execution_count": 9,
   "metadata": {},
   "outputs": [
    {
     "name": "stdout",
     "output_type": "stream",
     "text": [
      "Number of fragments in library: 7486\n",
      "Number of fragments in library without pool X: 7201\n"
     ]
    }
   ],
   "source": [
    "# Number of fragments in all fragment subpocket pools\n",
    "n_fragments = fragment_library_concat.shape[0]\n",
    "\n",
    "# Number of fragments in all fragment subpocket pools except pool X\n",
    "n_fragments_wo_x = fragment_library_concat_wo_x.shape[0]\n",
    "\n",
    "print(f'Number of fragments in library: {n_fragments}')\n",
    "print(f'Number of fragments in library without pool X: {n_fragments_wo_x}')"
   ]
  },
  {
   "cell_type": "code",
   "execution_count": 10,
   "metadata": {},
   "outputs": [
    {
     "name": "stdout",
     "output_type": "stream",
     "text": [
      "Number of original ligands (from which fragments originate): 2553\n"
     ]
    }
   ],
   "source": [
    "# Deduplicate these strings in order to get the number of ligands from which the fragments originate\n",
    "n_original_ligands = fragment_library_concat.groupby(\n",
    "    ['group', 'complex_pdb', 'ligand_pdb']\n",
    ").size().shape[0]\n",
    "\n",
    "print(f'Number of original ligands (from which fragments originate): {n_original_ligands}')"
   ]
  },
  {
   "cell_type": "markdown",
   "metadata": {},
   "source": [
    "## Number of subpockets occupied by a ligand"
   ]
  },
  {
   "cell_type": "markdown",
   "metadata": {},
   "source": [
    "Ligands can occupy subpocket(s) multiple times. Let's check how often this happens for which subpockets."
   ]
  },
  {
   "cell_type": "code",
   "execution_count": 11,
   "metadata": {},
   "outputs": [],
   "source": [
    "n_fragments_per_subpocket_per_ligand = fragment_library_concat_wo_x.groupby(\n",
    "    ['group', 'complex_pdb', 'ligand_pdb', 'subpocket']\n",
    ").size()\n",
    "n_fragments_per_subpocket_per_ligand = n_fragments_per_subpocket_per_ligand.reset_index()\n",
    "n_fragments_per_subpocket_per_ligand.rename(columns={0: 'n_fragments'}, inplace=True)"
   ]
  },
  {
   "cell_type": "markdown",
   "metadata": {},
   "source": [
    "How often does a ligand occupy a subpocket mulitple times? And how many times?"
   ]
  },
  {
   "cell_type": "code",
   "execution_count": 12,
   "metadata": {},
   "outputs": [
    {
     "data": {
      "text/plain": [
       "n_fragments\n",
       "1    6948\n",
       "2     125\n",
       "3       1\n",
       "dtype: int64"
      ]
     },
     "execution_count": 12,
     "metadata": {},
     "output_type": "execute_result"
    }
   ],
   "source": [
    "n_fragments_per_subpocket_per_ligand.groupby('n_fragments').size()"
   ]
  },
  {
   "cell_type": "markdown",
   "metadata": {},
   "source": [
    "Which subpockets are occupied how often by multiple fragments per ligand?"
   ]
  },
  {
   "cell_type": "code",
   "execution_count": 13,
   "metadata": {},
   "outputs": [
    {
     "data": {
      "text/plain": [
       "subpocket\n",
       "AP     8\n",
       "B1     1\n",
       "FP    95\n",
       "GA     2\n",
       "SE    20\n",
       "dtype: int64"
      ]
     },
     "execution_count": 13,
     "metadata": {},
     "output_type": "execute_result"
    }
   ],
   "source": [
    "n_fragments_per_subpocket_per_ligand[\n",
    "    n_fragments_per_subpocket_per_ligand.n_fragments > 1\n",
    "].groupby('subpocket').size()"
   ]
  },
  {
   "cell_type": "markdown",
   "metadata": {},
   "source": [
    "In order to calculate the number of subpockets a ligand is occupying, it is not of interest how often a subpocket is occupied by a ligand. Thus, we keep only one entry per ligand and subpocket."
   ]
  },
  {
   "cell_type": "code",
   "execution_count": 14,
   "metadata": {},
   "outputs": [],
   "source": [
    "n_subpockets_per_ligand = fragment_library_concat_wo_x.groupby(\n",
    "    ['group', 'complex_pdb', 'ligand_pdb', 'subpocket']\n",
    ").first().reset_index().groupby(\n",
    "    ['group', 'complex_pdb', 'ligand_pdb']\n",
    ").size()"
   ]
  },
  {
   "cell_type": "code",
   "execution_count": 15,
   "metadata": {},
   "outputs": [],
   "source": [
    "n_subpockets_per_ligand_distribution = pd.concat(\n",
    "    [\n",
    "        n_subpockets_per_ligand.value_counts().sort_index().rename('ligand_count'), \n",
    "        n_subpockets_per_ligand.value_counts(normalize=True).sort_index().rename('ligand_frequency')*100\n",
    "    ],\n",
    "    axis=1\n",
    ")"
   ]
  },
  {
   "cell_type": "code",
   "execution_count": 16,
   "metadata": {},
   "outputs": [
    {
     "name": "stdout",
     "output_type": "stream",
     "text": [
      "Number of subpockets per ligand (distribution):\n"
     ]
    },
    {
     "data": {
      "text/html": [
       "<div>\n",
       "<style scoped>\n",
       "    .dataframe tbody tr th:only-of-type {\n",
       "        vertical-align: middle;\n",
       "    }\n",
       "\n",
       "    .dataframe tbody tr th {\n",
       "        vertical-align: top;\n",
       "    }\n",
       "\n",
       "    .dataframe thead th {\n",
       "        text-align: right;\n",
       "    }\n",
       "</style>\n",
       "<table border=\"1\" class=\"dataframe\">\n",
       "  <thead>\n",
       "    <tr style=\"text-align: right;\">\n",
       "      <th></th>\n",
       "      <th>ligand_count</th>\n",
       "      <th>ligand_frequency</th>\n",
       "    </tr>\n",
       "  </thead>\n",
       "  <tbody>\n",
       "    <tr>\n",
       "      <th>1</th>\n",
       "      <td>127</td>\n",
       "      <td>4.974540</td>\n",
       "    </tr>\n",
       "    <tr>\n",
       "      <th>2</th>\n",
       "      <td>719</td>\n",
       "      <td>28.162946</td>\n",
       "    </tr>\n",
       "    <tr>\n",
       "      <th>3</th>\n",
       "      <td>1350</td>\n",
       "      <td>52.878966</td>\n",
       "    </tr>\n",
       "    <tr>\n",
       "      <th>4</th>\n",
       "      <td>327</td>\n",
       "      <td>12.808461</td>\n",
       "    </tr>\n",
       "    <tr>\n",
       "      <th>5</th>\n",
       "      <td>29</td>\n",
       "      <td>1.135919</td>\n",
       "    </tr>\n",
       "    <tr>\n",
       "      <th>6</th>\n",
       "      <td>1</td>\n",
       "      <td>0.039170</td>\n",
       "    </tr>\n",
       "  </tbody>\n",
       "</table>\n",
       "</div>"
      ],
      "text/plain": [
       "   ligand_count  ligand_frequency\n",
       "1           127          4.974540\n",
       "2           719         28.162946\n",
       "3          1350         52.878966\n",
       "4           327         12.808461\n",
       "5            29          1.135919\n",
       "6             1          0.039170"
      ]
     },
     "execution_count": 16,
     "metadata": {},
     "output_type": "execute_result"
    }
   ],
   "source": [
    "print('Number of subpockets per ligand (distribution):')\n",
    "n_subpockets_per_ligand_distribution"
   ]
  },
  {
   "cell_type": "code",
   "execution_count": 17,
   "metadata": {},
   "outputs": [
    {
     "data": {
      "text/plain": [
       "(array([0., 1., 2., 3., 4., 5., 6., 7.]),\n",
       " <a list of 8 Text xticklabel objects>)"
      ]
     },
     "execution_count": 17,
     "metadata": {},
     "output_type": "execute_result"
    },
    {
     "data": {
      "image/png": "[encoded data removed]",
      "text/plain": [
       "<Figure size 576x576 with 1 Axes>"
      ]
     },
     "metadata": {
      "needs_background": "light"
     },
     "output_type": "display_data"
    }
   ],
   "source": [
    "plt.figure(figsize=(8,8))\n",
    "plt.bar(\n",
    "    n_subpockets_per_ligand_distribution.index, \n",
    "    n_subpockets_per_ligand_distribution.ligand_count\n",
    ")\n",
    "plt.ylabel('# Ligands', fontsize=17)\n",
    "plt.xlabel('# Subpockets', fontsize=17)\n",
    "plt.yticks(fontsize=17)\n",
    "plt.xticks(fontsize=17)"
   ]
  },
  {
   "cell_type": "markdown",
   "metadata": {},
   "source": [
    "### Examples for ligands occupying 6 subpockets"
   ]
  },
  {
   "cell_type": "code",
   "execution_count": 18,
   "metadata": {},
   "outputs": [
    {
     "data": {
      "text/html": [
       "<div>\n",
       "<style scoped>\n",
       "    .dataframe tbody tr th:only-of-type {\n",
       "        vertical-align: middle;\n",
       "    }\n",
       "\n",
       "    .dataframe tbody tr th {\n",
       "        vertical-align: top;\n",
       "    }\n",
       "\n",
       "    .dataframe thead th {\n",
       "        text-align: right;\n",
       "    }\n",
       "</style>\n",
       "<table border=\"1\" class=\"dataframe\">\n",
       "  <thead>\n",
       "    <tr style=\"text-align: right;\">\n",
       "      <th></th>\n",
       "      <th>group</th>\n",
       "      <th>complex_pdb</th>\n",
       "      <th>ligand_pdb</th>\n",
       "      <th>0</th>\n",
       "    </tr>\n",
       "  </thead>\n",
       "  <tbody>\n",
       "    <tr>\n",
       "      <th>0</th>\n",
       "      <td>TK</td>\n",
       "      <td>4fnz</td>\n",
       "      <td>NZF</td>\n",
       "      <td>6</td>\n",
       "    </tr>\n",
       "  </tbody>\n",
       "</table>\n",
       "</div>"
      ],
      "text/plain": [
       "  group complex_pdb ligand_pdb  0\n",
       "0    TK        4fnz        NZF  6"
      ]
     },
     "execution_count": 18,
     "metadata": {},
     "output_type": "execute_result"
    }
   ],
   "source": [
    "ligand_of_interest = n_subpockets_per_ligand[n_subpockets_per_ligand == 6].reset_index()\n",
    "ligand_of_interest"
   ]
  },
  {
   "cell_type": "code",
   "execution_count": 19,
   "metadata": {},
   "outputs": [
    {
     "data": {
      "image/png": "[encoded data removed]",
      "text/plain": [
       "<PIL.PngImagePlugin.PngImageFile image mode=RGB size=1200x200 at 0x7F3C419FB5F8>"
      ]
     },
     "execution_count": 19,
     "metadata": {},
     "output_type": "execute_result"
    }
   ],
   "source": [
    "draw_fragmented_ligand(\n",
    "    fragment_library, \n",
    "    ligand_of_interest.complex_pdb.values[0], \n",
    "    ligand_of_interest.ligand_pdb.values[0]\n",
    ")"
   ]
  },
  {
   "cell_type": "markdown",
   "metadata": {},
   "source": [
    "### Examples for unfragmented ligands"
   ]
  },
  {
   "cell_type": "code",
   "execution_count": 20,
   "metadata": {},
   "outputs": [],
   "source": [
    "ligand_of_interest = n_subpockets_per_ligand[n_subpockets_per_ligand == 1].reset_index()"
   ]
  },
  {
   "cell_type": "code",
   "execution_count": 21,
   "metadata": {},
   "outputs": [
    {
     "data": {
      "text/html": [
       "<div>\n",
       "<style scoped>\n",
       "    .dataframe tbody tr th:only-of-type {\n",
       "        vertical-align: middle;\n",
       "    }\n",
       "\n",
       "    .dataframe tbody tr th {\n",
       "        vertical-align: top;\n",
       "    }\n",
       "\n",
       "    .dataframe thead th {\n",
       "        text-align: right;\n",
       "    }\n",
       "</style>\n",
       "<table border=\"1\" class=\"dataframe\">\n",
       "  <thead>\n",
       "    <tr style=\"text-align: right;\">\n",
       "      <th></th>\n",
       "      <th>smiles</th>\n",
       "      <th>fragment</th>\n",
       "      <th>kinase</th>\n",
       "      <th>family</th>\n",
       "      <th>group</th>\n",
       "      <th>complex_pdb</th>\n",
       "      <th>ligand_pdb</th>\n",
       "      <th>alt</th>\n",
       "      <th>chain</th>\n",
       "      <th>atom_subpockets</th>\n",
       "      <th>atom_environments</th>\n",
       "      <th>subpocket</th>\n",
       "    </tr>\n",
       "  </thead>\n",
       "  <tbody>\n",
       "    <tr>\n",
       "      <th>1903</th>\n",
       "      <td>COc1cc2ncc3c(N)nc4c(C)c(N)ccc4c3c2cc1OC</td>\n",
       "      <td>&lt;img data-content=\"rdkit/molecule\" src=\"data:i...</td>\n",
       "      <td>PDK1</td>\n",
       "      <td>PDK1</td>\n",
       "      <td>AGC</td>\n",
       "      <td>2r7b</td>\n",
       "      <td>253</td>\n",
       "      <td></td>\n",
       "      <td>A</td>\n",
       "      <td>AP AP AP AP AP AP AP AP AP AP AP AP AP AP AP A...</td>\n",
       "      <td>3 3 3 3 3 16 16 3 3 3 3 3 16 16 16 16 16 16 16...</td>\n",
       "      <td>AP</td>\n",
       "    </tr>\n",
       "    <tr>\n",
       "      <th>1910</th>\n",
       "      <td>Nc1n[nH]c2ccccc12</td>\n",
       "      <td>&lt;img data-content=\"rdkit/molecule\" src=\"data:i...</td>\n",
       "      <td>PDK1</td>\n",
       "      <td>PDK1</td>\n",
       "      <td>AGC</td>\n",
       "      <td>3nus</td>\n",
       "      <td>JNZ</td>\n",
       "      <td>B</td>\n",
       "      <td>A</td>\n",
       "      <td>AP AP AP AP AP AP AP AP AP AP AP AP AP AP AP A...</td>\n",
       "      <td>14 14 14 14 14 14 14 14 14 14 14 14 14 14 5 5 5</td>\n",
       "      <td>AP</td>\n",
       "    </tr>\n",
       "    <tr>\n",
       "      <th>1911</th>\n",
       "      <td>O=C1NCCc2ccccc21</td>\n",
       "      <td>&lt;img data-content=\"rdkit/molecule\" src=\"data:i...</td>\n",
       "      <td>PDK1</td>\n",
       "      <td>PDK1</td>\n",
       "      <td>AGC</td>\n",
       "      <td>3nuu</td>\n",
       "      <td>JOZ</td>\n",
       "      <td>B</td>\n",
       "      <td>A</td>\n",
       "      <td>AP AP AP AP AP AP AP AP AP AP AP AP AP AP AP A...</td>\n",
       "      <td>na na na na na na na na na na na na na na na n...</td>\n",
       "      <td>AP</td>\n",
       "    </tr>\n",
       "    <tr>\n",
       "      <th>1912</th>\n",
       "      <td>Oc1ncnc2ccccc12</td>\n",
       "      <td>&lt;img data-content=\"rdkit/molecule\" src=\"data:i...</td>\n",
       "      <td>PDK1</td>\n",
       "      <td>PDK1</td>\n",
       "      <td>AGC</td>\n",
       "      <td>3nuy</td>\n",
       "      <td>JPZ</td>\n",
       "      <td>A</td>\n",
       "      <td>A</td>\n",
       "      <td>AP AP AP AP AP AP AP AP AP AP AP AP AP AP AP A...</td>\n",
       "      <td>14 14 14 14 14 14 14 14 14 14 14 14 14 14 14 3 3</td>\n",
       "      <td>AP</td>\n",
       "    </tr>\n",
       "    <tr>\n",
       "      <th>2080</th>\n",
       "      <td>O=c1[nH]nc(Cl)c2ccccc12</td>\n",
       "      <td>&lt;img data-content=\"rdkit/molecule\" src=\"data:i...</td>\n",
       "      <td>PKACa</td>\n",
       "      <td>PKA</td>\n",
       "      <td>AGC</td>\n",
       "      <td>5bx6</td>\n",
       "      <td>495</td>\n",
       "      <td>A</td>\n",
       "      <td>A</td>\n",
       "      <td>AP AP AP AP AP AP AP AP AP AP AP AP AP AP AP A...</td>\n",
       "      <td>na na na na na na na na na na na na na na na n...</td>\n",
       "      <td>AP</td>\n",
       "    </tr>\n",
       "    <tr>\n",
       "      <th>...</th>\n",
       "      <td>...</td>\n",
       "      <td>...</td>\n",
       "      <td>...</td>\n",
       "      <td>...</td>\n",
       "      <td>...</td>\n",
       "      <td>...</td>\n",
       "      <td>...</td>\n",
       "      <td>...</td>\n",
       "      <td>...</td>\n",
       "      <td>...</td>\n",
       "      <td>...</td>\n",
       "      <td>...</td>\n",
       "    </tr>\n",
       "    <tr>\n",
       "      <th>1274</th>\n",
       "      <td>Nc1ncc2c(n1)-c1ccccc1[C@H](c1ccccc1)C2</td>\n",
       "      <td>&lt;img data-content=\"rdkit/molecule\" src=\"data:i...</td>\n",
       "      <td>FGFR2</td>\n",
       "      <td>FGFR</td>\n",
       "      <td>TK</td>\n",
       "      <td>3ri1</td>\n",
       "      <td>3RH</td>\n",
       "      <td></td>\n",
       "      <td>A</td>\n",
       "      <td>AP AP AP AP AP AP AP AP AP AP AP AP AP AP AP A...</td>\n",
       "      <td>14 14 14 14 5 5 5 14 14 14 14 14 14 14 14 14 1...</td>\n",
       "      <td>AP</td>\n",
       "    </tr>\n",
       "    <tr>\n",
       "      <th>1232</th>\n",
       "      <td>Cc1n[nH]c2c[nH]nc12</td>\n",
       "      <td>&lt;img data-content=\"rdkit/molecule\" src=\"data:i...</td>\n",
       "      <td>FAK</td>\n",
       "      <td>FAK</td>\n",
       "      <td>TK</td>\n",
       "      <td>4kab</td>\n",
       "      <td>4KA</td>\n",
       "      <td></td>\n",
       "      <td>B</td>\n",
       "      <td>AP AP AP AP AP AP AP AP AP AP AP AP AP AP AP</td>\n",
       "      <td>14 14 14 14 14 14 14 14 14 14 14 8 8 8 8</td>\n",
       "      <td>AP</td>\n",
       "    </tr>\n",
       "    <tr>\n",
       "      <th>235</th>\n",
       "      <td>NC(=O)c1nnc2ccccc2c1N</td>\n",
       "      <td>&lt;img data-content=\"rdkit/molecule\" src=\"data:i...</td>\n",
       "      <td>BTK</td>\n",
       "      <td>Tec</td>\n",
       "      <td>TK</td>\n",
       "      <td>4zly</td>\n",
       "      <td>4RU</td>\n",
       "      <td>C</td>\n",
       "      <td>A</td>\n",
       "      <td>AP AP AP AP AP AP AP AP AP AP AP AP AP AP AP A...</td>\n",
       "      <td>5 5 5 14 14 14 14 14 14 14 6 6 14 14 14 14 14 ...</td>\n",
       "      <td>AP</td>\n",
       "    </tr>\n",
       "    <tr>\n",
       "      <th>1263</th>\n",
       "      <td>CC1(C)Cc2cccc(C(N)=O)c2O1</td>\n",
       "      <td>&lt;img data-content=\"rdkit/molecule\" src=\"data:i...</td>\n",
       "      <td>FGFR1</td>\n",
       "      <td>FGFR</td>\n",
       "      <td>TK</td>\n",
       "      <td>5uq0</td>\n",
       "      <td>WP1</td>\n",
       "      <td>A</td>\n",
       "      <td>A</td>\n",
       "      <td>AP AP AP AP AP AP AP AP AP AP AP AP AP AP AP A...</td>\n",
       "      <td>13 13 13 13 8 8 8 8 8 8 8 8 13 13 13 13 13 13 ...</td>\n",
       "      <td>AP</td>\n",
       "    </tr>\n",
       "    <tr>\n",
       "      <th>2279</th>\n",
       "      <td>Nc1ncnc2[nH]ccc(=O)c12</td>\n",
       "      <td>&lt;img data-content=\"rdkit/molecule\" src=\"data:i...</td>\n",
       "      <td>TGFbR1</td>\n",
       "      <td>STKR</td>\n",
       "      <td>TKL</td>\n",
       "      <td>4x0m</td>\n",
       "      <td>3WA</td>\n",
       "      <td>B</td>\n",
       "      <td>A</td>\n",
       "      <td>AP AP AP AP AP AP AP AP AP AP AP AP AP AP AP A...</td>\n",
       "      <td>14 14 14 14 14 14 14 14 14 14 14 14 14 14 14 5...</td>\n",
       "      <td>AP</td>\n",
       "    </tr>\n",
       "  </tbody>\n",
       "</table>\n",
       "<p>127 rows × 12 columns</p>\n",
       "</div>"
      ],
      "text/plain": [
       "                                       smiles  \\\n",
       "1903  COc1cc2ncc3c(N)nc4c(C)c(N)ccc4c3c2cc1OC   \n",
       "1910                        Nc1n[nH]c2ccccc12   \n",
       "1911                         O=C1NCCc2ccccc21   \n",
       "1912                          Oc1ncnc2ccccc12   \n",
       "2080                  O=c1[nH]nc(Cl)c2ccccc12   \n",
       "...                                       ...   \n",
       "1274   Nc1ncc2c(n1)-c1ccccc1[C@H](c1ccccc1)C2   \n",
       "1232                      Cc1n[nH]c2c[nH]nc12   \n",
       "235                     NC(=O)c1nnc2ccccc2c1N   \n",
       "1263                CC1(C)Cc2cccc(C(N)=O)c2O1   \n",
       "2279                   Nc1ncnc2[nH]ccc(=O)c12   \n",
       "\n",
       "                                               fragment  kinase family group  \\\n",
       "1903  <img data-content=\"rdkit/molecule\" src=\"data:i...    PDK1   PDK1   AGC   \n",
       "1910  <img data-content=\"rdkit/molecule\" src=\"data:i...    PDK1   PDK1   AGC   \n",
       "1911  <img data-content=\"rdkit/molecule\" src=\"data:i...    PDK1   PDK1   AGC   \n",
       "1912  <img data-content=\"rdkit/molecule\" src=\"data:i...    PDK1   PDK1   AGC   \n",
       "2080  <img data-content=\"rdkit/molecule\" src=\"data:i...   PKACa    PKA   AGC   \n",
       "...                                                 ...     ...    ...   ...   \n",
       "1274  <img data-content=\"rdkit/molecule\" src=\"data:i...   FGFR2   FGFR    TK   \n",
       "1232  <img data-content=\"rdkit/molecule\" src=\"data:i...     FAK    FAK    TK   \n",
       "235   <img data-content=\"rdkit/molecule\" src=\"data:i...     BTK    Tec    TK   \n",
       "1263  <img data-content=\"rdkit/molecule\" src=\"data:i...   FGFR1   FGFR    TK   \n",
       "2279  <img data-content=\"rdkit/molecule\" src=\"data:i...  TGFbR1   STKR   TKL   \n",
       "\n",
       "     complex_pdb ligand_pdb alt chain  \\\n",
       "1903        2r7b        253         A   \n",
       "1910        3nus        JNZ   B     A   \n",
       "1911        3nuu        JOZ   B     A   \n",
       "1912        3nuy        JPZ   A     A   \n",
       "2080        5bx6        495   A     A   \n",
       "...          ...        ...  ..   ...   \n",
       "1274        3ri1        3RH         A   \n",
       "1232        4kab        4KA         B   \n",
       "235         4zly        4RU   C     A   \n",
       "1263        5uq0        WP1   A     A   \n",
       "2279        4x0m        3WA   B     A   \n",
       "\n",
       "                                        atom_subpockets  \\\n",
       "1903  AP AP AP AP AP AP AP AP AP AP AP AP AP AP AP A...   \n",
       "1910  AP AP AP AP AP AP AP AP AP AP AP AP AP AP AP A...   \n",
       "1911  AP AP AP AP AP AP AP AP AP AP AP AP AP AP AP A...   \n",
       "1912  AP AP AP AP AP AP AP AP AP AP AP AP AP AP AP A...   \n",
       "2080  AP AP AP AP AP AP AP AP AP AP AP AP AP AP AP A...   \n",
       "...                                                 ...   \n",
       "1274  AP AP AP AP AP AP AP AP AP AP AP AP AP AP AP A...   \n",
       "1232       AP AP AP AP AP AP AP AP AP AP AP AP AP AP AP   \n",
       "235   AP AP AP AP AP AP AP AP AP AP AP AP AP AP AP A...   \n",
       "1263  AP AP AP AP AP AP AP AP AP AP AP AP AP AP AP A...   \n",
       "2279  AP AP AP AP AP AP AP AP AP AP AP AP AP AP AP A...   \n",
       "\n",
       "                                      atom_environments subpocket  \n",
       "1903  3 3 3 3 3 16 16 3 3 3 3 3 16 16 16 16 16 16 16...        AP  \n",
       "1910    14 14 14 14 14 14 14 14 14 14 14 14 14 14 5 5 5        AP  \n",
       "1911  na na na na na na na na na na na na na na na n...        AP  \n",
       "1912   14 14 14 14 14 14 14 14 14 14 14 14 14 14 14 3 3        AP  \n",
       "2080  na na na na na na na na na na na na na na na n...        AP  \n",
       "...                                                 ...       ...  \n",
       "1274  14 14 14 14 5 5 5 14 14 14 14 14 14 14 14 14 1...        AP  \n",
       "1232           14 14 14 14 14 14 14 14 14 14 14 8 8 8 8        AP  \n",
       "235   5 5 5 14 14 14 14 14 14 14 6 6 14 14 14 14 14 ...        AP  \n",
       "1263  13 13 13 13 8 8 8 8 8 8 8 8 13 13 13 13 13 13 ...        AP  \n",
       "2279  14 14 14 14 14 14 14 14 14 14 14 14 14 14 14 5...        AP  \n",
       "\n",
       "[127 rows x 12 columns]"
      ]
     },
     "execution_count": 21,
     "metadata": {},
     "output_type": "execute_result"
    }
   ],
   "source": [
    "unfragmented_ligands = []\n",
    "\n",
    "for index, row in ligand_of_interest.iterrows():\n",
    "    \n",
    "    unfragmented_ligands.append(\n",
    "        get_fragmented_ligand(\n",
    "            fragment_library, \n",
    "            row.complex_pdb, \n",
    "            row.ligand_pdb\n",
    "        )\n",
    "    )\n",
    "    \n",
    "pd.concat(unfragmented_ligands)"
   ]
  },
  {
   "cell_type": "markdown",
   "metadata": {},
   "source": [
    "## Fragments per subpocket"
   ]
  },
  {
   "cell_type": "code",
   "execution_count": 22,
   "metadata": {},
   "outputs": [],
   "source": [
    "n_fragments_per_subpocket = [len(fragments) for subpocket, fragments in fragment_library.items()]\n",
    "n_fragments_per_subpocket_deduplicated = [len(fragments.drop_duplicates('smiles')) for subpocket, fragments in fragment_library.items()]"
   ]
  },
  {
   "cell_type": "code",
   "execution_count": 23,
   "metadata": {},
   "outputs": [
    {
     "data": {
      "text/html": [
       "<div>\n",
       "<style scoped>\n",
       "    .dataframe tbody tr th:only-of-type {\n",
       "        vertical-align: middle;\n",
       "    }\n",
       "\n",
       "    .dataframe tbody tr th {\n",
       "        vertical-align: top;\n",
       "    }\n",
       "\n",
       "    .dataframe thead th {\n",
       "        text-align: right;\n",
       "    }\n",
       "</style>\n",
       "<table border=\"1\" class=\"dataframe\">\n",
       "  <thead>\n",
       "    <tr style=\"text-align: right;\">\n",
       "      <th></th>\n",
       "      <th>n_fragments</th>\n",
       "      <th>n_fragments_deduplicated</th>\n",
       "      <th>freq_duplicates</th>\n",
       "    </tr>\n",
       "  </thead>\n",
       "  <tbody>\n",
       "    <tr>\n",
       "      <th>AP</th>\n",
       "      <td>2561</td>\n",
       "      <td>1115</td>\n",
       "      <td>56.462319</td>\n",
       "    </tr>\n",
       "    <tr>\n",
       "      <th>FP</th>\n",
       "      <td>1866</td>\n",
       "      <td>864</td>\n",
       "      <td>53.697749</td>\n",
       "    </tr>\n",
       "    <tr>\n",
       "      <th>SE</th>\n",
       "      <td>1560</td>\n",
       "      <td>607</td>\n",
       "      <td>61.089744</td>\n",
       "    </tr>\n",
       "    <tr>\n",
       "      <th>GA</th>\n",
       "      <td>1024</td>\n",
       "      <td>306</td>\n",
       "      <td>70.117188</td>\n",
       "    </tr>\n",
       "    <tr>\n",
       "      <th>B1</th>\n",
       "      <td>98</td>\n",
       "      <td>42</td>\n",
       "      <td>57.142857</td>\n",
       "    </tr>\n",
       "    <tr>\n",
       "      <th>B2</th>\n",
       "      <td>92</td>\n",
       "      <td>43</td>\n",
       "      <td>53.260870</td>\n",
       "    </tr>\n",
       "    <tr>\n",
       "      <th>X</th>\n",
       "      <td>285</td>\n",
       "      <td>110</td>\n",
       "      <td>61.403509</td>\n",
       "    </tr>\n",
       "  </tbody>\n",
       "</table>\n",
       "</div>"
      ],
      "text/plain": [
       "    n_fragments  n_fragments_deduplicated  freq_duplicates\n",
       "AP         2561                      1115        56.462319\n",
       "FP         1866                       864        53.697749\n",
       "SE         1560                       607        61.089744\n",
       "GA         1024                       306        70.117188\n",
       "B1           98                        42        57.142857\n",
       "B2           92                        43        53.260870\n",
       "X           285                       110        61.403509"
      ]
     },
     "execution_count": 23,
     "metadata": {},
     "output_type": "execute_result"
    }
   ],
   "source": [
    "stats_n_fragments = pd.DataFrame(\n",
    "    {\n",
    "        'n_fragments': n_fragments_per_subpocket,\n",
    "        'n_fragments_deduplicated': n_fragments_per_subpocket_deduplicated,\n",
    "        'freq_duplicates': [(i-j) / i * 100 for i, j in zip(n_fragments_per_subpocket, n_fragments_per_subpocket_deduplicated)]\n",
    "    },\n",
    "    index=fragment_library.keys()\n",
    ")\n",
    "stats_n_fragments"
   ]
  },
  {
   "cell_type": "code",
   "execution_count": 24,
   "metadata": {},
   "outputs": [
    {
     "name": "stdout",
     "output_type": "stream",
     "text": [
      "Mean duplicates frequency across subpockets: 59.02489073891017\n"
     ]
    }
   ],
   "source": [
    "print(f'Mean duplicates frequency across subpockets: {stats_n_fragments.freq_duplicates.mean()}')"
   ]
  },
  {
   "cell_type": "code",
   "execution_count": 25,
   "metadata": {},
   "outputs": [
    {
     "data": {
      "text/html": [
       "<div>\n",
       "<style scoped>\n",
       "    .dataframe tbody tr th:only-of-type {\n",
       "        vertical-align: middle;\n",
       "    }\n",
       "\n",
       "    .dataframe tbody tr th {\n",
       "        vertical-align: top;\n",
       "    }\n",
       "\n",
       "    .dataframe thead th {\n",
       "        text-align: right;\n",
       "    }\n",
       "</style>\n",
       "<table border=\"1\" class=\"dataframe\">\n",
       "  <thead>\n",
       "    <tr style=\"text-align: right;\">\n",
       "      <th></th>\n",
       "      <th>freq_fragments</th>\n",
       "      <th>freq_fragments_deduplicated</th>\n",
       "    </tr>\n",
       "  </thead>\n",
       "  <tbody>\n",
       "    <tr>\n",
       "      <th>AP</th>\n",
       "      <td>35.564505</td>\n",
       "      <td>37.453813</td>\n",
       "    </tr>\n",
       "    <tr>\n",
       "      <th>FP</th>\n",
       "      <td>25.913068</td>\n",
       "      <td>29.022506</td>\n",
       "    </tr>\n",
       "    <tr>\n",
       "      <th>SE</th>\n",
       "      <td>21.663658</td>\n",
       "      <td>20.389654</td>\n",
       "    </tr>\n",
       "    <tr>\n",
       "      <th>GA</th>\n",
       "      <td>14.220247</td>\n",
       "      <td>10.278804</td>\n",
       "    </tr>\n",
       "    <tr>\n",
       "      <th>B1</th>\n",
       "      <td>1.360922</td>\n",
       "      <td>1.410816</td>\n",
       "    </tr>\n",
       "    <tr>\n",
       "      <th>B2</th>\n",
       "      <td>1.277600</td>\n",
       "      <td>1.444407</td>\n",
       "    </tr>\n",
       "  </tbody>\n",
       "</table>\n",
       "</div>"
      ],
      "text/plain": [
       "    freq_fragments  freq_fragments_deduplicated\n",
       "AP       35.564505                    37.453813\n",
       "FP       25.913068                    29.022506\n",
       "SE       21.663658                    20.389654\n",
       "GA       14.220247                    10.278804\n",
       "B1        1.360922                     1.410816\n",
       "B2        1.277600                     1.444407"
      ]
     },
     "execution_count": 25,
     "metadata": {},
     "output_type": "execute_result"
    }
   ],
   "source": [
    "pd.DataFrame(\n",
    "    {\n",
    "        'freq_fragments': [i / sum(n_fragments_per_subpocket[:-1]) * 100 for i in n_fragments_per_subpocket[:-1]],\n",
    "        'freq_fragments_deduplicated': [i / sum(n_fragments_per_subpocket_deduplicated[:-1]) * 100 for i in n_fragments_per_subpocket_deduplicated[:-1]]\n",
    "    },\n",
    "    index=list(fragment_library.keys())[:-1]\n",
    ")"
   ]
  },
  {
   "cell_type": "code",
   "execution_count": 26,
   "metadata": {},
   "outputs": [
    {
     "name": "stdout",
     "output_type": "stream",
     "text": [
      "Number of fragments (wo X): 7201\n",
      "Number of deduplicated fragments (wo X): 2977\n"
     ]
    }
   ],
   "source": [
    "print(f'Number of fragments (wo X): {sum(n_fragments_per_subpocket[:-1])}')\n",
    "print(f'Number of deduplicated fragments (wo X): {sum(n_fragments_per_subpocket_deduplicated[:-1])}')"
   ]
  },
  {
   "cell_type": "code",
   "execution_count": 27,
   "metadata": {},
   "outputs": [
    {
     "data": {
      "text/plain": [
       "(array([   0.,  500., 1000., 1500., 2000., 2500., 3000.]),\n",
       " <a list of 7 Text yticklabel objects>)"
      ]
     },
     "execution_count": 27,
     "metadata": {},
     "output_type": "execute_result"
    },
    {
     "data": {
      "image/png": "[encoded data removed]",
      "text/plain": [
       "<Figure size 576x576 with 1 Axes>"
      ]
     },
     "metadata": {
      "needs_background": "light"
     },
     "output_type": "display_data"
    }
   ],
   "source": [
    "plt.figure(figsize=(8,8))\n",
    "plt.bar(\n",
    "    SUBPOCKET_COLORS.keys(), \n",
    "    n_fragments_per_subpocket, \n",
    "    fill=False, \n",
    "    edgecolor=SUBPOCKET_COLORS.values()\n",
    ")\n",
    "plt.bar(\n",
    "    SUBPOCKET_COLORS.keys(), \n",
    "    n_fragments_per_subpocket_deduplicated, \n",
    "    color=SUBPOCKET_COLORS.values()\n",
    ")\n",
    "plt.legend(['All fragments', 'Deduplicated\\nfragments'], fontsize=17)\n",
    "plt.ylabel('# Fragments', fontsize=17)\n",
    "plt.xticks(fontsize=17)\n",
    "plt.yticks(fontsize=17)"
   ]
  },
  {
   "cell_type": "markdown",
   "metadata": {},
   "source": [
    "## Subpocket connections"
   ]
  },
  {
   "cell_type": "code",
   "execution_count": 28,
   "metadata": {},
   "outputs": [
    {
     "data": {
      "text/html": [
       "<div>\n",
       "<style scoped>\n",
       "    .dataframe tbody tr th:only-of-type {\n",
       "        vertical-align: middle;\n",
       "    }\n",
       "\n",
       "    .dataframe tbody tr th {\n",
       "        vertical-align: top;\n",
       "    }\n",
       "\n",
       "    .dataframe thead th {\n",
       "        text-align: right;\n",
       "    }\n",
       "</style>\n",
       "<table border=\"1\" class=\"dataframe\">\n",
       "  <thead>\n",
       "    <tr style=\"text-align: right;\">\n",
       "      <th></th>\n",
       "      <th>kinase</th>\n",
       "      <th>complex_pdb</th>\n",
       "      <th>ligand_pdb</th>\n",
       "      <th>atom_subpockets</th>\n",
       "      <th>connections</th>\n",
       "      <th>connections_name</th>\n",
       "    </tr>\n",
       "  </thead>\n",
       "  <tbody>\n",
       "    <tr>\n",
       "      <th>0</th>\n",
       "      <td>AAK1</td>\n",
       "      <td>5l4q</td>\n",
       "      <td>LKB</td>\n",
       "      <td>AP AP AP AP AP AP AP AP AP AP AP AP AP AP AP F...</td>\n",
       "      <td>[FP, SE]</td>\n",
       "      <td>[AP=FP, AP=SE]</td>\n",
       "    </tr>\n",
       "    <tr>\n",
       "      <th>1</th>\n",
       "      <td>AAK1</td>\n",
       "      <td>5te0</td>\n",
       "      <td>XIN</td>\n",
       "      <td>AP AP AP AP AP AP AP AP AP AP AP AP AP AP AP A...</td>\n",
       "      <td>[SE, GA]</td>\n",
       "      <td>[AP=SE, AP=GA]</td>\n",
       "    </tr>\n",
       "    <tr>\n",
       "      <th>2</th>\n",
       "      <td>ABL1</td>\n",
       "      <td>2f4j</td>\n",
       "      <td>VX6</td>\n",
       "      <td>AP AP AP AP AP AP AP AP AP AP AP AP AP SE</td>\n",
       "      <td>[SE]</td>\n",
       "      <td>[AP=SE]</td>\n",
       "    </tr>\n",
       "    <tr>\n",
       "      <th>3</th>\n",
       "      <td>ABL1</td>\n",
       "      <td>2gqg</td>\n",
       "      <td>1N1</td>\n",
       "      <td>AP AP AP AP AP AP AP AP AP AP GA SE</td>\n",
       "      <td>[GA, SE]</td>\n",
       "      <td>[AP=GA, AP=SE]</td>\n",
       "    </tr>\n",
       "    <tr>\n",
       "      <th>4</th>\n",
       "      <td>ABL1</td>\n",
       "      <td>2v7a</td>\n",
       "      <td>627</td>\n",
       "      <td>AP AP AP AP AP AP AP AP AP AP AP AP AP AP AP A...</td>\n",
       "      <td>[SE, FP]</td>\n",
       "      <td>[AP=SE, AP=FP]</td>\n",
       "    </tr>\n",
       "  </tbody>\n",
       "</table>\n",
       "</div>"
      ],
      "text/plain": [
       "  kinase complex_pdb ligand_pdb  \\\n",
       "0   AAK1        5l4q        LKB   \n",
       "1   AAK1        5te0        XIN   \n",
       "2   ABL1        2f4j        VX6   \n",
       "3   ABL1        2gqg        1N1   \n",
       "4   ABL1        2v7a        627   \n",
       "\n",
       "                                     atom_subpockets connections  \\\n",
       "0  AP AP AP AP AP AP AP AP AP AP AP AP AP AP AP F...    [FP, SE]   \n",
       "1  AP AP AP AP AP AP AP AP AP AP AP AP AP AP AP A...    [SE, GA]   \n",
       "2          AP AP AP AP AP AP AP AP AP AP AP AP AP SE        [SE]   \n",
       "3                AP AP AP AP AP AP AP AP AP AP GA SE    [GA, SE]   \n",
       "4  AP AP AP AP AP AP AP AP AP AP AP AP AP AP AP A...    [SE, FP]   \n",
       "\n",
       "  connections_name  \n",
       "0   [AP=FP, AP=SE]  \n",
       "1   [AP=SE, AP=GA]  \n",
       "2          [AP=SE]  \n",
       "3   [AP=GA, AP=SE]  \n",
       "4   [AP=SE, AP=FP]  "
      ]
     },
     "execution_count": 28,
     "metadata": {},
     "output_type": "execute_result"
    }
   ],
   "source": [
    "connections_by_fragment = connections_by_fragment(fragment_library_concat_wo_x)\n",
    "connections_by_fragment.head()"
   ]
  },
  {
   "cell_type": "code",
   "execution_count": 29,
   "metadata": {},
   "outputs": [
    {
     "data": {
      "text/plain": [
       "group  complex_pdb  ligand_pdb\n",
       "AGC    1z5m         LI8           {AP=FP, AP=SE}\n",
       "       2esm         M77                  {AP=FP}\n",
       "       2etk         HFS                  {AP=FP}\n",
       "       2etr         Y27                  {AP=FP}\n",
       "       2gu8         796                  {AP=FP}\n",
       "Name: connections_name, dtype: object"
      ]
     },
     "execution_count": 29,
     "metadata": {},
     "output_type": "execute_result"
    }
   ],
   "source": [
    "connections_by_ligand = connections_by_ligand(fragment_library_concat_wo_x)\n",
    "connections_by_ligand.head()"
   ]
  },
  {
   "cell_type": "code",
   "execution_count": 30,
   "metadata": {},
   "outputs": [
    {
     "data": {
      "text/html": [
       "<div>\n",
       "<style scoped>\n",
       "    .dataframe tbody tr th:only-of-type {\n",
       "        vertical-align: middle;\n",
       "    }\n",
       "\n",
       "    .dataframe tbody tr th {\n",
       "        vertical-align: top;\n",
       "    }\n",
       "\n",
       "    .dataframe thead th {\n",
       "        text-align: right;\n",
       "    }\n",
       "</style>\n",
       "<table border=\"1\" class=\"dataframe\">\n",
       "  <thead>\n",
       "    <tr style=\"text-align: right;\">\n",
       "      <th></th>\n",
       "      <th>count</th>\n",
       "      <th>frequency</th>\n",
       "    </tr>\n",
       "  </thead>\n",
       "  <tbody>\n",
       "    <tr>\n",
       "      <th>AP=FP</th>\n",
       "      <td>1569</td>\n",
       "      <td>61.5</td>\n",
       "    </tr>\n",
       "    <tr>\n",
       "      <th>AP=SE</th>\n",
       "      <td>1502</td>\n",
       "      <td>58.8</td>\n",
       "    </tr>\n",
       "    <tr>\n",
       "      <th>AP=GA</th>\n",
       "      <td>920</td>\n",
       "      <td>36.0</td>\n",
       "    </tr>\n",
       "    <tr>\n",
       "      <th>FP=GA</th>\n",
       "      <td>198</td>\n",
       "      <td>7.8</td>\n",
       "    </tr>\n",
       "    <tr>\n",
       "      <th>FP=SE</th>\n",
       "      <td>196</td>\n",
       "      <td>7.7</td>\n",
       "    </tr>\n",
       "    <tr>\n",
       "      <th>SE=X-SE</th>\n",
       "      <td>125</td>\n",
       "      <td>4.9</td>\n",
       "    </tr>\n",
       "    <tr>\n",
       "      <th>FP=X-B2</th>\n",
       "      <td>99</td>\n",
       "      <td>3.9</td>\n",
       "    </tr>\n",
       "    <tr>\n",
       "      <th>B1=GA</th>\n",
       "      <td>94</td>\n",
       "      <td>3.7</td>\n",
       "    </tr>\n",
       "    <tr>\n",
       "      <th>B2=GA</th>\n",
       "      <td>84</td>\n",
       "      <td>3.3</td>\n",
       "    </tr>\n",
       "    <tr>\n",
       "      <th>FP=X-FP</th>\n",
       "      <td>22</td>\n",
       "      <td>0.9</td>\n",
       "    </tr>\n",
       "    <tr>\n",
       "      <th>B1=B2</th>\n",
       "      <td>10</td>\n",
       "      <td>0.4</td>\n",
       "    </tr>\n",
       "    <tr>\n",
       "      <th>FP=X-SE</th>\n",
       "      <td>9</td>\n",
       "      <td>0.4</td>\n",
       "    </tr>\n",
       "    <tr>\n",
       "      <th>AP=X-SE</th>\n",
       "      <td>5</td>\n",
       "      <td>0.2</td>\n",
       "    </tr>\n",
       "    <tr>\n",
       "      <th>SE=X-FP</th>\n",
       "      <td>5</td>\n",
       "      <td>0.2</td>\n",
       "    </tr>\n",
       "    <tr>\n",
       "      <th>B2=X-B2</th>\n",
       "      <td>5</td>\n",
       "      <td>0.2</td>\n",
       "    </tr>\n",
       "    <tr>\n",
       "      <th>B2=X-B1</th>\n",
       "      <td>3</td>\n",
       "      <td>0.1</td>\n",
       "    </tr>\n",
       "    <tr>\n",
       "      <th>AP=X-AP</th>\n",
       "      <td>2</td>\n",
       "      <td>0.1</td>\n",
       "    </tr>\n",
       "    <tr>\n",
       "      <th>AP=X-FP</th>\n",
       "      <td>1</td>\n",
       "      <td>0.0</td>\n",
       "    </tr>\n",
       "    <tr>\n",
       "      <th>FP=X-B1</th>\n",
       "      <td>1</td>\n",
       "      <td>0.0</td>\n",
       "    </tr>\n",
       "    <tr>\n",
       "      <th>GA=X-GA</th>\n",
       "      <td>1</td>\n",
       "      <td>0.0</td>\n",
       "    </tr>\n",
       "  </tbody>\n",
       "</table>\n",
       "</div>"
      ],
      "text/plain": [
       "         count  frequency\n",
       "AP=FP     1569       61.5\n",
       "AP=SE     1502       58.8\n",
       "AP=GA      920       36.0\n",
       "FP=GA      198        7.8\n",
       "FP=SE      196        7.7\n",
       "SE=X-SE    125        4.9\n",
       "FP=X-B2     99        3.9\n",
       "B1=GA       94        3.7\n",
       "B2=GA       84        3.3\n",
       "FP=X-FP     22        0.9\n",
       "B1=B2       10        0.4\n",
       "FP=X-SE      9        0.4\n",
       "AP=X-SE      5        0.2\n",
       "SE=X-FP      5        0.2\n",
       "B2=X-B2      5        0.2\n",
       "B2=X-B1      3        0.1\n",
       "AP=X-AP      2        0.1\n",
       "AP=X-FP      1        0.0\n",
       "FP=X-B1      1        0.0\n",
       "GA=X-GA      1        0.0"
      ]
     },
     "execution_count": 30,
     "metadata": {},
     "output_type": "execute_result"
    }
   ],
   "source": [
    "connections = connections_count_by_ligand(connections_by_ligand)\n",
    "connections"
   ]
  },
  {
   "cell_type": "markdown",
   "metadata": {},
   "source": [
    "## Fragment physicochemical properties"
   ]
  },
  {
   "cell_type": "code",
   "execution_count": 31,
   "metadata": {},
   "outputs": [],
   "source": [
    "properties = descriptors_by_fragments(fragment_library)"
   ]
  },
  {
   "cell_type": "code",
   "execution_count": 32,
   "metadata": {},
   "outputs": [
    {
     "data": {
      "text/plain": [
       "(array([ 0.,  5., 10., 15., 20., 25., 30., 35., 40.]),\n",
       " <a list of 9 Text yticklabel objects>)"
      ]
     },
     "execution_count": 32,
     "metadata": {},
     "output_type": "execute_result"
    },
    {
     "data": {
      "image/png": "[encoded data removed]",
      "text/plain": [
       "<Figure size 1440x504 with 4 Axes>"
      ]
     },
     "metadata": {
      "needs_background": "light"
     },
     "output_type": "display_data"
    }
   ],
   "source": [
    "plt.figure(figsize=(20,7))\n",
    "\n",
    "plt.subplot(141)\n",
    "sns.boxplot(x='subpocket', y='# HB donors', data=properties, palette=SUBPOCKET_COLORS, medianprops={'linewidth':3, 'linestyle':'-'})\n",
    "plt.ylabel('# HB donors', fontsize=16)\n",
    "plt.xlabel('', fontsize=16)\n",
    "plt.xticks(fontsize=16)\n",
    "plt.yticks(fontsize=16)\n",
    "\n",
    "plt.subplot(142)\n",
    "sns.boxplot(x='subpocket', y='# HB acceptors', data=properties, palette=SUBPOCKET_COLORS, medianprops={'linewidth':3, 'linestyle':'-'})\n",
    "plt.ylabel('# HB acceptors', fontsize=16)\n",
    "plt.xlabel('', fontsize=16)\n",
    "plt.xticks(fontsize=16)\n",
    "plt.yticks(fontsize=16)\n",
    "\n",
    "plt.subplot(143)\n",
    "sns.boxplot(x='subpocket', y='LogP', data=properties, palette=SUBPOCKET_COLORS, medianprops={'linewidth':3, 'linestyle':'-'})\n",
    "plt.ylabel('LogP', fontsize=16)\n",
    "plt.xlabel('', fontsize=16)\n",
    "plt.xticks(fontsize=16)\n",
    "plt.yticks(fontsize=16)\n",
    "\n",
    "plt.subplot(144)\n",
    "sns.boxplot(x='subpocket', y='# Heavy atoms', data=properties, palette=SUBPOCKET_COLORS, medianprops={'linewidth':3, 'linestyle':'-'})\n",
    "plt.ylabel('# Heavy atoms', fontsize=16)\n",
    "plt.xlabel('', fontsize=16)\n",
    "plt.xticks(fontsize=16)\n",
    "plt.yticks(fontsize=16)"
   ]
  },
  {
   "cell_type": "markdown",
   "metadata": {},
   "source": [
    "## Fragment similarity by subpockets"
   ]
  },
  {
   "cell_type": "code",
   "execution_count": 33,
   "metadata": {},
   "outputs": [
    {
     "data": {
      "text/html": [
       "<div>\n",
       "<style scoped>\n",
       "    .dataframe tbody tr th:only-of-type {\n",
       "        vertical-align: middle;\n",
       "    }\n",
       "\n",
       "    .dataframe tbody tr th {\n",
       "        vertical-align: top;\n",
       "    }\n",
       "\n",
       "    .dataframe thead th {\n",
       "        text-align: right;\n",
       "    }\n",
       "</style>\n",
       "<table border=\"1\" class=\"dataframe\">\n",
       "  <thead>\n",
       "    <tr style=\"text-align: right;\">\n",
       "      <th></th>\n",
       "      <th>similarity</th>\n",
       "      <th>subpocket</th>\n",
       "    </tr>\n",
       "  </thead>\n",
       "  <tbody>\n",
       "    <tr>\n",
       "      <th>0</th>\n",
       "      <td>0.104987</td>\n",
       "      <td>AP</td>\n",
       "    </tr>\n",
       "    <tr>\n",
       "      <th>1</th>\n",
       "      <td>0.108247</td>\n",
       "      <td>AP</td>\n",
       "    </tr>\n",
       "    <tr>\n",
       "      <th>2</th>\n",
       "      <td>0.059072</td>\n",
       "      <td>AP</td>\n",
       "    </tr>\n",
       "    <tr>\n",
       "      <th>3</th>\n",
       "      <td>0.198225</td>\n",
       "      <td>AP</td>\n",
       "    </tr>\n",
       "    <tr>\n",
       "      <th>4</th>\n",
       "      <td>0.170306</td>\n",
       "      <td>AP</td>\n",
       "    </tr>\n",
       "  </tbody>\n",
       "</table>\n",
       "</div>"
      ],
      "text/plain": [
       "   similarity subpocket\n",
       "0    0.104987        AP\n",
       "1    0.108247        AP\n",
       "2    0.059072        AP\n",
       "3    0.198225        AP\n",
       "4    0.170306        AP"
      ]
     },
     "execution_count": 33,
     "metadata": {},
     "output_type": "execute_result"
    }
   ],
   "source": [
    "similarities_per_subpocket = fragment_similarity(fragment_library_concat, by='subpocket')\n",
    "similarities_per_subpocket.head()"
   ]
  },
  {
   "cell_type": "code",
   "execution_count": 34,
   "metadata": {},
   "outputs": [
    {
     "data": {
      "image/png": "[encoded data removed]",
      "text/plain": [
       "<Figure size 576x576 with 1 Axes>"
      ]
     },
     "metadata": {
      "needs_background": "light"
     },
     "output_type": "display_data"
    }
   ],
   "source": [
    "plot_fragment_similarity(similarities_per_subpocket)"
   ]
  },
  {
   "cell_type": "code",
   "execution_count": 35,
   "metadata": {},
   "outputs": [
    {
     "data": {
      "text/html": [
       "<div>\n",
       "<style scoped>\n",
       "    .dataframe tbody tr th:only-of-type {\n",
       "        vertical-align: middle;\n",
       "    }\n",
       "\n",
       "    .dataframe tbody tr th {\n",
       "        vertical-align: top;\n",
       "    }\n",
       "\n",
       "    .dataframe thead th {\n",
       "        text-align: right;\n",
       "    }\n",
       "</style>\n",
       "<table border=\"1\" class=\"dataframe\">\n",
       "  <thead>\n",
       "    <tr style=\"text-align: right;\">\n",
       "      <th></th>\n",
       "      <th>similarity</th>\n",
       "    </tr>\n",
       "    <tr>\n",
       "      <th>subpocket</th>\n",
       "      <th></th>\n",
       "    </tr>\n",
       "  </thead>\n",
       "  <tbody>\n",
       "    <tr>\n",
       "      <th>AP</th>\n",
       "      <td>0.139290</td>\n",
       "    </tr>\n",
       "    <tr>\n",
       "      <th>B1</th>\n",
       "      <td>0.074256</td>\n",
       "    </tr>\n",
       "    <tr>\n",
       "      <th>B2</th>\n",
       "      <td>0.088506</td>\n",
       "    </tr>\n",
       "    <tr>\n",
       "      <th>FP</th>\n",
       "      <td>0.089188</td>\n",
       "    </tr>\n",
       "    <tr>\n",
       "      <th>GA</th>\n",
       "      <td>0.104821</td>\n",
       "    </tr>\n",
       "    <tr>\n",
       "      <th>SE</th>\n",
       "      <td>0.102719</td>\n",
       "    </tr>\n",
       "    <tr>\n",
       "      <th>X</th>\n",
       "      <td>0.077704</td>\n",
       "    </tr>\n",
       "  </tbody>\n",
       "</table>\n",
       "</div>"
      ],
      "text/plain": [
       "           similarity\n",
       "subpocket            \n",
       "AP           0.139290\n",
       "B1           0.074256\n",
       "B2           0.088506\n",
       "FP           0.089188\n",
       "GA           0.104821\n",
       "SE           0.102719\n",
       "X            0.077704"
      ]
     },
     "execution_count": 35,
     "metadata": {},
     "output_type": "execute_result"
    }
   ],
   "source": [
    "similarities_per_subpocket.groupby('subpocket').mean()"
   ]
  },
  {
   "cell_type": "markdown",
   "metadata": {},
   "source": [
    "## Fragment similarity by kinase group"
   ]
  },
  {
   "cell_type": "code",
   "execution_count": 36,
   "metadata": {},
   "outputs": [
    {
     "data": {
      "text/html": [
       "<div>\n",
       "<style scoped>\n",
       "    .dataframe tbody tr th:only-of-type {\n",
       "        vertical-align: middle;\n",
       "    }\n",
       "\n",
       "    .dataframe tbody tr th {\n",
       "        vertical-align: top;\n",
       "    }\n",
       "\n",
       "    .dataframe thead th {\n",
       "        text-align: right;\n",
       "    }\n",
       "</style>\n",
       "<table border=\"1\" class=\"dataframe\">\n",
       "  <thead>\n",
       "    <tr style=\"text-align: right;\">\n",
       "      <th></th>\n",
       "      <th>similarity</th>\n",
       "      <th>group</th>\n",
       "    </tr>\n",
       "  </thead>\n",
       "  <tbody>\n",
       "    <tr>\n",
       "      <th>0</th>\n",
       "      <td>0.530864</td>\n",
       "      <td>AGC</td>\n",
       "    </tr>\n",
       "    <tr>\n",
       "      <th>1</th>\n",
       "      <td>0.527607</td>\n",
       "      <td>AGC</td>\n",
       "    </tr>\n",
       "    <tr>\n",
       "      <th>2</th>\n",
       "      <td>0.464865</td>\n",
       "      <td>AGC</td>\n",
       "    </tr>\n",
       "    <tr>\n",
       "      <th>3</th>\n",
       "      <td>0.643411</td>\n",
       "      <td>AGC</td>\n",
       "    </tr>\n",
       "    <tr>\n",
       "      <th>4</th>\n",
       "      <td>0.166065</td>\n",
       "      <td>AGC</td>\n",
       "    </tr>\n",
       "  </tbody>\n",
       "</table>\n",
       "</div>"
      ],
      "text/plain": [
       "   similarity group\n",
       "0    0.530864   AGC\n",
       "1    0.527607   AGC\n",
       "2    0.464865   AGC\n",
       "3    0.643411   AGC\n",
       "4    0.166065   AGC"
      ]
     },
     "execution_count": 36,
     "metadata": {},
     "output_type": "execute_result"
    }
   ],
   "source": [
    "similarities_per_kinase_group = fragment_similarity(fragment_library_concat, by='group')\n",
    "similarities_per_kinase_group.head()"
   ]
  },
  {
   "cell_type": "code",
   "execution_count": 37,
   "metadata": {},
   "outputs": [
    {
     "data": {
      "image/png": "[encoded data removed]",
      "text/plain": [
       "<Figure size 576x576 with 1 Axes>"
      ]
     },
     "metadata": {
      "needs_background": "light"
     },
     "output_type": "display_data"
    }
   ],
   "source": [
    "plot_fragment_similarity(similarities_per_kinase_group)"
   ]
  },
  {
   "cell_type": "code",
   "execution_count": null,
   "metadata": {},
   "outputs": [],
   "source": []
  }
 ],
 "metadata": {
  "kernelspec": {
   "display_name": "teachopencadd",
   "language": "python",
   "name": "teachopencadd"
  },
  "language_info": {
   "codemirror_mode": {
    "name": "ipython",
    "version": 3
   },
   "file_extension": ".py",
   "mimetype": "text/x-python",
   "name": "python",
   "nbconvert_exporter": "python",
   "pygments_lexer": "ipython3",
   "version": "3.6.7"
  }
 },
 "nbformat": 4,
 "nbformat_minor": 4
}
