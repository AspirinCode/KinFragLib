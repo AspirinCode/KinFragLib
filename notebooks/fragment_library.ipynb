{
 "cells": [
  {
   "cell_type": "markdown",
   "metadata": {},
   "source": [
    "# Fragment library"
   ]
  },
  {
   "cell_type": "code",
   "execution_count": 1,
   "metadata": {},
   "outputs": [],
   "source": [
    "%load_ext autoreload\n",
    "%autoreload 2"
   ]
  },
  {
   "cell_type": "code",
   "execution_count": 2,
   "metadata": {},
   "outputs": [],
   "source": [
    "from pathlib import Path\n",
    "\n",
    "import pandas as pd\n",
    "from rdkit.Chem import PandasTools\n",
    "\n",
    "import klifs_utils\n",
    "from util import read_fragment_library"
   ]
  },
  {
   "cell_type": "code",
   "execution_count": 3,
   "metadata": {},
   "outputs": [],
   "source": [
    "# Needed to display ROMol images in DataFrames\n",
    "PandasTools.RenderImagesInAllDataFrames(images=True)"
   ]
  },
  {
   "cell_type": "code",
   "execution_count": 4,
   "metadata": {},
   "outputs": [],
   "source": [
    "PATH_DATA = Path('.') / '..' / 'data'"
   ]
  },
  {
   "cell_type": "markdown",
   "metadata": {},
   "source": [
    "## Aim of this notebook\n",
    "\n",
    "From the subpocket-based fragment pools (SDF files), create one DataFrame holding all fragment data (including a column for the fragments' subpocket as wells as both SMILES with and without dummy atoms)."
   ]
  },
  {
   "cell_type": "markdown",
   "metadata": {},
   "source": [
    "## Load fragment library\n",
    "\n",
    "`fragment_library_wo_dummy` and `fragment_library_w_dummy` are dictionaries are of fragments (values) per subpocket (keys) without and with dummy atoms. In the former case, dummy atoms were replace with hydrogen atoms.\n",
    "\n",
    "The following data is linked to each fragment:\n",
    "\n",
    "- PDB complex and ligand ID, alternate model and chain for the KLIFS structure that the ligand (from which the fragment originates) was co-crystallized with\n",
    "- Kinase name, family and group of the kinase the ligand (from which the fragment originates) was co-crystallized with\n",
    "- Subpocket occupied by the fragment\n",
    "- Subpockets for each of the fragment's atoms (including the dummy atom's subpockets which show the connection of the fragment to neighboring pockets)\n",
    "- BRICS environment IDs for each of the fragment's atoms\n",
    "- Fragment's RDKit molecule (remote KLIFS access) and SMILES (generated from RDKit molecule)"
   ]
  },
  {
   "cell_type": "code",
   "execution_count": 5,
   "metadata": {},
   "outputs": [
    {
     "name": "stdout",
     "output_type": "stream",
     "text": [
      "dict_keys(['AP', 'FP', 'SE', 'GA', 'B1', 'B2', 'X'])\n",
      "Example fragments for subpocket AP:\n"
     ]
    },
    {
     "data": {
      "text/html": [
       "<div>\n",
       "<style scoped>\n",
       "    .dataframe tbody tr th:only-of-type {\n",
       "        vertical-align: middle;\n",
       "    }\n",
       "\n",
       "    .dataframe tbody tr th {\n",
       "        vertical-align: top;\n",
       "    }\n",
       "\n",
       "    .dataframe thead th {\n",
       "        text-align: right;\n",
       "    }\n",
       "</style>\n",
       "<table border=\"1\" class=\"dataframe\">\n",
       "  <thead>\n",
       "    <tr style=\"text-align: right;\">\n",
       "      <th></th>\n",
       "      <th>ROMol</th>\n",
       "      <th>kinase</th>\n",
       "      <th>family</th>\n",
       "      <th>group</th>\n",
       "      <th>complex_pdb</th>\n",
       "      <th>ligand_pdb</th>\n",
       "      <th>alt</th>\n",
       "      <th>chain</th>\n",
       "      <th>atom_subpockets</th>\n",
       "      <th>atom_environments</th>\n",
       "      <th>smiles</th>\n",
       "    </tr>\n",
       "  </thead>\n",
       "  <tbody>\n",
       "    <tr>\n",
       "      <th>0</th>\n",
       "      <td><img data-content=\"rdkit/molecule\" src=\"data:image/png;base64,iVBORw0KGgoAAAANSUhEUgAAAMgAAADICAIAAAAiOjnJAAAABmJLR0QA/wD/AP+gvaeTAAAXc0lEQVR4nO2de1BU1x3Hv/sAFwREMTx8UTVgRI0ZqQZZi0o1KlBfIT6qZDQmUccGY2SqaayQODaM1RGStqY6mYhjqqmmKiKOBCyKRkHUilbFovGFDxTFVUCWZX/94xqUfbG77Ln3rp7P8A/33L33B3y4v3PPPff8FEQEDsfVKKUOgPN8wsXiMIGLxWECF4vDBC4WhwlcLA4TuFgcJnCxOEzgYnGYwMXiMIGLxWECF4vDBC4WhwlcLA4TuFgcJnCxOEzgYnGYwMXiMIGLxWECF4vDBC4WhwlcLA4TuFgcJnCxOEzgYnGYwMXiMIGLxWECF4vDBC4WhwlcLA4TuFgcJnCxOEzgYnGYwMXiMIGLxWECF4vDBC4WhwlcLA4TuFiuJyUFnTubbhw2DBMnShGNRHCxOEzgYnGYwMXiMIGLxYTqaigULb4OH5Y6JnFRSx3A84m/P/797xZbZs+WKBSJ4GIxQaXCa6+12NK+vUShSARPhRwmcLE4TOBicZig4IUwOSzgVywOE7hYriclBQoFEhJabIyKwsyZEgUkBVwsJrRrh9xc7NsndRzSwcViQnAwZs7EokUwGKQORSK4WKxIT8fVq1i3Tuo4JIKLxYouXbB0KdLScO+e1KFIAReLISkp8PVFaqrUcUgBF8uV6PUtvtVosGoVvvoKZ88+3djUhOpqkeOSAC6Wyygvx5Ah2LSpxcYpUxAVhUWLnm5ZuRL9+iE3V+ToxIaL5Ro2bkRkJE6dwhdfwORZRmYm8vNRVgYARiMOHsTt20hIQEqK6RXueYKL1VYePUJSEmbPRm0tkpJQWAiFosUOgwZh1izU1wOAUokffkBGBjw8sGYNIiNx+rQkUbOHOG3gzBnq148A8vKijAwHPlhSQmFhTz9oNDILUSK4WM6TlUVeXgRQRASdPu3wx+vqKDmZAAJo4kS6c4dBiNLBxXKGmhqaOvWJE0lJVFvr/KG2b6dOnQigoCDKzXVdiFLDxXKYkhLq1YsA8vOjLVtccMCrV2n4cAJIoaDkZHr82AXHlBwulgMYjZSRQR4eBNDgwVRR4eIje3oSQP37U1mZy44sFVwse6mqonHjnl5XGhpcfwqTHr1bw8Wyi/37qUsXAqhzZ9qzh+GJdDp6//2nPfq7dxmeiykiibV4MQEUH99i4+uv04wZ4pzfeQwGSk0llYoAGjGCKivFOOnWreTvTwB17UoHDohySlcj3gCpO859u3btWlxc4saNjQA+/RT5+ejSRYzzTp2KU6cQEwMvrzNjx768cOFCvdsN0ovj7+LFFBpKSUnUty81Nj7ZKPMrVnZ2dkBAAICYmIWFhRIEYDDQ6tXr1Wo1gMjIyPPnz0sQhLOIKlZlJbVvT1988WSjbMXS6/WpqalKpRLA6NGjb926JWEwJSUlL7/8MgAvL68M9+nSiyoWEa1YQZ06UXU10TNi/eEPlJZGOTkk6V/wCZcvX46KigKgVqtTU1Obmpqkjoh0Ot37778vZJhJkybddYcuvdhi1ddTaCj97ndEP4tlNFKHDk/ugwAKCaGEBEpNpexsqqoSJ7qnbN++3d/fH0BoaOiPP/4o9ultsm3btk6dOgEICgrau3ev1OG0gthiEdF335FaTf/97xOxGhtp61ZKSaERI8jP76lhwlfv3jR1Kq1eTYWFpNMxjLC+vj45OVm4KkyePPnevXsMT+YsV65ciYmJAaBQKJKTkxtYDKa5CAnEIqJhw+iNNyz3sSorKTubliwhrZa8vU09E65n6elUVNSmJ3QmnD179tVXXwWg0Whk3o9pamrKyMjw8PCQeY9eGrGOHyelkry8Wum8NzbSqVP09dc0fz4NHvzkiUfzl1pNkyYtmDNnzrp1644dO+b0v29WVlb79u0BvPLKK6dOnXLuICJTXFws8x49c7FycshgMBWLiN55hwDH7gobG+nMGcrKouRk0mqpXTsKCHipedxErVZHREQkJSVlZGQUFRU9tuNZrk6n++1vfyt8PCkp6dGjR479bJIi8x49W7HWryeA3nyTycHr6ow//vhjZmZmUlJS3759hdGBZry9vaOjo5OTkzdt2nTu3Dnzm7vS0lLhn97X13fz5s1MQmTPtm3bOnbsCCA4OFhWPXqGYu3ZQ2o1AfSXv7A7yVMePnxYVFSUkZGRlJQUERFh4pmPj49Wq01OTs7Kyjp9+vTatWs9PT0BDBo06MKFC2LEx4yffvpJq9UCUCqVmZmZUofzBFZiHTtGPj4E0PLljM7QCvfu3cvLy/vTn/40efLkHj16mDxvUKlUwo2VPRlT/hgMhvT0dLVanZKSIpOfiIlYFy9SUNCTLpRMZnPfunUrJycnLS0tISHBx8dHqVTOmzdP6qBcycmTJ4UhLjmM6BILse7cofBwAig21plJS4mJNHcubdhAJ08+faroWrKysgDExsYyObpELF++HIB8/ltcLFZdHQ0dSgBFRtLDhw5/XKcjpfLpgIKHB0VEUFISZWRQaSkZDK4J8sGDBxqNRqVSSfsQ0FHq6+ttXI0GDBgAYN++fWKGZANXimUw0MSJBFDPnnTzpjNH0Ovp4EFas4amT6ewMFIoWgxc+fhQTAx99BH94x9UUVFrbEOWTUhIALBu3TqnjyA+n3/+eXBwcFZWlnnTpUuXAHTo0EE+Y/GuFGvBAgIoIIBcNRqs01FREWVkUFISRUS08Gz48IV+fn7NN3pnzpxxyDN3zIaDBw8GkJ2dbd705z//GcAMOc0VcZlYn376ZLL2oUOuOqQpVVWUm0uffUbjx1NMzHiTG73AwMC4uLjly5dnZ2ffuHHD9qHcLhtev35doVB4e3vXWnqSFR0dDWD79u3iB2YN14i1eTMpFKRU0vffu+R4dnH9+vWdO3cuW7Zs7Nixnc0KBHbt2nXChAlfNE/+MsO9suGXX34JIDEx0bzp1q1bSqXSy8tLVk8OXCBWQcGTp3jW/4hiUFlZmZ2dnZqampCQ0OxZXFyctf3dKxvGxsYC+Pbbb82bvvrqKwDjx48XPyobtFWs0tInA6Eff+ySeFyD0WgsLy//9ttvbTzlELKhUqlsNW9KTnV1tVqt9vDwsDiZZ8yYMQC++eYb0eOyRZvEunSJgoMJoOnT5TIQ6hC/+c1vAPztb3+TOpBW2LhxI4AxY8aYN9XU1Hh6eqpUqjsyW/vB+bd0qqur589fajQaR43Cxo2ma/e4BW+99RaAbdu2SR1IK+zYsQPApEmTzJv27Nmj1+tjYmLMe5kS45yPdXV1wp3I6NHvPXjgWtfFwy2yYW1trbe3t7UgExMTAdi4R5EKZ8RqamqaPHkygG7dul29etXlMYmJ/LPh999/DyA6Otq86fHjx76+vgqF4sqVK+IHZhtnUuGiRYv+9a9/dejQITc3t3v37q68foqO/LOhkAcnTpxo3pSXl/fw4cPIyEjz6RvS46iJn3/+OQBPT8+CggIWpouMzLOhXq8X5vGVl5ebt86ePRvAypUrxQ+sVRwTa8uWLQqFQqlUbtu2jVFA4iPnbJiXlwegf//+5k0Gg+Gll14CcPbsWfEDaxUHUmFhYeGsWbOIaM2aNUKf8flAztnQxv1gUVHRnTt3wsLC+vbtK3pcdmCngKdPnxbe5ExJSWEpugTINhsajcZu3boBOHHihHmr8Bbk0qVLxQ/MHuwS6/r160InferUqTKZoOha5JkNjxw5AiA0NNTixI2ePXsCKC4uFj8we2g9FT548CAuLu7atWsxMTFZWVkmLyk8H8gzGzbnQYXZ6PPx48d/+umnrl27CnNp5Iht7xoaGn79618DiIiIkOdb5y5BntmwT58+AA4cOGDe9MknnwBYsGCB+FHZiS2xjEbjjBkzAHTp0kWGQ3CuRW7Z8MyZMwA6d+7caGnmf0REBID8/HzxA7MTW2J9+OGHAPz8/P7zn/+IFpBUbNq0CcDIkSOlDuQJK1asADBnzhzzpgsXLgDw9/fX6/XiB2YnVsX65ptvAHh6eu7fv1/MgKRCp9PJKhsOGjQIQE5OjnlTeno6gLffflv8qOzHak+ciAICAtLS0kaOHMm2lycPfH19R48ebTQad+7cKXUsuHLlysmTJ318fIQOrgk2Brfkg1Wxjh49Wl1dXS8UrXoxkM+94c6dO4koLi5Oo9GYNN24caOkpMTb23v06NGSxGYnVsUSfsv//Oc/RQxGYiZOnKjRaA4cOHDz5k1pI7FxTRKcGzNmjLD0knyxliMNBkNgYCCAMiv1N2pqakpLS9kkaMkYP348gL/+9a8SxnD37l21Wt2uXbsHlma6jRo1CsCmTZvED8whrF6xVCqVMFXDYmooLy8PCgqaNGkSmZQTdXPkkA137dplMBhiY2P9/PxMmmpqag4ePOjh4REfHy9JbA5gQ7offvgBQJ8+fcybjEZjaGgoALmtANtG5HBvKLyXtn79evMmYUxk1KhR4kflKLaez4wcOTIwMLC8vPy0WX1ZhUIhTHCQQ1fXhfj6+r7xxhtGo1Ho5YjPo0eP8vPzlUqlMGBrglvcDwrYEst2NmzOGsSzoevYu3fv48ePo6Ojg4ODTZrq6+vz8vIUCoXQEZQ5rTxRtnFvOGTIkNDQ0OvXrx89epRJaBIxYcIEjUZz8ODBGzduiH/2R48ehYSEWJyIvG/fvtra2iFDhghzaeSO7Uxp+95w8eLFABYtWsQkS0uHtPeGTU1NFlfle/vttwGkp6eLH5ITtHLFUqlUQkbn2VA0lEplu3btTDYaDIbc3FxYeatCjrSqXn5+PoDw8HDzJqPR+Itf/ALA4cOHXe+8dDTfG1aKU57QDoS/QkREhNSB2Evrs/ZGjBgRGBh44cIFi/eGb775Jp7fe0M5PDcUcKP7QYHWxbInGworM7k8OAmRw0hpM0SUnZ0NtxLLrjnvPBtKS3FxMYBu3bq1ZXVMkbFrAntzNiwrKzNp4tlQBIQ8OHnyZPPJ77LFLrGe12x49epVG61iZkMium+Fmzdvbt++He6VBwGFnTYUFBSMGjUqPDy8vLzcpImIevXqdfny5cOHDwtL0LgFu3fvTkxMzMjImD9/vsUddDpdYGCgXq9/9dVXhcLMJty/f9/iB/V6fW1trcWmR48eNTY2OhqqMEPm/v37QjU598DOlNk8Umqx8JowUvrhhx+6LEUzpri42NvbGzYXPtixY4dSqewiSt16hULR0QohISFCzfNVq1aJ+StqI/ZesQDMmzfv73//+7Jly4R5/s9SXFwcFRUlrGok/35ARUVFdHT0nTt33nvvvfXr11vcp6SkJDY2tra2duHChUlJSRb38ff3t/jDenp6WpuF5+Pj48RVZ+/evfHx8SqV6uDBg0OHDnX049Jgv4PPx71hVVWVUE0uPj7e4ptVRFRRUSFcnt99912Rw7PGRx99BKBHjx7VQqF22eOAWM9BNtTpdMLbL4MHD7a2eHVVVVVYWJht88RHr9cL16o3GVV/dDWOLWM0d+5cAMuWLTNvEuY4yHmsRa/XCwsM9+7d21rdgNra2qioKAC//OUvZbVsOhFdvHixQ4cOcJO16R0Ty32zodFoFJYp69y5s8VFzIhIr9ePHTsWQK9eveRZsUIY+9BoNCdPnpQ6llZwTCz3zYbLli0D4O3tbW0utdFofOedd2ybJweEOtBhYWE6nU7qWGzh8FKR9mRDuS11tGHDBgAqlUp4d8oif/zjHwF4eXnJfBZ/fX39wIEDAQiL4MkWh8Vyu2yYk5MjDG/amLjXbN6OHTvEjM05ysvLfX19AVgsMScTHBbLvbLhsWPHhCGl1NRUa/vs2bNHMO8v4lRFdwVff/01gPbt2587d07qWCzjzDrv8+bNc4tsePHixaCgIAAzZ860dq967NgxHx8fAMulqoruLDNnzgQwYMCAuro6qWOxgDNiFRQUyD8b3rlzJzw8HMC4ceOsDUc1mzdjxgzZjpJY4+HDh8LKbPJcfs0ZseSfDevq6oThxMjIyIdWalM3mxcbGyufircOcerUKWHVkO/FrBNpH07W0pFzNjQYDMIbBz179rxppTZ1s3mDBg2yZp5bkJmZCcDf3//SpUtSx9ICJ8WSczZcsGABgICAgPNWalPbY567YDQaJ0yYEBT02rRpN2W1vp+TYhkMBqF3YnEVyS+//DI9PV2S5Q8+/fRTYTjqkPXa1M3myfaWyiHu3bs3cGAjQEuWSB3KMzhfCFPIhp988okLo2kjmzdvFiqy2OhzfPbZZ62a53YcPUoeHqRQ0O7dUofyM86LZSMbSkJBQYGnpydsFu+zxzw3ZeVKAuill0gGL38QtUUs29lQZI4fPy4MR31svTZ1s3mZmZlixiYOTU00ejQBNHw4GQxSR9PGmtAyyYaXLl0S1maZPn26teGosrIyYc6JbIvPtJ3btykkhABasULqUNoolhyy4d27d1955RUAI0eOtLiWBj1j3rRp09xuINQh9u8nlYqUSpK8mGSbxJI8G9bV1Wm1WgD9+/e/f/++xX2azRsxYoQ1854nPv6YAOrWjaQta98msUjqbGgwGObNm2ejNLU95j1nNDaSVksAxcWRhFfntoolZMMePXpUVFS4JCAnuH37tsXtTU1NwlvaXbt2dfei6A5x7RoFBBBAa9dKFkNbxTIYDDExMUIPxs/PT6vVJicnZ2VlnTlzxiXxtQWhVGSHDh0sPtN8vsnJIYWCPDzoyBFpAmirWERkNBonTZpkvmZmUFBQfHx8WlpaTk6O+FPIhYIznp6eci6RxZQPPiCAevemmhoJzu7AC6utcuPGjeM/U1JSUlVV9WxrSEhI5M9ERUUJhbIZsXXrVqEg3tatW4UlGF5AGhoQHY0TJ/DWWxC/wIgrxTLhWc+OHDlSXV39bOuznmm12k6dOrnqvIWFhWPHjm1oaFi7dq1QGe+FpaICkZHQ6bBhA959V9xzi3ZtrKyszM7OXrJkiVarNX8DPSQkJCEhIT09vaioqLa21umzNBdFX7x4sQuDd1+++44A0mhI5BEhhlcsGzQ1NZ0/f775enbixIlny4ypVKo+ffpEPoOXl5c9h62srBw6dOi1a9emTJmyZcuW57J8tRPMmYOjR7FtGyIixDupNGKZYDAYysvLmz0rLS1taGhoblWr1eHh4c2SDR482HxRYQAPHjyIiYkpKyuLiYnJy8uzuM+LSV0dAHh7i3pSWYhlQmNj44ULF44fP3748OFDhw6Vl5c3NTU1t3p4eISFhUVGRg4bNkyr1fbt21epVOr1+ri4uIKCgoiIiEOHDnXs2FHC+DmAiH0sp9HpdIWFhatXr542bZqwUMyz+Pr6Dh8+vH///njxBkIdYvFiAig+vsXG11+nGTOe7hAQYPoprZYmTHDmdBYWqpMbgjrDhw8XvtXpdGVlZc1589y5cwcOHOjXr19wcPCePXu6d+8ubbRypl075OZi3z6MGcP8XG4glgl+fn7Dhg0bNmyY8G1VVVVpaalarf7Vr35lZx//hSU4GDExWLQIZWWwtPalK3E/sUwIDAyMi4uTOgq3IT0d4eFYtw4ffMD2RPyG/MWiSxcsXYq0NNy7Z6G1uhoKRYuvw4edPBEX64UjJQW+vkhNtdDk74+TJ1t8vfaak2dx+1TIcRSNBqtWYcYMmC9DrlKZmmRlkd7W4VesF5EpUxAVhUWLGJ6Ci/WCkpmJ/HyYlbCxSk0NEhPRvTu6dcO4cbh8uZX9uVgvKIMGYdYsPPOEthWMRkyfjkuXcO0aBgzAe++1sr8cH+lwZM7+/Zg7F//7n619+BWL4zDr1iExsZV9+BWL4xi//z1OncLu3fD0tLUbH27gOEBKCk6fxq5drVgFLhbHfhYuRHk5du2CRtP6zjwVcuyirAwDByIwEELxMo0GFRW29udicZjA7wo5TOBicZjAxeIwgYvFYQIXi8MELhaHCVwsDhO4WBwmcLE4TOBicZjAxeIwgYvFYQIXi8MELhaHCVwsDhO4WBwmcLE4TOBicZjAxeIwgYvFYQIXi8MELhaHCVwsDhO4WBwmcLE4TOBicZjAxeIwgYvFYcL/AdsIwdiElnmXAAAAAElFTkSuQmCC\" alt=\"Mol\"/></td>\n",
       "      <td>AAK1</td>\n",
       "      <td>NAK</td>\n",
       "      <td>Other</td>\n",
       "      <td>5l4q</td>\n",
       "      <td>LKB</td>\n",
       "      <td>B</td>\n",
       "      <td>A</td>\n",
       "      <td>AP AP AP AP AP AP AP AP AP AP AP AP AP AP AP F...</td>\n",
       "      <td>16 16 16 16 16 16 16 16 16 16 16 16 16 5 5 na na</td>\n",
       "      <td>Nc1c[nH]c2ncccc12</td>\n",
       "    </tr>\n",
       "    <tr>\n",
       "      <th>1</th>\n",
       "      <td><img data-content=\"rdkit/molecule\" src=\"data:image/png;base64,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\" alt=\"Mol\"/></td>\n",
       "      <td>AAK1</td>\n",
       "      <td>NAK</td>\n",
       "      <td>Other</td>\n",
       "      <td>5te0</td>\n",
       "      <td>XIN</td>\n",
       "      <td></td>\n",
       "      <td>A</td>\n",
       "      <td>AP AP AP AP AP AP AP AP AP AP AP AP AP AP AP A...</td>\n",
       "      <td>7 7 7 7 7 7 7 7 7 7 7 7 7 7 7 7 7 7 7 7 7 7 7 ...</td>\n",
       "      <td>N/C(=C1\\C(=O)Nc2ccccc21)c1ccccc1</td>\n",
       "    </tr>\n",
       "  </tbody>\n",
       "</table>\n",
       "</div>"
      ],
      "text/plain": [
       "                                               ROMol kinase family  group  \\\n",
       "0  <img data-content=\"rdkit/molecule\" src=\"data:i...   AAK1    NAK  Other   \n",
       "1  <img data-content=\"rdkit/molecule\" src=\"data:i...   AAK1    NAK  Other   \n",
       "\n",
       "  complex_pdb ligand_pdb alt chain  \\\n",
       "0        5l4q        LKB   B     A   \n",
       "1        5te0        XIN         A   \n",
       "\n",
       "                                     atom_subpockets  \\\n",
       "0  AP AP AP AP AP AP AP AP AP AP AP AP AP AP AP F...   \n",
       "1  AP AP AP AP AP AP AP AP AP AP AP AP AP AP AP A...   \n",
       "\n",
       "                                   atom_environments  \\\n",
       "0   16 16 16 16 16 16 16 16 16 16 16 16 16 5 5 na na   \n",
       "1  7 7 7 7 7 7 7 7 7 7 7 7 7 7 7 7 7 7 7 7 7 7 7 ...   \n",
       "\n",
       "                             smiles  \n",
       "0                 Nc1c[nH]c2ncccc12  \n",
       "1  N/C(=C1\\C(=O)Nc2ccccc21)c1ccccc1  "
      ]
     },
     "execution_count": 5,
     "metadata": {},
     "output_type": "execute_result"
    }
   ],
   "source": [
    "# Get fragment library by subpocket\n",
    "fragment_library_wo_dummy = read_fragment_library(PATH_DATA / 'fragment_library')\n",
    "\n",
    "print(fragment_library_wo_dummy.keys())\n",
    "print(f'Example fragments for subpocket AP:')\n",
    "fragment_library_wo_dummy['AP'].head(2)"
   ]
  },
  {
   "cell_type": "code",
   "execution_count": 6,
   "metadata": {},
   "outputs": [],
   "source": [
    "# Get fragment library by subpocket with dummy atoms\n",
    "fragment_library_w_dummy = read_fragment_library(PATH_DATA / 'fragment_library', remove_dummy=False)"
   ]
  },
  {
   "cell_type": "markdown",
   "metadata": {},
   "source": [
    "## Concatenate all subpocket pools to one DataFrame"
   ]
  },
  {
   "cell_type": "code",
   "execution_count": 7,
   "metadata": {},
   "outputs": [],
   "source": [
    "def concatenate_subpocket_pools(fragment_library):\n",
    "    \"\"\"\n",
    "    Concatenate subpocket pools of fragments to one DataFrame with all fragments.\n",
    "    \n",
    "    Parameters\n",
    "    ----------\n",
    "    fragment_library : dict of pandas.DataFrame\n",
    "        Dictionary of fragments (values = DataFrames) per subpocket (keys).\n",
    "    \n",
    "    Returns\n",
    "    -------\n",
    "    fragment_library_concat : pandas.DataFrame\n",
    "        Fragment library in one DataFrame.\n",
    "    \"\"\"\n",
    "\n",
    "    # Add subpocket column\n",
    "    for subpocket, fragments in fragment_library.items():\n",
    "        \n",
    "        try:\n",
    "            fragments.insert(8, 'subpocket', subpocket)\n",
    "        except ValueError:\n",
    "            pass\n",
    "        #fragments['subpocket'] = subpocket\n",
    "        \n",
    "    # Concatenate dictionary values (i.e. DataFrames)\n",
    "    fragment_library_concat = pd.concat(fragment_library)\n",
    "    \n",
    "    # Reset index\n",
    "    fragment_library_concat.reset_index(drop=True, inplace=True)\n",
    "    \n",
    "    return fragment_library_concat"
   ]
  },
  {
   "cell_type": "code",
   "execution_count": 8,
   "metadata": {},
   "outputs": [
    {
     "data": {
      "text/plain": [
       "(7486, 12)"
      ]
     },
     "execution_count": 8,
     "metadata": {},
     "output_type": "execute_result"
    }
   ],
   "source": [
    "fragment_library_wo_dummy_concat = concatenate_subpocket_pools(fragment_library_wo_dummy)\n",
    "fragment_library_wo_dummy_concat.shape"
   ]
  },
  {
   "cell_type": "code",
   "execution_count": 9,
   "metadata": {},
   "outputs": [
    {
     "data": {
      "text/plain": [
       "(7486, 12)"
      ]
     },
     "execution_count": 9,
     "metadata": {},
     "output_type": "execute_result"
    }
   ],
   "source": [
    "fragment_library_w_dummy_concat = concatenate_subpocket_pools(fragment_library_w_dummy)\n",
    "fragment_library_w_dummy_concat.shape"
   ]
  },
  {
   "cell_type": "markdown",
   "metadata": {},
   "source": [
    "## Merge fragments with and without dummy atoms"
   ]
  },
  {
   "cell_type": "code",
   "execution_count": 10,
   "metadata": {},
   "outputs": [
    {
     "name": "stdout",
     "output_type": "stream",
     "text": [
      "(7486, 13)\n"
     ]
    },
    {
     "data": {
      "text/html": [
       "<div>\n",
       "<style scoped>\n",
       "    .dataframe tbody tr th:only-of-type {\n",
       "        vertical-align: middle;\n",
       "    }\n",
       "\n",
       "    .dataframe tbody tr th {\n",
       "        vertical-align: top;\n",
       "    }\n",
       "\n",
       "    .dataframe thead th {\n",
       "        text-align: right;\n",
       "    }\n",
       "</style>\n",
       "<table border=\"1\" class=\"dataframe\">\n",
       "  <thead>\n",
       "    <tr style=\"text-align: right;\">\n",
       "      <th></th>\n",
       "      <th>ROMol</th>\n",
       "      <th>kinase</th>\n",
       "      <th>family</th>\n",
       "      <th>group</th>\n",
       "      <th>complex_pdb</th>\n",
       "      <th>ligand_pdb</th>\n",
       "      <th>alt</th>\n",
       "      <th>chain</th>\n",
       "      <th>subpocket</th>\n",
       "      <th>atom_subpockets</th>\n",
       "      <th>atom_environments</th>\n",
       "      <th>smiles</th>\n",
       "      <th>smiles_dummy_atoms</th>\n",
       "    </tr>\n",
       "  </thead>\n",
       "  <tbody>\n",
       "    <tr>\n",
       "      <th>0</th>\n",
       "      <td><img data-content=\"rdkit/molecule\" src=\"data:image/png;base64,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\" alt=\"Mol\"/></td>\n",
       "      <td>AAK1</td>\n",
       "      <td>NAK</td>\n",
       "      <td>Other</td>\n",
       "      <td>5l4q</td>\n",
       "      <td>LKB</td>\n",
       "      <td>B</td>\n",
       "      <td>A</td>\n",
       "      <td>AP</td>\n",
       "      <td>AP AP AP AP AP AP AP AP AP AP AP AP AP AP AP F...</td>\n",
       "      <td>16 16 16 16 16 16 16 16 16 16 16 16 16 5 5 na na</td>\n",
       "      <td>Nc1c[nH]c2ncccc12</td>\n",
       "      <td>[11*]c1cnc2[nH]cc(N[27*])c2c1</td>\n",
       "    </tr>\n",
       "    <tr>\n",
       "      <th>1</th>\n",
       "      <td><img data-content=\"rdkit/molecule\" src=\"data:image/png;base64,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\" alt=\"Mol\"/></td>\n",
       "      <td>AAK1</td>\n",
       "      <td>NAK</td>\n",
       "      <td>Other</td>\n",
       "      <td>5te0</td>\n",
       "      <td>XIN</td>\n",
       "      <td></td>\n",
       "      <td>A</td>\n",
       "      <td>AP</td>\n",
       "      <td>AP AP AP AP AP AP AP AP AP AP AP AP AP AP AP A...</td>\n",
       "      <td>7 7 7 7 7 7 7 7 7 7 7 7 7 7 7 7 7 7 7 7 7 7 7 ...</td>\n",
       "      <td>N/C(=C1\\C(=O)Nc2ccccc21)c1ccccc1</td>\n",
       "      <td>[12*]N/C(=C1\\C(=O)Nc2cc([20*])ccc21)c1ccccc1</td>\n",
       "    </tr>\n",
       "    <tr>\n",
       "      <th>2</th>\n",
       "      <td><img data-content=\"rdkit/molecule\" src=\"data:image/png;base64,iVBORw0KGgoAAAANSUhEUgAAAMgAAADICAIAAAAiOjnJAAAABmJLR0QA/wD/AP+gvaeTAAAPGUlEQVR4nO3da0xT9xvA8ee0RRijIkPwgoqoQ8XNoWPe6rwADlAUFDXgKC+WLHsxU5csmTpduuiWsMRknW/+cb7q5rIFJyqKCoTNy+aV4VCR25AxnYKKgIBWof39XxxWoZRC2/P0nNM+n/DG02P7AF/OraVwjDEgRGgKsQcg3onCIigoLIKCwiIoKCyCgsIiKCgsgoLCIigoLIKCwiIoKCyCgsIiKCgsgoLCIigoLIKCwiIoKCyCgsIiKCgsgoLCIigoLIKCwiIoKCyCgsIiKCgsgoLCIigoLIKCwiIoKCyCgsIiKCgsgoLCIigoLIKCwiIoKCyCgsIiKCgsgoLCIigoLIKCwiIoKCyCgsIiKCgsgoLCIigoLIKCwiIoKCyCgsIiKCgsgoLCIigoLIKCwiIoKCyCgsIiKCgsgoLCIigoLIKCwiIoKCyCgsIiKCgsgoLCIigoLILCa8PauRNUKtuFH30Eo0a9WIHjID6+3wqbN8PkyR6Yrh/pTCIgrw1rmH79FX77TewhAEBKkwjCp8MKDoa5c2H3brHnkNIkQhmwt/Axn30Ga9fCpUswf36/5adOwdmznhjgyy+HmESmvDyshw/7/dNksl0hLQ1mz4Zdu6CwsN/y0lLYswd3Nt4XXwwxiUx5c1hmM4SF2S4MDu73T46DnTth40YoL4e5c18sT0mBkBD0CQFA8d/ByGCTyJQ3h6VQQFFRvyX/+x+Ultqutn49xMTArl1w5MiLhfHxtqdpHmB3Epny5rA4DhIT+y05ftz+ajt2QHY2XLvmmbkGJZ1J3OfTZ4VWmZkQHS2JkzLpTOImCgsAQKGATz+FQ4egspImEQaF1WvTJpgyBU6fFnsOKU3iDp8Oq6cHDhyAtjYAAJUKtm8XeyAAAFAqITNT7CHcxjHGxJ5BNKmpUFgI334L778v9ih9mM0wfjzcvw+VlRATI/Y0rvLdLVZHB5SWglIJaWlij9KfUglr1gAAHDok9ihu8N2wjh0DkwmWLIHwcLFHGSAjA4DCkin+28Z/C6UmIQFCQqCiAmpqxB7FVT4a1pMnUFQECgWsXSv2KPb4+UFqKgDI+BK8j4Z14gR0dcHChTB+vNijDELue0MfDUvK+0FecjKMHAllZdDYKPYoLvHFsJ49gxMnAADS08UeBaCnx/61UH9/SEkBxuDwYU+PJAhfDKuoCB4/hrg4iIoSexSA2FhYvhwqKuzcJOu9oS+GJan94JIlAIPUs2oVBAbC+fNw966HhxKAz4XV3d374hmJnA862CwFBkJSElgssjw39LmwfvkFHj2C2bNh+nSxRwEAgGXLICwMbt6Eqio7t8p3b+hzYUlqPwgASiWsXg0wSD1r1kBAAJw5Aw8eeHgud/lWWGYzHD0KIKWwwOFmSa2G+PgXY8uIb4V19izcvw/R0TBrltij9LFiBYSEwJ9/Qn29nVtlujf0rbD4b8+GDWLP0Z+fH6xaBQCQn2/n1rQ0UKmgtBRaWz08l1t8KCyLpfdio6T2gzwHm6XQUFi27MXJrFz4UFhlZbWRkf/MmmWZM0fsUQZITga1Gi5fhn/+sXNrRgbMmPH0yhWP/Gq2QHworLy8by9ciExJ2Sb2IHYEBEByMjBm/5JVenpzbW3Q/v1JnZ2dHh/NRT4UVn5+PgBkZKwTexD7HOwNx44do9FoTCZToXx+/d5XwiorK2toaIiIiJgv1ffcWLUK5s17BPBDU1PTwFszMjIA4JB8Tg59JSz+W5KRkcFxnNiz2BcUBOPGvXf2bPYRe7vD9evXcxxXWFj45MkTz8/mAl8J6/Dhw/Dfz71kOdgsRUREzJs378mTJ8XFxR6fyxU+Edb169dramrGjBmj0WjEnsWR1atXjxgx4vTp0w9t3n4JAOS2N/SJsPhvRnp6ulKpFHsWR0aNGhUfH9/T01NQUDDw1vXr1wPAsWPHnj175vHRnOYTYf38888g+f0gz8FmKSoqKjY2tr29vXTgWzFJj/eHVVtbW1lZGRISsnTpUrFnGVp6erpKpSopKWm19wyOjPaG3h8Wv7lKT08fMWKE2LMMbfTo0UuWLOnu7j7Bvyy/v40bNwLA0aNHe3p6PD6ac7w/LOuFBrEHGS4Hm6Xo6OiYmJiWlpYzZ854fC7neHlYf//999WrV9VqdUJCgtizDNe6desUCsWpU6fsPoEjl72hl4d16NAhxtjq1asDAgLEnmW4xo4du2jRoqdPn548eXLgrXxY+fn5ZrPZ46M5wfvDAof7wXq7L64Tm4PN0htvvBEdHd3c3Hz+/HmPz+UM5r3u3LnDcVxgYGBnZ6fdFU6dOqVUKnU63bNnzzw8m2ONjY0cxwUHBz9//nzgrZ988gkAbNmyxfODDZ83b7Hy8/MZYytXrnz55ZftrlBTU8Nx3N69e5cuXdrQ0ODh8RyYNGnSTz/9VF1d7efnN/BW6/aMSflN88QuG9Hbb78NAD/++KODdS5dujRlyhQAGDly5IEDBzw2mzssFktkZCQA/P7772LPMigv3GI1NDR88803ixcvvnnzpkqlcnz5at68eVevXs3Kynr8+HF2dnZOTo70X0zX2dn50ksvhYaGJiUl5eTkHDx4sKurS+yhBhC7bMFcu3ZNr9e/9tpr1k+NPxNUKBTbtm2ze7DSl9Fo5PeY06dP/+OPPzwzswsuXbo0depUAAgKCrJ+pmq1Oisriy9M7AF7yT6sGzdu6PX6mTNnWr/KISEhWq02Ly+vo6PDYDDwhylvvfVWXV2d47uqqqqKjY0FAD8/P71ebzabPfMpDJPFYjEYDPwG+M0336ytrW1oaDAYDBqNxvois4CAgNTUVKPR2NbWJu60cg2L7+nVV1+19hQaGqrVagsKCmxO8aw/4mq1+vvvv3d8tyaTSafT8d+nxMTEu3fvYn4STmhubk5JSQEAjuMGnsY2NjbyhSn++5tP/v7+iYmJBoOhqalJlIHlFJbZbD537pxOp4uIiLD2FBYWxvfU3d092H9sb2/ftGkTv75Wq+3o6HD8QEVFRWPHjgWA8PDwEydOCP15OK24uHjcuHH8J3v8+HEHaz548MBoNKamplpPJ5VKpUajMRgMHv4hkUFYPT09fE/8F5c3adIknU537ty54e+wrEdRUVFRFy5ccLxyU1NTUlLSYFsIj3n+/Ller+e3QwkJCf/+++8w/2NLSwtfmPXcRaFQaDSa3Nzcv/76C3VmnnTDMplYSQnT6dj8+S/+FlZUVBTfk8ViceE+nTqK4o9p+B/9uLi4IQ/RBFddXT1nzhwAUKlULh/ztba25uXlabXavhfzYmJi9Hp9TU2N4DNbSS6sri528CDLzGRqNQPo/UhMTPv888+vX7/u/v07exR1+fLl4R+iCchoNPLnfZMnTz5//rz7d9jV1VVQUKDVatVqtU1hlZWV7t+/DamE1dXFCgqYVsuCgl70FBPD9HpWVSX8wzl1FOXsIZqb2tvb3333Xf7hNmzY0NraKuz9P336lC8suM9fm50yZQq/KxDqUUQO69EjZjSyDRtYYKBtT7W1uA/d1NSUnJw8/KMowTchdl2+fHnatGn8BvK7775DehSe9eB1zJgx1sImT57szsGG1aBh7djBlErbhVu2sODgQdcHYMuX91v44YcsMtLOyg8fMqORpaayESN6Y1IomEbDDAZ2545T87ul75WhuLi42qFaFuSgR6hhBGT39GjixIk6na6kpMTB6bYDAocFwPpuTW3Cun2b7dvHUlOZStW7slLZ29O9ey4ML4y+R1FDbiRMJtPWrVv50zQBL3Q5u/lEwl/Q2bp1K/8F4Y0ePZq/oDPksxd9CRlWcDCbO5e9886LhX3Dun2bKRS9PQUEsDVrmNHIHj0a/qiInD2sKS4uth6iFRYWuvnoUrtsxuMvQU/v81atr7zyit1L0HYJHNbhwwyAXbzYu9Bmi7VwIUtNZUYja28fcjAROHUU1dzc7P42Bmn7J6zy8vIdO3bMmDHDWtioUaNycnKOHDni4LMeIqwHD/p9fPDBEGFZLGz2bLZyZe/CwY6xJMupo6iBT9459VhVVVX8Y0nzqcmB6uvr+z416e/v7+AZSUdhWU/T+n44DosxlpfHABj/+gDZhcWcv9h94cKFqKgo/smA4W+3nHoaQGrq6upyc3M//vhjB+s4CkuhYCUl/T7WrRs6LIuFxcSwtDTG5BkWz3oUFRYWNuRRVFtbW1ZWVl5e3nDu2cNXxcQi8DEW74cfGMexigoZh8UEOoqy4dRLLWQN5RWkmZkQHQ27d2Pct+fw52j804V79+5dtGhRXV2dy/fGGONf11pfXx8XF1deXp6dnS3gtJIzWHHubLEYY0Yj4zi2bJmMt1hWV65csV4N37dvnwv3IJHXSniSi2F1drL33mMTJrCgIJaQwKqrbcPq7mZTpzIAbwiLMca/Ip7/UXT2+bujR4+GhoYCQHh4+MmTJ/GGlBQXd4VdXRAWBidPwq1bMG0aZGbarqBSwfbtLm9GJYc/JOIvdB08eHDOnDnD+X1Rk8m0ZcuW9PT0lpaWFStWVFRU8AdtPsH9NhsbGccxZy73y9itW7cWLFgAw7jQZX3tl7+/f25urvQvUwlLgLDy8tjMme7fjWz0vdAVHx9v90JX39/5KS8v9/yQonM3rHv32MSJ7NgxQYaRk5KSEruvQ+evafF7Ay++TDUkt8Jqa2Oxsezrr4UaRmZsfnPGZDJdvHhRdr9XjcT1sLq62OLFbPt2AYeRH7PZ/NVXX/Gvi58wYYJKpQKABQsW3Lp1S+zRRMYxl95Yorsb1qyB0aNh//7eJfJ5/ynhlZWV8c/S1NfXb968ec+ePXbfzMOnuBjWjRvw+uv9lty+DRMmCDOTHD1+/Lizs7Ojo2O6RP7WtNhcDIsQx7zw3WaIFFBYBAWFRVBQWAQFhUVQUFgEBYVFUFBYBAWFRVBQWAQFhUVQUFgEBYVFUFBYBAWFRVBQWAQFhUVQUFgEBYVFUFBYBAWFRVBQWAQFhUVQUFgEBYVFUFBYBAWFRVBQWAQFhUVQUFgEBYVFUFBYBAWFRVBQWAQFhUVQUFgEBYVFUFBYBAWFRVBQWAQFhUVQUFgEBYVFUFBYBAWFRVBQWAQFhUVQUFgEBYVFUFBYBAWFRVBQWAQFhUVQUFgEBYVFUFBYBAWFRVBQWAQFhUVQ/B9QZOWS7xxRFwAAAABJRU5ErkJggg==\" alt=\"Mol\"/></td>\n",
       "      <td>ABL1</td>\n",
       "      <td>Abl</td>\n",
       "      <td>TK</td>\n",
       "      <td>2f4j</td>\n",
       "      <td>VX6</td>\n",
       "      <td></td>\n",
       "      <td>A</td>\n",
       "      <td>AP</td>\n",
       "      <td>AP AP AP AP AP AP AP AP AP AP AP AP AP SE</td>\n",
       "      <td>5 5 14 14 14 14 14 14 14 8 8 8 8 na</td>\n",
       "      <td>Cc1cc(N)[nH]n1</td>\n",
       "      <td>[22*]Nc1cc(C)n[nH]1</td>\n",
       "    </tr>\n",
       "    <tr>\n",
       "      <th>3</th>\n",
       "      <td><img data-content=\"rdkit/molecule\" src=\"data:image/png;base64,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\" alt=\"Mol\"/></td>\n",
       "      <td>ABL1</td>\n",
       "      <td>Abl</td>\n",
       "      <td>TK</td>\n",
       "      <td>2gqg</td>\n",
       "      <td>1N1</td>\n",
       "      <td>B</td>\n",
       "      <td>A</td>\n",
       "      <td>AP</td>\n",
       "      <td>AP AP AP AP AP AP AP AP AP AP GA SE</td>\n",
       "      <td>14 14 14 6 5 5 14 14 14 6 na na</td>\n",
       "      <td>Nc1ncc(C=O)s1</td>\n",
       "      <td>[15*]Nc1ncc(C([41*])=O)s1</td>\n",
       "    </tr>\n",
       "    <tr>\n",
       "      <th>4</th>\n",
       "      <td><img data-content=\"rdkit/molecule\" src=\"data:image/png;base64,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\" alt=\"Mol\"/></td>\n",
       "      <td>ABL1</td>\n",
       "      <td>Abl</td>\n",
       "      <td>TK</td>\n",
       "      <td>2v7a</td>\n",
       "      <td>627</td>\n",
       "      <td></td>\n",
       "      <td>B</td>\n",
       "      <td>AP</td>\n",
       "      <td>AP AP AP AP AP AP AP AP AP AP AP AP AP AP AP A...</td>\n",
       "      <td>8 8 8 8 8 5 5 6 6 8 8 8 8 8 8 8 8 8 8 3 3 3 3 ...</td>\n",
       "      <td>COCC(=O)n1cc2[nH]nc(NC=O)c2c1</td>\n",
       "      <td>[8*]C(=O)Nc1n[nH]c2cn(C(=O)[C@@H]([46*])OC)cc12</td>\n",
       "    </tr>\n",
       "  </tbody>\n",
       "</table>\n",
       "</div>"
      ],
      "text/plain": [
       "                                               ROMol kinase family  group  \\\n",
       "0  <img data-content=\"rdkit/molecule\" src=\"data:i...   AAK1    NAK  Other   \n",
       "1  <img data-content=\"rdkit/molecule\" src=\"data:i...   AAK1    NAK  Other   \n",
       "2  <img data-content=\"rdkit/molecule\" src=\"data:i...   ABL1    Abl     TK   \n",
       "3  <img data-content=\"rdkit/molecule\" src=\"data:i...   ABL1    Abl     TK   \n",
       "4  <img data-content=\"rdkit/molecule\" src=\"data:i...   ABL1    Abl     TK   \n",
       "\n",
       "  complex_pdb ligand_pdb alt chain subpocket  \\\n",
       "0        5l4q        LKB   B     A        AP   \n",
       "1        5te0        XIN         A        AP   \n",
       "2        2f4j        VX6         A        AP   \n",
       "3        2gqg        1N1   B     A        AP   \n",
       "4        2v7a        627         B        AP   \n",
       "\n",
       "                                     atom_subpockets  \\\n",
       "0  AP AP AP AP AP AP AP AP AP AP AP AP AP AP AP F...   \n",
       "1  AP AP AP AP AP AP AP AP AP AP AP AP AP AP AP A...   \n",
       "2          AP AP AP AP AP AP AP AP AP AP AP AP AP SE   \n",
       "3                AP AP AP AP AP AP AP AP AP AP GA SE   \n",
       "4  AP AP AP AP AP AP AP AP AP AP AP AP AP AP AP A...   \n",
       "\n",
       "                                   atom_environments  \\\n",
       "0   16 16 16 16 16 16 16 16 16 16 16 16 16 5 5 na na   \n",
       "1  7 7 7 7 7 7 7 7 7 7 7 7 7 7 7 7 7 7 7 7 7 7 7 ...   \n",
       "2                5 5 14 14 14 14 14 14 14 8 8 8 8 na   \n",
       "3                    14 14 14 6 5 5 14 14 14 6 na na   \n",
       "4  8 8 8 8 8 5 5 6 6 8 8 8 8 8 8 8 8 8 8 3 3 3 3 ...   \n",
       "\n",
       "                             smiles  \\\n",
       "0                 Nc1c[nH]c2ncccc12   \n",
       "1  N/C(=C1\\C(=O)Nc2ccccc21)c1ccccc1   \n",
       "2                    Cc1cc(N)[nH]n1   \n",
       "3                     Nc1ncc(C=O)s1   \n",
       "4     COCC(=O)n1cc2[nH]nc(NC=O)c2c1   \n",
       "\n",
       "                                smiles_dummy_atoms  \n",
       "0                    [11*]c1cnc2[nH]cc(N[27*])c2c1  \n",
       "1     [12*]N/C(=C1\\C(=O)Nc2cc([20*])ccc21)c1ccccc1  \n",
       "2                              [22*]Nc1cc(C)n[nH]1  \n",
       "3                        [15*]Nc1ncc(C([41*])=O)s1  \n",
       "4  [8*]C(=O)Nc1n[nH]c2cn(C(=O)[C@@H]([46*])OC)cc12  "
      ]
     },
     "execution_count": 10,
     "metadata": {},
     "output_type": "execute_result"
    }
   ],
   "source": [
    "fragment_library_concat = fragment_library_wo_dummy_concat.copy()\n",
    "fragment_library_concat['smiles_dummy_atoms'] = fragment_library_w_dummy_concat.smiles\n",
    "print(fragment_library_concat.shape)\n",
    "fragment_library_concat.head()"
   ]
  },
  {
   "cell_type": "markdown",
   "metadata": {},
   "source": [
    "## Save concatenated fragment library"
   ]
  },
  {
   "cell_type": "code",
   "execution_count": 11,
   "metadata": {},
   "outputs": [],
   "source": [
    "fragment_library_concat.drop('ROMol', axis=1).to_csv(PATH_DATA / 'fragment_library' / 'fragment_library.csv', index=False)"
   ]
  }
 ],
 "metadata": {
  "kernelspec": {
   "display_name": "kinfraglib",
   "language": "python",
   "name": "kinfraglib"
  },
  "language_info": {
   "codemirror_mode": {
    "name": "ipython",
    "version": 3
   },
   "file_extension": ".py",
   "mimetype": "text/x-python",
   "name": "python",
   "nbconvert_exporter": "python",
   "pygments_lexer": "ipython3",
   "version": "3.7.6"
  }
 },
 "nbformat": 4,
 "nbformat_minor": 4
}
