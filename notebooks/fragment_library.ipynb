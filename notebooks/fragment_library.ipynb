{
 "cells": [
  {
   "cell_type": "markdown",
   "metadata": {},
   "source": [
    "# Fragment library"
   ]
  },
  {
   "cell_type": "markdown",
   "metadata": {},
   "source": [
    "## Aim of this notebook\n",
    "\n",
    "From the subpocket-based fragment pools (SDF files), create one DataFrame holding all fragment data (including a column for the fragments' subpocket as wells as both SMILES with and without dummy atoms)."
   ]
  },
  {
   "cell_type": "code",
   "execution_count": 1,
   "metadata": {},
   "outputs": [],
   "source": [
    "%load_ext autoreload\n",
    "%autoreload 2"
   ]
  },
  {
   "cell_type": "code",
   "execution_count": 2,
   "metadata": {},
   "outputs": [],
   "source": [
    "from pathlib import Path\n",
    "\n",
    "import pandas as pd\n",
    "from rdkit.Chem import PandasTools\n",
    "\n",
    "import klifs_utils\n",
    "from util import read_fragment_library"
   ]
  },
  {
   "cell_type": "code",
   "execution_count": 3,
   "metadata": {},
   "outputs": [],
   "source": [
    "# Needed to display ROMol images in DataFrames\n",
    "PandasTools.RenderImagesInAllDataFrames(images=True)"
   ]
  },
  {
   "cell_type": "code",
   "execution_count": 4,
   "metadata": {},
   "outputs": [],
   "source": [
    "PATH_DATA = Path('.') / '..' / 'data' / 'fragment_library'\n",
    "PATH_DATA.mkdir(parents=True, exist_ok=True)"
   ]
  },
  {
   "cell_type": "markdown",
   "metadata": {},
   "source": [
    "## Load fragment library\n",
    "\n",
    "`fragment_library_wo_dummy` and `fragment_library_w_dummy` are dictionaries of fragments (values) per subpocket (keys) without and with dummy atoms. In the former case, dummy atoms were replace with hydrogen atoms.\n",
    "\n",
    "The following data is linked to each fragment:\n",
    "\n",
    "- *PDB complex* and *ligand ID*, *alternate model* and *chain* for the structure that the ligand (from which the fragment originates) was co-crystallized with (data from [KLIFS](https://klifs.vu-compmedchem.nl/index.php)) \n",
    "- *Kinase* name, *family* and *group* of the kinase the ligand (from which the fragment originates) was co-crystallized with\n",
    "- *Subpocket* occupied by the fragment\n",
    "- Subpockets for each of the fragment's atoms (including the dummy atom's subpockets which show the connection of the fragment to neighboring pockets, column: *atom_subpockets*)\n",
    "- BRICS environment IDs for each of the fragment's atoms (column: *atom_environments*)\n",
    "- Fragment's *RDKit molecule* (remote KLIFS access) and *SMILES* (generated from RDKit molecule)"
   ]
  },
  {
   "cell_type": "code",
   "execution_count": 5,
   "metadata": {},
   "outputs": [
    {
     "name": "stdout",
     "output_type": "stream",
     "text": [
      "dict_keys(['AP', 'FP', 'SE', 'GA', 'B1', 'B2', 'X'])\n",
      "Example fragments for subpocket AP:\n"
     ]
    },
    {
     "data": {
      "text/html": [
       "<div>\n",
       "<style scoped>\n",
       "    .dataframe tbody tr th:only-of-type {\n",
       "        vertical-align: middle;\n",
       "    }\n",
       "\n",
       "    .dataframe tbody tr th {\n",
       "        vertical-align: top;\n",
       "    }\n",
       "\n",
       "    .dataframe thead th {\n",
       "        text-align: right;\n",
       "    }\n",
       "</style>\n",
       "<table border=\"1\" class=\"dataframe\">\n",
       "  <thead>\n",
       "    <tr style=\"text-align: right;\">\n",
       "      <th></th>\n",
       "      <th>ROMol</th>\n",
       "      <th>kinase</th>\n",
       "      <th>family</th>\n",
       "      <th>group</th>\n",
       "      <th>complex_pdb</th>\n",
       "      <th>ligand_pdb</th>\n",
       "      <th>alt</th>\n",
       "      <th>chain</th>\n",
       "      <th>atom_subpockets</th>\n",
       "      <th>atom_environments</th>\n",
       "      <th>smiles</th>\n",
       "    </tr>\n",
       "  </thead>\n",
       "  <tbody>\n",
       "    <tr>\n",
       "      <th>0</th>\n",
       "      <td><img data-content=\"rdkit/molecule\" src=\"data:image/png;base64,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\" alt=\"Mol\"/></td>\n",
       "      <td>AAK1</td>\n",
       "      <td>NAK</td>\n",
       "      <td>Other</td>\n",
       "      <td>5l4q</td>\n",
       "      <td>LKB</td>\n",
       "      <td>B</td>\n",
       "      <td>A</td>\n",
       "      <td>AP AP AP AP AP AP AP AP AP AP AP AP AP AP AP F...</td>\n",
       "      <td>16 16 16 16 16 16 16 16 16 16 16 16 16 5 5 na na</td>\n",
       "      <td>Nc1c[nH]c2ncccc12</td>\n",
       "    </tr>\n",
       "    <tr>\n",
       "      <th>1</th>\n",
       "      <td><img data-content=\"rdkit/molecule\" src=\"data:image/png;base64,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\" alt=\"Mol\"/></td>\n",
       "      <td>AAK1</td>\n",
       "      <td>NAK</td>\n",
       "      <td>Other</td>\n",
       "      <td>5te0</td>\n",
       "      <td>XIN</td>\n",
       "      <td></td>\n",
       "      <td>A</td>\n",
       "      <td>AP AP AP AP AP AP AP AP AP AP AP AP AP AP AP A...</td>\n",
       "      <td>7 7 7 7 7 7 7 7 7 7 7 7 7 7 7 7 7 7 7 7 7 7 7 ...</td>\n",
       "      <td>N/C(=C1\\C(=O)Nc2ccccc21)c1ccccc1</td>\n",
       "    </tr>\n",
       "  </tbody>\n",
       "</table>\n",
       "</div>"
      ],
      "text/plain": [
       "                                               ROMol kinase family  group  \\\n",
       "0  <img data-content=\"rdkit/molecule\" src=\"data:i...   AAK1    NAK  Other   \n",
       "1  <img data-content=\"rdkit/molecule\" src=\"data:i...   AAK1    NAK  Other   \n",
       "\n",
       "  complex_pdb ligand_pdb alt chain  \\\n",
       "0        5l4q        LKB   B     A   \n",
       "1        5te0        XIN         A   \n",
       "\n",
       "                                     atom_subpockets  \\\n",
       "0  AP AP AP AP AP AP AP AP AP AP AP AP AP AP AP F...   \n",
       "1  AP AP AP AP AP AP AP AP AP AP AP AP AP AP AP A...   \n",
       "\n",
       "                                   atom_environments  \\\n",
       "0   16 16 16 16 16 16 16 16 16 16 16 16 16 5 5 na na   \n",
       "1  7 7 7 7 7 7 7 7 7 7 7 7 7 7 7 7 7 7 7 7 7 7 7 ...   \n",
       "\n",
       "                             smiles  \n",
       "0                 Nc1c[nH]c2ncccc12  \n",
       "1  N/C(=C1\\C(=O)Nc2ccccc21)c1ccccc1  "
      ]
     },
     "execution_count": 5,
     "metadata": {},
     "output_type": "execute_result"
    }
   ],
   "source": [
    "# Get fragment library by subpocket\n",
    "fragment_library_wo_dummy = read_fragment_library(PATH_DATA)\n",
    "\n",
    "print(fragment_library_wo_dummy.keys())\n",
    "print(f'Example fragments for subpocket AP:')\n",
    "fragment_library_wo_dummy['AP'].head(2)"
   ]
  },
  {
   "cell_type": "code",
   "execution_count": 6,
   "metadata": {},
   "outputs": [],
   "source": [
    "# Get fragment library by subpocket with dummy atoms\n",
    "fragment_library_w_dummy = read_fragment_library(PATH_DATA, remove_dummy=False)"
   ]
  },
  {
   "cell_type": "markdown",
   "metadata": {},
   "source": [
    "## Concatenate all subpocket pools to one DataFrame"
   ]
  },
  {
   "cell_type": "code",
   "execution_count": 7,
   "metadata": {},
   "outputs": [],
   "source": [
    "def concatenate_subpocket_pools(fragment_library):\n",
    "    \"\"\"\n",
    "    Concatenate subpocket pools of fragments to one DataFrame with all fragments.\n",
    "    \n",
    "    Parameters\n",
    "    ----------\n",
    "    fragment_library : dict of pandas.DataFrame\n",
    "        Dictionary of fragments (values = DataFrames) per subpocket (keys).\n",
    "    \n",
    "    Returns\n",
    "    -------\n",
    "    fragment_library_concat : pandas.DataFrame\n",
    "        Fragment library in one DataFrame.\n",
    "    \"\"\"\n",
    "\n",
    "    # Add subpocket column\n",
    "    for subpocket, fragments in fragment_library.items():\n",
    "        \n",
    "        try:\n",
    "            fragments.insert(8, 'subpocket', subpocket)\n",
    "        except ValueError:\n",
    "            pass\n",
    "\n",
    "    # Concatenate dictionary values (i.e. DataFrames)\n",
    "    fragment_library_concat = pd.concat(fragment_library)\n",
    "    \n",
    "    # Reset index\n",
    "    fragment_library_concat.reset_index(drop=True, inplace=True)\n",
    "    \n",
    "    return fragment_library_concat"
   ]
  },
  {
   "cell_type": "code",
   "execution_count": 8,
   "metadata": {},
   "outputs": [
    {
     "data": {
      "text/plain": [
       "(7486, 12)"
      ]
     },
     "execution_count": 8,
     "metadata": {},
     "output_type": "execute_result"
    }
   ],
   "source": [
    "fragment_library_wo_dummy_concat = concatenate_subpocket_pools(fragment_library_wo_dummy)\n",
    "fragment_library_wo_dummy_concat.shape"
   ]
  },
  {
   "cell_type": "code",
   "execution_count": 9,
   "metadata": {},
   "outputs": [
    {
     "data": {
      "text/plain": [
       "(7486, 12)"
      ]
     },
     "execution_count": 9,
     "metadata": {},
     "output_type": "execute_result"
    }
   ],
   "source": [
    "fragment_library_w_dummy_concat = concatenate_subpocket_pools(fragment_library_w_dummy)\n",
    "fragment_library_w_dummy_concat.shape"
   ]
  },
  {
   "cell_type": "markdown",
   "metadata": {},
   "source": [
    "## Merge data frames: Fragment info with and without dummy atoms"
   ]
  },
  {
   "cell_type": "code",
   "execution_count": 10,
   "metadata": {},
   "outputs": [
    {
     "name": "stdout",
     "output_type": "stream",
     "text": [
      "(7486, 13)\n"
     ]
    },
    {
     "data": {
      "text/html": [
       "<div>\n",
       "<style scoped>\n",
       "    .dataframe tbody tr th:only-of-type {\n",
       "        vertical-align: middle;\n",
       "    }\n",
       "\n",
       "    .dataframe tbody tr th {\n",
       "        vertical-align: top;\n",
       "    }\n",
       "\n",
       "    .dataframe thead th {\n",
       "        text-align: right;\n",
       "    }\n",
       "</style>\n",
       "<table border=\"1\" class=\"dataframe\">\n",
       "  <thead>\n",
       "    <tr style=\"text-align: right;\">\n",
       "      <th></th>\n",
       "      <th>ROMol</th>\n",
       "      <th>kinase</th>\n",
       "      <th>family</th>\n",
       "      <th>group</th>\n",
       "      <th>complex_pdb</th>\n",
       "      <th>ligand_pdb</th>\n",
       "      <th>alt</th>\n",
       "      <th>chain</th>\n",
       "      <th>subpocket</th>\n",
       "      <th>atom_subpockets</th>\n",
       "      <th>atom_environments</th>\n",
       "      <th>smiles</th>\n",
       "      <th>smiles_dummy_atoms</th>\n",
       "    </tr>\n",
       "  </thead>\n",
       "  <tbody>\n",
       "    <tr>\n",
       "      <th>0</th>\n",
       "      <td><img data-content=\"rdkit/molecule\" src=\"data:image/png;base64,iVBORw0KGgoAAAANSUhEUgAAAMgAAADICAIAAAAiOjnJAAAABmJLR0QA/wD/AP+gvaeTAAAW1ElEQVR4nO2de1gU1xmHf7MXEHW9QIyC0YiCF0RjVKxKIYk3ooEYMYltIm1tjLY2giaxNiaV+ESjibVZ2/rUmD5pUWOiqRdIA95QAZsKYkmbVRTQpCpeUMMK4baw+/WPIQuyF9hlz8wsnPfhD585x5mP5d35zpxz5hyBiMDheBqV3AFwOiZcLA4TuFgcJnCxOEzgYnGYwMXiMIGLxWECF4vDBC4WhwlcLA4TuFgcJnCxOEzgYnGYwMXiMIGLxWECF4vDBC4WhwlcLA4TuFgcJnCxOEzgYnGYwMXiMIGLxWECF4vDBC4WhwlcLA4TuFgcJnCxOEzgYnGYwMXiMIGLxWECF4vDBC4WhwlcLA4TuFgcJnCxOEzgYrFCEJCRcc+RjAwIgkzRSA4Xi8MELhaHCVwsDhO4WBwmCHxnCkY4aqd3ks+b37EYkp4Ooqaf9HS5A5IQLhaHCVwsDhO4WBwmcLE4TOBPhRwm8DsWhwlcLFYIAhYvvucIH4TmeIZt21pOcOg8cLEYotdj7Vq5g5AJLhZDhg5FeDg2b5Y7DjngYrFlxQosWyZ3EHLAxWJLSAj0+s5409LIHUDHJykJgoAnnmg6YrFA1dG/0R3995Oc48cxezZMpnsO6vXYuLHx3xYLYmLw5pswm6WPTjq4WB7DbMbq1Zg+HWlp2LbtnqKkJBgMKCoCgGPHcOwY1qzBlCm4fFmWSCWBOJ7gyhWKjiaAVCpauZIaGgig9PSmCunpBJD4eWdmUv/+BFDPnrRzp1whs4WL5QEOH6a+fQmgvn3p0KHGgy3EIqJFi8j6RS4vp3nzGlVLSKCKCkkDlgAuVruor6fkZFKpCKBp0+j6ddf+e0oKdetGAA0aRCdPsglRJrhY7vPNNzRpEgGk0VByMpnN7pyksJDGjm06SUODp6OUCS6Wm+zdS717E0ADB9I//9muU5lMTbe9SZPo4kUPhSgrXCyXqamhxMTG5tGcOfTtt5457dGjTS36jz7yzDllhIvlGoWFNHo0AdSlC+n1Hj75rVs0e3ZTi76y0sPnlxIulgtY29rDhtGXXzK/ile36KUTC6BFi+45InbteAUVFfT889LdSwoL6eGHvbtFL6lYdvsMlc+ZM1+OGmUGqHt32rFDoovW1tLLL5MgkEZT/9xziZcvX5bowh5CUrH0epo8uemIV4j1/vvv+/r6RkWljBxJBoPUVz90iOLi1gHo3bv3p59+KvXl24GkYqWn06JFTW1ehYt1586d2bNniwNfL730Uk2NW/1U7ebWrVtPPvmkGEZCQkKllzTppRaruLhJJqtY1dWSRdFWcnNzg4ODAfTs2XP37t1yh0MpKSndunUDEBwc/M929ptJgtRiEZFe33jTEsWqqiKNhgYPpoQE0uspJ4eqqiQLyg4Wi0Wv12u1WgAREREXFdNfWVhY+PDDDwPQaDTJyckNym7SyyCW+O/i4kaxCgpIq21s2os/Gg2NGUMLF9LWrZSfTyaTZDHSzZs3H3/8cQCCICQmJpqkvHYbMJlMycnJKpUKwKOPPnrlyhW5I3KIPGLp9bRoUVMqrK8ng4FSUigxkSIjycenpWdhYU33s7o6VhFmZmYGBgYC6NOnT3qLmQlK4ujRo0FBQWKa3rVrl9zh2EcesYho8mTS6+033quq6ORJ0utp/nwaPrxxEM3607UrRUZSUhLt2EHnz1eZ3Rv7vZf6+nrrneCxxx4rLS1t/zmZovwWvRRiiW1zJxPfnFNZSTk5pNdTQgKFhZEgNEn26KOrdDpdZGRkYmJiSkqKwWCwWCyuhnf58uUf/vCHANRqtfLbLs1RcoueuVgbNlB4OF2+3MrEt7Zz5w4dOkTr1tGcOTRt2o9bTIgNCAiIiYl5/fXX9+/f35YmSGpqqr+/P4AHHnggOzvb5Wjk5ty5c8ps0bMV66OPSBBIpaJ9+1hdory8PCcnZ8OGDbGxsf369WvhWa9evaZNm5acnJyWlnbjxo3m/7G2tjYxMVEQBABxcXG3b99mFSJjamtrV65cac3jCmnRMxTr+HHy9SWAfv97dhdpyeXLl/ft2/faa69Nnz69d+/eLTwbOHBgfHz8+vXrd+7cOWHCBABarTY5OdkjDTV5OXjwoPi96tev33fffSd3OMzEMhioVy8C6OWXGV2hTZSWlqalpSUnJ8fGxoopT0TspgoJCcnPz5czPo9SVlY2fPjw4ODgI0eOyB0LG7GuXqUBAwigZ591ecIuu154s9l87ty57du3L126VKfTAcjJyWF1MZkYPXo0gIMHD8odCAOx7t5tnAoXHU01Na793/p68vOjwECKjaXkZDpyhBjd1JcsWQLgtddeY3J2mfj666/Fzq06dn19bcbDYtXV0dSpBFBYmDtzdouKGptlzXtHR42iBQtoyxbKy6PaWs/Eefz4cQCDBw/2zOkk5OzZs46Kfve73wF47rnnpIzHEZ4Uy2Kh+fMJoKAg+uYbN09iMtGZM7R1Ky1cSGPGkEZzj2daLY0bR4sXU0rKnYKCgvr6eveuYjabxU72f//7324GKgcFBQUAoqOj7ZZGRkYCUMjsGk+KtXw5AdSjBxUUeOycJlPTaM+4caRWNxoWGbldbIOHhYUlJCTo9fr8/HyXenF+9atfeV02/O1vfwvgl7/8pW3RjRs31Gq1r69vhTJefvWYWFu2NN5RDh/21CntUFlJWVm0aRO9+mpKaGiocO+anjqdLjo6+pVXXvn444+Li4udn+rEiRNelw3Dw8MBHLb3Eb///vtih5z0UdnFM2Lt2UMqFQkCpaR45Hxtpby8/OjRo+vXr587d+6DDz5ot3fUUX+612XD4uJi8Zey2zYXJ2V8+OGH0gdmFw+IlZ1NXboQQO+80/6TtQuj0ZiTk6PX6xMSEsRpegCOHz/uqL53ZcN3330XwPz5822LKioqfH191Wp1WVmZ9IHZpb1inT1L/v4E0OLFHonHk1y9evXAgQNOuqG9KxtOmjQJwN69e22Ldu3aJc7Qkj4qR7RLrGvXqgcObHwhWDGjny7gRdnwxo0bKpXKz8/P7vfkmWeeAbB582bpA3OE+wuvVVZWzpo1edCgfRMnYudOqNVun0k2VCpVfHw8gE8//VTuWFph//79FotlxowZ4jyZ5tTV1R08eBBAXFycHKE5wD0f6+rqpk2bBmDYsGG3b9/1rOxS4i3ZcMaMGQD+9re/2RZ99tlnAMaNGyd9VE5wRyyLxfLTn/4UQJ8+fVp9qlc4ZrNZnOZ75swZuWNxiNFo9PHxUavVt27dsi39+c9/DmDt2rXSB+YEd8RauXIlAJ1Op+Q/RtsRnw1/85vfyB2IQ3bu3AlgypQptkUNDQ19+vQB4GSoRxZcFmvr1q0AtFqtEobQPYLys+HcuXMB/PGPf7QtEoMPDQ2VPirnuCZWWlqaWq0WBEE5HXHtR+HZsKamRqfTCYJgd/mGpKQkACtXrpQ+MOe4IFZubq74SKK0dN5+lJwNU1NTAURERNgtFfuBT506JXFUrdJWsYqLi++//34AL774ItOAZEHJ2fBnP/sZgLffftu26MyZMwCCgoLceDeJNW0Sq6ysLCQkBMATTzzh9kwVJaPYbNjQ0HDfffcBKCwstC194403ACxZskT6wFql9Q7SysrKxx9/vKSkJCIiYvfu3RpNB9x+R6VSzZkzB8rrKc3Ozr59+/bQoUOHDx9uW7p//34AYuSKw7l3JpNJHDYfMmRIi9enOhjWbKiotLJ06VI4GCZ3PtlBdpyJZbFYFixYAOC+++67cOGCZDHJggKzocViGThwIIC8vDzb0nfeeQdAQkKC9IG1BWdiiSm8a9euX3zxhWQByYjSng1Pnz4NoH///nZvohMnTgSwj92rwO3DoVhib69Go/nHP/4hZUAyorRsuGrVKgAvvfSSbdH169edTHZQAg4b74IgBAQErFq16onmWzh2aKKiooKCgi5duiS+syA7Ttrm4mSHmJgY28kOCsGhWEePHr1z506HfAZ0hKKeDYuLiwsLC/39/aOjo21LFf08CMCJWOLcMSV8xFIi/tZ79uwhInkj2bt3L4C4uDjb77bRaMzKytJoNLNmzZIjtLbhKEeaTCZxsYNz587ZrWA2m4uKililaJlQzrOhuGbJgQMHbIt27NgBYOrUqdJH1XYc3rG0Wq24GLXdm1Z5efmAAQMiIiLq6uoYGS8LCsmGpaWlp0+f7tq16/Tp021LlZ8HAacdpOnp6QDCw8PtlorrfaWlpbExXjaU8Gz4pz/9CUB8fLxtUXV1dbdu3RxNdlAOzoZ0pk2b5u/vbzAYCgsLbUs7aiNMCc+GTu5Jhw8frqqqioiIGDBggORxuYAzsbRa7VNPPQUH9sybNw9AampqbW0to+BkQfY3LIxGY3Z2tlartdvR4x15EK2NFWZkZKDzZcOsrCwAwcHBsmTDrKysHj16TJ8+3bbI+WQHRdH6ILSTZ8O3334bCh6uchvZnw1ra2vtLiWamZkJYMSIEdKH5CqtTJvh2VCWAHx9fR944AHb416TB9GG9wp5NpQ7lkYsFovYYD99+rTcsbRO62JZs6HdF4x4NpSMvLw8OJ7soDRan0FqzYZ///vfbUt5NpQMMQ/Gx8e3WBVMobTFPp4N5Y6FiEicnXzs2DG5A2kTbRLLZDIFBASgs2ZDJawFf+HCBQABAQHe8jJLm1absY4bdrxsaDabHRUpKhs6meygTARq2/yQgwcPzpw5Mzw8/KuvvrItHTt2bEFBQVpamrJW0mmNjz/++L333vvss8/69u1rt0J2dvYjjzzi7+//4osvikcqKirsumg2mysqKuyepLq62tFQvdFotPv5m0ymqqqq5keuX79eU1OzZ88ecSTNC2jjna3jZcMjR474+PgA+Mtf/uKoTmZmpp+fn+2ePLKgVqsXLlwo5UfUHtp6xwLwwgsvfPjhh2vWrFm9enWLokuXLg0ZMkSn05WVlXXp0sXTH6nnMRgMUVFRRqNxxYoV4tqetvz3v/+Njo6+e/duTEzMY489Jh7U6XR2k5Fare7Ro4fd8/j5+Tn6THr16mX3EU+r1Xbv3r35kQsXLsydO7empmbXrl0//nHLzfSUSNsd7DDPhleuXBF7GufNm+do36+rV6+KdZ599lmF7A0mzqXp2bPnpUuX5I6ldVwQq2NkQ6PROGrUKACPPPJIrYMdVIxGo7jbUXR0tKM6svCjH/0IgDi/Uu5YWsG1ZYzExePWrFljW3Tx4kUAOp2uxtWdmSSkpqYmKioKwMiRI791sNdPXV3d1KlTAYSFhTmqIxfl5eXi8jKvvvqq3LG0gmtieXU2NJvNTz/9NID+/fv/73//s1vHYrHMnz8fQFBQkKM68pKbm+vj4yMIgmI/ZxHXxPLqbLhs2TIAPXr0+PLLLx3VWb58uVinwIP7AXmaDRs2AOjTp09paancsTjE5aUivTQbbty4EYCPj4+T3Uc3bdoEQKvV2t2sRjlYLJbY2Fixmaic3cVb4LJY3pgNP/nkE5VKJQjC9u3bHdXZvXu3WCdF4v2A3KKsrEwcbrL7DVcCLovlddnwxIkTvr6+ADZt2uSoTlZWltjV9O6770oZW3s4ceKEWq1WqVSZmZlyx2IHd5bj9qJsaDAYxH5zu3v8iZw9e1as84tf/ELK2NqPuBxQ//797a7/Li/uiOU8G44dOxZAampq+wLzAKWlpeL6Uk8++aSjtkhpaam4H11cXJxi2yuOMJvNU6ZMATBz5kyFzO2x4o5YzrPh+vXr4WD3Mym5e/fuQw89BCAqKsrR7fPu3btjxowB8IMf/KCqqkriCD3ClStXxPd2nCR6WXBzL50XXngBwJtvvmlbpIRsaN3qZ8SIEXfu3LFbx2QyiS+wh4SEKGebPzf4/PPPBUHQarWKWh/PTbHE7aZGjhxpt1TebGixWBISEgAEBgZ+42DTc4vF8pOf/ESs8/XXX0sboOdZvny5Wu0zZ06O0Sh3KN/jplitZsN+/frJ9dz+yiuviLdMJ7sQ/vrXv261jhdRV1f39NPXAXrmGblD+R73N8J0kg2rq6vlmhHw5z//WezkPHTokKM6HW87ICIqKaGePQmgrVvlDoWI2iOW82woC6mpqeJWP3b39ROxbgf017/+VcLQpGDPHgKoSxdSwnCU+2LV19eLzyMK2dDs1KlTXbt2BbB+/XpHdXJzc8U669atkzI2yVi4kAAKDaWKCpkjadee0E6yocScO3dOfKt20aJFjuoUFxeLW/t1yO2ARGpq6KGHCKAFC2SOpF1iKSQbXrt2bdCgQQBiY2MdvR3V4bcDsmIwUNeuBJDjcVEpaJdY9fX1sm/vWVFRIY58T5gwwdGi5xUVFWIPSEREhGIXRvcgH3xAAHXvTjIudtQusUgB2VB8DBw6dKij8TKTyRQTEwNgyJAhN2/elDg8uXj+eQJo1CiqrpYngPaKpYRs+Ic//OHixYt2izrVdkDNqaykYcMIoKVL5QmgvWKJPaUajWbGjBlvvfVWRkaGokbaX3/9dXSm7YCak59Pvr4EkCzb7bRXLCI6derU+PHjm79SFhgYGBsbm5ycnJaWJqNn27ZtA6BWq+2ult4ZeO89AqhXL5J+1MqFF1adUFJSkpeXl5+fn5+fX1BQ8N1331mLBEEIDQ0d/z1jx46VZvuXzz///KmnnmpoaNiyZcuSJUskuKICIUJ8PA4cwIQJOHkSWq2k1/Y8Fy9eTElJSUxMjIyMFDskrajV6rCwsISEBL1en5OTU82mbZmXlyfqm5yczOL8XsS339KDDxJA9jbTZIhn7lhOaGhouHDhwplmNF+URqPRDB06dNz3jB8/vv1v6F+6dGny5Mk3b96cP3/+9u3bvWOZMpbk5iIqCmYzMjIwY4ZEF2UuVgvq6+uLioqskp0+fdpkMllLtVptaGio1bMJEyaI63a0ndu3b0dGRhYVFc2cOTMtLc1bFv1hzbp1+OADfPIJJk6U6IpSi9UCk8n01VdfnTx5UvTs/PnzFovFWtqtW7cxY8ZYPRsxYoRK5WxBr5qamqlTp/7rX/8aN27ciRMnWqyr0ZmxWFBRgV69pLuizGK1oLKy8j//+Y/1fiYuk28t1el0o0ePtnoWFhbWPM2JLzofOHAgODj4iy++6Nevnxy/Aed7JG3RuYjRaMzJydHr9QkJCWFhYS0i79mzZ2RkZGJiYkpKisFgEHd0DggIOH/+vNyBKxeAWgzTp6eT1QKA0tMdlrp2IbfCk4dr166lpaWtXr161qxZ999/fwvP1Gq1n59fJ+wIdQmgpT2MxPKmtm1gYGBcXJx1Ncpr165Zk2Zubu6qVasGDx48adIkeYNUPno91q7FzJlsr+JNYrUgKCgoKChI9Ez8ljhv2nNEhg5FeDg2b0ZSEsOrdJC/hCAI3Kq2s2IFli1jewn+x+iMhIRAr8fmzXaKZs2CIDT9uL2dORerk5KUhGXLUFLS8nh6OoiaftLT3Tw/F6vzotdj40ZWJ+didV6SkmAwoKiIycm5WJ2aN95woRUfGdnY8Fq8uPXKXKxOzcyZWLSoTTU3b0Z4eGPDy2BARkYr9ZU1VsjxCsTHSefdYFwsjssIAlq1hqdCjmsIAoqLW6/GxeK0lZKSRqtCQlqv7MVjhRwpKSlBaGjrGdAKv2Nx2oTYlWod6rE7HNQc3njnMIHfsThM4GJxmMDF4jCBi8VhAheLwwQuFocJXCwOE7hYHCZwsThM4GJxmMDF4jCBi8VhAheLwwQuFocJXCwOE7hYHCZwsThM4GJxmMDF4jCBi8VhAheLwwQuFocJXCwOE7hYHCZwsThM4GJxmMDF4jDh/6pLGk2Hi1A4AAAAAElFTkSuQmCC\" alt=\"Mol\"/></td>\n",
       "      <td>AAK1</td>\n",
       "      <td>NAK</td>\n",
       "      <td>Other</td>\n",
       "      <td>5l4q</td>\n",
       "      <td>LKB</td>\n",
       "      <td>B</td>\n",
       "      <td>A</td>\n",
       "      <td>AP</td>\n",
       "      <td>AP AP AP AP AP AP AP AP AP AP AP AP AP AP AP F...</td>\n",
       "      <td>16 16 16 16 16 16 16 16 16 16 16 16 16 5 5 na na</td>\n",
       "      <td>Nc1c[nH]c2ncccc12</td>\n",
       "      <td>[11*]c1cnc2[nH]cc(N[27*])c2c1</td>\n",
       "    </tr>\n",
       "    <tr>\n",
       "      <th>1</th>\n",
       "      <td><img data-content=\"rdkit/molecule\" src=\"data:image/png;base64,iVBORw0KGgoAAAANSUhEUgAAAMgAAADICAIAAAAiOjnJAAAABmJLR0QA/wD/AP+gvaeTAAAcFElEQVR4nO2deVQUV/bHb3ezNiqLApqMCyigLNEIBwRcE2Q0g4gx6oxKjBsax+DExJCZZNJJ1IQEPdPquOCZiT/iOsQlQU1cICoMi+KCisEIyuLWgCjS0LI0/X5/PKYse6O6u6qrOr7PyR/xdfV719Nf33LvrftECCEgENhGzLcBhN8mRFgETiDCInACERaBE4iwCJxAhEXgBCIsAicQYRE4gQiLwAlEWAROIMIicAIRFoETiLAInECEReAEIiwCJxBhETiBCIvACURYBE4gwiJwAhEWgROIsAicQIRF4AQiLAInEGEROIEIi8AJRFgETiDCsnGio0EkApEIlizh25RnIMKyZaKjYeZMQAhwAQ4haUtEioLYKhUVMG8e5Oc/bRGJQDC/JpmxbJbycggOfqYlKgoqKniyRhsiLAInEGHZLH5+UFr6TEtBAQwZwpM12hBh2SxYQxs2dP1xyRJISuLRHC2IsGyZ/HzIzOxyNwBAWho8egSdnXybBUCEZassWQIiEWzfDvn5Xe6G9HQYMwY8PODaNb6NAyDCslXEYgAAjab7Rp4gwrJNiLAESEUFiERPPT7R0VBRARUVEB399AHq/wUKEZZgSUvj2wJLkEgAQHufrreRJ55TYUVFAYBw3NSmQ2YswbJqlfakVVDQdXL38+PJJuYQYQkW7F+kT1pRUV0n9/JyvoxijF4NkaVQIOhOWjaDXg2RGUsg4EmroIBvO8xA8EuhHd8G8MmdO9qJJ7rg5LmEBJg82QoWMYYIS4AMGdKVHvf223DkCOzZ0zV1UTlz1AMbNsCqVTBkCERH24KwyB5LIERGAgAUFRl8YMUK4eShPIvgZywiLCgs7Oax6GjIyLCCOaYgeGE9j0shRXg42NlBSQmoVCCV6n8Gq0po89YvHh5N48a59OoVQms84+urGjfOTyIRgrHP9Yzl4gLBwdDRARcv6n9gyRIIDoa0NEG9/wIAkKVURp45s6ehgd4ov337tTNnSltb+bKKznM9YwHAqFFQUgKFhTB6tJ5P09OtbhAzxGIxAGieXfX0NvLFcz1jAYP9uzAhwhI6DPfvQkMikQBA57OeBb2NfPG8C2vIEPD0hPv3obqab1NMgcxYQkckgogIAFubtIiwbIBRowB+E8IiS6GwsMX9u14NkRlLWEREgJ0dXLoET57wbQpjyFJoA7i4QFAQvPhie0nJA75tYQpZCm2DMWNWVVU55uf/H9+GMIXMWLZBWFgwABTazgae7LFsg8jISLApYQl/KXzeY4UYPz+/Pn363L9/v6amZsCAAXyb0z2UsO7cubN3714nJ6eYmBhBzVhEWAAAIpEoIiLi6NGjhYWFNiGsqVOnKhSKvLy8ESNGNDQ0iEQiZ2fnL7/8srm52cXFhW/rAMhSSDFq1CiwndXQyclp69ats2bNamhoeOWVVxYuXKhSqVasWDF9+nSFQsG3dQAAgAgIIYSys7MBIDw8nG9DuqeqqgpvCu3s7GQyWWdnJ0LowIEDvXv3BgAvL68jR47wbSMiwuqiqalJIpHY29urVCq+bTHGwYMH3d3dAWDAgAH5+fn0j2pqasaPHw8AIpEoKSmppaWFLyMRERadl156CQC0fi3h8OTJk+TkZLzOJCQkPHz4UPcZjUYjl8sdHBwAICgo6PLly9a3E0OE9ZQlS5YAwLp16/g2RA/Xr18fPnw4ADg5OcnlcuMPFxcX+/v7Uw9rNBrrGEmHCOspO3bsAIDp06fzbYg2GRkZPXr0AAB/f/9Lly4x+YpKpaKmt9jY2Hv37nFtpBZEWE+5fv06ALzwwgt8G/IUlUq1ePFirI/ExESlUmnS1/fv3+/h4QEAffv2PX78FDc26ocI6ykajaZPnz4AUF1dzbctCCF07dq14OBgAHB2du52+TOEQqGYNGmSWGw3YsSjpCRktQ09EdYzhISEiMXiMWPG7N27t7GxkUdLMjIypFIpAAQGBl69etWSrjo7O7duveLggABQSAiyrDOmEGF1odFoPvzwQwDo1asXXnokEkl0dLRcLr979641LXn8+PEf//hHavljy2tw9SoKCUEAyMkJpaaizk5WejUIERZCCKnVaryVsbOzS0tLS09Pj4uLs7e3x7+uWCwODQ2VyWRlZWVcW1JcXDx48GCs7z179rDbuUqFkpMRAAJAEyciTv+9EGGh1tbWN954AwCkUunRo0ep9oaGhoyMjBkzZuATGcbX1zc5OTkvL4/1MzzdBRUaGlpeXs5u/xSHDqE+fRAA8vREWVkcDfLcC0upVE6cOBEA3N3d//vf/+p9RqVSZWVlJSUleXl5UQobMGBAUlJSVlZWe3u75WbU19f/4Q9/wE7z5OTktrY2y/s0gkKBJk9GAEgkQhzt6J9rYSkUipdffhkA+vXrV1JS0u3zarU6Ly8vOTn5d7/7HaUwDw+PxMTEzMxMU30BFGfOnHnxxRcBwNXV9bvvvjOvE1PRaJBcjhwdEQAaNgwx846ZwPMrrMrKSuye9vX1raioMPXrpaWlMpksMDCQUpizs3NcXFx6enptbS3DTvDyhzdz4eHht27dMtUMC6F29I6OLO/on1NhlZaW4lknNDSUuQ70cvPmTblcHh0dLcJXcNGOk3fu3DHyxdra2t///vfU8sfKkmoGLS1o6dKuHf1nn7HW7fMorKKiIpxhMn78+MePHxt67NNPP128ePHRo0dbW1uZdFtXV5eRkREXF4c34JjAwECZTHbt2jWth3Nycvr16wcAnp6eP/30k0V/HzY4dgy99BIqLEQAiDo2REWh8nJUXo6iorpa6P9vnOdOWIcPH8aOx6lTpz558sTQYxqNpn///lgcUqk0Li4uIyODocv04cOHmZmZiYmJPXv21D1Otre3y2QynEY8YcIE60fxDKHRoPJyBICSkrpaiLCYsnPnTryheeuttzo6Oow/XFpampqaqneNY+gybWlpOXTo0Lx58/AEiXFzc8MOs7Vr13Zy7aY0EaybpKSuSYsIixEbN27E80RKSopJXqjq6moLXab4OJmSkuLr6+vt7e3o6Hj69Glz/x4cgnVTXt41aVHCwjsw/J+whGVkK2MFNBqNTCbD2+S0tDSz+9HrMg0MDExJSWHoMtVoNH5+fgCQk5NjthncQU1IeNIS9IxVUlISHx8fGBjInc/aOPRwzb///W9W+rTEZfrxxx8DwNKlS1mxhF0o3eBJS7jCys3NxVsKJycn6gcYOHDgihUrTp06pVarOR0dGQ7XsAXlMsUeTiYu08uXLwNAnz59ut3kWR+6bpKSuk6IghPW4cOHnZ2dASAhIaG5uZkLn7VxmIRr2EKj0RQVFaWkpAQEBFB/wR49eujNTB82bBgAnDx5klOTzODGDdS3L8rMRGp119ZKcML69ttvDZ2/WPFZd4tCoRg5ciTzcA2LUC7TiIgIvQ/8/e9/B4Ak6lgvGIqLEQB68UVk+W6FE2HJ5XLq/GXkMSM+69u3b1tigIXhGrYw5Ce7cuWKMFfDv/0NAaDly1noimVh0c9f69evZ/gtk3zW3cJiuIY78IR94sQJvg15hsBABIBYObCyKSz6+WvHjh1m9GDcZ83kOMkwXMM7n3zyCQAsXryYb0OecuMGAkAeHoiVaZQ1YdHPXz/++KOFvT158gSf5729vSmFeXp6JiYmZmVlGUpXYhiuEQJXr14FgN69ewtnNUxNRQDozTfZ6Y0dYSmVypiYGEPnL6VSafbrxZTP2o92A7i7u/uMGTMyMjKampqoJ00K1wgBvBoeP36cb0O6GDUKAaBDh9jpjQVh0dPldN/prq+vDw8Pl0qlBQUFFg6Ej5OhoaGUwpycnPBxcu3ateaFa3gEb0YXLVrEtyEIIXT/PhKLkbMzam5mp0NLhVVZWYnnksGDB+uev+7evRsSEgIAgwYNunHjhoVjUdy6dQsfJ7GYsMdIJBKZ/fIdL5SVleHZl+tEZCZs2YIAUEICax1aJKzS0lLscQ4NDa2rq9P6tKysDBcxCwoKMp7yZjb37t3btm1bUFCQSCSKjY3lYghOCQoKAoBjx47xbQiKjUUAKCODtQ7NF1ZhYSE+f02YMEH3/HXu3DlPT08AiIiIePDggWVGdsPp06cBYOTIkZyOwgWffvopACxcuJBfMxobkYMDkkhQfT1rfZopLHq4Rvf8lZOTg/0FcXFxVig31dLSYmdnZ2dn18zWBsFa4GoRvK+Gu3YhAPTKK2z2aY6wjJ+/Dh48iEPOc+fOtVoeN47enDlzxjrDsQiuzsBvdvIbbyAAtGkTm32aLCzj4ZrNmzfjT5OTk62ZHvnnP/8ZAFJTU602Ilt89tlnALBgwQK+DGhtRT17IpEI1dSw2a0JwqKHa/RWJ0tNTcWfymQy1gxkxs6dO7Ff1MrjWg5eDd3c3PhaDY8c+TEkZOmcORfY7ZapsIyHazQazbvvvoujyNu3b2fXRC06OztlMll8fDw9nauiogIAvLy8OB2aI7BHhot0MSYsWLAAANauXctut4yEZTxc09bWhqujODo6WudFXlw2QysZBgd/bt68aQUD2OXzzz/HG1brD61Wq/Hh3Yxgv3G6F5bxcE1zc/OkSZOwi9JqmWtz5swBgK1bt9Ib4+PjAWD37t3WsYFFfv31V75WQ+yp8fPzY73nbi4QqK2tHTt2bHZ2dr9+/U6fPh0dHU3/9OHDh7GxsceOHfP29s7NzcX6swK4ynnRs3dX2tx9OBT+/v7Dhw9vbGw8efKklYf+/vvvAeD1119nv2sjouMlXMOECxcuAIC/vz+98dSpUwAQGhpqTUvYYs2aNQAwb948K4/r4+MDAIWFhaz3bFBYly9f7tu3LwCEhYXxEq4xQkdHBw4O1tNcxc3NzTbqJkW01ZDh6/yscPHiRQDo27cvF44hg0vh3bt3W1paxowZk5OTg/d3FOfPnx87dmxNTU1ERARVgsea2NnZ4Znp7NmzVKOLi0tISIharcbzmW3h7+8/YsQIK6+GeB2cNm0aFctnEYM9pqamKpXKlStXUjU5MY2NjbGxsfX19VOmTDl16hT95XFrovdOJdvdZgHAjBkzAOC7776z2oiHDh0CgISEBC46Nygs/CPp/ut3c3PbtGnT/PnzDx48iMOFvKBXQ3o39bbCrFmzAOD7779vbW21wnBVVVVXr151dXXF1++wj6E1Es+Tr776KuurLyvU1tYCQM+ePX8zblKEEM6XzOKuMCiNdevWAcCcOXM46r+bGevcuXMCuQpWCy8vL19fX6VSee3aNapx8ODB3t7edXV1lZWVPNpmNtZcDTldB8HIUujl5eXj46P1ywkKvatheHi4bqOtYLXVsK6urqioyNHREZcU5AJjV/dGRkZWVlYWFhbi+9aExqhRo3bv3l1YWIhv7cJERkYePny4qKho9uzZPNpmHr6+viNHjrx48WJCQsLAgQMBACHU2Nio+2RLS0t7e7tWo1qtViqVug8rlUq1Wq31dY1GExUVRX/Njl26EdaePXuKiorov5xwMLJ/t9EZCwCkUumAAQOOHz/O9UC9evWqqqrq6Oigin6xiwghZOizCxcuhIWFBQQE4NQOoaFWq93c3FQqVV1dHb5cCQBaWlrc3NxEIlFjYyN+x9CGOHv2bGRkpIODg0wmw34ckUiEy/VoIZVKHR0dtRolEomWbwjTs2dPO7tnZpCOjo4pU6aUl5evW7fuvffeY+9vQMPIxr69vV0qlWo5uAXF2LFjAUDrCmR8tsrNzeXLKvPQaDQ4FPvRRx9ZYbgTJ05gzXFUBNWYy9Xe3h47uM+dO8eJqC1Gr+PKtu6jp9i3b19+fr63t/cHH3xgheEmTpw4ZcoUpVL517/+lYv+u/HlC9zl+Jtxk7a2tuIf+IsvvtC7nHGBXC53cnL69ttv8/Ly2O/d+ISGvR0xMTFczJaWo9dNWl5eDgDe3t48GmYqa9euBYDhw4ezW+VQqVQ+/B96w9sfffQRAIwcOZL16ordCEvvLycocOIH/dV+jUaDo+aVlZX82WUCtbW1eJbSmymZnZ3tS8PLy8tdByZeg3/84x+6natUKuzXYD2hvPsMUvzLXblyhd2B2QL7q7Zt20ZvnDJlCgCwft8fRyxcuBAMvwly+PBhs5ejHj16UOLbvHmz3v737dsHAB4eHuy+V9y9sP70pz8BQHp6OoujssimTZtAJ2EcryzvvPMOX1Yxp6SkRCKR2Nvb//rrr3ofaGlpuUmjtrb2oQ70qjtmMGHCBABYzkolv//RvbA2btyo+8sJh/PnzwNAQEAAvfHnn38GgLCwML6sYg4uv/vuu+/yaENpaam9vb1EImGxWGv3wiouLgaAoUOHsjUku7S3t0+dOnXNmjX06kU4m9Te3p6tC5U54ocffgAAd3d3rstbdMs777wDAKNHj2arCFT3wqLcpLz/5U1ixIgRAJCXl8e3IQZpb2/HFXg3btzIty3o4cOH+MSzb98+VjrsPidV+G5SvQg/aLh58+YbN24EBAQsXbqUb1vA3d39iy++AID333+/ubnZ8g4ZJTsL/0fSBV8Kh0t9CpBHjx7hN3PWr1/PURjYVBYsWBAeHn7nzp0vv/yShe6YTGsHDx4EAbtJdSkoKHB3d3d2dtYtXSkQkpOTAeAVdksHWUxxcbFYLHZwcDB0RGUOI2EpFAoQtpuUTnZ2NnYYxsfHW6E6lxlcv34dn8IE6B2cN28eAMTFxVnYD9OiIIMGDQKAq1evWjge1+zevRuvLG+++aZgayfHxcWBIK88QQgpFApXV1ewuEgJU2FhNynXlWQsZNOmTVR1LsHWTs7JycHT//379/m2RT/r168HgCFDhljy9ixTYW3YsAEA5s+fb/ZIXENV5/r666/5tsUgnZ2duPigkGvEdXR04OIJlhjJVFjY1yBMN6larcbJ0xKJ5F//+hff5hhj+/btAODj4yPwizOys7MBQCqVVldXm9cDU2FRbtKGhgbdT3nc1Le1tc2cORMAHB0dDxw4wJcZTGhqaurXrx8A/Oc//+Hblu7BJWhmz55t3tdNKBU5evRoMFCG9S9/+YtJVyOzhVKpjI2NBQA3Nzfh5yJ/+OGHABAZGSnY/R+dmpoaFxcXADDvXnQThLVq1SoA+OSTT3Q/Gj58OOUY8/HxWblyZW5uLtfTWENDA85C7tu376VLlzgdy3JqamrwlH/27Fm+bWEKLjkbHBxsxvnaBGEdOHAAACZOnKj7kd6rkXv37o1v5uWirlBVVRW+JNfHx6e8vJz1/lkHv4w6d+5cvg0xAZVKhbPxDOVyGcEEYd27dw8AevXqZWQq6uzsPH/+vEwmw9ceY6RSaVxcXEZGRmNjo6n26eXatWs4YhMcHHz37l1W+uSUwsJCkUjk7Oxs9l6YL/Bs4u7ubuqbWqbVecdprAzjJEZu5rVEDWfPnsVvEY4bN44tpXIK9V6X3l2E8ME1ZpcuXWrSt0wTVmJiYv/+/d3c3PCFlAwdaNXV1enp6XFxcVS0VSwWh4aGymSysrIykwwQfrhGl127dgGAt7e3hXmefPHLL7/Y29uLxeJz584x/5bJN1NMmzaNWuNcXV1nz56dmZmpVCqZfLehoSEjI2PGjBk9evSgOmF+M69NhGu0oN5WMO8uY4GwcuVKAIiKimJ+njXnLp3S0tLU1FT6Gufk5BQTEyOXyxm+Vtvc3Lx///65c+e6u7tTCrt165aRr9hEuEaX1atXA8CIESOseQEM6zx+/BiX0WfuKbTovsKqqiq5XB4TE0OVBqDWOIZ5F+3t7SdPnly2bNlrr71m5DEqXPPVV19ZYrD1wRP8zz//zLchTDH0D2DSpEmDBg26ePEiw37YuRP6wYMHeI3DLjUMKy5TGwrX6GXcuHEAsHPnTt2PsrOzhebTUqlUwcHBX331lda1bWbk+bB2iz2mpaUlKysrMTERp15gBg4cmJycfPLkSVM3RjYUrjHEjh07sAtX667QvXv34iVSUClu+Cqyl19+WWvewnk+S5YsYd4Vy8KioFymL7zwgnkuU9sK1xhCo9Hg8MAHH3xAb1epVDjFbcuWLXzZpoVCocAnbq1rH83L8+FKWBSUy3To0KHMXaa2Fa4xzoULF3C+7/Xr1+nt+/fvBwAPDw+BVIl66623AGD69On0RrVajes5mppCw7mw6DB0mdpcuKZbFi1apDcahkuAvv3227xYRefSpUtY/Vq316Snp4NZeT5WFRaFEZfpkSNHbCtcw4QHDx7gCn0//PADvZ3yPRYXF/NlG+bVV18FgPfff5/eSOX5ZGZmmtohP8KiqK+v/+abb+Lj46m7CPB90uPHj7eJcA1zcAqur6+v1j99fIGoSb5H1sEBQU9Pz0ePHtHbLcnz4VlYFJTLdPny5atXrxZ4gqUZUJuVNWvW0NupWWHXrl28GNbW1obveNM6RliY5yMUYT0P5OXl4RyHqqoqevs333yj1yVhHfAVFcOGDdNyBmFHj9l5PkRYVgX/WjNnzqQ3Ui6JlJQUK9vT0NDg4eEBOonBluf5EGFZldu3b+PghFaQ5/z583pdElyzbNky0LkxiZU8HyIsa4PD0oGBgVphE1zXT2+CLkeUlZXhQI3We8is5PkQYVmb1tZWvFnesGEDvb22thbfFWCd278QQpMnTwaAZcuW0RvZyvMhwuIBXG+tV69eWkESuVyu1yXBBfjNwZ49eyoUCnr7559/zkqeDxEWP7z22msAsGjRInpjR0eHXpcE66jVavyuc1paGr1doVDg+s3Z2dkWDkGExQ/l5eWOjo5isVjLS5SbmysSiaRSqZZLgl22bNmCp0at5PL58+cDwOuvv275EERYvIGvNgkLC9NadPB1mLNmzeJo3KamJr3poIbCheZBhMUbSqUSv4aptU025JJgC/zisW4QKSYmBgDee+89VkYhwuKTnTt3AoCXl5dWkA67JIKCgrRcEpZz69YtvARrhb3x3TYeHh56a3OYAREWn2g0Gnwznladd8olwXpB5enTpwPAvHnz6I1tbW24fvM///lPtgYiwuKZixcvSiQSOzs7rXRy7JLw8PBg+GodE+7fv+/m5ubi4nLnzh16O660NnToUBYnSCIs/sHluLXiKgihlStXFhQUsDtWXV2dVg1IKlz4448/sjgQERb/NDQ04KIBvLwwsnz5cr2ythAiLEGAHUv9+/fnojKPEahwIev1m4mwBEFnZ2dYWBgAyGQya46LAwBcJN0TYQmF/Px8nAJlvNQAi3Bav5kIS0DMmTMHAKZNm2aFsahwIUdFpkUIISAIA4VCERAQ0NTU9NNPP+GqVGbw+PFjjUaj1dje3t7S0kJv2bt378cff+zj41NWVubo6GimxYYhwhIWX3/9dUpKiqurK35dDKNXK21tbSqVyuyBxGKxRCLZvXs3Dk2yDhGWsGhvb9+2bdvq1asfPHhgXg+urq643hMdBwcHer0WABCLxSdOnBg0aBD18jC7EGEJkerq6s7OTuqPDLUiKIiwCJzA6CJMAsFUiLAInECEReAEIiwCJxBhETiBCIvACURYBE4gwiJwAhEWgROIsAicQIRF4AQiLAInEGEROIEIi8AJRFgETiDCInACERaBE4iwCJxAhEXgBCIsAicQYRE4gQiLwAn/DxO3FJDIGapXAAAAAElFTkSuQmCC\" alt=\"Mol\"/></td>\n",
       "      <td>AAK1</td>\n",
       "      <td>NAK</td>\n",
       "      <td>Other</td>\n",
       "      <td>5te0</td>\n",
       "      <td>XIN</td>\n",
       "      <td></td>\n",
       "      <td>A</td>\n",
       "      <td>AP</td>\n",
       "      <td>AP AP AP AP AP AP AP AP AP AP AP AP AP AP AP A...</td>\n",
       "      <td>7 7 7 7 7 7 7 7 7 7 7 7 7 7 7 7 7 7 7 7 7 7 7 ...</td>\n",
       "      <td>N/C(=C1\\C(=O)Nc2ccccc21)c1ccccc1</td>\n",
       "      <td>[12*]N/C(=C1\\C(=O)Nc2cc([20*])ccc21)c1ccccc1</td>\n",
       "    </tr>\n",
       "    <tr>\n",
       "      <th>2</th>\n",
       "      <td><img data-content=\"rdkit/molecule\" src=\"data:image/png;base64,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\" alt=\"Mol\"/></td>\n",
       "      <td>ABL1</td>\n",
       "      <td>Abl</td>\n",
       "      <td>TK</td>\n",
       "      <td>2f4j</td>\n",
       "      <td>VX6</td>\n",
       "      <td></td>\n",
       "      <td>A</td>\n",
       "      <td>AP</td>\n",
       "      <td>AP AP AP AP AP AP AP AP AP AP AP AP AP SE</td>\n",
       "      <td>5 5 14 14 14 14 14 14 14 8 8 8 8 na</td>\n",
       "      <td>Cc1cc(N)[nH]n1</td>\n",
       "      <td>[22*]Nc1cc(C)n[nH]1</td>\n",
       "    </tr>\n",
       "    <tr>\n",
       "      <th>3</th>\n",
       "      <td><img data-content=\"rdkit/molecule\" src=\"data:image/png;base64,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\" alt=\"Mol\"/></td>\n",
       "      <td>ABL1</td>\n",
       "      <td>Abl</td>\n",
       "      <td>TK</td>\n",
       "      <td>2gqg</td>\n",
       "      <td>1N1</td>\n",
       "      <td>B</td>\n",
       "      <td>A</td>\n",
       "      <td>AP</td>\n",
       "      <td>AP AP AP AP AP AP AP AP AP AP GA SE</td>\n",
       "      <td>14 14 14 6 5 5 14 14 14 6 na na</td>\n",
       "      <td>Nc1ncc(C=O)s1</td>\n",
       "      <td>[15*]Nc1ncc(C([41*])=O)s1</td>\n",
       "    </tr>\n",
       "    <tr>\n",
       "      <th>4</th>\n",
       "      <td><img data-content=\"rdkit/molecule\" src=\"data:image/png;base64,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\" alt=\"Mol\"/></td>\n",
       "      <td>ABL1</td>\n",
       "      <td>Abl</td>\n",
       "      <td>TK</td>\n",
       "      <td>2v7a</td>\n",
       "      <td>627</td>\n",
       "      <td></td>\n",
       "      <td>B</td>\n",
       "      <td>AP</td>\n",
       "      <td>AP AP AP AP AP AP AP AP AP AP AP AP AP AP AP A...</td>\n",
       "      <td>8 8 8 8 8 5 5 6 6 8 8 8 8 8 8 8 8 8 8 3 3 3 3 ...</td>\n",
       "      <td>COCC(=O)n1cc2[nH]nc(NC=O)c2c1</td>\n",
       "      <td>[8*]C(=O)Nc1n[nH]c2cn(C(=O)[C@@H]([46*])OC)cc12</td>\n",
       "    </tr>\n",
       "  </tbody>\n",
       "</table>\n",
       "</div>"
      ],
      "text/plain": [
       "                                               ROMol kinase family  group  \\\n",
       "0  <img data-content=\"rdkit/molecule\" src=\"data:i...   AAK1    NAK  Other   \n",
       "1  <img data-content=\"rdkit/molecule\" src=\"data:i...   AAK1    NAK  Other   \n",
       "2  <img data-content=\"rdkit/molecule\" src=\"data:i...   ABL1    Abl     TK   \n",
       "3  <img data-content=\"rdkit/molecule\" src=\"data:i...   ABL1    Abl     TK   \n",
       "4  <img data-content=\"rdkit/molecule\" src=\"data:i...   ABL1    Abl     TK   \n",
       "\n",
       "  complex_pdb ligand_pdb alt chain subpocket  \\\n",
       "0        5l4q        LKB   B     A        AP   \n",
       "1        5te0        XIN         A        AP   \n",
       "2        2f4j        VX6         A        AP   \n",
       "3        2gqg        1N1   B     A        AP   \n",
       "4        2v7a        627         B        AP   \n",
       "\n",
       "                                     atom_subpockets  \\\n",
       "0  AP AP AP AP AP AP AP AP AP AP AP AP AP AP AP F...   \n",
       "1  AP AP AP AP AP AP AP AP AP AP AP AP AP AP AP A...   \n",
       "2          AP AP AP AP AP AP AP AP AP AP AP AP AP SE   \n",
       "3                AP AP AP AP AP AP AP AP AP AP GA SE   \n",
       "4  AP AP AP AP AP AP AP AP AP AP AP AP AP AP AP A...   \n",
       "\n",
       "                                   atom_environments  \\\n",
       "0   16 16 16 16 16 16 16 16 16 16 16 16 16 5 5 na na   \n",
       "1  7 7 7 7 7 7 7 7 7 7 7 7 7 7 7 7 7 7 7 7 7 7 7 ...   \n",
       "2                5 5 14 14 14 14 14 14 14 8 8 8 8 na   \n",
       "3                    14 14 14 6 5 5 14 14 14 6 na na   \n",
       "4  8 8 8 8 8 5 5 6 6 8 8 8 8 8 8 8 8 8 8 3 3 3 3 ...   \n",
       "\n",
       "                             smiles  \\\n",
       "0                 Nc1c[nH]c2ncccc12   \n",
       "1  N/C(=C1\\C(=O)Nc2ccccc21)c1ccccc1   \n",
       "2                    Cc1cc(N)[nH]n1   \n",
       "3                     Nc1ncc(C=O)s1   \n",
       "4     COCC(=O)n1cc2[nH]nc(NC=O)c2c1   \n",
       "\n",
       "                                smiles_dummy_atoms  \n",
       "0                    [11*]c1cnc2[nH]cc(N[27*])c2c1  \n",
       "1     [12*]N/C(=C1\\C(=O)Nc2cc([20*])ccc21)c1ccccc1  \n",
       "2                              [22*]Nc1cc(C)n[nH]1  \n",
       "3                        [15*]Nc1ncc(C([41*])=O)s1  \n",
       "4  [8*]C(=O)Nc1n[nH]c2cn(C(=O)[C@@H]([46*])OC)cc12  "
      ]
     },
     "execution_count": 10,
     "metadata": {},
     "output_type": "execute_result"
    }
   ],
   "source": [
    "fragment_library_concat = fragment_library_wo_dummy_concat.copy()\n",
    "fragment_library_concat['smiles_dummy_atoms'] = fragment_library_w_dummy_concat.smiles\n",
    "print(fragment_library_concat.shape)\n",
    "fragment_library_concat.head()"
   ]
  },
  {
   "cell_type": "markdown",
   "metadata": {},
   "source": [
    "## Save concatenated fragment library"
   ]
  },
  {
   "cell_type": "code",
   "execution_count": 11,
   "metadata": {},
   "outputs": [],
   "source": [
    "fragment_library_concat.drop('ROMol', axis=1).to_csv(PATH_DATA / 'fragment_library.csv', index=False)"
   ]
  }
 ],
 "metadata": {
  "kernelspec": {
   "display_name": "kinfraglib",
   "language": "python",
   "name": "kinfraglib"
  },
  "language_info": {
   "codemirror_mode": {
    "name": "ipython",
    "version": 3
   },
   "file_extension": ".py",
   "mimetype": "text/x-python",
   "name": "python",
   "nbconvert_exporter": "python",
   "pygments_lexer": "ipython3",
   "version": "3.7.6"
  }
 },
 "nbformat": 4,
 "nbformat_minor": 4
}
