{
 "cells": [
  {
   "cell_type": "markdown",
   "metadata": {},
   "source": [
    "# Quick start to KinFragLib\n",
    "\n",
    "Introduction on how to load and use the fragment library"
   ]
  },
  {
   "cell_type": "code",
   "execution_count": 1,
   "metadata": {},
   "outputs": [],
   "source": [
    "import pandas as pd\n",
    "from pathlib import Path\n",
    "from util import read_fragment_library"
   ]
  },
  {
   "cell_type": "markdown",
   "metadata": {},
   "source": [
    "### Read fragment library:"
   ]
  },
  {
   "cell_type": "code",
   "execution_count": 2,
   "metadata": {},
   "outputs": [],
   "source": [
    "# Path to library folder\n",
    "PATH_TO_LIB = Path('.') / '..' / 'data' / 'fragment_library'"
   ]
  },
  {
   "cell_type": "code",
   "execution_count": 3,
   "metadata": {},
   "outputs": [
    {
     "data": {
      "text/plain": [
       "dict_keys(['AP', 'FP', 'SE', 'GA', 'B1', 'B2', 'X'])"
      ]
     },
     "execution_count": 3,
     "metadata": {},
     "output_type": "execute_result"
    }
   ],
   "source": [
    "fragment_library = read_fragment_library(PATH_TO_LIB)\n",
    "fragment_library.keys()"
   ]
  },
  {
   "cell_type": "markdown",
   "metadata": {},
   "source": [
    "*fragment_library* is a dictionary containing a pandas dataframe for each of the six subpockets (AP, FP, SE, GA, B1, B2) and the X pool.\n",
    "\n",
    "For each fragment in each subpocket it contains the RDKit molecule object, the SMILES string, and the kinase group and PDB codes of the structure from which the fragment originated."
   ]
  },
  {
   "cell_type": "markdown",
   "metadata": {},
   "source": [
    "#### Access fragments in specific subpocket (here AP):"
   ]
  },
  {
   "cell_type": "code",
   "execution_count": 4,
   "metadata": {},
   "outputs": [
    {
     "data": {
      "text/html": [
       "<div>\n",
       "<style scoped>\n",
       "    .dataframe tbody tr th:only-of-type {\n",
       "        vertical-align: middle;\n",
       "    }\n",
       "\n",
       "    .dataframe tbody tr th {\n",
       "        vertical-align: top;\n",
       "    }\n",
       "\n",
       "    .dataframe thead th {\n",
       "        text-align: right;\n",
       "    }\n",
       "</style>\n",
       "<table border=\"1\" class=\"dataframe\">\n",
       "  <thead>\n",
       "    <tr style=\"text-align: right;\">\n",
       "      <th></th>\n",
       "      <th>smiles</th>\n",
       "      <th>fragment</th>\n",
       "      <th>group</th>\n",
       "      <th>complex_pdb</th>\n",
       "      <th>ligand_pdb</th>\n",
       "    </tr>\n",
       "  </thead>\n",
       "  <tbody>\n",
       "    <tr>\n",
       "      <th>0</th>\n",
       "      <td>Nc1c[nH]c2ncccc12</td>\n",
       "      <td>&lt;rdkit.Chem.rdchem.Mol object at 0x7f1724175a80&gt;</td>\n",
       "      <td>Other</td>\n",
       "      <td>5l4q</td>\n",
       "      <td>LKB</td>\n",
       "    </tr>\n",
       "    <tr>\n",
       "      <th>1</th>\n",
       "      <td>N/C(=C1\\C(=O)Nc2ccccc21)c1ccccc1</td>\n",
       "      <td>&lt;rdkit.Chem.rdchem.Mol object at 0x7f1724175a30&gt;</td>\n",
       "      <td>Other</td>\n",
       "      <td>5te0</td>\n",
       "      <td>XIN</td>\n",
       "    </tr>\n",
       "    <tr>\n",
       "      <th>2</th>\n",
       "      <td>Cc1cc(N)[nH]n1</td>\n",
       "      <td>&lt;rdkit.Chem.rdchem.Mol object at 0x7f17241759e0&gt;</td>\n",
       "      <td>TK</td>\n",
       "      <td>2f4j</td>\n",
       "      <td>VX6</td>\n",
       "    </tr>\n",
       "    <tr>\n",
       "      <th>3</th>\n",
       "      <td>Nc1ncc(C=O)s1</td>\n",
       "      <td>&lt;rdkit.Chem.rdchem.Mol object at 0x7f1724175990&gt;</td>\n",
       "      <td>TK</td>\n",
       "      <td>2gqg</td>\n",
       "      <td>1N1</td>\n",
       "    </tr>\n",
       "    <tr>\n",
       "      <th>4</th>\n",
       "      <td>COCC(=O)n1cc2[nH]nc(NC=O)c2c1</td>\n",
       "      <td>&lt;rdkit.Chem.rdchem.Mol object at 0x7f1724175ad0&gt;</td>\n",
       "      <td>TK</td>\n",
       "      <td>2v7a</td>\n",
       "      <td>627</td>\n",
       "    </tr>\n",
       "  </tbody>\n",
       "</table>\n",
       "</div>"
      ],
      "text/plain": [
       "                             smiles  \\\n",
       "0                 Nc1c[nH]c2ncccc12   \n",
       "1  N/C(=C1\\C(=O)Nc2ccccc21)c1ccccc1   \n",
       "2                    Cc1cc(N)[nH]n1   \n",
       "3                     Nc1ncc(C=O)s1   \n",
       "4     COCC(=O)n1cc2[nH]nc(NC=O)c2c1   \n",
       "\n",
       "                                           fragment  group complex_pdb  \\\n",
       "0  <rdkit.Chem.rdchem.Mol object at 0x7f1724175a80>  Other        5l4q   \n",
       "1  <rdkit.Chem.rdchem.Mol object at 0x7f1724175a30>  Other        5te0   \n",
       "2  <rdkit.Chem.rdchem.Mol object at 0x7f17241759e0>     TK        2f4j   \n",
       "3  <rdkit.Chem.rdchem.Mol object at 0x7f1724175990>     TK        2gqg   \n",
       "4  <rdkit.Chem.rdchem.Mol object at 0x7f1724175ad0>     TK        2v7a   \n",
       "\n",
       "  ligand_pdb  \n",
       "0        LKB  \n",
       "1        XIN  \n",
       "2        VX6  \n",
       "3        1N1  \n",
       "4        627  "
      ]
     },
     "execution_count": 4,
     "metadata": {},
     "output_type": "execute_result"
    }
   ],
   "source": [
    "AP_fragments = fragment_library['AP']\n",
    "AP_fragments.head()"
   ]
  },
  {
   "cell_type": "markdown",
   "metadata": {},
   "source": [
    "The fragments can either be loaded without dummy atoms (default; dummy atoms are replaced with hydrogens) or with dummy atoms.\n",
    "\n",
    "#### Load fragments with dummy atoms:"
   ]
  },
  {
   "cell_type": "code",
   "execution_count": 5,
   "metadata": {},
   "outputs": [],
   "source": [
    "fragment_library_dummy_atoms = read_fragment_library(PATH_TO_LIB, remove_dummy=False)"
   ]
  },
  {
   "cell_type": "code",
   "execution_count": 6,
   "metadata": {},
   "outputs": [],
   "source": [
    "AP_fragments_dummy_atoms = fragment_library_dummy_atoms['AP']"
   ]
  },
  {
   "cell_type": "markdown",
   "metadata": {},
   "source": [
    "#### Show fragments with and without dummy atoms next to each other:"
   ]
  },
  {
   "cell_type": "code",
   "execution_count": 7,
   "metadata": {},
   "outputs": [],
   "source": [
    "AP_fragments_dummy_atoms = AP_fragments_dummy_atoms.rename(\n",
    "    columns={\"smiles\": \"smiles_dummy_atoms\", \"fragment\": \"fragment_dummy_atoms\"})"
   ]
  },
  {
   "cell_type": "code",
   "execution_count": 8,
   "metadata": {},
   "outputs": [
    {
     "data": {
      "text/html": [
       "<div>\n",
       "<style scoped>\n",
       "    .dataframe tbody tr th:only-of-type {\n",
       "        vertical-align: middle;\n",
       "    }\n",
       "\n",
       "    .dataframe tbody tr th {\n",
       "        vertical-align: top;\n",
       "    }\n",
       "\n",
       "    .dataframe thead th {\n",
       "        text-align: right;\n",
       "    }\n",
       "</style>\n",
       "<table border=\"1\" class=\"dataframe\">\n",
       "  <thead>\n",
       "    <tr style=\"text-align: right;\">\n",
       "      <th></th>\n",
       "      <th>smiles</th>\n",
       "      <th>smiles_dummy_atoms</th>\n",
       "    </tr>\n",
       "  </thead>\n",
       "  <tbody>\n",
       "    <tr>\n",
       "      <th>0</th>\n",
       "      <td>Nc1c[nH]c2ncccc12</td>\n",
       "      <td>[11*]c1cnc2[nH]cc(N[27*])c2c1</td>\n",
       "    </tr>\n",
       "    <tr>\n",
       "      <th>1</th>\n",
       "      <td>N/C(=C1\\C(=O)Nc2ccccc21)c1ccccc1</td>\n",
       "      <td>[12*]N/C(=C1\\C(=O)Nc2cc([20*])ccc21)c1ccccc1</td>\n",
       "    </tr>\n",
       "    <tr>\n",
       "      <th>2</th>\n",
       "      <td>Cc1cc(N)[nH]n1</td>\n",
       "      <td>[22*]Nc1cc(C)n[nH]1</td>\n",
       "    </tr>\n",
       "    <tr>\n",
       "      <th>3</th>\n",
       "      <td>Nc1ncc(C=O)s1</td>\n",
       "      <td>[15*]Nc1ncc(C([41*])=O)s1</td>\n",
       "    </tr>\n",
       "    <tr>\n",
       "      <th>4</th>\n",
       "      <td>COCC(=O)n1cc2[nH]nc(NC=O)c2c1</td>\n",
       "      <td>[8*]C(=O)Nc1n[nH]c2cn(C(=O)[C@@H]([46*])OC)cc12</td>\n",
       "    </tr>\n",
       "  </tbody>\n",
       "</table>\n",
       "</div>"
      ],
      "text/plain": [
       "                             smiles  \\\n",
       "0                 Nc1c[nH]c2ncccc12   \n",
       "1  N/C(=C1\\C(=O)Nc2ccccc21)c1ccccc1   \n",
       "2                    Cc1cc(N)[nH]n1   \n",
       "3                     Nc1ncc(C=O)s1   \n",
       "4     COCC(=O)n1cc2[nH]nc(NC=O)c2c1   \n",
       "\n",
       "                                smiles_dummy_atoms  \n",
       "0                    [11*]c1cnc2[nH]cc(N[27*])c2c1  \n",
       "1     [12*]N/C(=C1\\C(=O)Nc2cc([20*])ccc21)c1ccccc1  \n",
       "2                              [22*]Nc1cc(C)n[nH]1  \n",
       "3                        [15*]Nc1ncc(C([41*])=O)s1  \n",
       "4  [8*]C(=O)Nc1n[nH]c2cn(C(=O)[C@@H]([46*])OC)cc12  "
      ]
     },
     "execution_count": 8,
     "metadata": {},
     "output_type": "execute_result"
    }
   ],
   "source": [
    "pd.concat([AP_fragments, AP_fragments_dummy_atoms], axis=1, join='inner') \\\n",
    "            [['smiles', 'smiles_dummy_atoms']].head()"
   ]
  },
  {
   "cell_type": "code",
   "execution_count": null,
   "metadata": {},
   "outputs": [],
   "source": []
  }
 ],
 "metadata": {
  "kernelspec": {
   "display_name": "Python 3",
   "language": "python",
   "name": "python3"
  },
  "language_info": {
   "codemirror_mode": {
    "name": "ipython",
    "version": 3
   },
   "file_extension": ".py",
   "mimetype": "text/x-python",
   "name": "python",
   "nbconvert_exporter": "python",
   "pygments_lexer": "ipython3",
   "version": "3.6.8"
  }
 },
 "nbformat": 4,
 "nbformat_minor": 2
}
