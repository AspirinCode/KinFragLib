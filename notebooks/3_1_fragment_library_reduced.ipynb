{
 "cells": [
  {
   "cell_type": "markdown",
   "metadata": {},
   "source": [
    "# Reduced fragment library"
   ]
  },
  {
   "cell_type": "markdown",
   "metadata": {},
   "source": [
    "## Aim of this notebook\n",
    "\n",
    "The fragment library resulting from the KinFragLib fragmentation procedure comprises of about 3000 fragments. Ultimately, we want to demonstrate how this library can be used for recombining ligands. Before this can be done, we need to address two considerations:\n",
    "\n",
    "1. Remove all fragments that are not useful in a recombination, i.e. duplicates, fragments in pool X, fragments without dummy atoms, and fragments with dummy atoms only connecting to pool X. Also remove all AP fragments that show no hydrogen bond donors and acceptors (not hinge-like).\n",
    "2. Select a diverse set of fragments (per subpocket) for recombination to (i) save computational cost and (ii) avoid recombination of highly similar fragments.\n",
    "\n",
    "Furthermore, we want to know (i) which original ligands can be fully recombined by the reduced fragment library and (ii) how many original ligands are represented by at least one fragment. This will help us to check our combinatorial library for expected results later."
   ]
  },
  {
   "cell_type": "markdown",
   "metadata": {},
   "source": [
    "## Table of contents\n",
    "\n",
    "1. Load fragment library\n",
    "2. Filter fragment library\n",
    "3. Cluster and select filtered fragments (get diverse set of fragments)\n",
    "4. Look at selected fragments\n",
    "5. Selected fragments = reduced fragment library\n",
    "6. How many ligands are (fully) covered by the reduced library?\n",
    "7. Save reduced fragment library "
   ]
  },
  {
   "cell_type": "code",
   "execution_count": 1,
   "metadata": {},
   "outputs": [],
   "source": [
    "%load_ext autoreload\n",
    "%autoreload 2"
   ]
  },
  {
   "cell_type": "code",
   "execution_count": 2,
   "metadata": {},
   "outputs": [],
   "source": [
    "import math\n",
    "from pathlib import Path\n",
    "\n",
    "import pandas as pd\n",
    "import rdkit\n",
    "from rdkit import Chem\n",
    "from rdkit.Chem import AllChem, Draw, Lipinski, PandasTools\n",
    "\n",
    "from utils import *"
   ]
  },
  {
   "cell_type": "code",
   "execution_count": 3,
   "metadata": {},
   "outputs": [],
   "source": [
    "# Needed to display ROMol images in DataFrames\n",
    "PandasTools.RenderImagesInAllDataFrames(images=True)"
   ]
  },
  {
   "cell_type": "markdown",
   "metadata": {},
   "source": [
    "## Globals"
   ]
  },
  {
   "cell_type": "code",
   "execution_count": 4,
   "metadata": {},
   "outputs": [],
   "source": [
    "# Path to data\n",
    "PATH_DATA = Path('.') / '..' / 'data'\n",
    "\n",
    "# Butina clustering: distance cutoff\n",
    "DISTANCE_CUTOFF = 0.6\n",
    "\n",
    "# Select fragments from clusters: Most common fragment per cluster (if mulitple most common fragments, select the one most similar to cluster centroid)\n",
    "# (A) Select always one fragment per cluster (cluster centroid)\n",
    "#N_REPRESENTED_FRAGMENTS = None\n",
    "# (B) Select top X most common fragments per cluster, whereby X is depending on cluster size (20 clustered fragments will be represented by one selected fragment)\n",
    "N_REPRESENTED_FRAGMENTS = 10\n",
    "\n",
    "# Do we want to include fragment from singleton clusters?\n",
    "INCLUDE_SINGLETONS = True"
   ]
  },
  {
   "cell_type": "markdown",
   "metadata": {},
   "source": [
    "## 1. Load fragment library"
   ]
  },
  {
   "cell_type": "code",
   "execution_count": 5,
   "metadata": {},
   "outputs": [],
   "source": [
    "fragment_library = read_fragment_library(PATH_DATA / 'fragment_library')"
   ]
  },
  {
   "cell_type": "code",
   "execution_count": 6,
   "metadata": {},
   "outputs": [
    {
     "name": "stdout",
     "output_type": "stream",
     "text": [
      "(7486, 15)\n"
     ]
    },
    {
     "data": {
      "text/html": [
       "<div>\n",
       "<style scoped>\n",
       "    .dataframe tbody tr th:only-of-type {\n",
       "        vertical-align: middle;\n",
       "    }\n",
       "\n",
       "    .dataframe tbody tr th {\n",
       "        vertical-align: top;\n",
       "    }\n",
       "\n",
       "    .dataframe thead th {\n",
       "        text-align: right;\n",
       "    }\n",
       "</style>\n",
       "<table border=\"1\" class=\"dataframe\">\n",
       "  <thead>\n",
       "    <tr style=\"text-align: right;\">\n",
       "      <th></th>\n",
       "      <th>ROMol</th>\n",
       "      <th>ROMol_dummy</th>\n",
       "      <th>ROMol_original</th>\n",
       "      <th>kinase</th>\n",
       "      <th>family</th>\n",
       "      <th>group</th>\n",
       "      <th>complex_pdb</th>\n",
       "      <th>ligand_pdb</th>\n",
       "      <th>alt</th>\n",
       "      <th>chain</th>\n",
       "      <th>atom_subpockets</th>\n",
       "      <th>atom_environments</th>\n",
       "      <th>smiles</th>\n",
       "      <th>smiles_dummy</th>\n",
       "      <th>subpocket</th>\n",
       "    </tr>\n",
       "  </thead>\n",
       "  <tbody>\n",
       "    <tr>\n",
       "      <th>0</th>\n",
       "      <td><img data-content=\"rdkit/molecule\" src=\"data:image/png;base64,iVBORw0KGgoAAAANSUhEUgAAAMgAAADICAIAAAAiOjnJAAAABmJLR0QA/wD/AP+gvaeTAAAW1ElEQVR4nO2de1gU1xmHf7MXEHW9QIyC0YiCF0RjVKxKIYk3ooEYMYltIm1tjLY2giaxNiaV+ESjibVZ2/rUmD5pUWOiqRdIA95QAZsKYkmbVRTQpCpeUMMK4baw+/WPIQuyF9hlz8wsnPfhD585x5mP5d35zpxz5hyBiMDheBqV3AFwOiZcLA4TuFgcJnCxOEzgYnGYwMXiMIGLxWECF4vDBC4WhwlcLA4TuFgcJnCxOEzgYnGYwMXiMIGLxWECF4vDBC4WhwlcLA4TuFgcJnCxOEzgYnGYwMXiMIGLxWECF4vDBC4WhwlcLA4TuFgcJnCxOEzgYnGYwMXiMIGLxWECF4vDBC4WhwlcLA4TuFgcJnCxOEzgYrFCEJCRcc+RjAwIgkzRSA4Xi8MELhaHCVwsDhO4WBwmCHxnCkY4aqd3ks+b37EYkp4Ooqaf9HS5A5IQLhaHCVwsDhO4WBwmcLE4TOBPhRwm8DsWhwlcLFYIAhYvvucIH4TmeIZt21pOcOg8cLEYotdj7Vq5g5AJLhZDhg5FeDg2b5Y7DjngYrFlxQosWyZ3EHLAxWJLSAj0+s5409LIHUDHJykJgoAnnmg6YrFA1dG/0R3995Oc48cxezZMpnsO6vXYuLHx3xYLYmLw5pswm6WPTjq4WB7DbMbq1Zg+HWlp2LbtnqKkJBgMKCoCgGPHcOwY1qzBlCm4fFmWSCWBOJ7gyhWKjiaAVCpauZIaGgig9PSmCunpBJD4eWdmUv/+BFDPnrRzp1whs4WL5QEOH6a+fQmgvn3p0KHGgy3EIqJFi8j6RS4vp3nzGlVLSKCKCkkDlgAuVruor6fkZFKpCKBp0+j6ddf+e0oKdetGAA0aRCdPsglRJrhY7vPNNzRpEgGk0VByMpnN7pyksJDGjm06SUODp6OUCS6Wm+zdS717E0ADB9I//9muU5lMTbe9SZPo4kUPhSgrXCyXqamhxMTG5tGcOfTtt5457dGjTS36jz7yzDllhIvlGoWFNHo0AdSlC+n1Hj75rVs0e3ZTi76y0sPnlxIulgtY29rDhtGXXzK/ile36KUTC6BFi+45InbteAUVFfT889LdSwoL6eGHvbtFL6lYdvsMlc+ZM1+OGmUGqHt32rFDoovW1tLLL5MgkEZT/9xziZcvX5bowh5CUrH0epo8uemIV4j1/vvv+/r6RkWljBxJBoPUVz90iOLi1gHo3bv3p59+KvXl24GkYqWn06JFTW1ehYt1586d2bNniwNfL730Uk2NW/1U7ebWrVtPPvmkGEZCQkKllzTppRaruLhJJqtY1dWSRdFWcnNzg4ODAfTs2XP37t1yh0MpKSndunUDEBwc/M929ptJgtRiEZFe33jTEsWqqiKNhgYPpoQE0uspJ4eqqiQLyg4Wi0Wv12u1WgAREREXFdNfWVhY+PDDDwPQaDTJyckNym7SyyCW+O/i4kaxCgpIq21s2os/Gg2NGUMLF9LWrZSfTyaTZDHSzZs3H3/8cQCCICQmJpqkvHYbMJlMycnJKpUKwKOPPnrlyhW5I3KIPGLp9bRoUVMqrK8ng4FSUigxkSIjycenpWdhYU33s7o6VhFmZmYGBgYC6NOnT3qLmQlK4ujRo0FBQWKa3rVrl9zh2EcesYho8mTS6+033quq6ORJ0utp/nwaPrxxEM3607UrRUZSUhLt2EHnz1eZ3Rv7vZf6+nrrneCxxx4rLS1t/zmZovwWvRRiiW1zJxPfnFNZSTk5pNdTQgKFhZEgNEn26KOrdDpdZGRkYmJiSkqKwWCwWCyuhnf58uUf/vCHANRqtfLbLs1RcoueuVgbNlB4OF2+3MrEt7Zz5w4dOkTr1tGcOTRt2o9bTIgNCAiIiYl5/fXX9+/f35YmSGpqqr+/P4AHHnggOzvb5Wjk5ty5c8ps0bMV66OPSBBIpaJ9+1hdory8PCcnZ8OGDbGxsf369WvhWa9evaZNm5acnJyWlnbjxo3m/7G2tjYxMVEQBABxcXG3b99mFSJjamtrV65cac3jCmnRMxTr+HHy9SWAfv97dhdpyeXLl/ft2/faa69Nnz69d+/eLTwbOHBgfHz8+vXrd+7cOWHCBABarTY5OdkjDTV5OXjwoPi96tev33fffSd3OMzEMhioVy8C6OWXGV2hTZSWlqalpSUnJ8fGxoopT0TspgoJCcnPz5czPo9SVlY2fPjw4ODgI0eOyB0LG7GuXqUBAwigZ591ecIuu154s9l87ty57du3L126VKfTAcjJyWF1MZkYPXo0gIMHD8odCAOx7t5tnAoXHU01Na793/p68vOjwECKjaXkZDpyhBjd1JcsWQLgtddeY3J2mfj666/Fzq06dn19bcbDYtXV0dSpBFBYmDtzdouKGptlzXtHR42iBQtoyxbKy6PaWs/Eefz4cQCDBw/2zOkk5OzZs46Kfve73wF47rnnpIzHEZ4Uy2Kh+fMJoKAg+uYbN09iMtGZM7R1Ky1cSGPGkEZzj2daLY0bR4sXU0rKnYKCgvr6eveuYjabxU72f//7324GKgcFBQUAoqOj7ZZGRkYCUMjsGk+KtXw5AdSjBxUUeOycJlPTaM+4caRWNxoWGbldbIOHhYUlJCTo9fr8/HyXenF+9atfeV02/O1vfwvgl7/8pW3RjRs31Gq1r69vhTJefvWYWFu2NN5RDh/21CntUFlJWVm0aRO9+mpKaGiocO+anjqdLjo6+pVXXvn444+Li4udn+rEiRNelw3Dw8MBHLb3Eb///vtih5z0UdnFM2Lt2UMqFQkCpaR45Hxtpby8/OjRo+vXr587d+6DDz5ot3fUUX+612XD4uJi8Zey2zYXJ2V8+OGH0gdmFw+IlZ1NXboQQO+80/6TtQuj0ZiTk6PX6xMSEsRpegCOHz/uqL53ZcN3330XwPz5822LKioqfH191Wp1WVmZ9IHZpb1inT1L/v4E0OLFHonHk1y9evXAgQNOuqG9KxtOmjQJwN69e22Ldu3aJc7Qkj4qR7RLrGvXqgcObHwhWDGjny7gRdnwxo0bKpXKz8/P7vfkmWeeAbB582bpA3OE+wuvVVZWzpo1edCgfRMnYudOqNVun0k2VCpVfHw8gE8//VTuWFph//79FotlxowZ4jyZ5tTV1R08eBBAXFycHKE5wD0f6+rqpk2bBmDYsGG3b9/1rOxS4i3ZcMaMGQD+9re/2RZ99tlnAMaNGyd9VE5wRyyLxfLTn/4UQJ8+fVp9qlc4ZrNZnOZ75swZuWNxiNFo9PHxUavVt27dsi39+c9/DmDt2rXSB+YEd8RauXIlAJ1Op+Q/RtsRnw1/85vfyB2IQ3bu3AlgypQptkUNDQ19+vQB4GSoRxZcFmvr1q0AtFqtEobQPYLys+HcuXMB/PGPf7QtEoMPDQ2VPirnuCZWWlqaWq0WBEE5HXHtR+HZsKamRqfTCYJgd/mGpKQkACtXrpQ+MOe4IFZubq74SKK0dN5+lJwNU1NTAURERNgtFfuBT506JXFUrdJWsYqLi++//34AL774ItOAZEHJ2fBnP/sZgLffftu26MyZMwCCgoLceDeJNW0Sq6ysLCQkBMATTzzh9kwVJaPYbNjQ0HDfffcBKCwstC194403ACxZskT6wFql9Q7SysrKxx9/vKSkJCIiYvfu3RpNB9x+R6VSzZkzB8rrKc3Ozr59+/bQoUOHDx9uW7p//34AYuSKw7l3JpNJHDYfMmRIi9enOhjWbKiotLJ06VI4GCZ3PtlBdpyJZbFYFixYAOC+++67cOGCZDHJggKzocViGThwIIC8vDzb0nfeeQdAQkKC9IG1BWdiiSm8a9euX3zxhWQByYjSng1Pnz4NoH///nZvohMnTgSwj92rwO3DoVhib69Go/nHP/4hZUAyorRsuGrVKgAvvfSSbdH169edTHZQAg4b74IgBAQErFq16onmWzh2aKKiooKCgi5duiS+syA7Ttrm4mSHmJgY28kOCsGhWEePHr1z506HfAZ0hKKeDYuLiwsLC/39/aOjo21LFf08CMCJWOLcMSV8xFIi/tZ79uwhInkj2bt3L4C4uDjb77bRaMzKytJoNLNmzZIjtLbhKEeaTCZxsYNz587ZrWA2m4uKililaJlQzrOhuGbJgQMHbIt27NgBYOrUqdJH1XYc3rG0Wq24GLXdm1Z5efmAAQMiIiLq6uoYGS8LCsmGpaWlp0+f7tq16/Tp021LlZ8HAacdpOnp6QDCw8PtlorrfaWlpbExXjaU8Gz4pz/9CUB8fLxtUXV1dbdu3RxNdlAOzoZ0pk2b5u/vbzAYCgsLbUs7aiNMCc+GTu5Jhw8frqqqioiIGDBggORxuYAzsbRa7VNPPQUH9sybNw9AampqbW0to+BkQfY3LIxGY3Z2tlartdvR4x15EK2NFWZkZKDzZcOsrCwAwcHBsmTDrKysHj16TJ8+3bbI+WQHRdH6ILSTZ8O3334bCh6uchvZnw1ra2vtLiWamZkJYMSIEdKH5CqtTJvh2VCWAHx9fR944AHb416TB9GG9wp5NpQ7lkYsFovYYD99+rTcsbRO62JZs6HdF4x4NpSMvLw8OJ7soDRan0FqzYZ///vfbUt5NpQMMQ/Gx8e3WBVMobTFPp4N5Y6FiEicnXzs2DG5A2kTbRLLZDIFBASgs2ZDJawFf+HCBQABAQHe8jJLm1absY4bdrxsaDabHRUpKhs6meygTARq2/yQgwcPzpw5Mzw8/KuvvrItHTt2bEFBQVpamrJW0mmNjz/++L333vvss8/69u1rt0J2dvYjjzzi7+//4osvikcqKirsumg2mysqKuyepLq62tFQvdFotPv5m0ymqqqq5keuX79eU1OzZ88ecSTNC2jjna3jZcMjR474+PgA+Mtf/uKoTmZmpp+fn+2ePLKgVqsXLlwo5UfUHtp6xwLwwgsvfPjhh2vWrFm9enWLokuXLg0ZMkSn05WVlXXp0sXTH6nnMRgMUVFRRqNxxYoV4tqetvz3v/+Njo6+e/duTEzMY489Jh7U6XR2k5Fare7Ro4fd8/j5+Tn6THr16mX3EU+r1Xbv3r35kQsXLsydO7empmbXrl0//nHLzfSUSNsd7DDPhleuXBF7GufNm+do36+rV6+KdZ599lmF7A0mzqXp2bPnpUuX5I6ldVwQq2NkQ6PROGrUKACPPPJIrYMdVIxGo7jbUXR0tKM6svCjH/0IgDi/Uu5YWsG1ZYzExePWrFljW3Tx4kUAOp2uxtWdmSSkpqYmKioKwMiRI791sNdPXV3d1KlTAYSFhTmqIxfl5eXi8jKvvvqq3LG0gmtieXU2NJvNTz/9NID+/fv/73//s1vHYrHMnz8fQFBQkKM68pKbm+vj4yMIgmI/ZxHXxPLqbLhs2TIAPXr0+PLLLx3VWb58uVinwIP7AXmaDRs2AOjTp09paancsTjE5aUivTQbbty4EYCPj4+T3Uc3bdoEQKvV2t2sRjlYLJbY2Fixmaic3cVb4LJY3pgNP/nkE5VKJQjC9u3bHdXZvXu3WCdF4v2A3KKsrEwcbrL7DVcCLovlddnwxIkTvr6+ADZt2uSoTlZWltjV9O6770oZW3s4ceKEWq1WqVSZmZlyx2IHd5bj9qJsaDAYxH5zu3v8iZw9e1as84tf/ELK2NqPuBxQ//797a7/Li/uiOU8G44dOxZAampq+wLzAKWlpeL6Uk8++aSjtkhpaam4H11cXJxi2yuOMJvNU6ZMATBz5kyFzO2x4o5YzrPh+vXr4WD3Mym5e/fuQw89BCAqKsrR7fPu3btjxowB8IMf/KCqqkriCD3ClStXxPd2nCR6WXBzL50XXngBwJtvvmlbpIRsaN3qZ8SIEXfu3LFbx2QyiS+wh4SEKGebPzf4/PPPBUHQarWKWh/PTbHE7aZGjhxpt1TebGixWBISEgAEBgZ+42DTc4vF8pOf/ESs8/XXX0sboOdZvny5Wu0zZ06O0Sh3KN/jplitZsN+/frJ9dz+yiuviLdMJ7sQ/vrXv261jhdRV1f39NPXAXrmGblD+R73N8J0kg2rq6vlmhHw5z//WezkPHTokKM6HW87ICIqKaGePQmgrVvlDoWI2iOW82woC6mpqeJWP3b39ROxbgf017/+VcLQpGDPHgKoSxdSwnCU+2LV19eLzyMK2dDs1KlTXbt2BbB+/XpHdXJzc8U669atkzI2yVi4kAAKDaWKCpkjadee0E6yocScO3dOfKt20aJFjuoUFxeLW/t1yO2ARGpq6KGHCKAFC2SOpF1iKSQbXrt2bdCgQQBiY2MdvR3V4bcDsmIwUNeuBJDjcVEpaJdY9fX1sm/vWVFRIY58T5gwwdGi5xUVFWIPSEREhGIXRvcgH3xAAHXvTjIudtQusUgB2VB8DBw6dKij8TKTyRQTEwNgyJAhN2/elDg8uXj+eQJo1CiqrpYngPaKpYRs+Ic//OHixYt2izrVdkDNqaykYcMIoKVL5QmgvWKJPaUajWbGjBlvvfVWRkaGokbaX3/9dXSm7YCak59Pvr4EkCzb7bRXLCI6derU+PHjm79SFhgYGBsbm5ycnJaWJqNn27ZtA6BWq+2ult4ZeO89AqhXL5J+1MqFF1adUFJSkpeXl5+fn5+fX1BQ8N1331mLBEEIDQ0d/z1jx46VZvuXzz///KmnnmpoaNiyZcuSJUskuKICIUJ8PA4cwIQJOHkSWq2k1/Y8Fy9eTElJSUxMjIyMFDskrajV6rCwsISEBL1en5OTU82mbZmXlyfqm5yczOL8XsS339KDDxJA9jbTZIhn7lhOaGhouHDhwplmNF+URqPRDB06dNz3jB8/vv1v6F+6dGny5Mk3b96cP3/+9u3bvWOZMpbk5iIqCmYzMjIwY4ZEF2UuVgvq6+uLioqskp0+fdpkMllLtVptaGio1bMJEyaI63a0ndu3b0dGRhYVFc2cOTMtLc1bFv1hzbp1+OADfPIJJk6U6IpSi9UCk8n01VdfnTx5UvTs/PnzFovFWtqtW7cxY8ZYPRsxYoRK5WxBr5qamqlTp/7rX/8aN27ciRMnWqyr0ZmxWFBRgV69pLuizGK1oLKy8j//+Y/1fiYuk28t1el0o0ePtnoWFhbWPM2JLzofOHAgODj4iy++6Nevnxy/Aed7JG3RuYjRaMzJydHr9QkJCWFhYS0i79mzZ2RkZGJiYkpKisFgEHd0DggIOH/+vNyBKxeAWgzTp6eT1QKA0tMdlrp2IbfCk4dr166lpaWtXr161qxZ999/fwvP1Gq1n59fJ+wIdQmgpT2MxPKmtm1gYGBcXJx1Ncpr165Zk2Zubu6qVasGDx48adIkeYNUPno91q7FzJlsr+JNYrUgKCgoKChI9Ez8ljhv2nNEhg5FeDg2b0ZSEsOrdJC/hCAI3Kq2s2IFli1jewn+x+iMhIRAr8fmzXaKZs2CIDT9uL2dORerk5KUhGXLUFLS8nh6OoiaftLT3Tw/F6vzotdj40ZWJ+didV6SkmAwoKiIycm5WJ2aN95woRUfGdnY8Fq8uPXKXKxOzcyZWLSoTTU3b0Z4eGPDy2BARkYr9ZU1VsjxCsTHSefdYFwsjssIAlq1hqdCjmsIAoqLW6/GxeK0lZKSRqtCQlqv7MVjhRwpKSlBaGjrGdAKv2Nx2oTYlWod6rE7HNQc3njnMIHfsThM4GJxmMDF4jCBi8VhAheLwwQuFocJXCwOE7hYHCZwsThM4GJxmMDF4jCBi8VhAheLwwQuFocJXCwOE7hYHCZwsThM4GJxmMDF4jCBi8VhAheLwwQuFocJXCwOE7hYHCZwsThM4GJxmMDF4jDh/6pLGk2Hi1A4AAAAAElFTkSuQmCC\" alt=\"Mol\"/></td>\n",
       "      <td><img data-content=\"rdkit/molecule\" src=\"data:image/png;base64,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\" alt=\"Mol\"/></td>\n",
       "      <td><img data-content=\"rdkit/molecule\" src=\"data:image/png;base64,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\" alt=\"Mol\"/></td>\n",
       "      <td>AAK1</td>\n",
       "      <td>NAK</td>\n",
       "      <td>Other</td>\n",
       "      <td>5l4q</td>\n",
       "      <td>LKB</td>\n",
       "      <td>B</td>\n",
       "      <td>A</td>\n",
       "      <td>AP AP AP AP AP AP AP AP AP AP AP AP AP AP AP F...</td>\n",
       "      <td>16 16 16 16 16 16 16 16 16 16 16 16 16 5 5 na na</td>\n",
       "      <td>Nc1c[nH]c2ncccc12</td>\n",
       "      <td>[11*]c1cnc2[nH]cc(N[27*])c2c1</td>\n",
       "      <td>AP</td>\n",
       "    </tr>\n",
       "    <tr>\n",
       "      <th>1</th>\n",
       "      <td><img data-content=\"rdkit/molecule\" src=\"data:image/png;base64,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\" alt=\"Mol\"/></td>\n",
       "      <td><img data-content=\"rdkit/molecule\" src=\"data:image/png;base64,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\" alt=\"Mol\"/></td>\n",
       "      <td><img data-content=\"rdkit/molecule\" src=\"data:image/png;base64,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\" alt=\"Mol\"/></td>\n",
       "      <td>AAK1</td>\n",
       "      <td>NAK</td>\n",
       "      <td>Other</td>\n",
       "      <td>5te0</td>\n",
       "      <td>XIN</td>\n",
       "      <td></td>\n",
       "      <td>A</td>\n",
       "      <td>AP AP AP AP AP AP AP AP AP AP AP AP AP AP AP A...</td>\n",
       "      <td>7 7 7 7 7 7 7 7 7 7 7 7 7 7 7 7 7 7 7 7 7 7 7 ...</td>\n",
       "      <td>N/C(=C1\\C(=O)Nc2ccccc21)c1ccccc1</td>\n",
       "      <td>[12*]N/C(=C1\\C(=O)Nc2cc([20*])ccc21)c1ccccc1</td>\n",
       "      <td>AP</td>\n",
       "    </tr>\n",
       "  </tbody>\n",
       "</table>\n",
       "</div>"
      ],
      "text/plain": [
       "                                               ROMol  \\\n",
       "0  <img data-content=\"rdkit/molecule\" src=\"data:i...   \n",
       "1  <img data-content=\"rdkit/molecule\" src=\"data:i...   \n",
       "\n",
       "                                         ROMol_dummy  \\\n",
       "0  <img data-content=\"rdkit/molecule\" src=\"data:i...   \n",
       "1  <img data-content=\"rdkit/molecule\" src=\"data:i...   \n",
       "\n",
       "                                      ROMol_original kinase family  group  \\\n",
       "0  <img data-content=\"rdkit/molecule\" src=\"data:i...   AAK1    NAK  Other   \n",
       "1  <img data-content=\"rdkit/molecule\" src=\"data:i...   AAK1    NAK  Other   \n",
       "\n",
       "  complex_pdb ligand_pdb alt chain  \\\n",
       "0        5l4q        LKB   B     A   \n",
       "1        5te0        XIN         A   \n",
       "\n",
       "                                     atom_subpockets  \\\n",
       "0  AP AP AP AP AP AP AP AP AP AP AP AP AP AP AP F...   \n",
       "1  AP AP AP AP AP AP AP AP AP AP AP AP AP AP AP A...   \n",
       "\n",
       "                                   atom_environments  \\\n",
       "0   16 16 16 16 16 16 16 16 16 16 16 16 16 5 5 na na   \n",
       "1  7 7 7 7 7 7 7 7 7 7 7 7 7 7 7 7 7 7 7 7 7 7 7 ...   \n",
       "\n",
       "                             smiles  \\\n",
       "0                 Nc1c[nH]c2ncccc12   \n",
       "1  N/C(=C1\\C(=O)Nc2ccccc21)c1ccccc1   \n",
       "\n",
       "                                   smiles_dummy subpocket  \n",
       "0                 [11*]c1cnc2[nH]cc(N[27*])c2c1        AP  \n",
       "1  [12*]N/C(=C1\\C(=O)Nc2cc([20*])ccc21)c1ccccc1        AP  "
      ]
     },
     "execution_count": 6,
     "metadata": {},
     "output_type": "execute_result"
    }
   ],
   "source": [
    "fragment_library_concat = pd.concat(fragment_library).reset_index(drop=True)\n",
    "print(fragment_library_concat.shape)\n",
    "fragment_library_concat.head(2)"
   ]
  },
  {
   "cell_type": "code",
   "execution_count": 7,
   "metadata": {},
   "outputs": [
    {
     "data": {
      "text/plain": [
       "subpocket\n",
       "AP    2561\n",
       "FP    1866\n",
       "SE    1560\n",
       "GA    1024\n",
       "B1      98\n",
       "B2      92\n",
       "X      285\n",
       "dtype: int64"
      ]
     },
     "execution_count": 7,
     "metadata": {},
     "output_type": "execute_result"
    }
   ],
   "source": [
    "fragment_library_concat.groupby('subpocket', sort=False).size()"
   ]
  },
  {
   "cell_type": "markdown",
   "metadata": {},
   "source": [
    "## 2. Filter fragment library\n",
    "\n",
    "Filter steps:\n",
    "\n",
    "1. Remove pool X\n",
    "2. Deduplicate fragment library (per subpocket)\n",
    "3. Remove fragments without dummy atoms (unfragmented ligands)\n",
    "4. Remove all fragments that connect only to pool X\n",
    "5. Keep \"Rule of Three (Ro3)\" compliant fragments (fragment-likeness)\n",
    "6. Filter AP subpocket fragments (typical hinge-like)"
   ]
  },
  {
   "cell_type": "markdown",
   "metadata": {},
   "source": [
    "### 2.1. Remove pool X"
   ]
  },
  {
   "cell_type": "code",
   "execution_count": 8,
   "metadata": {},
   "outputs": [
    {
     "name": "stdout",
     "output_type": "stream",
     "text": [
      "(7201, 15)\n"
     ]
    },
    {
     "data": {
      "text/plain": [
       "array(['AP', 'FP', 'SE', 'GA', 'B1', 'B2'], dtype=object)"
      ]
     },
     "execution_count": 8,
     "metadata": {},
     "output_type": "execute_result"
    }
   ],
   "source": [
    "# Remove pool X\n",
    "fragment_library_concat_filtered = fragment_library_concat[\n",
    "    fragment_library_concat.subpocket != 'X'\n",
    "].copy()\n",
    "print(fragment_library_concat_filtered.shape)\n",
    "fragment_library_concat_filtered.subpocket.unique()"
   ]
  },
  {
   "cell_type": "markdown",
   "metadata": {},
   "source": [
    "### 2.2. Deduplicate fragment library (per subpocket)"
   ]
  },
  {
   "cell_type": "code",
   "execution_count": 9,
   "metadata": {},
   "outputs": [],
   "source": [
    "# Get fragment count (by SMILES) per subpocket\n",
    "fragment_count = fragment_library_concat_filtered.groupby(\n",
    "    ['subpocket', 'smiles'],\n",
    "    sort=False\n",
    ").size()"
   ]
  },
  {
   "cell_type": "code",
   "execution_count": 10,
   "metadata": {},
   "outputs": [],
   "source": [
    "# Get first occurrence of SMILES per subpocket\n",
    "fragment_library_concat_filtered = fragment_library_concat_filtered.groupby(\n",
    "    ['subpocket', 'smiles'],\n",
    "    sort=False\n",
    ").first()"
   ]
  },
  {
   "cell_type": "code",
   "execution_count": 11,
   "metadata": {},
   "outputs": [
    {
     "name": "stdout",
     "output_type": "stream",
     "text": [
      "(2977, 16)\n"
     ]
    },
    {
     "data": {
      "text/html": [
       "<div>\n",
       "<style scoped>\n",
       "    .dataframe tbody tr th:only-of-type {\n",
       "        vertical-align: middle;\n",
       "    }\n",
       "\n",
       "    .dataframe tbody tr th {\n",
       "        vertical-align: top;\n",
       "    }\n",
       "\n",
       "    .dataframe thead th {\n",
       "        text-align: right;\n",
       "    }\n",
       "</style>\n",
       "<table border=\"1\" class=\"dataframe\">\n",
       "  <thead>\n",
       "    <tr style=\"text-align: right;\">\n",
       "      <th></th>\n",
       "      <th>subpocket</th>\n",
       "      <th>smiles</th>\n",
       "      <th>ROMol</th>\n",
       "      <th>ROMol_dummy</th>\n",
       "      <th>ROMol_original</th>\n",
       "      <th>kinase</th>\n",
       "      <th>family</th>\n",
       "      <th>group</th>\n",
       "      <th>complex_pdb</th>\n",
       "      <th>ligand_pdb</th>\n",
       "      <th>alt</th>\n",
       "      <th>chain</th>\n",
       "      <th>atom_subpockets</th>\n",
       "      <th>atom_environments</th>\n",
       "      <th>smiles_dummy</th>\n",
       "      <th>fragment_count</th>\n",
       "    </tr>\n",
       "  </thead>\n",
       "  <tbody>\n",
       "    <tr>\n",
       "      <th>0</th>\n",
       "      <td>AP</td>\n",
       "      <td>Nc1c[nH]c2ncccc12</td>\n",
       "      <td><img data-content=\"rdkit/molecule\" src=\"data:image/png;base64,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\" alt=\"Mol\"/></td>\n",
       "      <td><img data-content=\"rdkit/molecule\" src=\"data:image/png;base64,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\" alt=\"Mol\"/></td>\n",
       "      <td><img data-content=\"rdkit/molecule\" src=\"data:image/png;base64,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\" alt=\"Mol\"/></td>\n",
       "      <td>AAK1</td>\n",
       "      <td>NAK</td>\n",
       "      <td>Other</td>\n",
       "      <td>5l4q</td>\n",
       "      <td>LKB</td>\n",
       "      <td>B</td>\n",
       "      <td>A</td>\n",
       "      <td>AP AP AP AP AP AP AP AP AP AP AP AP AP AP AP F...</td>\n",
       "      <td>16 16 16 16 16 16 16 16 16 16 16 16 16 5 5 na na</td>\n",
       "      <td>[11*]c1cnc2[nH]cc(N[27*])c2c1</td>\n",
       "      <td>3</td>\n",
       "    </tr>\n",
       "    <tr>\n",
       "      <th>1</th>\n",
       "      <td>AP</td>\n",
       "      <td>N/C(=C1\\C(=O)Nc2ccccc21)c1ccccc1</td>\n",
       "      <td><img data-content=\"rdkit/molecule\" src=\"data:image/png;base64,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\" alt=\"Mol\"/></td>\n",
       "      <td><img data-content=\"rdkit/molecule\" src=\"data:image/png;base64,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\" alt=\"Mol\"/></td>\n",
       "      <td><img data-content=\"rdkit/molecule\" src=\"data:image/png;base64,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\" alt=\"Mol\"/></td>\n",
       "      <td>AAK1</td>\n",
       "      <td>NAK</td>\n",
       "      <td>Other</td>\n",
       "      <td>5te0</td>\n",
       "      <td>XIN</td>\n",
       "      <td></td>\n",
       "      <td>A</td>\n",
       "      <td>AP AP AP AP AP AP AP AP AP AP AP AP AP AP AP A...</td>\n",
       "      <td>7 7 7 7 7 7 7 7 7 7 7 7 7 7 7 7 7 7 7 7 7 7 7 ...</td>\n",
       "      <td>[12*]N/C(=C1\\C(=O)Nc2cc([20*])ccc21)c1ccccc1</td>\n",
       "      <td>3</td>\n",
       "    </tr>\n",
       "  </tbody>\n",
       "</table>\n",
       "</div>"
      ],
      "text/plain": [
       "  subpocket                            smiles  \\\n",
       "0        AP                 Nc1c[nH]c2ncccc12   \n",
       "1        AP  N/C(=C1\\C(=O)Nc2ccccc21)c1ccccc1   \n",
       "\n",
       "                                               ROMol  \\\n",
       "0  <img data-content=\"rdkit/molecule\" src=\"data:i...   \n",
       "1  <img data-content=\"rdkit/molecule\" src=\"data:i...   \n",
       "\n",
       "                                         ROMol_dummy  \\\n",
       "0  <img data-content=\"rdkit/molecule\" src=\"data:i...   \n",
       "1  <img data-content=\"rdkit/molecule\" src=\"data:i...   \n",
       "\n",
       "                                      ROMol_original kinase family  group  \\\n",
       "0  <img data-content=\"rdkit/molecule\" src=\"data:i...   AAK1    NAK  Other   \n",
       "1  <img data-content=\"rdkit/molecule\" src=\"data:i...   AAK1    NAK  Other   \n",
       "\n",
       "  complex_pdb ligand_pdb alt chain  \\\n",
       "0        5l4q        LKB   B     A   \n",
       "1        5te0        XIN         A   \n",
       "\n",
       "                                     atom_subpockets  \\\n",
       "0  AP AP AP AP AP AP AP AP AP AP AP AP AP AP AP F...   \n",
       "1  AP AP AP AP AP AP AP AP AP AP AP AP AP AP AP A...   \n",
       "\n",
       "                                   atom_environments  \\\n",
       "0   16 16 16 16 16 16 16 16 16 16 16 16 16 5 5 na na   \n",
       "1  7 7 7 7 7 7 7 7 7 7 7 7 7 7 7 7 7 7 7 7 7 7 7 ...   \n",
       "\n",
       "                                   smiles_dummy  fragment_count  \n",
       "0                 [11*]c1cnc2[nH]cc(N[27*])c2c1               3  \n",
       "1  [12*]N/C(=C1\\C(=O)Nc2cc([20*])ccc21)c1ccccc1               3  "
      ]
     },
     "execution_count": 11,
     "metadata": {},
     "output_type": "execute_result"
    }
   ],
   "source": [
    "# Add fragment count to these representative fragments\n",
    "fragment_library_concat_filtered['fragment_count'] = fragment_count\n",
    "fragment_library_concat_filtered.reset_index(inplace=True)\n",
    "\n",
    "print(fragment_library_concat_filtered.shape)\n",
    "fragment_library_concat_filtered.head(2)"
   ]
  },
  {
   "cell_type": "code",
   "execution_count": 12,
   "metadata": {},
   "outputs": [
    {
     "data": {
      "text/plain": [
       "subpocket\n",
       "AP    1115\n",
       "FP     864\n",
       "SE     607\n",
       "GA     306\n",
       "B1      42\n",
       "B2      43\n",
       "dtype: int64"
      ]
     },
     "execution_count": 12,
     "metadata": {},
     "output_type": "execute_result"
    }
   ],
   "source": [
    "fragment_library_concat_filtered.groupby('subpocket', sort=False).size()"
   ]
  },
  {
   "cell_type": "markdown",
   "metadata": {},
   "source": [
    "### 2.3. Remove fragments without dummy atoms (unfragmented ligands)"
   ]
  },
  {
   "cell_type": "code",
   "execution_count": 13,
   "metadata": {},
   "outputs": [],
   "source": [
    "# Get fragments' (subpocket) connections \n",
    "fragment_library_concat_filtered['connections'] = get_connections_by_fragment(fragment_library_concat_filtered).connections"
   ]
  },
  {
   "cell_type": "code",
   "execution_count": 14,
   "metadata": {},
   "outputs": [],
   "source": [
    "# Unfragmented ligands?\n",
    "bool_unfragmented_ligands = fragment_library_concat_filtered.connections.apply(lambda x: len(x) == 0)"
   ]
  },
  {
   "cell_type": "code",
   "execution_count": 15,
   "metadata": {},
   "outputs": [
    {
     "name": "stdout",
     "output_type": "stream",
     "text": [
      "(2863, 18)\n"
     ]
    }
   ],
   "source": [
    "# Remove unfragmented ligands\n",
    "fragment_library_concat_filtered = fragment_library_concat_filtered[\n",
    "    ~bool_unfragmented_ligands\n",
    "].copy()\n",
    "print(fragment_library_concat_filtered.shape)"
   ]
  },
  {
   "cell_type": "code",
   "execution_count": 16,
   "metadata": {},
   "outputs": [
    {
     "data": {
      "text/plain": [
       "subpocket\n",
       "AP    1001\n",
       "FP     864\n",
       "SE     607\n",
       "GA     306\n",
       "B1      42\n",
       "B2      43\n",
       "dtype: int64"
      ]
     },
     "execution_count": 16,
     "metadata": {},
     "output_type": "execute_result"
    }
   ],
   "source": [
    "fragment_library_concat_filtered.groupby('subpocket', sort=False).size()"
   ]
  },
  {
   "cell_type": "markdown",
   "metadata": {},
   "source": [
    "### 2.4. Remove all fragments that connect only to pool X"
   ]
  },
  {
   "cell_type": "code",
   "execution_count": 17,
   "metadata": {},
   "outputs": [],
   "source": [
    "# Fragment connects only to pool X?\n",
    "bool_only_pool_x_connections = fragment_library_concat_filtered.connections.apply(\n",
    "    lambda x: all(  # All connections per fragment are X?\n",
    "        [True if 'X' in i else False for i in x]  # Connections per fragment X or not?\n",
    "    )\n",
    ")"
   ]
  },
  {
   "cell_type": "code",
   "execution_count": 18,
   "metadata": {},
   "outputs": [
    {
     "name": "stdout",
     "output_type": "stream",
     "text": [
      "(2862, 18)\n"
     ]
    }
   ],
   "source": [
    "# Remove fragments that connect only to pool X\n",
    "fragment_library_concat_filtered = fragment_library_concat_filtered[\n",
    "    ~bool_only_pool_x_connections\n",
    "].copy()\n",
    "print(fragment_library_concat_filtered.shape)"
   ]
  },
  {
   "cell_type": "code",
   "execution_count": 19,
   "metadata": {},
   "outputs": [
    {
     "data": {
      "text/plain": [
       "subpocket\n",
       "AP    1001\n",
       "FP     864\n",
       "SE     607\n",
       "GA     306\n",
       "B1      42\n",
       "B2      42\n",
       "dtype: int64"
      ]
     },
     "execution_count": 19,
     "metadata": {},
     "output_type": "execute_result"
    }
   ],
   "source": [
    "fragment_library_concat_filtered.groupby('subpocket', sort=False).size()"
   ]
  },
  {
   "cell_type": "markdown",
   "metadata": {},
   "source": [
    "### 2.5. Keep \"Rule of Three (Ro3)\" compliant fragments (fragment-likeness)\n",
    "\n",
    "Rule of Three criteria ([paper](https://www.sciencedirect.com/science/article/pii/S1359644603028319)):\n",
    "- Molecular weight < 300 Da\n",
    "- LogP <= 3\n",
    "- Number of HBA <= 3 \n",
    "- Number of HBD <= 3\n",
    "- Number of rotatable bonds <= 3 \n",
    "- Polar surface area (PSA) <= 60 $\\mathring{A}$<sup>2</sup>"
   ]
  },
  {
   "cell_type": "code",
   "execution_count": null,
   "metadata": {},
   "outputs": [],
   "source": [
    "ro3 = fragment_library_concat_filtered.ROMol.apply(lambda x: get_ro3_from_mol(x))"
   ]
  },
  {
   "cell_type": "code",
   "execution_count": null,
   "metadata": {},
   "outputs": [],
   "source": [
    "# Fragments fulfill all six Ro3 rules\n",
    "bool_fulfill_ro3 = ro3.sum(axis=1) == 6"
   ]
  },
  {
   "cell_type": "code",
   "execution_count": null,
   "metadata": {},
   "outputs": [],
   "source": [
    "fragment_library_concat_filtered = fragment_library_concat_filtered[\n",
    "    bool_fulfill_ro3\n",
    "].copy()\n",
    "print(fragment_library_concat_filtered.shape)"
   ]
  },
  {
   "cell_type": "code",
   "execution_count": null,
   "metadata": {},
   "outputs": [],
   "source": [
    "fragment_library_concat_filtered.groupby('subpocket', sort=False).size()"
   ]
  },
  {
   "cell_type": "markdown",
   "metadata": {},
   "source": [
    "### 2.6. Filter AP subpocket fragments (typical hinge-like)"
   ]
  },
  {
   "cell_type": "markdown",
   "metadata": {},
   "source": [
    "For the AP subpocket, we only want to keep fragments that (similar to most '-nibs') have \n",
    "- at least one hydrogen bond donor (HBD) or acceptor (HBA) and\n",
    "- at least one aromatic or aliphatic ring."
   ]
  },
  {
   "cell_type": "markdown",
   "metadata": {},
   "source": [
    "1. Add the number of HBD, HBA, (heavy atoms), aromatic and aliphatic rings for all fragments - use fragments with dummy atoms to avoid detection of HBDs at dummy atom neighboring atoms."
   ]
  },
  {
   "cell_type": "code",
   "execution_count": null,
   "metadata": {},
   "outputs": [],
   "source": [
    "fragment_library_concat_filtered['hbd'] = fragment_library_concat_filtered.ROMol_dummy.apply(lambda x: Lipinski.NumHAcceptors(x))\n",
    "fragment_library_concat_filtered['hba'] = fragment_library_concat_filtered.ROMol_dummy.apply(lambda x: Lipinski.NumHDonors(x))\n",
    "fragment_library_concat_filtered['n_atoms'] = fragment_library_concat_filtered.ROMol_dummy.apply(lambda x: x.GetNumHeavyAtoms())\n",
    "fragment_library_concat_filtered['n_aromatic_rings'] = fragment_library_concat_filtered.ROMol_dummy.apply(lambda x: Lipinski.NumAromaticRings(x))\n",
    "fragment_library_concat_filtered['n_aliphatic_rings'] = fragment_library_concat_filtered.ROMol_dummy.apply(lambda x: Lipinski.NumAliphaticRings(x))"
   ]
  },
  {
   "cell_type": "code",
   "execution_count": null,
   "metadata": {},
   "outputs": [],
   "source": [
    "def draw_fragments_with_hinge_criteria_annotation(fragments, max_mols):\n",
    "    \"\"\"\n",
    "    Draw fragments labeled with their number of HBDs, HBAs, aromatic and aliphatic rings.\n",
    "    \n",
    "    Parameters\n",
    "    ----------\n",
    "    fragments : pandas.DataFrame\n",
    "        Fragments in DataFrame with columns ROMol_dummy (RDKit molecule with dummy atoms), hbd, hba, n_aromatic_rings, n_aliphatic_rings \n",
    "        (number of HBDs, HBAs, aromatic and aliphatic rings rings).\n",
    "    max_mols : int\n",
    "        Number of molecules displayed.\n",
    "        \n",
    "    Returns\n",
    "    -------\n",
    "    PIL.PngImagePlugin.PngImageFile\n",
    "        Image of fragments.\n",
    "    \"\"\"\n",
    "    \n",
    "    if fragments.shape[0] == 0:\n",
    "        raise ValueError(f'Input DataFrame has length 0 - no data available to be drawn.')\n",
    "    \n",
    "    print(f'#HBD | #HBA | #aromatic rings | #aliphatic rings | complex PDB ID | ligand PDB ID')\n",
    "    image = Draw.MolsToGridImage(\n",
    "        fragments.ROMol_dummy,\n",
    "        maxMols=max_mols,\n",
    "        molsPerRow=7,\n",
    "        legends=fragments.apply(\n",
    "            lambda x: f'{x.hbd} | {x.hba} | {x.n_aromatic_rings} | {x.n_aliphatic_rings} | {x.complex_pdb} | {x.ligand_pdb}',\n",
    "            axis=1\n",
    "        ).to_list()\n",
    "    )\n",
    "    \n",
    "    return image"
   ]
  },
  {
   "cell_type": "code",
   "execution_count": null,
   "metadata": {},
   "outputs": [],
   "source": [
    "print('Example AP fragments with hinge criteria annotation (in order to check if number of HBA ect. are as expected:)')\n",
    "draw_fragments_with_hinge_criteria_annotation(fragment_library_concat_filtered[fragment_library_concat_filtered.subpocket == 'AP'], max_mols=14)"
   ]
  },
  {
   "cell_type": "markdown",
   "metadata": {},
   "source": [
    "2. Get index labels for fragments that do not show any HBDs, HBAs, aromatic and aliphatic rings."
   ]
  },
  {
   "cell_type": "code",
   "execution_count": null,
   "metadata": {},
   "outputs": [],
   "source": [
    "index_labels_hinge_unlike = fragment_library_concat_filtered[\n",
    "    (fragment_library_concat_filtered.subpocket == 'AP') & \n",
    "    ((fragment_library_concat_filtered.hbd + fragment_library_concat_filtered.hba == 0) | \n",
    "    (fragment_library_concat_filtered.n_aromatic_rings + fragment_library_concat_filtered.n_aliphatic_rings == 0))\n",
    "].index\n",
    "\n",
    "print('Fragments that will be filtered out:')\n",
    "draw_fragments_with_hinge_criteria_annotation(fragment_library_concat_filtered.loc[index_labels_hinge_unlike], max_mols=50)"
   ]
  },
  {
   "cell_type": "markdown",
   "metadata": {},
   "source": [
    "Verify these filtered-out AP fragments (focus on those with H-bonds possibility only) by checking all fragments and annotated subpockets of the original ligand as well as it's interactions in KLIFS's 3D view to assess if the ligands really should not be considered for library design:\n",
    "\n",
    "- Ligand has no typical hinge fragment  \n",
    "  - 5m44  \n",
    "  - 6hop  \n",
    "  - 6hot  \n",
    "  - 5yv9  \n",
    "  - 4yth  \n",
    "  - 5ar5  \n",
    "- Ligand contains large 'not fragmentable' part\n",
    "  - 5omy: FP fragment contains AP part  \n",
    "  - 5w5v: SE fragment contains AP part  \n",
    "- Corner cases: AP fragment is not correctly assigned (due to design choices) \n",
    "  - 3fdn: SE contains hinge binding fragment (visual inspection)  \n",
    "  - 4uyn: GA contains part of hinge binding fragment (visual inspection)  \n",
    "  - 4o0y: Ligand has two AP fragments (allowed in current implementation) of which one is the intended one, the one that is filtered out here is rather part of SE  "
   ]
  },
  {
   "cell_type": "code",
   "execution_count": null,
   "metadata": {},
   "outputs": [],
   "source": [
    "# Look at ligand fragmentation like this:\n",
    "draw_fragmented_ligand(fragment_library, '5w5v', 'ANW')"
   ]
  },
  {
   "cell_type": "markdown",
   "metadata": {},
   "source": [
    "3. Drop these hinge-unlike fragments in AP."
   ]
  },
  {
   "cell_type": "code",
   "execution_count": null,
   "metadata": {},
   "outputs": [],
   "source": [
    "fragment_library_concat_filtered.drop(\n",
    "    labels=index_labels_hinge_unlike, \n",
    "    axis=0,\n",
    "    inplace=True\n",
    ")\n",
    "fragment_library_concat_filtered.shape"
   ]
  },
  {
   "cell_type": "markdown",
   "metadata": {},
   "source": [
    "## 3. Cluster and select filtered fragments (get diverse set of fragments)"
   ]
  },
  {
   "cell_type": "markdown",
   "metadata": {},
   "source": [
    "### Fragment clustering per subpocket"
   ]
  },
  {
   "cell_type": "code",
   "execution_count": null,
   "metadata": {},
   "outputs": [],
   "source": [
    "def cluster_fragments(fragments, cutoff):\n",
    "    \"\"\"\n",
    "    Cluster fragments using the Butina algorithm with a given distance cutoff.\n",
    "    \n",
    "    Parameters\n",
    "    ----------\n",
    "    fragments : pandas.DataFrame\n",
    "        Fragments.\n",
    "    cutoff : float\n",
    "        Distance cutoff Butina clustering.\n",
    "        \n",
    "    Returns\n",
    "    -------\n",
    "    pandas.DataFrame\n",
    "        Clustered fragments, containing fragment details available from input plus cluster details (fragments' cluster IDs, cluster member ID, \n",
    "        cluster size, and molecule ID).\n",
    "    \"\"\"\n",
    "\n",
    "    # Get fragments by subpocket\n",
    "    fragments = fragments.copy()\n",
    "    fragments.reset_index(inplace=True, drop=True)\n",
    "    fragments.index.name = 'molecule_id'\n",
    "\n",
    "    # Cluster molecules \n",
    "    clustered_fragments = cluster_molecules(fragments.ROMol, cutoff)\n",
    "    #clustered_fragments = cluster_molecules(fragments.ROMol_dummy, cutoff)  # (including dummy atoms)\n",
    "    \n",
    "    # Concatenate cluster metadata with fragment details\n",
    "    clustered_fragments = fragments.merge(\n",
    "        clustered_fragments,\n",
    "        on='molecule_id',\n",
    "    )\n",
    "    \n",
    "    return clustered_fragments"
   ]
  },
  {
   "cell_type": "markdown",
   "metadata": {},
   "source": [
    "### Fragment selection per subpocket"
   ]
  },
  {
   "cell_type": "code",
   "execution_count": null,
   "metadata": {},
   "outputs": [],
   "source": [
    "def select_fragments_from_clusters(clustered_fragments, n_represented_fragments=None):\n",
    "    \"\"\"\n",
    "    Select fragments from clusters - two options: \n",
    "    (A) Get most common fragment. In case of mulitple most common fragments, select the one that is most similar to cluster centroid.\n",
    "    (B) Get top X most common fragments, whereby X depends on the cluster size (more fragments will be selected from larger clusters).\n",
    "    \n",
    "    Parameters\n",
    "    ----------\n",
    "    clustered_fragments : pandas.DataFrame\n",
    "        Fragments with cluster details (cluster ID, cluster size, cluster member ID, and molecule ID).\n",
    "    n_represented_fragments : None or int\n",
    "        Default: Select first fragment per sorted cluster (None). \n",
    "        Alternative: Select top X fragments per sorted cluster, whereby X depends on cluster size (n_cluster_fragments): \n",
    "        X = n_cluster_fragments / n_represented_fragments.\n",
    "        \n",
    "    Returns\n",
    "    -------\n",
    "    pandas.DataFrame\n",
    "        Fragments selected from clusters, including cluster IDs, cluster member ID, cluster size, and molecule ID.\n",
    "    \"\"\"\n",
    "    \n",
    "    # Sort DataFrame by cluster ID (ascending), fragment count (descending), and cluster member ID (ascending)\n",
    "    # Note member ID: the smaller, the more similar to cluster centroid\n",
    "    clustered_fragments.sort_values(\n",
    "        ['cluster_id', 'fragment_count', 'cluster_member_id'], \n",
    "        ascending=[True, False, True], \n",
    "        inplace=True\n",
    "    )\n",
    "\n",
    "    # Select fragment per cluster by (i) fragment count and (i) similarity to cluster centroids (cluster member ID):\n",
    "    \n",
    "    # Option A: Select first fragment per sorted cluster\n",
    "    if n_represented_fragments is None:\n",
    "        selected_fragments = clustered_fragments.groupby('cluster_id', sort=False).first()\n",
    "        selected_fragments.reset_index(inplace=True)\n",
    "        selected_fragments['cluster_size'] = clustered_fragments.groupby('cluster_id', sort=False).size()\n",
    "    \n",
    "    # Option B: Select top X fragments per sorted cluster, whereby X depends on the cluster size (e.g. per 20 fragments select one)\n",
    "    else:\n",
    "        selected_fragments = clustered_fragments.groupby('cluster_id', sort=False).apply(\n",
    "            lambda x: x.head(math.ceil(len(x) / n_represented_fragments))\n",
    "        )\n",
    "        selected_fragments.reset_index(inplace=True, drop=True)\n",
    "        selected_fragments['cluster_size'] = [clustered_fragments.groupby('cluster_id', sort=False).size().loc[cluster_id] for cluster_id in selected_fragments.cluster_id]\n",
    "    \n",
    "    print(f'Number of selected fragments / clusters / inital fragments: {selected_fragments.shape[0]} / {clustered_fragments.cluster_id.unique().shape[0]} / {clustered_fragments.shape[0]}')\n",
    "    \n",
    "    return selected_fragments"
   ]
  },
  {
   "cell_type": "markdown",
   "metadata": {},
   "source": [
    "### Fragment clustering and selection for all subpockets (individually)"
   ]
  },
  {
   "cell_type": "code",
   "execution_count": null,
   "metadata": {},
   "outputs": [],
   "source": [
    "def select_fragments_from_clusters_all_subpockets(fragment_library_concat, cutoff, n_represented_fragments=None):\n",
    "    \"\"\"\n",
    "    Cluster fragments and select cluster representatives for mulitple subpockets individually:\n",
    "    1. Cluster fragments using the Butina algorithm with a given distance cutoff.\n",
    "    2. Select fragments from clusters - two options: \n",
    "       (A) Get most common fragment. In case of mulitple most common fragments, select the one that is most similar to cluster centroid.\n",
    "       (B) Get top X most common fragments, whereby X depends on the cluster size (more fragments will be selected from larger clusters).\n",
    "    \n",
    "    Parameters\n",
    "    ----------\n",
    "    fragment_library_concat : pandas.DataFrame\n",
    "        Fragment library data for one or multiple subpockets.\n",
    "    cutoff : float\n",
    "        Distance cutoff Butina clustering.\n",
    "    n_represented_fragments : None or int\n",
    "        Default: Select first fragment per sorted cluster (None). \n",
    "        Alternative: Select top X fragments per sorted cluster, whereby X depends on cluster size (n_cluster_fragments): \n",
    "        X = n_cluster_fragments / n_represented_fragments.\n",
    "    \n",
    "    Returns\n",
    "    -------\n",
    "    pandas.DataFrame\n",
    "        Fragments selected from clustering, including cluster IDs, cluster member ID, cluster size, and molecule ID (clustering per subpocket individually).   \n",
    "    \"\"\"\n",
    "    \n",
    "    selected_fragments_subpockets = {}\n",
    "\n",
    "    for subpocket, fragments in fragment_library_concat.groupby('subpocket', sort=False):\n",
    "        \n",
    "        print(f'\\nSubpocket: {subpocket}')\n",
    "        \n",
    "        clustered_fragments_subpocket = cluster_fragments(fragments, cutoff)\n",
    "        selected_fragments_subpocket = select_fragments_from_clusters(clustered_fragments_subpocket, n_represented_fragments)\n",
    "        \n",
    "        selected_fragments_subpocket['subpocket'] = subpocket\n",
    "        selected_fragments_subpockets[subpocket] = selected_fragments_subpocket\n",
    "\n",
    "    # Concatenate cluster centroids for all subpockets\n",
    "    selected_fragments = pd.concat(selected_fragments_subpockets).reset_index(drop=True)\n",
    "    \n",
    "    return selected_fragments"
   ]
  },
  {
   "cell_type": "code",
   "execution_count": null,
   "metadata": {},
   "outputs": [],
   "source": [
    "selected_fragments = select_fragments_from_clusters_all_subpockets(\n",
    "    fragment_library_concat_filtered, \n",
    "    DISTANCE_CUTOFF, \n",
    "    n_represented_fragments=N_REPRESENTED_FRAGMENTS\n",
    ")"
   ]
  },
  {
   "cell_type": "markdown",
   "metadata": {},
   "source": [
    "### Plot cluster sizes per subpocket"
   ]
  },
  {
   "cell_type": "code",
   "execution_count": null,
   "metadata": {},
   "outputs": [],
   "source": [
    "# Get cluster size per subpocket and cluster\n",
    "cluster_data = selected_fragments.groupby(\n",
    "    ['subpocket', 'cluster_id']\n",
    ").first()['cluster_size'].reset_index()\n",
    "\n",
    "# Reformat cluster data for plotting (subpocket per column)\n",
    "cluster_data = pd.concat(\n",
    "    [\n",
    "        subpocket_data.set_index('cluster_id')['cluster_size'] \n",
    "        for subpocket, subpocket_data \n",
    "        in cluster_data.groupby('subpocket', sort=False)\n",
    "    ], \n",
    "    axis=1\n",
    ")\n",
    "cluster_data.columns = selected_fragments.groupby('subpocket', sort=False).groups.keys()\n",
    "\n",
    "# Plot cluster data\n",
    "cluster_data.plot(figsize=(15,5), title='Cluster numbers and sizes per subpocket')"
   ]
  },
  {
   "cell_type": "markdown",
   "metadata": {},
   "source": [
    "### Include singletons?"
   ]
  },
  {
   "cell_type": "code",
   "execution_count": null,
   "metadata": {},
   "outputs": [],
   "source": [
    "print(f'Number of selected fragments with singletons: {selected_fragments.shape[0]}')\n",
    "\n",
    "if INCLUDE_SINGLETONS:\n",
    "    pass\n",
    "else:\n",
    "    selected_fragments = selected_fragments[selected_fragments.cluster_size!=1]\n",
    "    print(f'Number of selected fragments without singletons: {selected_fragments.shape[0]}')\n",
    "    \n",
    "print(f'Include singletons: {INCLUDE_SINGLETONS}')\n",
    "print(f'Number of selected fragments in final set: {selected_fragments.shape[0]}')"
   ]
  },
  {
   "cell_type": "markdown",
   "metadata": {},
   "source": [
    "## 4. Look at selected fragments"
   ]
  },
  {
   "cell_type": "markdown",
   "metadata": {},
   "source": [
    "### Number of fragments per subpocket and in total"
   ]
  },
  {
   "cell_type": "code",
   "execution_count": null,
   "metadata": {},
   "outputs": [],
   "source": [
    "selected_fragments.groupby('subpocket', sort=False).size()"
   ]
  },
  {
   "cell_type": "code",
   "execution_count": null,
   "metadata": {},
   "outputs": [],
   "source": [
    "print(f'Size of reduced fragment library: {selected_fragments.shape[0]}')"
   ]
  },
  {
   "cell_type": "code",
   "execution_count": null,
   "metadata": {},
   "outputs": [],
   "source": [
    "def draw_selected_fragments(selected_fragments, output_path=None):\n",
    "    \"\"\"\n",
    "    Draw selected fragments sorted by descending cluster size (show legend cluster ID | cluster size | fragment count | cluster member ID).\n",
    "    \n",
    "    Parameters\n",
    "    ----------\n",
    "    cluster_centroids : pandas.DataFrame\n",
    "        Fragments that are cluster centroids (cluster ID as index, molecule ID, cluster size, and ROMol).   \n",
    "    output_path : pathlib.Path\n",
    "        Path to output folder.\n",
    "    \n",
    "    Returns\n",
    "    -------\n",
    "    PIL.PngImagePlugin.PngImageFile\n",
    "        Image of fragments sorted by descending cluster size.\n",
    "    \"\"\"\n",
    "    \n",
    "    subpocket = selected_fragments.subpocket.unique()[0]\n",
    "        \n",
    "    img = Draw.MolsToGridImage(\n",
    "        list(selected_fragments.ROMol), \n",
    "        legends=[\n",
    "            f'{row.cluster_id} | {row.cluster_size} | {row.fragment_count} | {row.cluster_member_id} | {row.complex_pdb} | {row.ligand_pdb}' \n",
    "            for index, row\n",
    "            in selected_fragments.iterrows()\n",
    "        ],  \n",
    "        molsPerRow=7, \n",
    "        maxMols=200,\n",
    "        subImgSize=(170, 170),\n",
    "        useSVG=True\n",
    "    )\n",
    "    \n",
    "    print(f'Legend: cluster ID | cluster size | fragment count | cluster member ID | complex PDB ID | ligand PDB ID')\n",
    "    \n",
    "    if output_path is not None:\n",
    "        \n",
    "        # Get SVG data\n",
    "        molsvg = img.data\n",
    "\n",
    "        # Set font size\n",
    "        molsvg = molsvg.replace('12px', '24px');\n",
    "\n",
    "        # Save altered SVG data to file\n",
    "        with open(Path(output_path) / f'clustered_most_common_fragments_{subpocket.lower()}.svg', 'w') as f:\n",
    "            f.write(molsvg)\n",
    "    \n",
    "    return img"
   ]
  },
  {
   "cell_type": "markdown",
   "metadata": {},
   "source": [
    "### Fragments in AP"
   ]
  },
  {
   "cell_type": "code",
   "execution_count": null,
   "metadata": {},
   "outputs": [],
   "source": [
    "draw_selected_fragments(selected_fragments.groupby('subpocket').get_group('AP'), output_path=None)"
   ]
  },
  {
   "cell_type": "markdown",
   "metadata": {},
   "source": [
    "### Fragments in FP"
   ]
  },
  {
   "cell_type": "code",
   "execution_count": null,
   "metadata": {},
   "outputs": [],
   "source": [
    "draw_selected_fragments(selected_fragments.groupby('subpocket').get_group('FP'), output_path=None)"
   ]
  },
  {
   "cell_type": "markdown",
   "metadata": {},
   "source": [
    "### Fragments in SE"
   ]
  },
  {
   "cell_type": "code",
   "execution_count": null,
   "metadata": {},
   "outputs": [],
   "source": [
    "draw_selected_fragments(selected_fragments.groupby('subpocket').get_group('SE'), output_path=None)"
   ]
  },
  {
   "cell_type": "markdown",
   "metadata": {},
   "source": [
    "### Fragments in GA"
   ]
  },
  {
   "cell_type": "code",
   "execution_count": null,
   "metadata": {},
   "outputs": [],
   "source": [
    "draw_selected_fragments(selected_fragments.groupby('subpocket').get_group('GA'), output_path=None)"
   ]
  },
  {
   "cell_type": "markdown",
   "metadata": {},
   "source": [
    "### Fragments in B1"
   ]
  },
  {
   "cell_type": "code",
   "execution_count": null,
   "metadata": {},
   "outputs": [],
   "source": [
    "draw_selected_fragments(selected_fragments.groupby('subpocket').get_group('B1'), output_path=None)"
   ]
  },
  {
   "cell_type": "markdown",
   "metadata": {},
   "source": [
    "### Fragments in B2"
   ]
  },
  {
   "cell_type": "code",
   "execution_count": null,
   "metadata": {},
   "outputs": [],
   "source": [
    "draw_selected_fragments(selected_fragments.groupby('subpocket').get_group('B2'), output_path=None)"
   ]
  },
  {
   "cell_type": "markdown",
   "metadata": {},
   "source": [
    "## 5. Selected fragments = reduced fragment library"
   ]
  },
  {
   "cell_type": "markdown",
   "metadata": {},
   "source": [
    "After looking at all selected fragments and being content with the results, we define this set as reduced fragment library."
   ]
  },
  {
   "cell_type": "code",
   "execution_count": null,
   "metadata": {},
   "outputs": [],
   "source": [
    "fragment_library_concat_reduced = selected_fragments"
   ]
  },
  {
   "cell_type": "markdown",
   "metadata": {},
   "source": [
    "## 6. How many ligands are (fully) covered by the reduced library?"
   ]
  },
  {
   "cell_type": "markdown",
   "metadata": {},
   "source": [
    "Loop over each subpocket pool in the full library and ask for each fragment if it is part of the respective reduced library's subpocket pool?"
   ]
  },
  {
   "cell_type": "code",
   "execution_count": null,
   "metadata": {},
   "outputs": [],
   "source": [
    "def _add_in_reduced_library_column(fragment_library, fragment_library_concat_reduced):\n",
    "    \"\"\"\n",
    "    Take fragment library and add per subpocket pool an additional column stating if each fragment is part of the reduced fragment library.\n",
    "    Fragments in the full library are considered to be part of the reduced library if\n",
    "    - they match a SMILES in the reduced library (in the same subpocket),\n",
    "    - they match in atom enviroments, i.e. atoms have the same BRICS rules, (in the same subpocket), and\n",
    "    - they match in atom subpockets, i.e. atoms are assigned to the same subpocket, especially dummy atoms match also (in the same subpocket).\n",
    "    \n",
    "    Parameters\n",
    "    ----------\n",
    "    fragment_library : dict of pandas.DataFrame\n",
    "        Fragment details, i.e. SMILES, and fragment RDKit molecules, KLIFS and fragmentation details (values)\n",
    "        for each subpocket (key).\n",
    "    fragment_library_concat_reduced : pandas.DataFrame\n",
    "        Reduced fragment library data for one or multiple subpockets.\n",
    "    \n",
    "    Returns\n",
    "    -------\n",
    "    dict of pandas.DataFrame\n",
    "        Fragment details, i.e. SMILES, and fragment RDKit molecules, KLIFS and fragmentation details AND column on if fragment is part of reduced library(values)\n",
    "        for each subpocket (key).\n",
    "    \"\"\"\n",
    "    \n",
    "    fragment_library_tmp = fragment_library.copy()\n",
    "    \n",
    "    for subpocket, fragments in fragment_library_tmp.items():\n",
    "\n",
    "        fragments['subpocket'] = subpocket\n",
    "\n",
    "        if subpocket != 'X':\n",
    "\n",
    "            fragments_reduced = fragment_library_concat_reduced.groupby('subpocket', sort=False).get_group(subpocket)\n",
    "\n",
    "            smiles_match = fragments.smiles.isin(fragments_reduced.smiles)\n",
    "            atom_environments_match = fragments.atom_environments.isin(fragments_reduced.atom_environments)\n",
    "            atom_subpockets_match = fragments.atom_subpockets.isin(fragments_reduced.atom_subpockets)\n",
    "            fragments['in_reduced_library'] = smiles_match & atom_environments_match & atom_subpockets_match\n",
    "        else:\n",
    "            fragments['in_reduced_library'] = False\n",
    "            \n",
    "    print(f'How many fragments are in reduced library?')\n",
    "    print(fragment_library_concat_reduced.shape[0])\n",
    "\n",
    "    print(f'How many fragments in full library are covered by reduced library?')\n",
    "    print(pd.concat(fragment_library).in_reduced_library.sum())\n",
    "    \n",
    "    return fragment_library_tmp"
   ]
  },
  {
   "cell_type": "markdown",
   "metadata": {},
   "source": [
    "Check if original ligand (from full fragment library) is in parts or fully covered by our reduced fragment library."
   ]
  },
  {
   "cell_type": "code",
   "execution_count": null,
   "metadata": {},
   "outputs": [],
   "source": [
    "def get_ligand_coverage_in_reduced_library(fragment_library, fragment_library_concat_reduced):\n",
    "    \"\"\"\n",
    "    Get original ligands (based on full fragment library) with information if each ligand is \n",
    "    (i) covered at all or (ii) covered fully by fragments in the reduced fragment library.\n",
    "    \n",
    "    Parameters\n",
    "    ----------\n",
    "    fragment_library : dict of pandas.DataFrame\n",
    "        Fragment details, i.e. SMILES, and fragment RDKit molecules, KLIFS and fragmentation details (values)\n",
    "        for each subpocket (key).\n",
    "    fragment_library_concat_reduced : pandas.DataFrame\n",
    "        Reduced fragment library data for one or multiple subpockets.\n",
    "    \n",
    "    Returns\n",
    "    -------\n",
    "    pandas.DataFrame\n",
    "        Original ligands with information if each ligand is (i) covered at all or (ii) covered fully by fragments in the reduced fragment library.\n",
    "    \"\"\"\n",
    "    \n",
    "    fragment_library_tmp = _add_in_reduced_library_column(fragment_library, fragment_library_concat_reduced)\n",
    "    \n",
    "    # Group fragment library by kinase, complex and ligands to get all original ligands\n",
    "    original_ligands_groups = pd.concat(fragment_library_tmp).groupby(['kinase', 'complex_pdb', 'ligand_pdb'], sort=False)\n",
    "\n",
    "    # Is ligand fully covered, i.e. all fragments included (True or False)?\n",
    "    bool_ligand_is_fully_covered = original_ligands_groups.apply(\n",
    "        lambda ligand: all(ligand.in_reduced_library)\n",
    "    )\n",
    "    bool_ligand_is_fully_covered.name = 'is_fully_covered'\n",
    "\n",
    "    # Is ligand covered with one or more fragments (True or False)?\n",
    "    bool_ligand_is_covered = original_ligands_groups.apply(\n",
    "        lambda ligand: any(ligand.in_reduced_library)\n",
    "    )\n",
    "    bool_ligand_is_covered.name = 'is_covered'\n",
    "\n",
    "    # Make DataFrame\n",
    "    original_ligands = pd.concat([\n",
    "        bool_ligand_is_fully_covered, bool_ligand_is_covered],\n",
    "        axis=1\n",
    "    )\n",
    "    original_ligands.reset_index(inplace=True)\n",
    "    \n",
    "    return original_ligands"
   ]
  },
  {
   "cell_type": "code",
   "execution_count": null,
   "metadata": {},
   "outputs": [],
   "source": [
    "original_ligands = get_ligand_coverage_in_reduced_library(fragment_library, fragment_library_concat_reduced)\n",
    "\n",
    "print(f'How many original ligands (from full fragment library?)')\n",
    "original_ligands.shape[0]"
   ]
  },
  {
   "cell_type": "code",
   "execution_count": null,
   "metadata": {},
   "outputs": [],
   "source": [
    "# Keep only fully covered ligands\n",
    "original_ligands_fully_covered = original_ligands[original_ligands.is_fully_covered == True]"
   ]
  },
  {
   "cell_type": "code",
   "execution_count": null,
   "metadata": {},
   "outputs": [],
   "source": [
    "print(f'Number of fragments in reduced library: {fragment_library_concat_reduced.shape[0]}')\n",
    "print(f'Number of fully covered ligands by reduced library: {original_ligands_fully_covered.shape[0]}')"
   ]
  },
  {
   "cell_type": "code",
   "execution_count": null,
   "metadata": {},
   "outputs": [],
   "source": [
    "draw_ligands_from_pdb_ids(\n",
    "    list(original_ligands_fully_covered.complex_pdb), \n",
    "    list(original_ligands_fully_covered.ligand_pdb), \n",
    "    mols_per_row=6,\n",
    "    max_mols=100\n",
    ")"
   ]
  },
  {
   "cell_type": "markdown",
   "metadata": {},
   "source": [
    "## 7. Save reduced fragment library"
   ]
  },
  {
   "cell_type": "code",
   "execution_count": null,
   "metadata": {},
   "outputs": [],
   "source": [
    "# Create new folder for reduced fragment library\n",
    "(PATH_DATA / 'fragment_library_reduced').mkdir(parents=True, exist_ok=True)"
   ]
  },
  {
   "cell_type": "markdown",
   "metadata": {},
   "source": [
    "Save reduced fragment library as sdf files (one per subpocket)."
   ]
  },
  {
   "cell_type": "code",
   "execution_count": null,
   "metadata": {},
   "outputs": [],
   "source": [
    "def save_reduced_fragment_library_to_sdfs(path_data, fragment_library_concat_reduced, cutoff):\n",
    "    \"\"\"\n",
    "    Save reduced fragment library to file (for each subpocket sdf file, all in a newly (if not existing) created \"fragment_library_reduced\" folder).\n",
    "    \n",
    "    Parameters\n",
    "    ----------\n",
    "    path_data : str or pathlib.Path\n",
    "        Path to data folder (containing folders for fragment library and reduced fragment library).\n",
    "    fragment_library_concat_reduced : pandas.DataFrame\n",
    "        Reduced fragment library data for one or multiple subpockets.\n",
    "    cutoff : float\n",
    "        Distance cutoff Butina clustering.\n",
    "    \"\"\"\n",
    "    \n",
    "    path_fragment_library_reduced = Path(path_data) / 'fragment_library_reduced'\n",
    "    path_fragment_library_reduced.mkdir(parents=True, exist_ok=True)\n",
    "    \n",
    "    for subpocket, fragments in fragment_library_concat_reduced.groupby('subpocket'):\n",
    "        \n",
    "        with open(path_fragment_library_reduced / f'{subpocket}_reduced_{cutoff}.sdf', 'w') as f:\n",
    "            w = Chem.SDWriter(f)\n",
    "            for mol in fragments.ROMol_original:\n",
    "                w.write(mol)\n",
    "            w.close()"
   ]
  },
  {
   "cell_type": "raw",
   "metadata": {},
   "source": [
    "save_reduced_fragment_library_to_sdfs(PATH_DATA, fragment_library_concat_reduced, DISTANCE_CUTOFF)"
   ]
  }
 ],
 "metadata": {
  "kernelspec": {
   "display_name": "kinfraglib",
   "language": "python",
   "name": "kinfraglib"
  },
  "language_info": {
   "codemirror_mode": {
    "name": "ipython",
    "version": 3
   },
   "file_extension": ".py",
   "mimetype": "text/x-python",
   "name": "python",
   "nbconvert_exporter": "python",
   "pygments_lexer": "ipython3",
   "version": "3.7.6"
  }
 },
 "nbformat": 4,
 "nbformat_minor": 4
}
