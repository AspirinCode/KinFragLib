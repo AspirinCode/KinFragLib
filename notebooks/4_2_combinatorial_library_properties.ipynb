{
 "cells": [
  {
   "cell_type": "markdown",
   "metadata": {},
   "source": [
    "# Combinatorial library properties"
   ]
  },
  {
   "cell_type": "markdown",
   "metadata": {},
   "source": [
    "## Aim of this notebook\n",
    "\n",
    "In this notebook we want to analyze properties of the combinatorial library:\n",
    "\n",
    "1. Recombined ligands compliant with Lipinski's rule of five (criteria) in comparison to KLIFS and PKIDB ligands\n",
    "2. Recombined ligand sizes (number of heavy atoms)\n",
    "\n",
    "**Note** that the combinatorial library is stored as `json` file (6.7M molecules). The data needed for this notebook was extracted previously in notebook `4_1_combinatorial_library_data.ipynb` for easy and fast access here. In order to run this notebook, download data from https://osf.io/cy7tr/ and save files to `../data/combinatorial_library/`. "
   ]
  },
  {
   "cell_type": "markdown",
   "metadata": {},
   "source": [
    "## Table of contents\n",
    "\n",
    "1. Lipinski's rule of five\n",
    "2. Recombined ligand size\n",
    "3. Number of subpockets"
   ]
  },
  {
   "cell_type": "code",
   "execution_count": 1,
   "metadata": {},
   "outputs": [],
   "source": [
    "%load_ext autoreload\n",
    "%autoreload 2"
   ]
  },
  {
   "cell_type": "code",
   "execution_count": 2,
   "metadata": {},
   "outputs": [],
   "source": [
    "from datetime import datetime\n",
    "from pathlib import Path\n",
    "\n",
    "import ijson\n",
    "import matplotlib.pyplot as plt\n",
    "import pandas as pd\n",
    "from rdkit import Chem\n",
    "\n",
    "from utils import get_original_ligands, get_ro5_from_mol, read_fragment_library"
   ]
  },
  {
   "cell_type": "markdown",
   "metadata": {},
   "source": [
    "## 1. Lipinski's rule of five"
   ]
  },
  {
   "cell_type": "markdown",
   "metadata": {},
   "source": [
    "### Recombined ligands"
   ]
  },
  {
   "cell_type": "markdown",
   "metadata": {},
   "source": [
    "Load recombined ligands' properties (number of ligands that fulfill Lipinski's rule of five (and its individual criteria) and number of ligands in total)."
   ]
  },
  {
   "cell_type": "code",
   "execution_count": 3,
   "metadata": {},
   "outputs": [
    {
     "data": {
      "text/plain": [
       "0\n",
       "mw           3210322\n",
       "logp         3946081\n",
       "hbd          6701625\n",
       "hba          6002105\n",
       "lipinski     4260776\n",
       "n_ligands    6720637\n",
       "Name: 1, dtype: int64"
      ]
     },
     "execution_count": 3,
     "metadata": {},
     "output_type": "execute_result"
    }
   ],
   "source": [
    "properties = pd.read_csv(\n",
    "    '../data/combinatorial_library/ro5.csv',\n",
    "    header=None,\n",
    "    index_col=0,\n",
    "    squeeze=True\n",
    ")\n",
    "properties"
   ]
  },
  {
   "cell_type": "markdown",
   "metadata": {},
   "source": [
    "Get ratio of ligands that fulfill the Lipinski's rule of five (and its individual criteria)"
   ]
  },
  {
   "cell_type": "code",
   "execution_count": 4,
   "metadata": {},
   "outputs": [
    {
     "data": {
      "text/plain": [
       "0\n",
       "mw           48\n",
       "logp         59\n",
       "hbd         100\n",
       "hba          89\n",
       "lipinski     63\n",
       "Name: 1, dtype: int64"
      ]
     },
     "execution_count": 4,
     "metadata": {},
     "output_type": "execute_result"
    }
   ],
   "source": [
    "ro5_comb = round(\n",
    "    properties[['mw', 'logp', 'hbd', 'hba', 'lipinski']] / properties['n_ligands'] * 100, \n",
    "    0\n",
    ")\n",
    "ro5_comb = ro5_comb.astype('int')\n",
    "ro5_comb"
   ]
  },
  {
   "cell_type": "markdown",
   "metadata": {},
   "source": [
    "### PKIDB ligands\n",
    "\n",
    "Compare the recombined ligands to the PKIDB ligands, i.e. approved and investigorial kinase inhibitors.\n",
    "\n",
    "- Database: https://www.icoa.fr/pkidb/\n",
    "- Publication: [Carles et al. (2018)](https://www.mdpi.com/1420-3049/23/4/908)\n",
    "\n",
    "Since there is no option to download the table from the PKIDB currently (July 2020), we parsed the data into a CSV file using web scraping (https://github.com/dominiquesydow/pkidb_klifs)."
   ]
  },
  {
   "cell_type": "code",
   "execution_count": 5,
   "metadata": {},
   "outputs": [
    {
     "name": "stdout",
     "output_type": "stream",
     "text": [
      "Number of ligands in PKIDB data: 218\n"
     ]
    }
   ],
   "source": [
    "data_pkidb = pd.read_csv('https://raw.githubusercontent.com/dominiquesydow/pkidb_klifs/master/results/pkidb_20200218.csv', index_col=0)\n",
    "print(f'Number of ligands in PKIDB data: {data_pkidb.shape[0]}')"
   ]
  },
  {
   "cell_type": "code",
   "execution_count": 6,
   "metadata": {},
   "outputs": [
    {
     "data": {
      "text/html": [
       "<div>\n",
       "<style scoped>\n",
       "    .dataframe tbody tr th:only-of-type {\n",
       "        vertical-align: middle;\n",
       "    }\n",
       "\n",
       "    .dataframe tbody tr th {\n",
       "        vertical-align: top;\n",
       "    }\n",
       "\n",
       "    .dataframe thead th {\n",
       "        text-align: right;\n",
       "    }\n",
       "</style>\n",
       "<table border=\"1\" class=\"dataframe\">\n",
       "  <thead>\n",
       "    <tr style=\"text-align: right;\">\n",
       "      <th></th>\n",
       "      <th>INN_Name</th>\n",
       "      <th>BrandName</th>\n",
       "      <th>Phase</th>\n",
       "      <th>Applicants</th>\n",
       "      <th>LigID</th>\n",
       "      <th>pdbID</th>\n",
       "      <th>Type</th>\n",
       "      <th>RoF</th>\n",
       "      <th>MW</th>\n",
       "      <th>LogP</th>\n",
       "      <th>...</th>\n",
       "      <th>Targets</th>\n",
       "      <th>Kinase_families</th>\n",
       "      <th>First_Approval</th>\n",
       "      <th>SC_Patent</th>\n",
       "      <th>Chirality</th>\n",
       "      <th>Synonyms</th>\n",
       "      <th>FDA_approved</th>\n",
       "      <th>Melting_points_C</th>\n",
       "      <th>Canonical_Smiles</th>\n",
       "      <th>InChIKey</th>\n",
       "    </tr>\n",
       "  </thead>\n",
       "  <tbody>\n",
       "    <tr>\n",
       "      <th>0</th>\n",
       "      <td>Leniolisib</td>\n",
       "      <td>NaN</td>\n",
       "      <td>0.0</td>\n",
       "      <td>Novartis</td>\n",
       "      <td>9NQ</td>\n",
       "      <td>['5o83']</td>\n",
       "      <td>NaN</td>\n",
       "      <td>0</td>\n",
       "      <td>450.2</td>\n",
       "      <td>2.9</td>\n",
       "      <td>...</td>\n",
       "      <td>NaN</td>\n",
       "      <td>NaN</td>\n",
       "      <td>NaN</td>\n",
       "      <td>NaN</td>\n",
       "      <td>Single Stereoisomer</td>\n",
       "      <td>['CDZ173-NX', 'Leniolisib']</td>\n",
       "      <td>NaN</td>\n",
       "      <td>NaN</td>\n",
       "      <td>CCC(=O)N1CC[C@@H](C1)Nc2c3c(ncn2)CCN(C3)c4cc(c...</td>\n",
       "      <td>MWKYMZXCGYXLPL-ZDUSSCGKSA-N</td>\n",
       "    </tr>\n",
       "    <tr>\n",
       "      <th>1</th>\n",
       "      <td>Nemiralisib</td>\n",
       "      <td>NaN</td>\n",
       "      <td>0.0</td>\n",
       "      <td>GlaxosmithKline</td>\n",
       "      <td>VVX</td>\n",
       "      <td>['5ae8']</td>\n",
       "      <td>NaN</td>\n",
       "      <td>0</td>\n",
       "      <td>440.2</td>\n",
       "      <td>4.9</td>\n",
       "      <td>...</td>\n",
       "      <td>NaN</td>\n",
       "      <td>NaN</td>\n",
       "      <td>NaN</td>\n",
       "      <td>NaN</td>\n",
       "      <td>Single Stereoisomer</td>\n",
       "      <td>['GSK2269557A', 'GSK-2269557', 'Nemiralisib']</td>\n",
       "      <td>NaN</td>\n",
       "      <td>NaN</td>\n",
       "      <td>CC(C)N1CCN(CC1)Cc2cnc(o2)c3cc(cc4c3cn[nH]4)c5c...</td>\n",
       "      <td>MCIDWGZGWVSZMK-UHFFFAOYSA-N</td>\n",
       "    </tr>\n",
       "  </tbody>\n",
       "</table>\n",
       "<p>2 rows × 25 columns</p>\n",
       "</div>"
      ],
      "text/plain": [
       "      INN_Name BrandName  Phase       Applicants LigID     pdbID  Type  RoF  \\\n",
       "0   Leniolisib       NaN    0.0         Novartis   9NQ  ['5o83']   NaN    0   \n",
       "1  Nemiralisib       NaN    0.0  GlaxosmithKline   VVX  ['5ae8']   NaN    0   \n",
       "\n",
       "      MW  LogP  ...  Targets  Kinase_families  First_Approval  SC_Patent  \\\n",
       "0  450.2   2.9  ...      NaN              NaN             NaN        NaN   \n",
       "1  440.2   4.9  ...      NaN              NaN             NaN        NaN   \n",
       "\n",
       "             Chirality                                       Synonyms  \\\n",
       "0  Single Stereoisomer                    ['CDZ173-NX', 'Leniolisib']   \n",
       "1  Single Stereoisomer  ['GSK2269557A', 'GSK-2269557', 'Nemiralisib']   \n",
       "\n",
       "  FDA_approved  Melting_points_C  \\\n",
       "0          NaN               NaN   \n",
       "1          NaN               NaN   \n",
       "\n",
       "                                    Canonical_Smiles  \\\n",
       "0  CCC(=O)N1CC[C@@H](C1)Nc2c3c(ncn2)CCN(C3)c4cc(c...   \n",
       "1  CC(C)N1CCN(CC1)Cc2cnc(o2)c3cc(cc4c3cn[nH]4)c5c...   \n",
       "\n",
       "                      InChIKey  \n",
       "0  MWKYMZXCGYXLPL-ZDUSSCGKSA-N  \n",
       "1  MCIDWGZGWVSZMK-UHFFFAOYSA-N  \n",
       "\n",
       "[2 rows x 25 columns]"
      ]
     },
     "execution_count": 6,
     "metadata": {},
     "output_type": "execute_result"
    }
   ],
   "source": [
    "data_pkidb.head(2)"
   ]
  },
  {
   "cell_type": "code",
   "execution_count": 7,
   "metadata": {},
   "outputs": [
    {
     "data": {
      "text/plain": [
       "mw           70\n",
       "logp         74\n",
       "hbd         100\n",
       "hba          99\n",
       "lipinski     85\n",
       "dtype: int64"
      ]
     },
     "execution_count": 7,
     "metadata": {},
     "output_type": "execute_result"
    }
   ],
   "source": [
    "ro5_pkidb = round(\n",
    "    data_pkidb.Canonical_Smiles.apply(\n",
    "        Chem.MolFromSmiles\n",
    "    ).apply(get_ro5_from_mol).sum() / data_pkidb.shape[0] * 100, \n",
    "    0\n",
    ")\n",
    "ro5_pkidb = ro5_pkidb.astype('int')\n",
    "ro5_pkidb"
   ]
  },
  {
   "cell_type": "markdown",
   "metadata": {},
   "source": [
    "### Original ligands\n",
    "\n",
    "Compare the recombined ligands to the KLIFS ligands that were used to generate the fragment library (original ligands).\n",
    "\n",
    "- Database: https://klifs.vu-compmedchem.nl/\n",
    "- Publications: [van Linden et al. (2014)](https://pubs.acs.org/doi/abs/10.1021/jm400378w) and [Kooistra et al. (2016)](https://academic.oup.com/nar/article/44/D1/D365/2502606)\n",
    "\n",
    "Note that we only use a subset of KLIFS ligands here, i.e. the ligands used for the fragmentation."
   ]
  },
  {
   "cell_type": "code",
   "execution_count": 8,
   "metadata": {},
   "outputs": [
    {
     "name": "stdout",
     "output_type": "stream",
     "text": [
      "Number of original KLIFS ligands: 2553\n"
     ]
    }
   ],
   "source": [
    "data_klifs = pd.read_json('../data/fragment_library/original_ligands.json')\n",
    "print(f'Number of original KLIFS ligands: {data_klifs.shape[0]}')"
   ]
  },
  {
   "cell_type": "code",
   "execution_count": 9,
   "metadata": {},
   "outputs": [
    {
     "data": {
      "text/html": [
       "<div>\n",
       "<style scoped>\n",
       "    .dataframe tbody tr th:only-of-type {\n",
       "        vertical-align: middle;\n",
       "    }\n",
       "\n",
       "    .dataframe tbody tr th {\n",
       "        vertical-align: top;\n",
       "    }\n",
       "\n",
       "    .dataframe thead th {\n",
       "        text-align: right;\n",
       "    }\n",
       "</style>\n",
       "<table border=\"1\" class=\"dataframe\">\n",
       "  <thead>\n",
       "    <tr style=\"text-align: right;\">\n",
       "      <th></th>\n",
       "      <th>complex_pdb</th>\n",
       "      <th>ligand_pdb</th>\n",
       "      <th>subpocket</th>\n",
       "      <th>kinase</th>\n",
       "      <th>family</th>\n",
       "      <th>group</th>\n",
       "      <th>alt</th>\n",
       "      <th>chain</th>\n",
       "      <th>ac_helix</th>\n",
       "      <th>smiles</th>\n",
       "      <th>inchi</th>\n",
       "    </tr>\n",
       "  </thead>\n",
       "  <tbody>\n",
       "    <tr>\n",
       "      <th>0</th>\n",
       "      <td>1a9u</td>\n",
       "      <td>SB2</td>\n",
       "      <td>[AP, GA, B2]</td>\n",
       "      <td>p38a</td>\n",
       "      <td>MAPK</td>\n",
       "      <td>CMGC</td>\n",
       "      <td></td>\n",
       "      <td>A</td>\n",
       "      <td>out-like</td>\n",
       "      <td>C[S@](=O)c1ccc(-c2nc(-c3ccc(F)cc3)c(-c3ccncc3)...</td>\n",
       "      <td>InChI=1S/C21H16FN3OS/c1-27(26)18-8-4-16(5-9-18...</td>\n",
       "    </tr>\n",
       "    <tr>\n",
       "      <th>1</th>\n",
       "      <td>1agw</td>\n",
       "      <td>SU2</td>\n",
       "      <td>[AP, SE]</td>\n",
       "      <td>FGFR1</td>\n",
       "      <td>FGFR</td>\n",
       "      <td>TK</td>\n",
       "      <td>B</td>\n",
       "      <td>B</td>\n",
       "      <td>out-like</td>\n",
       "      <td>O=CN1CCN(c2ccc(C[C@@H]3C(=O)Nc4ccccc43)cc2)CC1</td>\n",
       "      <td>InChI=1S/C20H21N3O2/c24-14-22-9-11-23(12-10-22...</td>\n",
       "    </tr>\n",
       "  </tbody>\n",
       "</table>\n",
       "</div>"
      ],
      "text/plain": [
       "  complex_pdb ligand_pdb     subpocket kinase family group alt chain  \\\n",
       "0        1a9u        SB2  [AP, GA, B2]   p38a   MAPK  CMGC         A   \n",
       "1        1agw        SU2      [AP, SE]  FGFR1   FGFR    TK   B     B   \n",
       "\n",
       "   ac_helix                                             smiles  \\\n",
       "0  out-like  C[S@](=O)c1ccc(-c2nc(-c3ccc(F)cc3)c(-c3ccncc3)...   \n",
       "1  out-like     O=CN1CCN(c2ccc(C[C@@H]3C(=O)Nc4ccccc43)cc2)CC1   \n",
       "\n",
       "                                               inchi  \n",
       "0  InChI=1S/C21H16FN3OS/c1-27(26)18-8-4-16(5-9-18...  \n",
       "1  InChI=1S/C20H21N3O2/c24-14-22-9-11-23(12-10-22...  "
      ]
     },
     "execution_count": 9,
     "metadata": {},
     "output_type": "execute_result"
    }
   ],
   "source": [
    "data_klifs.head(2)"
   ]
  },
  {
   "cell_type": "code",
   "execution_count": 10,
   "metadata": {},
   "outputs": [
    {
     "data": {
      "text/plain": [
       "mw          88\n",
       "logp        94\n",
       "hbd         99\n",
       "hba         99\n",
       "lipinski    97\n",
       "dtype: int64"
      ]
     },
     "execution_count": 10,
     "metadata": {},
     "output_type": "execute_result"
    }
   ],
   "source": [
    "ro5_klifs = round(\n",
    "    data_klifs.smiles.apply(\n",
    "        Chem.MolFromSmiles\n",
    "    ).apply(get_ro5_from_mol).sum() / data_klifs.shape[0] * 100, \n",
    "    0\n",
    ")\n",
    "ro5_klifs = ro5_klifs.astype('int')\n",
    "ro5_klifs"
   ]
  },
  {
   "cell_type": "markdown",
   "metadata": {},
   "source": [
    "### Plot properties"
   ]
  },
  {
   "cell_type": "code",
   "execution_count": 11,
   "metadata": {},
   "outputs": [
    {
     "data": {
      "text/html": [
       "<div>\n",
       "<style scoped>\n",
       "    .dataframe tbody tr th:only-of-type {\n",
       "        vertical-align: middle;\n",
       "    }\n",
       "\n",
       "    .dataframe tbody tr th {\n",
       "        vertical-align: top;\n",
       "    }\n",
       "\n",
       "    .dataframe thead th {\n",
       "        text-align: right;\n",
       "    }\n",
       "</style>\n",
       "<table border=\"1\" class=\"dataframe\">\n",
       "  <thead>\n",
       "    <tr style=\"text-align: right;\">\n",
       "      <th></th>\n",
       "      <th>Recombined ligands (#6720637)</th>\n",
       "      <th>Original KLIFS ligands (#2553)</th>\n",
       "      <th>PKIDB ligands (#218)</th>\n",
       "    </tr>\n",
       "    <tr>\n",
       "      <th>0</th>\n",
       "      <th></th>\n",
       "      <th></th>\n",
       "      <th></th>\n",
       "    </tr>\n",
       "  </thead>\n",
       "  <tbody>\n",
       "    <tr>\n",
       "      <th>mw</th>\n",
       "      <td>48</td>\n",
       "      <td>88</td>\n",
       "      <td>70</td>\n",
       "    </tr>\n",
       "    <tr>\n",
       "      <th>logp</th>\n",
       "      <td>59</td>\n",
       "      <td>94</td>\n",
       "      <td>74</td>\n",
       "    </tr>\n",
       "    <tr>\n",
       "      <th>hbd</th>\n",
       "      <td>100</td>\n",
       "      <td>99</td>\n",
       "      <td>100</td>\n",
       "    </tr>\n",
       "    <tr>\n",
       "      <th>hba</th>\n",
       "      <td>89</td>\n",
       "      <td>99</td>\n",
       "      <td>99</td>\n",
       "    </tr>\n",
       "    <tr>\n",
       "      <th>lipinski</th>\n",
       "      <td>63</td>\n",
       "      <td>97</td>\n",
       "      <td>85</td>\n",
       "    </tr>\n",
       "  </tbody>\n",
       "</table>\n",
       "</div>"
      ],
      "text/plain": [
       "          Recombined ligands (#6720637)  Original KLIFS ligands (#2553)  \\\n",
       "0                                                                         \n",
       "mw                                   48                              88   \n",
       "logp                                 59                              94   \n",
       "hbd                                 100                              99   \n",
       "hba                                  89                              99   \n",
       "lipinski                             63                              97   \n",
       "\n",
       "          PKIDB ligands (#218)  \n",
       "0                               \n",
       "mw                          70  \n",
       "logp                        74  \n",
       "hbd                        100  \n",
       "hba                         99  \n",
       "lipinski                    85  "
      ]
     },
     "execution_count": 11,
     "metadata": {},
     "output_type": "execute_result"
    }
   ],
   "source": [
    "# Collect data in one DataFrame\n",
    "bar_data = pd.DataFrame(\n",
    "    {\n",
    "        f'Recombined ligands (#{properties[\"n_ligands\"]})': ro5_comb, \n",
    "        f'Original KLIFS ligands (#{data_klifs.shape[0]})': ro5_klifs, \n",
    "        f'PKIDB ligands (#{data_pkidb.shape[0]})': ro5_pkidb\n",
    "    }\n",
    ")\n",
    "bar_data = bar_data.astype('int32')\n",
    "bar_data"
   ]
  },
  {
   "cell_type": "code",
   "execution_count": 12,
   "metadata": {},
   "outputs": [
    {
     "data": {
      "image/png": "[encoded data removed]",
      "text/plain": [
       "<Figure size 239.76x288 with 1 Axes>"
      ]
     },
     "metadata": {
      "needs_background": "light"
     },
     "output_type": "display_data"
    }
   ],
   "source": [
    "# Plot data\n",
    "ax = bar_data.plot(\n",
    "    kind='bar',\n",
    "    width=0.85,\n",
    "    rot=0,\n",
    "    figsize=(3.33, 4),\n",
    "    color=['cornflowerblue', 'darkgrey', 'grey']\n",
    ")\n",
    "\n",
    "# Edit labels for y axis and x/y ticks\n",
    "plt.ylabel('# Molecules [%]', fontsize=12)\n",
    "plt.xticks(range(5), ['MWT\\n'+r'$\\leq 500$', 'logP\\n'+r'$\\leq 5$', 'HBD\\n'+r'$\\leq 5$', 'HBA\\n'+r'$\\leq 10$', 'Rule\\nof 5'], fontsize=12)\n",
    "plt.yticks(fontsize=12)\n",
    "#plt.legend(fontsize=12, loc='upper left')\n",
    "legend = plt.legend(loc='upper center', \n",
    "           bbox_to_anchor=(0.5,-.2),\n",
    "           fontsize=12\n",
    "          )\n",
    "\n",
    "# Add percentages to bars\n",
    "bars = ax.patches\n",
    "bar_labels = bar_data.transpose().values.flatten()\n",
    "for bar, label in zip(bars, bar_labels):\n",
    "    \n",
    "    plt.text(\n",
    "        bar.get_x() + bar.get_width() / 1.6, \n",
    "        bar.get_height() - 6,\n",
    "        label, \n",
    "        ha='center', \n",
    "        va='center', \n",
    "        fontsize=10,\n",
    "        color='white',\n",
    "        rotation=90\n",
    "    )"
   ]
  },
  {
   "cell_type": "code",
   "execution_count": 13,
   "metadata": {},
   "outputs": [],
   "source": [
    "ax.get_figure().savefig(\n",
    "    'figures/combinatorial_library_ro5.pdf',\n",
    "    bbox_extra_artists=(legend,),\n",
    "    bbox_inches='tight'\n",
    ")"
   ]
  },
  {
   "cell_type": "markdown",
   "metadata": {},
   "source": [
    "## 2. Recombined ligand size\n",
    "\n",
    "Take a look at the average number of heavy atoms in the combinatorial library."
   ]
  },
  {
   "cell_type": "code",
   "execution_count": 14,
   "metadata": {},
   "outputs": [
    {
     "data": {
      "text/plain": [
       "6720637"
      ]
     },
     "execution_count": 14,
     "metadata": {},
     "output_type": "execute_result"
    }
   ],
   "source": [
    "n_atoms = pd.read_csv('../data/combinatorial_library/n_atoms.csv', header=None).squeeze()\n",
    "len(n_atoms)"
   ]
  },
  {
   "cell_type": "code",
   "execution_count": 15,
   "metadata": {},
   "outputs": [
    {
     "data": {
      "text/plain": [
       "Text(0.5, 0, 'Number of heavy atoms')"
      ]
     },
     "execution_count": 15,
     "metadata": {},
     "output_type": "execute_result"
    },
    {
     "data": {
      "image/png": "[encoded data removed]",
      "text/plain": [
       "<Figure size 432x288 with 1 Axes>"
      ]
     },
     "metadata": {
      "needs_background": "light"
     },
     "output_type": "display_data"
    }
   ],
   "source": [
    "plt.hist(n_atoms)\n",
    "plt.xlabel('Number of heavy atoms')"
   ]
  },
  {
   "cell_type": "code",
   "execution_count": 16,
   "metadata": {},
   "outputs": [
    {
     "data": {
      "text/plain": [
       "count    6.720637e+06\n",
       "mean     3.572235e+01\n",
       "std      6.344317e+00\n",
       "min      8.000000e+00\n",
       "1%       2.200000e+01\n",
       "10%      2.800000e+01\n",
       "25%      3.100000e+01\n",
       "50%      3.600000e+01\n",
       "75%      4.000000e+01\n",
       "99%      5.100000e+01\n",
       "max      7.100000e+01\n",
       "Name: 0, dtype: float64"
      ]
     },
     "execution_count": 16,
     "metadata": {},
     "output_type": "execute_result"
    }
   ],
   "source": [
    "n_atoms.describe(percentiles=[.01, .1, .25, .5, .75, .99])"
   ]
  },
  {
   "cell_type": "markdown",
   "metadata": {},
   "source": [
    "98% of recombined ligands have between 22 and 51 heavy atoms (on average 36)."
   ]
  },
  {
   "cell_type": "code",
   "execution_count": 17,
   "metadata": {},
   "outputs": [],
   "source": [
    "# Delete object (since very large with ~6M entries)\n",
    "del n_atoms"
   ]
  },
  {
   "cell_type": "markdown",
   "metadata": {},
   "source": [
    "## 3. Number of subpockets"
   ]
  },
  {
   "cell_type": "code",
   "execution_count": 18,
   "metadata": {},
   "outputs": [
    {
     "data": {
      "text/html": [
       "<div>\n",
       "<style scoped>\n",
       "    .dataframe tbody tr th:only-of-type {\n",
       "        vertical-align: middle;\n",
       "    }\n",
       "\n",
       "    .dataframe tbody tr th {\n",
       "        vertical-align: top;\n",
       "    }\n",
       "\n",
       "    .dataframe thead th {\n",
       "        text-align: right;\n",
       "    }\n",
       "</style>\n",
       "<table border=\"1\" class=\"dataframe\">\n",
       "  <thead>\n",
       "    <tr style=\"text-align: right;\">\n",
       "      <th></th>\n",
       "      <th>count</th>\n",
       "      <th>n_subpockets</th>\n",
       "    </tr>\n",
       "  </thead>\n",
       "  <tbody>\n",
       "    <tr>\n",
       "      <th>AP-B1-GA-SE</th>\n",
       "      <td>255096</td>\n",
       "      <td>4</td>\n",
       "    </tr>\n",
       "    <tr>\n",
       "      <th>AP-FP-GA-SE</th>\n",
       "      <td>5016284</td>\n",
       "      <td>4</td>\n",
       "    </tr>\n",
       "    <tr>\n",
       "      <th>AP-B2-GA-SE</th>\n",
       "      <td>359534</td>\n",
       "      <td>4</td>\n",
       "    </tr>\n",
       "    <tr>\n",
       "      <th>AP-B2-FP-GA</th>\n",
       "      <td>178027</td>\n",
       "      <td>4</td>\n",
       "    </tr>\n",
       "    <tr>\n",
       "      <th>AP-B1-FP-GA</th>\n",
       "      <td>209843</td>\n",
       "      <td>4</td>\n",
       "    </tr>\n",
       "    <tr>\n",
       "      <th>AP-B1-B2-GA</th>\n",
       "      <td>3498</td>\n",
       "      <td>4</td>\n",
       "    </tr>\n",
       "    <tr>\n",
       "      <th>AP-GA-SE</th>\n",
       "      <td>102733</td>\n",
       "      <td>3</td>\n",
       "    </tr>\n",
       "    <tr>\n",
       "      <th>AP-FP-SE</th>\n",
       "      <td>512671</td>\n",
       "      <td>3</td>\n",
       "    </tr>\n",
       "    <tr>\n",
       "      <th>AP-FP-GA</th>\n",
       "      <td>71885</td>\n",
       "      <td>3</td>\n",
       "    </tr>\n",
       "    <tr>\n",
       "      <th>AP-B2-GA</th>\n",
       "      <td>1812</td>\n",
       "      <td>3</td>\n",
       "    </tr>\n",
       "    <tr>\n",
       "      <th>AP-B1-GA</th>\n",
       "      <td>1279</td>\n",
       "      <td>3</td>\n",
       "    </tr>\n",
       "    <tr>\n",
       "      <th>AP-GA</th>\n",
       "      <td>682</td>\n",
       "      <td>2</td>\n",
       "    </tr>\n",
       "    <tr>\n",
       "      <th>AP-FP</th>\n",
       "      <td>5924</td>\n",
       "      <td>2</td>\n",
       "    </tr>\n",
       "    <tr>\n",
       "      <th>AP-SE</th>\n",
       "      <td>1369</td>\n",
       "      <td>2</td>\n",
       "    </tr>\n",
       "  </tbody>\n",
       "</table>\n",
       "</div>"
      ],
      "text/plain": [
       "               count  n_subpockets\n",
       "AP-B1-GA-SE   255096             4\n",
       "AP-FP-GA-SE  5016284             4\n",
       "AP-B2-GA-SE   359534             4\n",
       "AP-B2-FP-GA   178027             4\n",
       "AP-B1-FP-GA   209843             4\n",
       "AP-B1-B2-GA     3498             4\n",
       "AP-GA-SE      102733             3\n",
       "AP-FP-SE      512671             3\n",
       "AP-FP-GA       71885             3\n",
       "AP-B2-GA        1812             3\n",
       "AP-B1-GA        1279             3\n",
       "AP-GA            682             2\n",
       "AP-FP           5924             2\n",
       "AP-SE           1369             2"
      ]
     },
     "execution_count": 18,
     "metadata": {},
     "output_type": "execute_result"
    }
   ],
   "source": [
    "subpockets = pd.read_csv('../data/combinatorial_library/subpockets.csv', index_col=0)\n",
    "subpockets['n_subpockets'] = [len(i.split('-')) for i in subpockets.index]\n",
    "subpockets"
   ]
  },
  {
   "cell_type": "code",
   "execution_count": 19,
   "metadata": {},
   "outputs": [
    {
     "data": {
      "text/html": [
       "<div>\n",
       "<style scoped>\n",
       "    .dataframe tbody tr th:only-of-type {\n",
       "        vertical-align: middle;\n",
       "    }\n",
       "\n",
       "    .dataframe tbody tr th {\n",
       "        vertical-align: top;\n",
       "    }\n",
       "\n",
       "    .dataframe thead th {\n",
       "        text-align: right;\n",
       "    }\n",
       "</style>\n",
       "<table border=\"1\" class=\"dataframe\">\n",
       "  <thead>\n",
       "    <tr style=\"text-align: right;\">\n",
       "      <th></th>\n",
       "      <th>count</th>\n",
       "      <th>ratio</th>\n",
       "    </tr>\n",
       "    <tr>\n",
       "      <th>n_subpockets</th>\n",
       "      <th></th>\n",
       "      <th></th>\n",
       "    </tr>\n",
       "  </thead>\n",
       "  <tbody>\n",
       "    <tr>\n",
       "      <th>2</th>\n",
       "      <td>7975</td>\n",
       "      <td>0.12</td>\n",
       "    </tr>\n",
       "    <tr>\n",
       "      <th>3</th>\n",
       "      <td>690380</td>\n",
       "      <td>10.27</td>\n",
       "    </tr>\n",
       "    <tr>\n",
       "      <th>4</th>\n",
       "      <td>6022282</td>\n",
       "      <td>89.61</td>\n",
       "    </tr>\n",
       "  </tbody>\n",
       "</table>\n",
       "</div>"
      ],
      "text/plain": [
       "                count  ratio\n",
       "n_subpockets                \n",
       "2                7975   0.12\n",
       "3              690380  10.27\n",
       "4             6022282  89.61"
      ]
     },
     "execution_count": 19,
     "metadata": {},
     "output_type": "execute_result"
    }
   ],
   "source": [
    "n_subpockets = subpockets.groupby('n_subpockets').sum()\n",
    "n_subpockets['ratio'] = round(n_subpockets['count'] / n_subpockets['count'].sum() * 100, 2)\n",
    "n_subpockets"
   ]
  },
  {
   "cell_type": "markdown",
   "metadata": {},
   "source": [
    "The majority of recombined ligands are composed of 4 fragments (occupying 4 subpockets), whereas the majority of original igands is smaller and occupies 2-3 subpockets (check out `notebooks/2_2_fragment_analysis_statistics.ipynb`). This is to be expected since all fragment combinations were allowed up to 4 fragments during the recombination process."
   ]
  }
 ],
 "metadata": {
  "kernelspec": {
   "display_name": "kinfraglib",
   "language": "python",
   "name": "kinfraglib"
  },
  "language_info": {
   "codemirror_mode": {
    "name": "ipython",
    "version": 3
   },
   "file_extension": ".py",
   "mimetype": "text/x-python",
   "name": "python",
   "nbconvert_exporter": "python",
   "pygments_lexer": "ipython3",
   "version": "3.6.10"
  }
 },
 "nbformat": 4,
 "nbformat_minor": 4
}
