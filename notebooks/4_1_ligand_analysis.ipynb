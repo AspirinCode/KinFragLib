{
 "cells": [
  {
   "cell_type": "markdown",
   "metadata": {},
   "source": [
    "# Combinatorial library analysis"
   ]
  },
  {
   "cell_type": "markdown",
   "metadata": {},
   "source": [
    "## Aim of this notebook\n",
    "\n",
    "In this notebook we want to analyze the combinatorial library, TBA."
   ]
  },
  {
   "cell_type": "markdown",
   "metadata": {},
   "source": [
    "1. Combinatorial library data\n",
    "2. Recombined ligand size\n",
    "3. Lipinski's rule of five\n",
    "4. Original ligands\n",
    "5. ChEMBL ligands"
   ]
  },
  {
   "cell_type": "code",
   "execution_count": 1,
   "metadata": {},
   "outputs": [],
   "source": [
    "from pathlib import Path\n",
    "\n",
    "import ijson\n",
    "import matplotlib.pyplot as plt\n",
    "import pandas as pd"
   ]
  },
  {
   "cell_type": "code",
   "execution_count": 2,
   "metadata": {},
   "outputs": [],
   "source": [
    "PATH_COMBINATORIAL_LIBRARY = Path('../data/combinatorial_library/combinatorial_library.json')"
   ]
  },
  {
   "cell_type": "markdown",
   "metadata": {},
   "source": [
    "## 1. Combinatorial library data"
   ]
  },
  {
   "cell_type": "markdown",
   "metadata": {},
   "source": [
    "The combinatorial library comes as large JSON file. In order to access/filter ligands efficiently (time and memory), we use the `ijson` library:\n",
    "\n",
    "> Ijson is an iterative JSON parser with standard Python iterator interfaces.\n",
    "\n",
    "https://pypi.org/project/ijson/"
   ]
  },
  {
   "cell_type": "markdown",
   "metadata": {},
   "source": [
    "Here, we take a look at the first entry in the combinatorial library:"
   ]
  },
  {
   "cell_type": "code",
   "execution_count": 3,
   "metadata": {},
   "outputs": [
    {
     "data": {
      "text/plain": [
       "{'bond_ids': [['SE_13', 'AP_7']],\n",
       " 'fragment_ids': ['SE_4', 'AP_2'],\n",
       " 'hba': 1,\n",
       " 'hbd': 1,\n",
       " 'mwt': 1,\n",
       " 'logp': 1,\n",
       " 'n_atoms': 20,\n",
       " 'chembl_exact': [],\n",
       " 'chembl_most_similar': ['CHEMBL405398', Decimal('0.35')],\n",
       " 'original_exact': [],\n",
       " 'original_substructure': [],\n",
       " 'inchi': 'InChI=1S/C15H21N5/c1-12-11-15(18-17-12)16-13-3-5-14(6-4-13)20-9-7-19(2)8-10-20/h3-6,11H,7-10H2,1-2H3,(H2,16,17,18)'}"
      ]
     },
     "execution_count": 3,
     "metadata": {},
     "output_type": "execute_result"
    }
   ],
   "source": [
    "# open file\n",
    "f = open(PATH_COMBINATORIAL_LIBRARY, 'rb')\n",
    "\n",
    "# yield native Python objects out of a JSON stream located under a prefix\n",
    "objects = ijson.items(f, 'item')\n",
    "\n",
    "next(objects)"
   ]
  },
  {
   "cell_type": "markdown",
   "metadata": {},
   "source": [
    "The combinatorial library contains the following information:\n",
    "- `bond_ids` and `fragment_ids`: \n",
    "  - Bond IDs (`bond_ids`), e.g. `[[\"FP_6\", \"AP_10\"], [\"AP_11\", \"SE_13\"]]`: Atom (`<subpocket>_<atom ID>`) pairs per fragment bond\n",
    "  - Fragment IDs (`fragment_ids`), e.g. `[\"SE_2\", \"AP_0\", \"FP_2\"]` (`<subpocket>_<fragment index in subpocket pool>`)\n",
    "  - With this information it is possible to construct the recombined ligand from the fragment library\n",
    "- `hba`, `hbd`, `mwt`, and `logp`: Ligand fulfills Lipinski's rule of five criteria? (`0` or `1`)\n",
    "  - Number of hydrogen bond acceptors (`hba`) <= 10\n",
    "  - Number of hydrogen bond donors (`hbd`) <= 5\n",
    "  - Molecular weight (`mwt`) <= 500\n",
    "  - LogP value (`logp`) <= 5 \n",
    "- `n_atoms`: Number of heavy atoms\n",
    "- `chembl_exact`: Ligand has exact match in ChEMBL? List of ChEMBL molecule indicies (`[]` if no match)\n",
    "- `chembl_most_similar`: Most similar molecule in ChEMBL, e.g. `[500021, 0.34]` (`[<ChEMBL ID without \"CHEMBL\" prefix>, <Tanimoto similarity>]` \n",
    "- `original_exact`: Ligand has exact match in original ligands? List of original ligand indicies (`[]` if no match)\n",
    "- `original_substructure`: Ligand is substructure of original ligands? List of original ligand indicies (`[]` if no match)\n",
    "- `inchi`: InChI "
   ]
  },
  {
   "cell_type": "markdown",
   "metadata": {},
   "source": [
    "## 2. Recombined ligand size"
   ]
  },
  {
   "cell_type": "code",
   "execution_count": 4,
   "metadata": {},
   "outputs": [],
   "source": [
    "def ligand_sizes(path_json):\n",
    "    \n",
    "    # get object generator from json\n",
    "    f = open(path_json, 'rb')\n",
    "    objects = ijson.items(f, 'item')\n",
    "\n",
    "    # filter objects\n",
    "    n_atoms_list = [o['n_atoms'] for o in objects]\n",
    "    \n",
    "    return n_atoms_list"
   ]
  },
  {
   "cell_type": "code",
   "execution_count": 5,
   "metadata": {},
   "outputs": [],
   "source": [
    "ligand_size_list = ligand_sizes(PATH_COMBINATORIAL_LIBRARY)"
   ]
  },
  {
   "cell_type": "code",
   "execution_count": 6,
   "metadata": {},
   "outputs": [
    {
     "data": {
      "text/plain": [
       "(array([ 4.,  6.,  4.,  4.,  4.,  8., 10., 12.,  8.,  4.]),\n",
       " array([15. , 17.7, 20.4, 23.1, 25.8, 28.5, 31.2, 33.9, 36.6, 39.3, 42. ]),\n",
       " <a list of 10 Patch objects>)"
      ]
     },
     "execution_count": 6,
     "metadata": {},
     "output_type": "execute_result"
    },
    {
     "data": {
      "image/png": "[encoded data removed]",
      "text/plain": [
       "<Figure size 432x288 with 1 Axes>"
      ]
     },
     "metadata": {
      "needs_background": "light"
     },
     "output_type": "display_data"
    }
   ],
   "source": [
    "plt.hist(ligand_size_list)"
   ]
  },
  {
   "cell_type": "markdown",
   "metadata": {},
   "source": [
    "## 3. Lipinski's rule of five"
   ]
  },
  {
   "cell_type": "code",
   "execution_count": 7,
   "metadata": {},
   "outputs": [],
   "source": [
    "def n_ligand_fulfilled_criteria(path_json, criteria):\n",
    "\n",
    "    # get object generator from json\n",
    "    f = open(path_json, 'rb')\n",
    "    objects = ijson.items(f, 'item')\n",
    "\n",
    "    # filter objects\n",
    "    objects_filtered = (o for o in objects if o[criteria] == 1)\n",
    "    \n",
    "    return len(list(objects_filtered))"
   ]
  },
  {
   "cell_type": "code",
   "execution_count": 8,
   "metadata": {},
   "outputs": [],
   "source": [
    "n_hba = n_ligand_fulfilled_criteria(PATH_COMBINATORIAL_LIBRARY, 'hba')\n",
    "n_hbd = n_ligand_fulfilled_criteria(PATH_COMBINATORIAL_LIBRARY, 'hbd')\n",
    "n_mwt = n_ligand_fulfilled_criteria(PATH_COMBINATORIAL_LIBRARY, 'mwt')\n",
    "n_logp = n_ligand_fulfilled_criteria(PATH_COMBINATORIAL_LIBRARY, 'logp')"
   ]
  },
  {
   "cell_type": "code",
   "execution_count": 9,
   "metadata": {},
   "outputs": [],
   "source": [
    "def n_ligand_fulfilled_lipinski(path_json):\n",
    "\n",
    "    # get object generator from json\n",
    "    f = open(path_json, 'rb')\n",
    "    objects = ijson.items(f, 'item')\n",
    "        \n",
    "    # filter objects\n",
    "    objects_filtered = (o for o in objects if o['hba']+o['hbd']+o['mwt']+o['logp'] >= 3)\n",
    "\n",
    "    return len(list(objects_filtered))"
   ]
  },
  {
   "cell_type": "code",
   "execution_count": 10,
   "metadata": {},
   "outputs": [],
   "source": [
    "n_lipinski = n_ligand_fulfilled_lipinski(PATH_COMBINATORIAL_LIBRARY)"
   ]
  },
  {
   "cell_type": "code",
   "execution_count": 11,
   "metadata": {},
   "outputs": [
    {
     "name": "stdout",
     "output_type": "stream",
     "text": [
      "60 64 50 64 60\n"
     ]
    }
   ],
   "source": [
    "print(n_hba, n_hbd, n_mwt, n_logp, n_lipinski)"
   ]
  },
  {
   "cell_type": "markdown",
   "metadata": {},
   "source": [
    "## 4. Original ligands"
   ]
  },
  {
   "cell_type": "markdown",
   "metadata": {},
   "source": [
    "### Exact matches"
   ]
  },
  {
   "cell_type": "code",
   "execution_count": 12,
   "metadata": {},
   "outputs": [],
   "source": [
    "def original_ligands_exact_matches(path_json):\n",
    "\n",
    "    # get object generator from json\n",
    "    f = open(path_json, 'rb')\n",
    "    objects = ijson.items(f, 'item')\n",
    "\n",
    "    # filter objects\n",
    "    objects_filtered = (o for o in objects if o['original_exact'] != [])\n",
    "    objects_filtered_df = pd.DataFrame(objects_filtered)\n",
    "    \n",
    "    # sanity check: exact matches must also show up as substructures matches\n",
    "    if any(objects_filtered_df.original_substructure.apply(len) == 0):\n",
    "        raise ValueError(f'One or more ligands have an exact match but no substructure.')\n",
    "    \n",
    "    print(f'Number of exact matches in original ligands: {objects_filtered_df.shape[0]}')\n",
    "    \n",
    "    return objects_filtered_df"
   ]
  },
  {
   "cell_type": "code",
   "execution_count": 13,
   "metadata": {},
   "outputs": [
    {
     "name": "stdout",
     "output_type": "stream",
     "text": [
      "Number of exact matches in original ligands: 4\n"
     ]
    },
    {
     "data": {
      "text/html": [
       "<div>\n",
       "<style scoped>\n",
       "    .dataframe tbody tr th:only-of-type {\n",
       "        vertical-align: middle;\n",
       "    }\n",
       "\n",
       "    .dataframe tbody tr th {\n",
       "        vertical-align: top;\n",
       "    }\n",
       "\n",
       "    .dataframe thead th {\n",
       "        text-align: right;\n",
       "    }\n",
       "</style>\n",
       "<table border=\"1\" class=\"dataframe\">\n",
       "  <thead>\n",
       "    <tr style=\"text-align: right;\">\n",
       "      <th></th>\n",
       "      <th>bond_ids</th>\n",
       "      <th>fragment_ids</th>\n",
       "      <th>hba</th>\n",
       "      <th>hbd</th>\n",
       "      <th>mwt</th>\n",
       "      <th>logp</th>\n",
       "      <th>n_atoms</th>\n",
       "      <th>chembl_exact</th>\n",
       "      <th>chembl_most_similar</th>\n",
       "      <th>original_exact</th>\n",
       "      <th>original_substructure</th>\n",
       "      <th>inchi</th>\n",
       "    </tr>\n",
       "  </thead>\n",
       "  <tbody>\n",
       "    <tr>\n",
       "      <th>0</th>\n",
       "      <td>[[FP_7, GA_6], [SE_14, FP_8], [SE_13, AP_7]]</td>\n",
       "      <td>[FP_1, SE_2, GA_1, AP_2]</td>\n",
       "      <td>1</td>\n",
       "      <td>1</td>\n",
       "      <td>1</td>\n",
       "      <td>1</td>\n",
       "      <td>33</td>\n",
       "      <td>[]</td>\n",
       "      <td>[CHEMBL500021, 0.34]</td>\n",
       "      <td>[1, 8]</td>\n",
       "      <td>[1, 8]</td>\n",
       "      <td>InChI=1S/C23H28N8OS/c1-15-13-20(29-28-15)25-19...</td>\n",
       "    </tr>\n",
       "    <tr>\n",
       "      <th>1</th>\n",
       "      <td>[[SE_13, AP_16], [FP_6, AP_17]]</td>\n",
       "      <td>[AP_4, SE_4, FP_2]</td>\n",
       "      <td>1</td>\n",
       "      <td>1</td>\n",
       "      <td>1</td>\n",
       "      <td>1</td>\n",
       "      <td>35</td>\n",
       "      <td>[]</td>\n",
       "      <td>[CHEMBL265282, 0.32]</td>\n",
       "      <td>[6]</td>\n",
       "      <td>[6]</td>\n",
       "      <td>InChI=1S/C26H28N6O3/c1-30-12-14-31(15-13-30)20...</td>\n",
       "    </tr>\n",
       "    <tr>\n",
       "      <th>2</th>\n",
       "      <td>[[FP_7, GA_6], [SE_14, FP_8], [SE_13, AP_7]]</td>\n",
       "      <td>[FP_1, SE_2, GA_1, AP_2]</td>\n",
       "      <td>1</td>\n",
       "      <td>1</td>\n",
       "      <td>1</td>\n",
       "      <td>1</td>\n",
       "      <td>33</td>\n",
       "      <td>[]</td>\n",
       "      <td>[CHEMBL500021, 0.34]</td>\n",
       "      <td>[1, 8]</td>\n",
       "      <td>[1, 8]</td>\n",
       "      <td>InChI=1S/C23H28N8OS/c1-15-13-20(29-28-15)25-19...</td>\n",
       "    </tr>\n",
       "    <tr>\n",
       "      <th>3</th>\n",
       "      <td>[[SE_13, AP_16], [FP_6, AP_17]]</td>\n",
       "      <td>[AP_4, SE_4, FP_2]</td>\n",
       "      <td>1</td>\n",
       "      <td>1</td>\n",
       "      <td>1</td>\n",
       "      <td>1</td>\n",
       "      <td>35</td>\n",
       "      <td>[]</td>\n",
       "      <td>[CHEMBL265282, 0.32]</td>\n",
       "      <td>[6]</td>\n",
       "      <td>[6]</td>\n",
       "      <td>InChI=1S/C26H28N6O3/c1-30-12-14-31(15-13-30)20...</td>\n",
       "    </tr>\n",
       "  </tbody>\n",
       "</table>\n",
       "</div>"
      ],
      "text/plain": [
       "                                       bond_ids              fragment_ids  \\\n",
       "0  [[FP_7, GA_6], [SE_14, FP_8], [SE_13, AP_7]]  [FP_1, SE_2, GA_1, AP_2]   \n",
       "1               [[SE_13, AP_16], [FP_6, AP_17]]        [AP_4, SE_4, FP_2]   \n",
       "2  [[FP_7, GA_6], [SE_14, FP_8], [SE_13, AP_7]]  [FP_1, SE_2, GA_1, AP_2]   \n",
       "3               [[SE_13, AP_16], [FP_6, AP_17]]        [AP_4, SE_4, FP_2]   \n",
       "\n",
       "   hba  hbd  mwt  logp  n_atoms chembl_exact   chembl_most_similar  \\\n",
       "0    1    1    1     1       33           []  [CHEMBL500021, 0.34]   \n",
       "1    1    1    1     1       35           []  [CHEMBL265282, 0.32]   \n",
       "2    1    1    1     1       33           []  [CHEMBL500021, 0.34]   \n",
       "3    1    1    1     1       35           []  [CHEMBL265282, 0.32]   \n",
       "\n",
       "  original_exact original_substructure  \\\n",
       "0         [1, 8]                [1, 8]   \n",
       "1            [6]                   [6]   \n",
       "2         [1, 8]                [1, 8]   \n",
       "3            [6]                   [6]   \n",
       "\n",
       "                                               inchi  \n",
       "0  InChI=1S/C23H28N8OS/c1-15-13-20(29-28-15)25-19...  \n",
       "1  InChI=1S/C26H28N6O3/c1-30-12-14-31(15-13-30)20...  \n",
       "2  InChI=1S/C23H28N8OS/c1-15-13-20(29-28-15)25-19...  \n",
       "3  InChI=1S/C26H28N6O3/c1-30-12-14-31(15-13-30)20...  "
      ]
     },
     "execution_count": 13,
     "metadata": {},
     "output_type": "execute_result"
    }
   ],
   "source": [
    "original_ligands_exact_matches(PATH_COMBINATORIAL_LIBRARY)"
   ]
  },
  {
   "cell_type": "markdown",
   "metadata": {},
   "source": [
    "### Substructure matches"
   ]
  },
  {
   "cell_type": "code",
   "execution_count": 14,
   "metadata": {},
   "outputs": [],
   "source": [
    "def original_ligands_substructure_matches(path_json):\n",
    "\n",
    "    # get object generator from json\n",
    "    f = open(path_json, 'rb')\n",
    "    objects = ijson.items(f, 'item')\n",
    "\n",
    "    # filter objects\n",
    "    objects_filtered = (o for o in objects if o['original_substructure'] != [])\n",
    "    objects_filtered_df = pd.DataFrame(objects_filtered)\n",
    "    \n",
    "    print(f'Number of ligands with substructures in original ligands: {objects_filtered_df.shape[0]}')\n",
    "    \n",
    "    return objects_filtered_df"
   ]
  },
  {
   "cell_type": "code",
   "execution_count": 15,
   "metadata": {},
   "outputs": [
    {
     "name": "stdout",
     "output_type": "stream",
     "text": [
      "Number of ligands with substructures in original ligands: 6\n"
     ]
    },
    {
     "data": {
      "text/html": [
       "<div>\n",
       "<style scoped>\n",
       "    .dataframe tbody tr th:only-of-type {\n",
       "        vertical-align: middle;\n",
       "    }\n",
       "\n",
       "    .dataframe tbody tr th {\n",
       "        vertical-align: top;\n",
       "    }\n",
       "\n",
       "    .dataframe thead th {\n",
       "        text-align: right;\n",
       "    }\n",
       "</style>\n",
       "<table border=\"1\" class=\"dataframe\">\n",
       "  <thead>\n",
       "    <tr style=\"text-align: right;\">\n",
       "      <th></th>\n",
       "      <th>bond_ids</th>\n",
       "      <th>fragment_ids</th>\n",
       "      <th>hba</th>\n",
       "      <th>hbd</th>\n",
       "      <th>mwt</th>\n",
       "      <th>logp</th>\n",
       "      <th>n_atoms</th>\n",
       "      <th>chembl_exact</th>\n",
       "      <th>chembl_most_similar</th>\n",
       "      <th>original_exact</th>\n",
       "      <th>original_substructure</th>\n",
       "      <th>inchi</th>\n",
       "    </tr>\n",
       "  </thead>\n",
       "  <tbody>\n",
       "    <tr>\n",
       "      <th>0</th>\n",
       "      <td>[[SE_16, AP_9]]</td>\n",
       "      <td>[SE_3, AP_3]</td>\n",
       "      <td>1</td>\n",
       "      <td>1</td>\n",
       "      <td>1</td>\n",
       "      <td>1</td>\n",
       "      <td>24</td>\n",
       "      <td>[]</td>\n",
       "      <td>[CHEMBL405398, 0.33]</td>\n",
       "      <td>[]</td>\n",
       "      <td>[9]</td>\n",
       "      <td>InChI=1S/C15H20N6O2S/c1-11-17-13(19-15-16-9-12...</td>\n",
       "    </tr>\n",
       "    <tr>\n",
       "      <th>1</th>\n",
       "      <td>[[FP_7, GA_6], [SE_14, FP_8], [SE_13, AP_7]]</td>\n",
       "      <td>[FP_1, SE_2, GA_1, AP_2]</td>\n",
       "      <td>1</td>\n",
       "      <td>1</td>\n",
       "      <td>1</td>\n",
       "      <td>1</td>\n",
       "      <td>33</td>\n",
       "      <td>[]</td>\n",
       "      <td>[CHEMBL500021, 0.34]</td>\n",
       "      <td>[1, 8]</td>\n",
       "      <td>[1, 8]</td>\n",
       "      <td>InChI=1S/C23H28N8OS/c1-15-13-20(29-28-15)25-19...</td>\n",
       "    </tr>\n",
       "    <tr>\n",
       "      <th>2</th>\n",
       "      <td>[[SE_13, AP_16], [FP_6, AP_17]]</td>\n",
       "      <td>[AP_4, SE_4, FP_2]</td>\n",
       "      <td>1</td>\n",
       "      <td>1</td>\n",
       "      <td>1</td>\n",
       "      <td>1</td>\n",
       "      <td>35</td>\n",
       "      <td>[]</td>\n",
       "      <td>[CHEMBL265282, 0.32]</td>\n",
       "      <td>[6]</td>\n",
       "      <td>[6]</td>\n",
       "      <td>InChI=1S/C26H28N6O3/c1-30-12-14-31(15-13-30)20...</td>\n",
       "    </tr>\n",
       "    <tr>\n",
       "      <th>3</th>\n",
       "      <td>[[SE_16, AP_9]]</td>\n",
       "      <td>[SE_3, AP_3]</td>\n",
       "      <td>1</td>\n",
       "      <td>1</td>\n",
       "      <td>1</td>\n",
       "      <td>1</td>\n",
       "      <td>24</td>\n",
       "      <td>[]</td>\n",
       "      <td>[CHEMBL405398, 0.33]</td>\n",
       "      <td>[]</td>\n",
       "      <td>[9]</td>\n",
       "      <td>InChI=1S/C15H20N6O2S/c1-11-17-13(19-15-16-9-12...</td>\n",
       "    </tr>\n",
       "    <tr>\n",
       "      <th>4</th>\n",
       "      <td>[[FP_7, GA_6], [SE_14, FP_8], [SE_13, AP_7]]</td>\n",
       "      <td>[FP_1, SE_2, GA_1, AP_2]</td>\n",
       "      <td>1</td>\n",
       "      <td>1</td>\n",
       "      <td>1</td>\n",
       "      <td>1</td>\n",
       "      <td>33</td>\n",
       "      <td>[]</td>\n",
       "      <td>[CHEMBL500021, 0.34]</td>\n",
       "      <td>[1, 8]</td>\n",
       "      <td>[1, 8]</td>\n",
       "      <td>InChI=1S/C23H28N8OS/c1-15-13-20(29-28-15)25-19...</td>\n",
       "    </tr>\n",
       "    <tr>\n",
       "      <th>5</th>\n",
       "      <td>[[SE_13, AP_16], [FP_6, AP_17]]</td>\n",
       "      <td>[AP_4, SE_4, FP_2]</td>\n",
       "      <td>1</td>\n",
       "      <td>1</td>\n",
       "      <td>1</td>\n",
       "      <td>1</td>\n",
       "      <td>35</td>\n",
       "      <td>[]</td>\n",
       "      <td>[CHEMBL265282, 0.32]</td>\n",
       "      <td>[6]</td>\n",
       "      <td>[6]</td>\n",
       "      <td>InChI=1S/C26H28N6O3/c1-30-12-14-31(15-13-30)20...</td>\n",
       "    </tr>\n",
       "  </tbody>\n",
       "</table>\n",
       "</div>"
      ],
      "text/plain": [
       "                                       bond_ids              fragment_ids  \\\n",
       "0                               [[SE_16, AP_9]]              [SE_3, AP_3]   \n",
       "1  [[FP_7, GA_6], [SE_14, FP_8], [SE_13, AP_7]]  [FP_1, SE_2, GA_1, AP_2]   \n",
       "2               [[SE_13, AP_16], [FP_6, AP_17]]        [AP_4, SE_4, FP_2]   \n",
       "3                               [[SE_16, AP_9]]              [SE_3, AP_3]   \n",
       "4  [[FP_7, GA_6], [SE_14, FP_8], [SE_13, AP_7]]  [FP_1, SE_2, GA_1, AP_2]   \n",
       "5               [[SE_13, AP_16], [FP_6, AP_17]]        [AP_4, SE_4, FP_2]   \n",
       "\n",
       "   hba  hbd  mwt  logp  n_atoms chembl_exact   chembl_most_similar  \\\n",
       "0    1    1    1     1       24           []  [CHEMBL405398, 0.33]   \n",
       "1    1    1    1     1       33           []  [CHEMBL500021, 0.34]   \n",
       "2    1    1    1     1       35           []  [CHEMBL265282, 0.32]   \n",
       "3    1    1    1     1       24           []  [CHEMBL405398, 0.33]   \n",
       "4    1    1    1     1       33           []  [CHEMBL500021, 0.34]   \n",
       "5    1    1    1     1       35           []  [CHEMBL265282, 0.32]   \n",
       "\n",
       "  original_exact original_substructure  \\\n",
       "0             []                   [9]   \n",
       "1         [1, 8]                [1, 8]   \n",
       "2            [6]                   [6]   \n",
       "3             []                   [9]   \n",
       "4         [1, 8]                [1, 8]   \n",
       "5            [6]                   [6]   \n",
       "\n",
       "                                               inchi  \n",
       "0  InChI=1S/C15H20N6O2S/c1-11-17-13(19-15-16-9-12...  \n",
       "1  InChI=1S/C23H28N8OS/c1-15-13-20(29-28-15)25-19...  \n",
       "2  InChI=1S/C26H28N6O3/c1-30-12-14-31(15-13-30)20...  \n",
       "3  InChI=1S/C15H20N6O2S/c1-11-17-13(19-15-16-9-12...  \n",
       "4  InChI=1S/C23H28N8OS/c1-15-13-20(29-28-15)25-19...  \n",
       "5  InChI=1S/C26H28N6O3/c1-30-12-14-31(15-13-30)20...  "
      ]
     },
     "execution_count": 15,
     "metadata": {},
     "output_type": "execute_result"
    }
   ],
   "source": [
    "original_ligands_substructure_matches(PATH_COMBINATORIAL_LIBRARY)"
   ]
  },
  {
   "cell_type": "markdown",
   "metadata": {},
   "source": [
    "## 5. ChEMBL ligands"
   ]
  },
  {
   "cell_type": "markdown",
   "metadata": {},
   "source": [
    "### Most similar ChEMBL ligands"
   ]
  },
  {
   "cell_type": "code",
   "execution_count": 16,
   "metadata": {},
   "outputs": [],
   "source": [
    "def similarities_of_most_similar_chembl_ligands(path_json):\n",
    "\n",
    "    # get object generator from json\n",
    "    f = open(path_json, 'rb')\n",
    "    objects = ijson.items(f, 'item')\n",
    "\n",
    "    # filter objects\n",
    "    objects_filtered = [o['chembl_most_similar'][1] for o in objects]\n",
    "    \n",
    "    return objects_filtered"
   ]
  },
  {
   "cell_type": "code",
   "execution_count": 17,
   "metadata": {},
   "outputs": [],
   "source": [
    "similarities = similarities_of_most_similar_chembl_ligands(PATH_COMBINATORIAL_LIBRARY)"
   ]
  },
  {
   "cell_type": "code",
   "execution_count": 18,
   "metadata": {},
   "outputs": [
    {
     "data": {
      "text/plain": [
       "(array([ 4.,  0.,  2., 10.,  0., 24.,  8., 10.,  0.,  6.]),\n",
       " array([0.22 , 0.238, 0.256, 0.274, 0.292, 0.31 , 0.328, 0.346, 0.364,\n",
       "        0.382, 0.4  ]),\n",
       " <a list of 10 Patch objects>)"
      ]
     },
     "execution_count": 18,
     "metadata": {},
     "output_type": "execute_result"
    },
    {
     "data": {
      "image/png": "[encoded data removed]",
      "text/plain": [
       "<Figure size 432x288 with 1 Axes>"
      ]
     },
     "metadata": {
      "needs_background": "light"
     },
     "output_type": "display_data"
    }
   ],
   "source": [
    "plt.hist(similarities)"
   ]
  },
  {
   "cell_type": "markdown",
   "metadata": {},
   "source": [
    "### Exact matches"
   ]
  },
  {
   "cell_type": "code",
   "execution_count": 19,
   "metadata": {},
   "outputs": [],
   "source": [
    "def exact_chembl_matches(path_json):\n",
    "\n",
    "    # get object generator from json\n",
    "    f = open(path_json, 'rb')\n",
    "    objects = ijson.items(f, 'item')\n",
    "\n",
    "    # filter objects\n",
    "    objects_filtered = [o for o in objects if o['chembl_exact'] != []]\n",
    "    objects_filtered_df = pd.DataFrame(objects_filtered)\n",
    "    \n",
    "    print(f'Number of exact matches in ChEMBL ligands: {objects_filtered_df.shape[0]}')\n",
    "    \n",
    "    return objects_filtered_df"
   ]
  },
  {
   "cell_type": "code",
   "execution_count": 20,
   "metadata": {},
   "outputs": [
    {
     "name": "stdout",
     "output_type": "stream",
     "text": [
      "Number of exact matches in ChEMBL ligands: 0\n"
     ]
    },
    {
     "data": {
      "text/html": [
       "<div>\n",
       "<style scoped>\n",
       "    .dataframe tbody tr th:only-of-type {\n",
       "        vertical-align: middle;\n",
       "    }\n",
       "\n",
       "    .dataframe tbody tr th {\n",
       "        vertical-align: top;\n",
       "    }\n",
       "\n",
       "    .dataframe thead th {\n",
       "        text-align: right;\n",
       "    }\n",
       "</style>\n",
       "<table border=\"1\" class=\"dataframe\">\n",
       "  <thead>\n",
       "    <tr style=\"text-align: right;\">\n",
       "      <th></th>\n",
       "    </tr>\n",
       "  </thead>\n",
       "  <tbody>\n",
       "  </tbody>\n",
       "</table>\n",
       "</div>"
      ],
      "text/plain": [
       "Empty DataFrame\n",
       "Columns: []\n",
       "Index: []"
      ]
     },
     "execution_count": 20,
     "metadata": {},
     "output_type": "execute_result"
    }
   ],
   "source": [
    "exact_chembl_matches(PATH_COMBINATORIAL_LIBRARY)"
   ]
  },
  {
   "cell_type": "code",
   "execution_count": null,
   "metadata": {},
   "outputs": [],
   "source": []
  }
 ],
 "metadata": {
  "kernelspec": {
   "display_name": "kinfraglib",
   "language": "python",
   "name": "kinfraglib"
  },
  "language_info": {
   "codemirror_mode": {
    "name": "ipython",
    "version": 3
   },
   "file_extension": ".py",
   "mimetype": "text/x-python",
   "name": "python",
   "nbconvert_exporter": "python",
   "pygments_lexer": "ipython3",
   "version": "3.8.3"
  }
 },
 "nbformat": 4,
 "nbformat_minor": 4
}
