{
 "cells": [
  {
   "cell_type": "markdown",
   "metadata": {},
   "source": [
    "# Combinatorial library properties"
   ]
  },
  {
   "cell_type": "markdown",
   "metadata": {},
   "source": [
    "## Aim of this notebook\n",
    "\n",
    "In this notebook we want to analyze properties of the combinatorial library, such as the ligand size and Lipinski's rule of five criteria."
   ]
  },
  {
   "cell_type": "markdown",
   "metadata": {},
   "source": [
    "## Table of contents\n",
    "\n",
    "1. Combinatorial library data\n",
    "2. Recombined ligand size\n",
    "3. Lipinski's rule of five"
   ]
  },
  {
   "cell_type": "code",
   "execution_count": 1,
   "metadata": {},
   "outputs": [],
   "source": [
    "%load_ext autoreload\n",
    "%autoreload 2"
   ]
  },
  {
   "cell_type": "code",
   "execution_count": 2,
   "metadata": {},
   "outputs": [],
   "source": [
    "from pathlib import Path\n",
    "\n",
    "import ijson\n",
    "import matplotlib.pyplot as plt\n",
    "import pandas as pd\n",
    "from rdkit import Chem\n",
    "\n",
    "from utils import get_original_ligands, get_ro5_from_mol, read_fragment_library"
   ]
  },
  {
   "cell_type": "code",
   "execution_count": 3,
   "metadata": {},
   "outputs": [],
   "source": [
    "PATH_FRAGMENT_LIBRARY = Path('../data/fragment_library/')\n",
    "PATH_COMBINATORIAL_LIBRARY = Path('../data/combinatorial_library/combinatorial_library.json')"
   ]
  },
  {
   "cell_type": "markdown",
   "metadata": {},
   "source": [
    "## 1. Combinatorial library data"
   ]
  },
  {
   "cell_type": "markdown",
   "metadata": {},
   "source": [
    "The combinatorial library comes as large JSON file. In order to access/filter ligands efficiently (time and memory), we use the `ijson` library:\n",
    "\n",
    "> Ijson is an iterative JSON parser with standard Python iterator interfaces.\n",
    "\n",
    "https://pypi.org/project/ijson/"
   ]
  },
  {
   "cell_type": "markdown",
   "metadata": {},
   "source": [
    "Here, we take a look at the first entry in the combinatorial library:"
   ]
  },
  {
   "cell_type": "code",
   "execution_count": 4,
   "metadata": {},
   "outputs": [
    {
     "data": {
      "text/plain": [
       "{'bond_ids': [['SE_13', 'AP_7']],\n",
       " 'fragment_ids': ['SE_4', 'AP_2'],\n",
       " 'hba': 1,\n",
       " 'hbd': 1,\n",
       " 'mwt': 1,\n",
       " 'logp': 1,\n",
       " 'n_atoms': 20,\n",
       " 'chembl_exact': [],\n",
       " 'chembl_most_similar': ['CHEMBL405398', Decimal('0.35')],\n",
       " 'original_exact': [],\n",
       " 'original_substructure': [],\n",
       " 'inchi': 'InChI=1S/C15H21N5/c1-12-11-15(18-17-12)16-13-3-5-14(6-4-13)20-9-7-19(2)8-10-20/h3-6,11H,7-10H2,1-2H3,(H2,16,17,18)'}"
      ]
     },
     "execution_count": 4,
     "metadata": {},
     "output_type": "execute_result"
    }
   ],
   "source": [
    "# open file\n",
    "f = open(PATH_COMBINATORIAL_LIBRARY, 'rb')\n",
    "\n",
    "# yield native Python objects out of a JSON stream located under a prefix\n",
    "objects = ijson.items(f, 'item')\n",
    "\n",
    "next(objects)"
   ]
  },
  {
   "cell_type": "markdown",
   "metadata": {},
   "source": [
    "The combinatorial library contains the following information:\n",
    "- `bond_ids` and `fragment_ids`: \n",
    "  - Bond IDs (`bond_ids`), e.g. `[[\"FP_6\", \"AP_10\"], [\"AP_11\", \"SE_13\"]]`: Atom (`<subpocket>_<atom ID>`) pairs per fragment bond\n",
    "  - Fragment IDs (`fragment_ids`), e.g. `[\"SE_2\", \"AP_0\", \"FP_2\"]` (`<subpocket>_<fragment index in subpocket pool>`)\n",
    "  - With this information it is possible to construct the recombined ligand from the fragment library\n",
    "- `hba`, `hbd`, `mwt`, and `logp`: Ligand fulfills Lipinski's rule of five criteria? (`0` or `1`)\n",
    "  - Number of hydrogen bond acceptors (`hba`) <= 10\n",
    "  - Number of hydrogen bond donors (`hbd`) <= 5\n",
    "  - Molecular weight (`mwt`) <= 500\n",
    "  - LogP value (`logp`) <= 5 \n",
    "- `n_atoms`: Number of heavy atoms\n",
    "- `chembl_exact`: Ligand has exact match in ChEMBL? List of ChEMBL molecule indicies (`[]` if no match)\n",
    "- `chembl_most_similar`: Most similar molecule in ChEMBL, e.g. `[500021, 0.34]` (`[<ChEMBL ID without \"CHEMBL\" prefix>, <Tanimoto similarity>]` \n",
    "- `original_exact`: Ligand has exact match in original ligands? List of original ligand indicies (`[]` if no match)\n",
    "- `original_substructure`: Ligand is substructure of original ligands? List of original ligand indicies (`[]` if no match)\n",
    "- `inchi`: InChI "
   ]
  },
  {
   "cell_type": "markdown",
   "metadata": {},
   "source": [
    "## 2. Recombined ligand size"
   ]
  },
  {
   "cell_type": "code",
   "execution_count": 5,
   "metadata": {},
   "outputs": [],
   "source": [
    "def ligand_sizes(path_json):\n",
    "    \n",
    "    # get object generator from json\n",
    "    f = open(path_json, 'rb')\n",
    "    objects = ijson.items(f, 'item')\n",
    "\n",
    "    # filter objects\n",
    "    n_atoms_list = [o['n_atoms'] for o in objects]\n",
    "    \n",
    "    return n_atoms_list"
   ]
  },
  {
   "cell_type": "code",
   "execution_count": 6,
   "metadata": {},
   "outputs": [],
   "source": [
    "ligand_size_list = ligand_sizes(PATH_COMBINATORIAL_LIBRARY)"
   ]
  },
  {
   "cell_type": "code",
   "execution_count": 7,
   "metadata": {},
   "outputs": [
    {
     "data": {
      "text/plain": [
       "(array([ 4.,  6.,  4.,  4.,  4.,  8., 10., 12.,  8.,  4.]),\n",
       " array([15. , 17.7, 20.4, 23.1, 25.8, 28.5, 31.2, 33.9, 36.6, 39.3, 42. ]),\n",
       " <a list of 10 Patch objects>)"
      ]
     },
     "execution_count": 7,
     "metadata": {},
     "output_type": "execute_result"
    },
    {
     "data": {
      "image/png": "[encoded data removed]",
      "text/plain": [
       "<Figure size 432x288 with 1 Axes>"
      ]
     },
     "metadata": {
      "needs_background": "light"
     },
     "output_type": "display_data"
    }
   ],
   "source": [
    "plt.hist(ligand_size_list)"
   ]
  },
  {
   "cell_type": "markdown",
   "metadata": {},
   "source": [
    "## 3. Lipinski's rule of five"
   ]
  },
  {
   "cell_type": "code",
   "execution_count": 42,
   "metadata": {},
   "outputs": [],
   "source": [
    "def _n_ligand_fulfilled_criteria(path_json, criteria):\n",
    "\n",
    "    # get object generator from json\n",
    "    f = open(path_json, 'rb')\n",
    "    objects = ijson.items(f, 'item')\n",
    "\n",
    "    # filter objects\n",
    "    objects_filtered = (o for o in objects if o[criteria] == 1)\n",
    "    \n",
    "    return len(list(objects_filtered))\n",
    "\n",
    "\n",
    "def _n_ligand_fulfilled_lipinski(path_json):\n",
    "\n",
    "    # get object generator from json\n",
    "    f = open(path_json, 'rb')\n",
    "    objects = ijson.items(f, 'item')\n",
    "        \n",
    "    # filter objects\n",
    "    objects_filtered = (o for o in objects if o['hba']+o['hbd']+o['mwt']+o['logp'] >= 3)\n",
    "\n",
    "    return len(list(objects_filtered))\n",
    "\n",
    "def get_ro5_combinatorial_library(path_combinatorial_library, ratio=True):\n",
    "    \n",
    "    # Get number of ligands\n",
    "    f = open(path_combinatorial_library, 'rb')\n",
    "    objects = ijson.items(f, 'item')\n",
    "    n_ligands = len(list((o for o in objects)))\n",
    "    \n",
    "    # Get Lipinski's rule of five criteria\n",
    "    ro5_comb = pd.Series(\n",
    "        {\n",
    "            'mw': _n_ligand_fulfilled_criteria(path_combinatorial_library, 'mwt'),\n",
    "            'logp': _n_ligand_fulfilled_criteria(path_combinatorial_library, 'logp'), \n",
    "            'hbd': _n_ligand_fulfilled_criteria(path_combinatorial_library, 'hbd'),\n",
    "            'hba': _n_ligand_fulfilled_criteria(path_combinatorial_library, 'hba'),\n",
    "            'lipinski': _n_ligand_fulfilled_lipinski(path_combinatorial_library)\n",
    "        }\n",
    "    )\n",
    "    \n",
    "    if ratio:\n",
    "        # Get ratio\n",
    "        ro5_comb = round(ro5_comb / n_ligands * 100, 0)\n",
    "        ro5_comb = ro5_comb.astype('int')\n",
    "    \n",
    "    return ro5_comb"
   ]
  },
  {
   "cell_type": "markdown",
   "metadata": {},
   "source": [
    "### Recombined ligands"
   ]
  },
  {
   "cell_type": "code",
   "execution_count": 43,
   "metadata": {},
   "outputs": [
    {
     "data": {
      "text/plain": [
       "mw           78\n",
       "logp        100\n",
       "hbd         100\n",
       "hba          94\n",
       "lipinski     94\n",
       "dtype: int64"
      ]
     },
     "execution_count": 43,
     "metadata": {},
     "output_type": "execute_result"
    }
   ],
   "source": [
    "ro5_comb = get_ro5_combinatorial_library(PATH_COMBINATORIAL_LIBRARY)\n",
    "ro5_comb"
   ]
  },
  {
   "cell_type": "markdown",
   "metadata": {},
   "source": [
    "### PKIDB ligands\n",
    "\n",
    "PKIDB ligands: approved and investigorial kinase inhibitors"
   ]
  },
  {
   "cell_type": "code",
   "execution_count": 10,
   "metadata": {},
   "outputs": [
    {
     "name": "stdout",
     "output_type": "stream",
     "text": [
      "Number of ligands in PKIDB data: 218\n"
     ]
    }
   ],
   "source": [
    "data_pkidb = pd.read_csv('https://raw.githubusercontent.com/dominiquesydow/pkidb_klifs/master/results/pkidb_20200218.csv', index_col=0)\n",
    "print(f'Number of ligands in PKIDB data: {data_pkidb.shape[0]}')"
   ]
  },
  {
   "cell_type": "code",
   "execution_count": 11,
   "metadata": {},
   "outputs": [
    {
     "data": {
      "text/html": [
       "<div>\n",
       "<style scoped>\n",
       "    .dataframe tbody tr th:only-of-type {\n",
       "        vertical-align: middle;\n",
       "    }\n",
       "\n",
       "    .dataframe tbody tr th {\n",
       "        vertical-align: top;\n",
       "    }\n",
       "\n",
       "    .dataframe thead th {\n",
       "        text-align: right;\n",
       "    }\n",
       "</style>\n",
       "<table border=\"1\" class=\"dataframe\">\n",
       "  <thead>\n",
       "    <tr style=\"text-align: right;\">\n",
       "      <th></th>\n",
       "      <th>INN_Name</th>\n",
       "      <th>BrandName</th>\n",
       "      <th>Phase</th>\n",
       "      <th>Applicants</th>\n",
       "      <th>LigID</th>\n",
       "      <th>pdbID</th>\n",
       "      <th>Type</th>\n",
       "      <th>RoF</th>\n",
       "      <th>MW</th>\n",
       "      <th>LogP</th>\n",
       "      <th>...</th>\n",
       "      <th>Targets</th>\n",
       "      <th>Kinase_families</th>\n",
       "      <th>First_Approval</th>\n",
       "      <th>SC_Patent</th>\n",
       "      <th>Chirality</th>\n",
       "      <th>Synonyms</th>\n",
       "      <th>FDA_approved</th>\n",
       "      <th>Melting_points_C</th>\n",
       "      <th>Canonical_Smiles</th>\n",
       "      <th>InChIKey</th>\n",
       "    </tr>\n",
       "  </thead>\n",
       "  <tbody>\n",
       "    <tr>\n",
       "      <th>0</th>\n",
       "      <td>Leniolisib</td>\n",
       "      <td>NaN</td>\n",
       "      <td>0.0</td>\n",
       "      <td>Novartis</td>\n",
       "      <td>9NQ</td>\n",
       "      <td>['5o83']</td>\n",
       "      <td>NaN</td>\n",
       "      <td>0</td>\n",
       "      <td>450.2</td>\n",
       "      <td>2.9</td>\n",
       "      <td>...</td>\n",
       "      <td>NaN</td>\n",
       "      <td>NaN</td>\n",
       "      <td>NaN</td>\n",
       "      <td>NaN</td>\n",
       "      <td>Single Stereoisomer</td>\n",
       "      <td>['CDZ173-NX', 'Leniolisib']</td>\n",
       "      <td>NaN</td>\n",
       "      <td>NaN</td>\n",
       "      <td>CCC(=O)N1CC[C@@H](C1)Nc2c3c(ncn2)CCN(C3)c4cc(c...</td>\n",
       "      <td>MWKYMZXCGYXLPL-ZDUSSCGKSA-N</td>\n",
       "    </tr>\n",
       "    <tr>\n",
       "      <th>1</th>\n",
       "      <td>Nemiralisib</td>\n",
       "      <td>NaN</td>\n",
       "      <td>0.0</td>\n",
       "      <td>GlaxosmithKline</td>\n",
       "      <td>VVX</td>\n",
       "      <td>['5ae8']</td>\n",
       "      <td>NaN</td>\n",
       "      <td>0</td>\n",
       "      <td>440.2</td>\n",
       "      <td>4.9</td>\n",
       "      <td>...</td>\n",
       "      <td>NaN</td>\n",
       "      <td>NaN</td>\n",
       "      <td>NaN</td>\n",
       "      <td>NaN</td>\n",
       "      <td>Single Stereoisomer</td>\n",
       "      <td>['GSK2269557A', 'GSK-2269557', 'Nemiralisib']</td>\n",
       "      <td>NaN</td>\n",
       "      <td>NaN</td>\n",
       "      <td>CC(C)N1CCN(CC1)Cc2cnc(o2)c3cc(cc4c3cn[nH]4)c5c...</td>\n",
       "      <td>MCIDWGZGWVSZMK-UHFFFAOYSA-N</td>\n",
       "    </tr>\n",
       "  </tbody>\n",
       "</table>\n",
       "<p>2 rows × 25 columns</p>\n",
       "</div>"
      ],
      "text/plain": [
       "      INN_Name BrandName  Phase       Applicants LigID     pdbID  Type  RoF  \\\n",
       "0   Leniolisib       NaN    0.0         Novartis   9NQ  ['5o83']   NaN    0   \n",
       "1  Nemiralisib       NaN    0.0  GlaxosmithKline   VVX  ['5ae8']   NaN    0   \n",
       "\n",
       "      MW  LogP  ...  Targets  Kinase_families  First_Approval  SC_Patent  \\\n",
       "0  450.2   2.9  ...      NaN              NaN             NaN        NaN   \n",
       "1  440.2   4.9  ...      NaN              NaN             NaN        NaN   \n",
       "\n",
       "             Chirality                                       Synonyms  \\\n",
       "0  Single Stereoisomer                    ['CDZ173-NX', 'Leniolisib']   \n",
       "1  Single Stereoisomer  ['GSK2269557A', 'GSK-2269557', 'Nemiralisib']   \n",
       "\n",
       "  FDA_approved  Melting_points_C  \\\n",
       "0          NaN               NaN   \n",
       "1          NaN               NaN   \n",
       "\n",
       "                                    Canonical_Smiles  \\\n",
       "0  CCC(=O)N1CC[C@@H](C1)Nc2c3c(ncn2)CCN(C3)c4cc(c...   \n",
       "1  CC(C)N1CCN(CC1)Cc2cnc(o2)c3cc(cc4c3cn[nH]4)c5c...   \n",
       "\n",
       "                      InChIKey  \n",
       "0  MWKYMZXCGYXLPL-ZDUSSCGKSA-N  \n",
       "1  MCIDWGZGWVSZMK-UHFFFAOYSA-N  \n",
       "\n",
       "[2 rows x 25 columns]"
      ]
     },
     "execution_count": 11,
     "metadata": {},
     "output_type": "execute_result"
    }
   ],
   "source": [
    "data_pkidb.head(2)"
   ]
  },
  {
   "cell_type": "code",
   "execution_count": 46,
   "metadata": {},
   "outputs": [
    {
     "data": {
      "text/plain": [
       "mw           70\n",
       "logp         74\n",
       "hbd         100\n",
       "hba          99\n",
       "lipinski     85\n",
       "dtype: int64"
      ]
     },
     "execution_count": 46,
     "metadata": {},
     "output_type": "execute_result"
    }
   ],
   "source": [
    "ro5_pkidb = round(\n",
    "    data_pkidb.Canonical_Smiles.apply(\n",
    "        Chem.MolFromSmiles\n",
    "    ).apply(get_ro5_from_mol).sum() / data_pkidb.shape[0] * 100, \n",
    "    0\n",
    ")\n",
    "ro5_pkidb = ro5_pkidb.astype('int')\n",
    "ro5_pkidb"
   ]
  },
  {
   "cell_type": "markdown",
   "metadata": {},
   "source": [
    "### Original ligands"
   ]
  },
  {
   "cell_type": "code",
   "execution_count": 13,
   "metadata": {},
   "outputs": [
    {
     "name": "stdout",
     "output_type": "stream",
     "text": [
      "Number of original KLIFS ligands: 2553\n"
     ]
    }
   ],
   "source": [
    "data_klifs= pd.read_csv('../data/fragment_library/original_ligands.csv', index_col=0)\n",
    "print(f'Number of original KLIFS ligands: {data_klifs.shape[0]}')"
   ]
  },
  {
   "cell_type": "code",
   "execution_count": 14,
   "metadata": {},
   "outputs": [
    {
     "data": {
      "text/html": [
       "<div>\n",
       "<style scoped>\n",
       "    .dataframe tbody tr th:only-of-type {\n",
       "        vertical-align: middle;\n",
       "    }\n",
       "\n",
       "    .dataframe tbody tr th {\n",
       "        vertical-align: top;\n",
       "    }\n",
       "\n",
       "    .dataframe thead th {\n",
       "        text-align: right;\n",
       "    }\n",
       "</style>\n",
       "<table border=\"1\" class=\"dataframe\">\n",
       "  <thead>\n",
       "    <tr style=\"text-align: right;\">\n",
       "      <th></th>\n",
       "      <th>ligand_pdb</th>\n",
       "      <th>subpocket</th>\n",
       "      <th>kinase</th>\n",
       "      <th>family</th>\n",
       "      <th>group</th>\n",
       "      <th>alt</th>\n",
       "      <th>chain</th>\n",
       "      <th>ac_helix</th>\n",
       "      <th>smiles</th>\n",
       "    </tr>\n",
       "    <tr>\n",
       "      <th>complex_pdb</th>\n",
       "      <th></th>\n",
       "      <th></th>\n",
       "      <th></th>\n",
       "      <th></th>\n",
       "      <th></th>\n",
       "      <th></th>\n",
       "      <th></th>\n",
       "      <th></th>\n",
       "      <th></th>\n",
       "    </tr>\n",
       "  </thead>\n",
       "  <tbody>\n",
       "    <tr>\n",
       "      <th>1a9u</th>\n",
       "      <td>SB2</td>\n",
       "      <td>['AP', 'GA', 'B2']</td>\n",
       "      <td>p38a</td>\n",
       "      <td>MAPK</td>\n",
       "      <td>CMGC</td>\n",
       "      <td></td>\n",
       "      <td>A</td>\n",
       "      <td>out-like</td>\n",
       "      <td>C[S@](=O)c1ccc(-c2nc(-c3ccc(F)cc3)c(-c3ccncc3)...</td>\n",
       "    </tr>\n",
       "    <tr>\n",
       "      <th>1agw</th>\n",
       "      <td>SU2</td>\n",
       "      <td>['AP', 'SE']</td>\n",
       "      <td>FGFR1</td>\n",
       "      <td>FGFR</td>\n",
       "      <td>TK</td>\n",
       "      <td>B</td>\n",
       "      <td>B</td>\n",
       "      <td>out-like</td>\n",
       "      <td>O=CN1CCN(c2ccc(C[C@@H]3C(=O)Nc4ccccc43)cc2)CC1</td>\n",
       "    </tr>\n",
       "  </tbody>\n",
       "</table>\n",
       "</div>"
      ],
      "text/plain": [
       "            ligand_pdb           subpocket kinase family group alt chain  \\\n",
       "complex_pdb                                                                \n",
       "1a9u               SB2  ['AP', 'GA', 'B2']   p38a   MAPK  CMGC         A   \n",
       "1agw               SU2        ['AP', 'SE']  FGFR1   FGFR    TK   B     B   \n",
       "\n",
       "             ac_helix                                             smiles  \n",
       "complex_pdb                                                               \n",
       "1a9u         out-like  C[S@](=O)c1ccc(-c2nc(-c3ccc(F)cc3)c(-c3ccncc3)...  \n",
       "1agw         out-like     O=CN1CCN(c2ccc(C[C@@H]3C(=O)Nc4ccccc43)cc2)CC1  "
      ]
     },
     "execution_count": 14,
     "metadata": {},
     "output_type": "execute_result"
    }
   ],
   "source": [
    "data_klifs.head(2)"
   ]
  },
  {
   "cell_type": "code",
   "execution_count": 48,
   "metadata": {},
   "outputs": [
    {
     "data": {
      "text/plain": [
       "mw          88\n",
       "logp        94\n",
       "hbd         99\n",
       "hba         99\n",
       "lipinski    97\n",
       "dtype: int64"
      ]
     },
     "execution_count": 48,
     "metadata": {},
     "output_type": "execute_result"
    }
   ],
   "source": [
    "ro5_klifs = round(\n",
    "    data_klifs.smiles.apply(\n",
    "        Chem.MolFromSmiles\n",
    "    ).apply(get_ro5_from_mol).sum() / data_klifs.shape[0] * 100, \n",
    "    0\n",
    ")\n",
    "ro5_klifs = ro5_klifs.astype('int')\n",
    "ro5_klifs"
   ]
  },
  {
   "cell_type": "markdown",
   "metadata": {},
   "source": [
    "### Plot properties"
   ]
  },
  {
   "cell_type": "code",
   "execution_count": 49,
   "metadata": {},
   "outputs": [
    {
     "data": {
      "text/html": [
       "<div>\n",
       "<style scoped>\n",
       "    .dataframe tbody tr th:only-of-type {\n",
       "        vertical-align: middle;\n",
       "    }\n",
       "\n",
       "    .dataframe tbody tr th {\n",
       "        vertical-align: top;\n",
       "    }\n",
       "\n",
       "    .dataframe thead th {\n",
       "        text-align: right;\n",
       "    }\n",
       "</style>\n",
       "<table border=\"1\" class=\"dataframe\">\n",
       "  <thead>\n",
       "    <tr style=\"text-align: right;\">\n",
       "      <th></th>\n",
       "      <th>Recombined ligands</th>\n",
       "      <th>Original ligands (KLIFS)</th>\n",
       "      <th>PKIDB ligands</th>\n",
       "    </tr>\n",
       "  </thead>\n",
       "  <tbody>\n",
       "    <tr>\n",
       "      <th>mw</th>\n",
       "      <td>78</td>\n",
       "      <td>88</td>\n",
       "      <td>70</td>\n",
       "    </tr>\n",
       "    <tr>\n",
       "      <th>logp</th>\n",
       "      <td>100</td>\n",
       "      <td>94</td>\n",
       "      <td>74</td>\n",
       "    </tr>\n",
       "    <tr>\n",
       "      <th>hbd</th>\n",
       "      <td>100</td>\n",
       "      <td>99</td>\n",
       "      <td>100</td>\n",
       "    </tr>\n",
       "    <tr>\n",
       "      <th>hba</th>\n",
       "      <td>94</td>\n",
       "      <td>99</td>\n",
       "      <td>99</td>\n",
       "    </tr>\n",
       "    <tr>\n",
       "      <th>lipinski</th>\n",
       "      <td>94</td>\n",
       "      <td>97</td>\n",
       "      <td>85</td>\n",
       "    </tr>\n",
       "  </tbody>\n",
       "</table>\n",
       "</div>"
      ],
      "text/plain": [
       "          Recombined ligands  Original ligands (KLIFS)  PKIDB ligands\n",
       "mw                        78                        88             70\n",
       "logp                     100                        94             74\n",
       "hbd                      100                        99            100\n",
       "hba                       94                        99             99\n",
       "lipinski                  94                        97             85"
      ]
     },
     "execution_count": 49,
     "metadata": {},
     "output_type": "execute_result"
    }
   ],
   "source": [
    "# Collect data in one DataFrame\n",
    "bar_data = pd.DataFrame(\n",
    "    {\n",
    "        'Recombined ligands': ro5_comb, \n",
    "        'Original ligands (KLIFS)': ro5_klifs, \n",
    "        'PKIDB ligands': ro5_pkidb\n",
    "    }\n",
    ")\n",
    "bar_data = bar_data.astype('int32')\n",
    "bar_data"
   ]
  },
  {
   "cell_type": "code",
   "execution_count": 50,
   "metadata": {},
   "outputs": [
    {
     "data": {
      "image/png": "[encoded data removed]",
      "text/plain": [
       "<Figure size 239.76x288 with 1 Axes>"
      ]
     },
     "metadata": {
      "needs_background": "light"
     },
     "output_type": "display_data"
    }
   ],
   "source": [
    "# Plot data\n",
    "ax = bar_data.plot(\n",
    "    kind='bar',\n",
    "    width=0.85,\n",
    "    rot=0,\n",
    "    figsize=(3.33, 4),\n",
    "    color=['cornflowerblue', 'darkgrey', 'grey']\n",
    ")\n",
    "\n",
    "# Edit labels for y axis and x/y ticks\n",
    "plt.ylabel('# Molecules [%]', fontsize=12)\n",
    "plt.xticks(range(5), ['MWT\\n'+r'$\\leq 500$', 'logP\\n'+r'$\\leq 5$', 'HBD\\n'+r'$\\leq 5$', 'HBA\\n'+r'$\\leq 10$', 'Rule\\nof 5'], fontsize=12)\n",
    "plt.yticks(fontsize=12)\n",
    "#plt.legend(fontsize=12, loc='upper left')\n",
    "legend = plt.legend(loc='upper center', \n",
    "           bbox_to_anchor=(0.5,-.2),\n",
    "           fontsize=12\n",
    "          )\n",
    "\n",
    "# Add percentages to bars\n",
    "bars = ax.patches\n",
    "bar_labels = bar_data.transpose().values.flatten()\n",
    "for bar, label in zip(bars, bar_labels):\n",
    "    \n",
    "    plt.text(\n",
    "        bar.get_x() + bar.get_width() / 1.6, \n",
    "        bar.get_height() - 6,\n",
    "        label, \n",
    "        ha='center', \n",
    "        va='center', \n",
    "        fontsize=10,\n",
    "        color='white',\n",
    "        rotation=90\n",
    "    )"
   ]
  },
  {
   "cell_type": "code",
   "execution_count": 51,
   "metadata": {},
   "outputs": [],
   "source": [
    "ax.get_figure().savefig(\n",
    "    'figures/combinatorial_library_ro5.pdf',\n",
    "    bbox_extra_artists=(legend,),\n",
    "    bbox_inches='tight'\n",
    ")"
   ]
  }
 ],
 "metadata": {
  "kernelspec": {
   "display_name": "kinfraglib",
   "language": "python",
   "name": "kinfraglib"
  },
  "language_info": {
   "codemirror_mode": {
    "name": "ipython",
    "version": 3
   },
   "file_extension": ".py",
   "mimetype": "text/x-python",
   "name": "python",
   "nbconvert_exporter": "python",
   "pygments_lexer": "ipython3",
   "version": "3.8.3"
  }
 },
 "nbformat": 4,
 "nbformat_minor": 4
}
