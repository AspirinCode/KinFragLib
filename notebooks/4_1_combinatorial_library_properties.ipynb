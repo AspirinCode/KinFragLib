{
 "cells": [
  {
   "cell_type": "markdown",
   "metadata": {},
   "source": [
    "# Combinatorial library properties"
   ]
  },
  {
   "cell_type": "markdown",
   "metadata": {},
   "source": [
    "## Aim of this notebook\n",
    "\n",
    "In this notebook we want to analyze properties of the combinatorial library, such as the ligand size and Lipinski's rule of five criteria."
   ]
  },
  {
   "cell_type": "markdown",
   "metadata": {},
   "source": [
    "## Table of contents\n",
    "\n",
    "1. Combinatorial library data\n",
    "2. Recombined ligand size\n",
    "3. Lipinski's rule of five"
   ]
  },
  {
   "cell_type": "code",
   "execution_count": 1,
   "metadata": {},
   "outputs": [],
   "source": [
    "from pathlib import Path\n",
    "\n",
    "import ijson\n",
    "import matplotlib.pyplot as plt\n",
    "import pandas as pd"
   ]
  },
  {
   "cell_type": "code",
   "execution_count": 2,
   "metadata": {},
   "outputs": [],
   "source": [
    "PATH_COMBINATORIAL_LIBRARY = Path('../data/combinatorial_library/combinatorial_library.json')"
   ]
  },
  {
   "cell_type": "markdown",
   "metadata": {},
   "source": [
    "## 1. Combinatorial library data"
   ]
  },
  {
   "cell_type": "markdown",
   "metadata": {},
   "source": [
    "The combinatorial library comes as large JSON file. In order to access/filter ligands efficiently (time and memory), we use the `ijson` library:\n",
    "\n",
    "> Ijson is an iterative JSON parser with standard Python iterator interfaces.\n",
    "\n",
    "https://pypi.org/project/ijson/"
   ]
  },
  {
   "cell_type": "markdown",
   "metadata": {},
   "source": [
    "Here, we take a look at the first entry in the combinatorial library:"
   ]
  },
  {
   "cell_type": "code",
   "execution_count": 3,
   "metadata": {},
   "outputs": [
    {
     "data": {
      "text/plain": [
       "{'bond_ids': [['SE_13', 'AP_7']],\n",
       " 'fragment_ids': ['SE_4', 'AP_2'],\n",
       " 'hba': 1,\n",
       " 'hbd': 1,\n",
       " 'mwt': 1,\n",
       " 'logp': 1,\n",
       " 'n_atoms': 20,\n",
       " 'chembl_exact': [],\n",
       " 'chembl_most_similar': ['CHEMBL405398', Decimal('0.35')],\n",
       " 'original_exact': [],\n",
       " 'original_substructure': [],\n",
       " 'inchi': 'InChI=1S/C15H21N5/c1-12-11-15(18-17-12)16-13-3-5-14(6-4-13)20-9-7-19(2)8-10-20/h3-6,11H,7-10H2,1-2H3,(H2,16,17,18)'}"
      ]
     },
     "execution_count": 3,
     "metadata": {},
     "output_type": "execute_result"
    }
   ],
   "source": [
    "# open file\n",
    "f = open(PATH_COMBINATORIAL_LIBRARY, 'rb')\n",
    "\n",
    "# yield native Python objects out of a JSON stream located under a prefix\n",
    "objects = ijson.items(f, 'item')\n",
    "\n",
    "next(objects)"
   ]
  },
  {
   "cell_type": "markdown",
   "metadata": {},
   "source": [
    "The combinatorial library contains the following information:\n",
    "- `bond_ids` and `fragment_ids`: \n",
    "  - Bond IDs (`bond_ids`), e.g. `[[\"FP_6\", \"AP_10\"], [\"AP_11\", \"SE_13\"]]`: Atom (`<subpocket>_<atom ID>`) pairs per fragment bond\n",
    "  - Fragment IDs (`fragment_ids`), e.g. `[\"SE_2\", \"AP_0\", \"FP_2\"]` (`<subpocket>_<fragment index in subpocket pool>`)\n",
    "  - With this information it is possible to construct the recombined ligand from the fragment library\n",
    "- `hba`, `hbd`, `mwt`, and `logp`: Ligand fulfills Lipinski's rule of five criteria? (`0` or `1`)\n",
    "  - Number of hydrogen bond acceptors (`hba`) <= 10\n",
    "  - Number of hydrogen bond donors (`hbd`) <= 5\n",
    "  - Molecular weight (`mwt`) <= 500\n",
    "  - LogP value (`logp`) <= 5 \n",
    "- `n_atoms`: Number of heavy atoms\n",
    "- `chembl_exact`: Ligand has exact match in ChEMBL? List of ChEMBL molecule indicies (`[]` if no match)\n",
    "- `chembl_most_similar`: Most similar molecule in ChEMBL, e.g. `[500021, 0.34]` (`[<ChEMBL ID without \"CHEMBL\" prefix>, <Tanimoto similarity>]` \n",
    "- `original_exact`: Ligand has exact match in original ligands? List of original ligand indicies (`[]` if no match)\n",
    "- `original_substructure`: Ligand is substructure of original ligands? List of original ligand indicies (`[]` if no match)\n",
    "- `inchi`: InChI "
   ]
  },
  {
   "cell_type": "markdown",
   "metadata": {},
   "source": [
    "## 2. Recombined ligand size"
   ]
  },
  {
   "cell_type": "code",
   "execution_count": 4,
   "metadata": {},
   "outputs": [],
   "source": [
    "def ligand_sizes(path_json):\n",
    "    \n",
    "    # get object generator from json\n",
    "    f = open(path_json, 'rb')\n",
    "    objects = ijson.items(f, 'item')\n",
    "\n",
    "    # filter objects\n",
    "    n_atoms_list = [o['n_atoms'] for o in objects]\n",
    "    \n",
    "    return n_atoms_list"
   ]
  },
  {
   "cell_type": "code",
   "execution_count": 5,
   "metadata": {},
   "outputs": [],
   "source": [
    "ligand_size_list = ligand_sizes(PATH_COMBINATORIAL_LIBRARY)"
   ]
  },
  {
   "cell_type": "code",
   "execution_count": 6,
   "metadata": {},
   "outputs": [
    {
     "data": {
      "text/plain": [
       "(array([ 4.,  6.,  4.,  4.,  4.,  8., 10., 12.,  8.,  4.]),\n",
       " array([15. , 17.7, 20.4, 23.1, 25.8, 28.5, 31.2, 33.9, 36.6, 39.3, 42. ]),\n",
       " <a list of 10 Patch objects>)"
      ]
     },
     "execution_count": 6,
     "metadata": {},
     "output_type": "execute_result"
    },
    {
     "data": {
      "image/png": "[encoded data removed]",
      "text/plain": [
       "<Figure size 432x288 with 1 Axes>"
      ]
     },
     "metadata": {
      "needs_background": "light"
     },
     "output_type": "display_data"
    }
   ],
   "source": [
    "plt.hist(ligand_size_list)"
   ]
  },
  {
   "cell_type": "markdown",
   "metadata": {},
   "source": [
    "## 3. Lipinski's rule of five"
   ]
  },
  {
   "cell_type": "code",
   "execution_count": 7,
   "metadata": {},
   "outputs": [],
   "source": [
    "def n_ligand_fulfilled_criteria(path_json, criteria):\n",
    "\n",
    "    # get object generator from json\n",
    "    f = open(path_json, 'rb')\n",
    "    objects = ijson.items(f, 'item')\n",
    "\n",
    "    # filter objects\n",
    "    objects_filtered = (o for o in objects if o[criteria] == 1)\n",
    "    \n",
    "    return len(list(objects_filtered))"
   ]
  },
  {
   "cell_type": "code",
   "execution_count": 8,
   "metadata": {},
   "outputs": [],
   "source": [
    "n_hba = n_ligand_fulfilled_criteria(PATH_COMBINATORIAL_LIBRARY, 'hba')\n",
    "n_hbd = n_ligand_fulfilled_criteria(PATH_COMBINATORIAL_LIBRARY, 'hbd')\n",
    "n_mwt = n_ligand_fulfilled_criteria(PATH_COMBINATORIAL_LIBRARY, 'mwt')\n",
    "n_logp = n_ligand_fulfilled_criteria(PATH_COMBINATORIAL_LIBRARY, 'logp')"
   ]
  },
  {
   "cell_type": "code",
   "execution_count": 9,
   "metadata": {},
   "outputs": [],
   "source": [
    "def n_ligand_fulfilled_lipinski(path_json):\n",
    "\n",
    "    # get object generator from json\n",
    "    f = open(path_json, 'rb')\n",
    "    objects = ijson.items(f, 'item')\n",
    "        \n",
    "    # filter objects\n",
    "    objects_filtered = (o for o in objects if o['hba']+o['hbd']+o['mwt']+o['logp'] >= 3)\n",
    "\n",
    "    return len(list(objects_filtered))"
   ]
  },
  {
   "cell_type": "code",
   "execution_count": 10,
   "metadata": {},
   "outputs": [],
   "source": [
    "n_lipinski = n_ligand_fulfilled_lipinski(PATH_COMBINATORIAL_LIBRARY)"
   ]
  },
  {
   "cell_type": "code",
   "execution_count": 11,
   "metadata": {},
   "outputs": [
    {
     "name": "stdout",
     "output_type": "stream",
     "text": [
      "60 64 50 64 60\n"
     ]
    }
   ],
   "source": [
    "print(n_hba, n_hbd, n_mwt, n_logp, n_lipinski)"
   ]
  }
 ],
 "metadata": {
  "kernelspec": {
   "display_name": "kinfraglib",
   "language": "python",
   "name": "kinfraglib"
  },
  "language_info": {
   "codemirror_mode": {
    "name": "ipython",
    "version": 3
   },
   "file_extension": ".py",
   "mimetype": "text/x-python",
   "name": "python",
   "nbconvert_exporter": "python",
   "pygments_lexer": "ipython3",
   "version": "3.8.3"
  }
 },
 "nbformat": 4,
 "nbformat_minor": 4
}
