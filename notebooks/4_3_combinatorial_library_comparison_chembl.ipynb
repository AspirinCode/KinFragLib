{
 "cells": [
  {
   "cell_type": "markdown",
   "metadata": {},
   "source": [
    "# Combinatorial library vs. ChEMBL"
   ]
  },
  {
   "cell_type": "markdown",
   "metadata": {},
   "source": [
    "## Aims of this notebook\n",
    "\n",
    "In this notebook we want to compare the combinatorial library to the ChEMBL 25 dataset."
   ]
  },
  {
   "cell_type": "markdown",
   "metadata": {},
   "source": [
    "## Table of contents\n",
    "\n",
    "1. Combinatorial library data\n",
    "2. Most similar ChEMBL ligands\n",
    "3. Exact matches"
   ]
  },
  {
   "cell_type": "code",
   "execution_count": 1,
   "metadata": {},
   "outputs": [],
   "source": [
    "from pathlib import Path\n",
    "\n",
    "from chembl_webresource_client.new_client import new_client\n",
    "import ijson\n",
    "import matplotlib.pyplot as plt\n",
    "import pandas as pd\n",
    "from rdkit import Chem\n",
    "from rdkit.Chem import Draw\n",
    "from rdkit.Chem.Draw import IPythonConsole\n",
    "\n",
    "from utils import get_protein_target_classifications"
   ]
  },
  {
   "cell_type": "code",
   "execution_count": 2,
   "metadata": {},
   "outputs": [],
   "source": [
    "PATH_COMBINATORIAL_LIBRARY = Path('../data/combinatorial_library/combinatorial_library.json')\n",
    "ACTIVITY_THRESHOLD = 500"
   ]
  },
  {
   "cell_type": "markdown",
   "metadata": {},
   "source": [
    "## 1. Combinatorial library data"
   ]
  },
  {
   "cell_type": "markdown",
   "metadata": {},
   "source": [
    "The combinatorial library comes as large JSON file. In order to access/filter ligands efficiently (time and memory), we use the `ijson` library:\n",
    "\n",
    "> Ijson is an iterative JSON parser with standard Python iterator interfaces.\n",
    "\n",
    "https://pypi.org/project/ijson/"
   ]
  },
  {
   "cell_type": "markdown",
   "metadata": {},
   "source": [
    "For a detailed description on the kind of information linked to the combinatorial library, please take a look at the notebook `notebooks/4_1_combinatorial_library_properties.ipynb`."
   ]
  },
  {
   "cell_type": "markdown",
   "metadata": {},
   "source": [
    "## 2. Most similar ChEMBL ligands"
   ]
  },
  {
   "cell_type": "code",
   "execution_count": 3,
   "metadata": {},
   "outputs": [],
   "source": [
    "def similarities_of_most_similar_chembl_ligands(path_json):\n",
    "\n",
    "    # get object generator from json\n",
    "    f = open(path_json, 'rb')\n",
    "    objects = ijson.items(f, 'item')\n",
    "\n",
    "    # filter objects\n",
    "    objects_filtered = [o['chembl_most_similar'][1] for o in objects]\n",
    "    \n",
    "    return objects_filtered"
   ]
  },
  {
   "cell_type": "code",
   "execution_count": 4,
   "metadata": {},
   "outputs": [],
   "source": [
    "similarities = similarities_of_most_similar_chembl_ligands(PATH_COMBINATORIAL_LIBRARY)"
   ]
  },
  {
   "cell_type": "code",
   "execution_count": 5,
   "metadata": {},
   "outputs": [
    {
     "data": {
      "text/plain": [
       "(array([ 4.,  0.,  2., 10.,  0., 24.,  8., 10.,  0.,  6.]),\n",
       " array([0.22 , 0.238, 0.256, 0.274, 0.292, 0.31 , 0.328, 0.346, 0.364,\n",
       "        0.382, 0.4  ]),\n",
       " <a list of 10 Patch objects>)"
      ]
     },
     "execution_count": 5,
     "metadata": {},
     "output_type": "execute_result"
    },
    {
     "data": {
      "image/png": "[encoded data removed]",
      "text/plain": [
       "<Figure size 432x288 with 1 Axes>"
      ]
     },
     "metadata": {
      "needs_background": "light"
     },
     "output_type": "display_data"
    }
   ],
   "source": [
    "plt.hist(similarities)"
   ]
  },
  {
   "cell_type": "markdown",
   "metadata": {},
   "source": [
    "## 3. Exact matches"
   ]
  },
  {
   "cell_type": "markdown",
   "metadata": {},
   "source": [
    "### Get exact matches (including molecule ChEMBL IDs)"
   ]
  },
  {
   "cell_type": "code",
   "execution_count": 6,
   "metadata": {},
   "outputs": [],
   "source": [
    "def exact_chembl_matches(path_json):\n",
    "\n",
    "    # get object generator from json\n",
    "    f = open(path_json, 'rb')\n",
    "    objects = ijson.items(f, 'item')\n",
    "\n",
    "    # filter objects\n",
    "    objects_filtered = [o for o in objects if o['chembl_exact'] != []]\n",
    "    objects_filtered_df = pd.DataFrame(objects_filtered)\n",
    "    \n",
    "    print(f'Number of exact matches in ChEMBL ligands: {objects_filtered_df.shape[0]}')\n",
    "    \n",
    "    return objects_filtered_df"
   ]
  },
  {
   "cell_type": "code",
   "execution_count": 7,
   "metadata": {},
   "outputs": [
    {
     "name": "stdout",
     "output_type": "stream",
     "text": [
      "Number of exact matches in ChEMBL ligands: 0\n"
     ]
    },
    {
     "data": {
      "text/html": [
       "<div>\n",
       "<style scoped>\n",
       "    .dataframe tbody tr th:only-of-type {\n",
       "        vertical-align: middle;\n",
       "    }\n",
       "\n",
       "    .dataframe tbody tr th {\n",
       "        vertical-align: top;\n",
       "    }\n",
       "\n",
       "    .dataframe thead th {\n",
       "        text-align: right;\n",
       "    }\n",
       "</style>\n",
       "<table border=\"1\" class=\"dataframe\">\n",
       "  <thead>\n",
       "    <tr style=\"text-align: right;\">\n",
       "      <th></th>\n",
       "    </tr>\n",
       "  </thead>\n",
       "  <tbody>\n",
       "  </tbody>\n",
       "</table>\n",
       "</div>"
      ],
      "text/plain": [
       "Empty DataFrame\n",
       "Columns: []\n",
       "Index: []"
      ]
     },
     "execution_count": 7,
     "metadata": {},
     "output_type": "execute_result"
    }
   ],
   "source": [
    "exact_matches = exact_chembl_matches(PATH_COMBINATORIAL_LIBRARY)\n",
    "exact_matches.head()"
   ]
  },
  {
   "cell_type": "code",
   "execution_count": 8,
   "metadata": {},
   "outputs": [],
   "source": [
    "# temporary\n",
    "f = open(PATH_COMBINATORIAL_LIBRARY, 'rb')\n",
    "objects = ijson.items(f, 'item')\n",
    "molecule_ids = [o['chembl_most_similar'][0] for o in objects]"
   ]
  },
  {
   "cell_type": "markdown",
   "metadata": {},
   "source": [
    "### Get ChEMBL clients and set up filtering documentation"
   ]
  },
  {
   "cell_type": "code",
   "execution_count": 9,
   "metadata": {},
   "outputs": [],
   "source": [
    "similarity_client = new_client.similarity\n",
    "molecule_client = new_client.molecule\n",
    "activity_client = new_client.activity\n",
    "target_client = new_client.target"
   ]
  },
  {
   "cell_type": "code",
   "execution_count": 10,
   "metadata": {},
   "outputs": [],
   "source": [
    "def add_filtering_step(filtering, df, step_name):\n",
    "    \n",
    "    return filtering.append(\n",
    "        pd.Series(\n",
    "            [\n",
    "                step_name,\n",
    "                len(df.molecule_chembl_id.unique()),\n",
    "                len(df.target_chembl_id.unique()),\n",
    "                len(df.assay_chembl_id.unique()),\n",
    "                df.shape[0]\n",
    "            ],\n",
    "            index=['filtering_step', 'molecules', 'targets', 'assays', 'activities']\n",
    "        ),\n",
    "        ignore_index=True\n",
    "    )"
   ]
  },
  {
   "cell_type": "code",
   "execution_count": 11,
   "metadata": {},
   "outputs": [],
   "source": [
    "# Initialize filtering table\n",
    "filtering = pd.DataFrame(columns=['filtering_step', 'molecules', 'targets', 'assays', 'activities'])"
   ]
  },
  {
   "cell_type": "markdown",
   "metadata": {},
   "source": [
    "### Get molecules (by molecule ChEMBL IDs)\n",
    "\n",
    "1. Get molecule data from ChEMBL\n",
    "2. Approved molecules?\n",
    "3. ATC classified molecules?"
   ]
  },
  {
   "cell_type": "markdown",
   "metadata": {},
   "source": [
    "#### 1. Get molecule data from ChEMBL"
   ]
  },
  {
   "cell_type": "code",
   "execution_count": 12,
   "metadata": {},
   "outputs": [],
   "source": [
    "def get_molecules(molecule_ids):\n",
    "    \n",
    "    result = molecule_client.get(molecule_ids)\n",
    "    \n",
    "    molecules = pd.DataFrame(result)\n",
    "    molecules = molecules[['molecule_chembl_id', 'molecule_structures', 'first_approval', 'atc_classifications']]\n",
    "    molecules['smiles'] = molecules.molecule_structures.apply(lambda x: x['canonical_smiles'])\n",
    "    molecules['inchi'] = molecules.molecule_structures.apply(lambda x: x['standard_inchi'])\n",
    "    molecules.drop('molecule_structures', axis=1, inplace=True)\n",
    "    \n",
    "    print(f'Number of queries: {len(molecule_ids)}')\n",
    "    print(f'Number of query results: {molecules.shape[0]}')\n",
    "    \n",
    "    return molecules"
   ]
  },
  {
   "cell_type": "code",
   "execution_count": 13,
   "metadata": {},
   "outputs": [
    {
     "name": "stdout",
     "output_type": "stream",
     "text": [
      "Number of queries: 64\n",
      "Number of query results: 64\n"
     ]
    }
   ],
   "source": [
    "molecules = get_molecules(molecule_ids)"
   ]
  },
  {
   "cell_type": "code",
   "execution_count": 14,
   "metadata": {},
   "outputs": [
    {
     "data": {
      "text/html": [
       "<div>\n",
       "<style scoped>\n",
       "    .dataframe tbody tr th:only-of-type {\n",
       "        vertical-align: middle;\n",
       "    }\n",
       "\n",
       "    .dataframe tbody tr th {\n",
       "        vertical-align: top;\n",
       "    }\n",
       "\n",
       "    .dataframe thead th {\n",
       "        text-align: right;\n",
       "    }\n",
       "</style>\n",
       "<table border=\"1\" class=\"dataframe\">\n",
       "  <thead>\n",
       "    <tr style=\"text-align: right;\">\n",
       "      <th></th>\n",
       "      <th>molecule_chembl_id</th>\n",
       "      <th>first_approval</th>\n",
       "      <th>atc_classifications</th>\n",
       "      <th>smiles</th>\n",
       "      <th>inchi</th>\n",
       "    </tr>\n",
       "  </thead>\n",
       "  <tbody>\n",
       "    <tr>\n",
       "      <th>0</th>\n",
       "      <td>CHEMBL405398</td>\n",
       "      <td>None</td>\n",
       "      <td>[]</td>\n",
       "      <td>Brc1cccc(Nc2ncnc3ccncc23)c1NCCN1CCOCC1</td>\n",
       "      <td>InChI=1S/C19H21BrN6O/c20-15-2-1-3-17(18(15)22-...</td>\n",
       "    </tr>\n",
       "    <tr>\n",
       "      <th>1</th>\n",
       "      <td>CHEMBL405398</td>\n",
       "      <td>None</td>\n",
       "      <td>[]</td>\n",
       "      <td>Brc1cccc(Nc2ncnc3ccncc23)c1NCCN1CCOCC1</td>\n",
       "      <td>InChI=1S/C19H21BrN6O/c20-15-2-1-3-17(18(15)22-...</td>\n",
       "    </tr>\n",
       "    <tr>\n",
       "      <th>2</th>\n",
       "      <td>CHEMBL264472</td>\n",
       "      <td>None</td>\n",
       "      <td>[]</td>\n",
       "      <td>Cc1cccc(N2CCN(CCCON3C(=O)c4ccccc4C3=O)CC2)c1</td>\n",
       "      <td>InChI=1S/C22H25N3O3/c1-17-6-4-7-18(16-17)24-13...</td>\n",
       "    </tr>\n",
       "    <tr>\n",
       "      <th>3</th>\n",
       "      <td>CHEMBL500021</td>\n",
       "      <td>None</td>\n",
       "      <td>[]</td>\n",
       "      <td>CCC(C)CNc1nc(C#N)nc2c1NCN2Cc1ccccc1</td>\n",
       "      <td>InChI=1S/C18H22N6/c1-3-13(2)10-20-17-16-18(23-...</td>\n",
       "    </tr>\n",
       "    <tr>\n",
       "      <th>4</th>\n",
       "      <td>CHEMBL405398</td>\n",
       "      <td>None</td>\n",
       "      <td>[]</td>\n",
       "      <td>Brc1cccc(Nc2ncnc3ccncc23)c1NCCN1CCOCC1</td>\n",
       "      <td>InChI=1S/C19H21BrN6O/c20-15-2-1-3-17(18(15)22-...</td>\n",
       "    </tr>\n",
       "    <tr>\n",
       "      <th>...</th>\n",
       "      <td>...</td>\n",
       "      <td>...</td>\n",
       "      <td>...</td>\n",
       "      <td>...</td>\n",
       "      <td>...</td>\n",
       "    </tr>\n",
       "    <tr>\n",
       "      <th>59</th>\n",
       "      <td>CHEMBL266960</td>\n",
       "      <td>None</td>\n",
       "      <td>[]</td>\n",
       "      <td>COc1ccc(CNc2nnc(N3CCC(O)CC3)c3ccc(C#N)cc23)cc1Cl</td>\n",
       "      <td>InChI=1S/C22H22ClN5O2/c1-30-20-5-3-15(11-19(20...</td>\n",
       "    </tr>\n",
       "    <tr>\n",
       "      <th>60</th>\n",
       "      <td>CHEMBL405398</td>\n",
       "      <td>None</td>\n",
       "      <td>[]</td>\n",
       "      <td>Brc1cccc(Nc2ncnc3ccncc23)c1NCCN1CCOCC1</td>\n",
       "      <td>InChI=1S/C19H21BrN6O/c20-15-2-1-3-17(18(15)22-...</td>\n",
       "    </tr>\n",
       "    <tr>\n",
       "      <th>61</th>\n",
       "      <td>CHEMBL499520</td>\n",
       "      <td>None</td>\n",
       "      <td>[]</td>\n",
       "      <td>O=C(Nc1ncc(F)s1)[C@H](CC1CCOCC1)c1ccc(S(=O)(=O...</td>\n",
       "      <td>InChI=1S/C20H23FN2O4S2/c21-18-12-22-20(28-18)2...</td>\n",
       "    </tr>\n",
       "    <tr>\n",
       "      <th>62</th>\n",
       "      <td>CHEMBL266960</td>\n",
       "      <td>None</td>\n",
       "      <td>[]</td>\n",
       "      <td>COc1ccc(CNc2nnc(N3CCC(O)CC3)c3ccc(C#N)cc23)cc1Cl</td>\n",
       "      <td>InChI=1S/C22H22ClN5O2/c1-30-20-5-3-15(11-19(20...</td>\n",
       "    </tr>\n",
       "    <tr>\n",
       "      <th>63</th>\n",
       "      <td>CHEMBL265282</td>\n",
       "      <td>None</td>\n",
       "      <td>[]</td>\n",
       "      <td>CCCN1c2cc(C)nc3c(-c4ccc(Cl)cc4Cl)nn(c23)C[C@@H...</td>\n",
       "      <td>InChI=1S/C20H22Cl2N4/c1-4-8-25-14(5-2)11-26-20...</td>\n",
       "    </tr>\n",
       "  </tbody>\n",
       "</table>\n",
       "<p>64 rows × 5 columns</p>\n",
       "</div>"
      ],
      "text/plain": [
       "   molecule_chembl_id first_approval atc_classifications  \\\n",
       "0        CHEMBL405398           None                  []   \n",
       "1        CHEMBL405398           None                  []   \n",
       "2        CHEMBL264472           None                  []   \n",
       "3        CHEMBL500021           None                  []   \n",
       "4        CHEMBL405398           None                  []   \n",
       "..                ...            ...                 ...   \n",
       "59       CHEMBL266960           None                  []   \n",
       "60       CHEMBL405398           None                  []   \n",
       "61       CHEMBL499520           None                  []   \n",
       "62       CHEMBL266960           None                  []   \n",
       "63       CHEMBL265282           None                  []   \n",
       "\n",
       "                                               smiles  \\\n",
       "0              Brc1cccc(Nc2ncnc3ccncc23)c1NCCN1CCOCC1   \n",
       "1              Brc1cccc(Nc2ncnc3ccncc23)c1NCCN1CCOCC1   \n",
       "2        Cc1cccc(N2CCN(CCCON3C(=O)c4ccccc4C3=O)CC2)c1   \n",
       "3                 CCC(C)CNc1nc(C#N)nc2c1NCN2Cc1ccccc1   \n",
       "4              Brc1cccc(Nc2ncnc3ccncc23)c1NCCN1CCOCC1   \n",
       "..                                                ...   \n",
       "59   COc1ccc(CNc2nnc(N3CCC(O)CC3)c3ccc(C#N)cc23)cc1Cl   \n",
       "60             Brc1cccc(Nc2ncnc3ccncc23)c1NCCN1CCOCC1   \n",
       "61  O=C(Nc1ncc(F)s1)[C@H](CC1CCOCC1)c1ccc(S(=O)(=O...   \n",
       "62   COc1ccc(CNc2nnc(N3CCC(O)CC3)c3ccc(C#N)cc23)cc1Cl   \n",
       "63  CCCN1c2cc(C)nc3c(-c4ccc(Cl)cc4Cl)nn(c23)C[C@@H...   \n",
       "\n",
       "                                                inchi  \n",
       "0   InChI=1S/C19H21BrN6O/c20-15-2-1-3-17(18(15)22-...  \n",
       "1   InChI=1S/C19H21BrN6O/c20-15-2-1-3-17(18(15)22-...  \n",
       "2   InChI=1S/C22H25N3O3/c1-17-6-4-7-18(16-17)24-13...  \n",
       "3   InChI=1S/C18H22N6/c1-3-13(2)10-20-17-16-18(23-...  \n",
       "4   InChI=1S/C19H21BrN6O/c20-15-2-1-3-17(18(15)22-...  \n",
       "..                                                ...  \n",
       "59  InChI=1S/C22H22ClN5O2/c1-30-20-5-3-15(11-19(20...  \n",
       "60  InChI=1S/C19H21BrN6O/c20-15-2-1-3-17(18(15)22-...  \n",
       "61  InChI=1S/C20H23FN2O4S2/c21-18-12-22-20(28-18)2...  \n",
       "62  InChI=1S/C22H22ClN5O2/c1-30-20-5-3-15(11-19(20...  \n",
       "63  InChI=1S/C20H22Cl2N4/c1-4-8-25-14(5-2)11-26-20...  \n",
       "\n",
       "[64 rows x 5 columns]"
      ]
     },
     "execution_count": 14,
     "metadata": {},
     "output_type": "execute_result"
    }
   ],
   "source": [
    "molecules"
   ]
  },
  {
   "cell_type": "markdown",
   "metadata": {},
   "source": [
    "#### 2. Approved molecules?"
   ]
  },
  {
   "cell_type": "code",
   "execution_count": 15,
   "metadata": {},
   "outputs": [
    {
     "data": {
      "text/html": [
       "<div>\n",
       "<style scoped>\n",
       "    .dataframe tbody tr th:only-of-type {\n",
       "        vertical-align: middle;\n",
       "    }\n",
       "\n",
       "    .dataframe tbody tr th {\n",
       "        vertical-align: top;\n",
       "    }\n",
       "\n",
       "    .dataframe thead th {\n",
       "        text-align: right;\n",
       "    }\n",
       "</style>\n",
       "<table border=\"1\" class=\"dataframe\">\n",
       "  <thead>\n",
       "    <tr style=\"text-align: right;\">\n",
       "      <th></th>\n",
       "      <th>molecule_chembl_id</th>\n",
       "      <th>first_approval</th>\n",
       "      <th>atc_classifications</th>\n",
       "      <th>smiles</th>\n",
       "      <th>inchi</th>\n",
       "    </tr>\n",
       "  </thead>\n",
       "  <tbody>\n",
       "  </tbody>\n",
       "</table>\n",
       "</div>"
      ],
      "text/plain": [
       "Empty DataFrame\n",
       "Columns: [molecule_chembl_id, first_approval, atc_classifications, smiles, inchi]\n",
       "Index: []"
      ]
     },
     "execution_count": 15,
     "metadata": {},
     "output_type": "execute_result"
    }
   ],
   "source": [
    "# Check if first_approval field is not empty\n",
    "molecules[~molecules.first_approval.isna()]"
   ]
  },
  {
   "cell_type": "code",
   "execution_count": 16,
   "metadata": {},
   "outputs": [
    {
     "data": {
      "text/plain": [
       "[]"
      ]
     },
     "execution_count": 16,
     "metadata": {},
     "output_type": "execute_result"
    }
   ],
   "source": [
    "# Query ChEMBL by `max_phase` field\n",
    "approved_drugs = molecule_client.filter(molecule_chembl_id__in = list(molecule_ids), max_phase=4)\n",
    "approved_drugs"
   ]
  },
  {
   "cell_type": "raw",
   "metadata": {},
   "source": [
    "mol = Chem.MolFromSmiles()\n",
    "img = Draw.MolToImage(mol, legend=chembl_id)\n",
    "img.save('.png')\n",
    "img"
   ]
  },
  {
   "cell_type": "markdown",
   "metadata": {},
   "source": [
    "#### 3. ATC classified molecules?"
   ]
  },
  {
   "cell_type": "code",
   "execution_count": 17,
   "metadata": {},
   "outputs": [
    {
     "data": {
      "text/html": [
       "<div>\n",
       "<style scoped>\n",
       "    .dataframe tbody tr th:only-of-type {\n",
       "        vertical-align: middle;\n",
       "    }\n",
       "\n",
       "    .dataframe tbody tr th {\n",
       "        vertical-align: top;\n",
       "    }\n",
       "\n",
       "    .dataframe thead th {\n",
       "        text-align: right;\n",
       "    }\n",
       "</style>\n",
       "<table border=\"1\" class=\"dataframe\">\n",
       "  <thead>\n",
       "    <tr style=\"text-align: right;\">\n",
       "      <th></th>\n",
       "      <th>molecule_chembl_id</th>\n",
       "      <th>first_approval</th>\n",
       "      <th>atc_classifications</th>\n",
       "      <th>smiles</th>\n",
       "      <th>inchi</th>\n",
       "    </tr>\n",
       "  </thead>\n",
       "  <tbody>\n",
       "  </tbody>\n",
       "</table>\n",
       "</div>"
      ],
      "text/plain": [
       "Empty DataFrame\n",
       "Columns: [molecule_chembl_id, first_approval, atc_classifications, smiles, inchi]\n",
       "Index: []"
      ]
     },
     "execution_count": 17,
     "metadata": {},
     "output_type": "execute_result"
    }
   ],
   "source": [
    "# Check if atc classified field is not empty\n",
    "molecules[molecules.atc_classifications.str.len() != 0]"
   ]
  },
  {
   "cell_type": "markdown",
   "metadata": {},
   "source": [
    "### Get molecules with human targets in ChEMBL\n",
    "\n",
    "1. Get activities (by molecule ChEMBL IDs)\n",
    "2. Remove activities for non-human target origanisms"
   ]
  },
  {
   "cell_type": "markdown",
   "metadata": {},
   "source": [
    "#### 1. Get activities (by molecule ChEMBL IDs)"
   ]
  },
  {
   "cell_type": "code",
   "execution_count": 18,
   "metadata": {},
   "outputs": [],
   "source": [
    "def get_activities(molecule_ids):\n",
    "    \n",
    "    activities = activity_client.filter(\n",
    "        molecule_chembl_id__in=molecule_ids,\n",
    "        type='IC50', \n",
    "        relation='=', \n",
    "        assay_type='B'\n",
    "    ).only(\n",
    "        'activity_id','assay_chembl_id', 'assay_description', 'assay_type', \\\n",
    "        'molecule_chembl_id', 'type', 'standard_units', 'relation', 'standard_value', \\\n",
    "        'target_chembl_id', 'target_organism', 'target_pref_name'\n",
    "    )\n",
    "    \n",
    "    activities_df = pd.DataFrame.from_records(list(activities))\n",
    "    activities_df = activities_df.astype({'standard_value': 'float'})\n",
    "    \n",
    "    print(f'Number of queries: {len(molecule_ids)}')\n",
    "    print(f'Number of query results: {activities_df.shape[0]}')\n",
    "    \n",
    "    return activities_df"
   ]
  },
  {
   "cell_type": "code",
   "execution_count": 19,
   "metadata": {},
   "outputs": [
    {
     "name": "stdout",
     "output_type": "stream",
     "text": [
      "Number of queries: 64\n",
      "Number of query results: 2\n"
     ]
    }
   ],
   "source": [
    "activities = get_activities(molecule_ids)"
   ]
  },
  {
   "cell_type": "code",
   "execution_count": 20,
   "metadata": {},
   "outputs": [
    {
     "data": {
      "text/plain": [
       "Index(['activity_id', 'assay_chembl_id', 'assay_description', 'assay_type',\n",
       "       'molecule_chembl_id', 'relation', 'standard_units', 'standard_value',\n",
       "       'target_chembl_id', 'target_organism', 'target_pref_name', 'type',\n",
       "       'units', 'value'],\n",
       "      dtype='object')"
      ]
     },
     "execution_count": 20,
     "metadata": {},
     "output_type": "execute_result"
    }
   ],
   "source": [
    "activities.columns"
   ]
  },
  {
   "cell_type": "code",
   "execution_count": 21,
   "metadata": {},
   "outputs": [
    {
     "data": {
      "text/html": [
       "<div>\n",
       "<style scoped>\n",
       "    .dataframe tbody tr th:only-of-type {\n",
       "        vertical-align: middle;\n",
       "    }\n",
       "\n",
       "    .dataframe tbody tr th {\n",
       "        vertical-align: top;\n",
       "    }\n",
       "\n",
       "    .dataframe thead th {\n",
       "        text-align: right;\n",
       "    }\n",
       "</style>\n",
       "<table border=\"1\" class=\"dataframe\">\n",
       "  <thead>\n",
       "    <tr style=\"text-align: right;\">\n",
       "      <th></th>\n",
       "      <th>activity_id</th>\n",
       "      <th>assay_chembl_id</th>\n",
       "      <th>assay_description</th>\n",
       "      <th>assay_type</th>\n",
       "      <th>molecule_chembl_id</th>\n",
       "      <th>relation</th>\n",
       "      <th>standard_units</th>\n",
       "      <th>standard_value</th>\n",
       "      <th>target_chembl_id</th>\n",
       "      <th>target_organism</th>\n",
       "      <th>target_pref_name</th>\n",
       "      <th>type</th>\n",
       "      <th>units</th>\n",
       "      <th>value</th>\n",
       "    </tr>\n",
       "  </thead>\n",
       "  <tbody>\n",
       "    <tr>\n",
       "      <th>0</th>\n",
       "      <td>589287</td>\n",
       "      <td>CHEMBL762826</td>\n",
       "      <td>Inhibition of Phosphodiesterase 5 from human p...</td>\n",
       "      <td>B</td>\n",
       "      <td>CHEMBL266960</td>\n",
       "      <td>=</td>\n",
       "      <td>nM</td>\n",
       "      <td>0.6</td>\n",
       "      <td>CHEMBL1827</td>\n",
       "      <td>Homo sapiens</td>\n",
       "      <td>Phosphodiesterase 5A</td>\n",
       "      <td>IC50</td>\n",
       "      <td>nM</td>\n",
       "      <td>0.6</td>\n",
       "    </tr>\n",
       "    <tr>\n",
       "      <th>1</th>\n",
       "      <td>903916</td>\n",
       "      <td>CHEMBL757897</td>\n",
       "      <td>Inhibition of PDE5 of human platelets</td>\n",
       "      <td>B</td>\n",
       "      <td>CHEMBL266960</td>\n",
       "      <td>=</td>\n",
       "      <td>nM</td>\n",
       "      <td>0.6</td>\n",
       "      <td>CHEMBL1827</td>\n",
       "      <td>Homo sapiens</td>\n",
       "      <td>Phosphodiesterase 5A</td>\n",
       "      <td>IC50</td>\n",
       "      <td>nM</td>\n",
       "      <td>0.6</td>\n",
       "    </tr>\n",
       "  </tbody>\n",
       "</table>\n",
       "</div>"
      ],
      "text/plain": [
       "   activity_id assay_chembl_id  \\\n",
       "0       589287    CHEMBL762826   \n",
       "1       903916    CHEMBL757897   \n",
       "\n",
       "                                   assay_description assay_type  \\\n",
       "0  Inhibition of Phosphodiesterase 5 from human p...          B   \n",
       "1              Inhibition of PDE5 of human platelets          B   \n",
       "\n",
       "  molecule_chembl_id relation standard_units  standard_value target_chembl_id  \\\n",
       "0       CHEMBL266960        =             nM             0.6       CHEMBL1827   \n",
       "1       CHEMBL266960        =             nM             0.6       CHEMBL1827   \n",
       "\n",
       "  target_organism      target_pref_name  type units value  \n",
       "0    Homo sapiens  Phosphodiesterase 5A  IC50    nM   0.6  \n",
       "1    Homo sapiens  Phosphodiesterase 5A  IC50    nM   0.6  "
      ]
     },
     "execution_count": 21,
     "metadata": {},
     "output_type": "execute_result"
    }
   ],
   "source": [
    "activities"
   ]
  },
  {
   "cell_type": "code",
   "execution_count": 22,
   "metadata": {},
   "outputs": [],
   "source": [
    "filtering = add_filtering_step(filtering, activities, 'ChEMBL bioactivity entries')"
   ]
  },
  {
   "cell_type": "markdown",
   "metadata": {},
   "source": [
    "#### 2. Remove activities for non-human target organisms"
   ]
  },
  {
   "cell_type": "code",
   "execution_count": 23,
   "metadata": {},
   "outputs": [],
   "source": [
    "activities = activities[activities.target_organism == 'Homo sapiens']\n",
    "activities.drop('target_organism', axis=1, inplace=True)"
   ]
  },
  {
   "cell_type": "code",
   "execution_count": 24,
   "metadata": {},
   "outputs": [
    {
     "data": {
      "text/html": [
       "<div>\n",
       "<style scoped>\n",
       "    .dataframe tbody tr th:only-of-type {\n",
       "        vertical-align: middle;\n",
       "    }\n",
       "\n",
       "    .dataframe tbody tr th {\n",
       "        vertical-align: top;\n",
       "    }\n",
       "\n",
       "    .dataframe thead th {\n",
       "        text-align: right;\n",
       "    }\n",
       "</style>\n",
       "<table border=\"1\" class=\"dataframe\">\n",
       "  <thead>\n",
       "    <tr style=\"text-align: right;\">\n",
       "      <th></th>\n",
       "      <th>filtering_step</th>\n",
       "      <th>molecules</th>\n",
       "      <th>targets</th>\n",
       "      <th>assays</th>\n",
       "      <th>activities</th>\n",
       "    </tr>\n",
       "  </thead>\n",
       "  <tbody>\n",
       "    <tr>\n",
       "      <th>0</th>\n",
       "      <td>ChEMBL bioactivity entries</td>\n",
       "      <td>1</td>\n",
       "      <td>1</td>\n",
       "      <td>2</td>\n",
       "      <td>2</td>\n",
       "    </tr>\n",
       "    <tr>\n",
       "      <th>1</th>\n",
       "      <td>Only human entries</td>\n",
       "      <td>1</td>\n",
       "      <td>1</td>\n",
       "      <td>2</td>\n",
       "      <td>2</td>\n",
       "    </tr>\n",
       "  </tbody>\n",
       "</table>\n",
       "</div>"
      ],
      "text/plain": [
       "               filtering_step molecules targets assays activities\n",
       "0  ChEMBL bioactivity entries         1       1      2          2\n",
       "1          Only human entries         1       1      2          2"
      ]
     },
     "execution_count": 24,
     "metadata": {},
     "output_type": "execute_result"
    }
   ],
   "source": [
    "filtering = add_filtering_step(filtering, activities, 'Only human entries')\n",
    "filtering"
   ]
  },
  {
   "cell_type": "markdown",
   "metadata": {},
   "source": [
    "### Get active molecules (among the exact matches)\n",
    "\n",
    "1. Look at activities grouped by molecules, targets, and assays\n",
    "2. Get highest activity (lowest IC50) per molecule-target pair\n",
    "3. Get molecules that are \"active\" (<=`ACTIVITY_THRESHOLD` nM) against at least one target"
   ]
  },
  {
   "cell_type": "markdown",
   "metadata": {},
   "source": [
    "#### 1. Look at activities grouped by molecules, targets, and assays"
   ]
  },
  {
   "cell_type": "code",
   "execution_count": 25,
   "metadata": {},
   "outputs": [
    {
     "data": {
      "text/html": [
       "<div>\n",
       "<style scoped>\n",
       "    .dataframe tbody tr th:only-of-type {\n",
       "        vertical-align: middle;\n",
       "    }\n",
       "\n",
       "    .dataframe tbody tr th {\n",
       "        vertical-align: top;\n",
       "    }\n",
       "\n",
       "    .dataframe thead th {\n",
       "        text-align: right;\n",
       "    }\n",
       "</style>\n",
       "<table border=\"1\" class=\"dataframe\">\n",
       "  <thead>\n",
       "    <tr style=\"text-align: right;\">\n",
       "      <th></th>\n",
       "      <th>molecule_chembl_id</th>\n",
       "      <th>target_chembl_id</th>\n",
       "      <th>target_pref_name</th>\n",
       "      <th>assay_chembl_id</th>\n",
       "      <th>assay_description</th>\n",
       "      <th>standard_value</th>\n",
       "    </tr>\n",
       "  </thead>\n",
       "  <tbody>\n",
       "    <tr>\n",
       "      <th>0</th>\n",
       "      <td>CHEMBL266960</td>\n",
       "      <td>CHEMBL1827</td>\n",
       "      <td>Phosphodiesterase 5A</td>\n",
       "      <td>CHEMBL757897</td>\n",
       "      <td>Inhibition of PDE5 of human platelets</td>\n",
       "      <td>[0.6]</td>\n",
       "    </tr>\n",
       "    <tr>\n",
       "      <th>1</th>\n",
       "      <td>CHEMBL266960</td>\n",
       "      <td>CHEMBL1827</td>\n",
       "      <td>Phosphodiesterase 5A</td>\n",
       "      <td>CHEMBL762826</td>\n",
       "      <td>Inhibition of Phosphodiesterase 5 from human p...</td>\n",
       "      <td>[0.6]</td>\n",
       "    </tr>\n",
       "  </tbody>\n",
       "</table>\n",
       "</div>"
      ],
      "text/plain": [
       "  molecule_chembl_id target_chembl_id      target_pref_name assay_chembl_id  \\\n",
       "0       CHEMBL266960       CHEMBL1827  Phosphodiesterase 5A    CHEMBL757897   \n",
       "1       CHEMBL266960       CHEMBL1827  Phosphodiesterase 5A    CHEMBL762826   \n",
       "\n",
       "                                   assay_description standard_value  \n",
       "0              Inhibition of PDE5 of human platelets          [0.6]  \n",
       "1  Inhibition of Phosphodiesterase 5 from human p...          [0.6]  "
      ]
     },
     "execution_count": 25,
     "metadata": {},
     "output_type": "execute_result"
    }
   ],
   "source": [
    "activities.groupby(\n",
    "    ['molecule_chembl_id', 'target_chembl_id', 'target_pref_name', 'assay_chembl_id', 'assay_description']\n",
    ")['standard_value'].apply(list).reset_index()"
   ]
  },
  {
   "cell_type": "markdown",
   "metadata": {},
   "source": [
    "#### 2. Get highest activity (lowest IC50) per molecule-target pair"
   ]
  },
  {
   "cell_type": "code",
   "execution_count": 26,
   "metadata": {},
   "outputs": [],
   "source": [
    "activities_min = activities.sort_values(\n",
    "    ['molecule_chembl_id', 'target_chembl_id', 'standard_value']\n",
    ").groupby(\n",
    "    ['molecule_chembl_id', 'target_chembl_id']\n",
    ").first().reset_index()"
   ]
  },
  {
   "cell_type": "code",
   "execution_count": 27,
   "metadata": {},
   "outputs": [
    {
     "data": {
      "text/html": [
       "<div>\n",
       "<style scoped>\n",
       "    .dataframe tbody tr th:only-of-type {\n",
       "        vertical-align: middle;\n",
       "    }\n",
       "\n",
       "    .dataframe tbody tr th {\n",
       "        vertical-align: top;\n",
       "    }\n",
       "\n",
       "    .dataframe thead th {\n",
       "        text-align: right;\n",
       "    }\n",
       "</style>\n",
       "<table border=\"1\" class=\"dataframe\">\n",
       "  <thead>\n",
       "    <tr style=\"text-align: right;\">\n",
       "      <th></th>\n",
       "      <th>molecule_chembl_id</th>\n",
       "      <th>target_chembl_id</th>\n",
       "      <th>activity_id</th>\n",
       "      <th>assay_chembl_id</th>\n",
       "      <th>assay_description</th>\n",
       "      <th>assay_type</th>\n",
       "      <th>relation</th>\n",
       "      <th>standard_units</th>\n",
       "      <th>standard_value</th>\n",
       "      <th>target_pref_name</th>\n",
       "      <th>type</th>\n",
       "      <th>units</th>\n",
       "      <th>value</th>\n",
       "    </tr>\n",
       "  </thead>\n",
       "  <tbody>\n",
       "    <tr>\n",
       "      <th>0</th>\n",
       "      <td>CHEMBL266960</td>\n",
       "      <td>CHEMBL1827</td>\n",
       "      <td>589287</td>\n",
       "      <td>CHEMBL762826</td>\n",
       "      <td>Inhibition of Phosphodiesterase 5 from human p...</td>\n",
       "      <td>B</td>\n",
       "      <td>=</td>\n",
       "      <td>nM</td>\n",
       "      <td>0.6</td>\n",
       "      <td>Phosphodiesterase 5A</td>\n",
       "      <td>IC50</td>\n",
       "      <td>nM</td>\n",
       "      <td>0.6</td>\n",
       "    </tr>\n",
       "  </tbody>\n",
       "</table>\n",
       "</div>"
      ],
      "text/plain": [
       "  molecule_chembl_id target_chembl_id  activity_id assay_chembl_id  \\\n",
       "0       CHEMBL266960       CHEMBL1827       589287    CHEMBL762826   \n",
       "\n",
       "                                   assay_description assay_type relation  \\\n",
       "0  Inhibition of Phosphodiesterase 5 from human p...          B        =   \n",
       "\n",
       "  standard_units  standard_value      target_pref_name  type units value  \n",
       "0             nM             0.6  Phosphodiesterase 5A  IC50    nM   0.6  "
      ]
     },
     "execution_count": 27,
     "metadata": {},
     "output_type": "execute_result"
    }
   ],
   "source": [
    "activities_min.head()"
   ]
  },
  {
   "cell_type": "markdown",
   "metadata": {},
   "source": [
    "#### 3. Get molecules that are \"active\" (<=`ACTIVITY_THRESHOLD` nM) against at least one target"
   ]
  },
  {
   "cell_type": "code",
   "execution_count": 28,
   "metadata": {},
   "outputs": [
    {
     "data": {
      "text/html": [
       "<div>\n",
       "<style scoped>\n",
       "    .dataframe tbody tr th:only-of-type {\n",
       "        vertical-align: middle;\n",
       "    }\n",
       "\n",
       "    .dataframe tbody tr th {\n",
       "        vertical-align: top;\n",
       "    }\n",
       "\n",
       "    .dataframe thead th {\n",
       "        text-align: right;\n",
       "    }\n",
       "</style>\n",
       "<table border=\"1\" class=\"dataframe\">\n",
       "  <thead>\n",
       "    <tr style=\"text-align: right;\">\n",
       "      <th></th>\n",
       "      <th>molecule_chembl_id</th>\n",
       "      <th>target_chembl_id</th>\n",
       "      <th>activity_id</th>\n",
       "      <th>assay_chembl_id</th>\n",
       "      <th>assay_description</th>\n",
       "      <th>assay_type</th>\n",
       "      <th>relation</th>\n",
       "      <th>standard_units</th>\n",
       "      <th>standard_value</th>\n",
       "      <th>target_pref_name</th>\n",
       "      <th>type</th>\n",
       "      <th>units</th>\n",
       "      <th>value</th>\n",
       "    </tr>\n",
       "  </thead>\n",
       "  <tbody>\n",
       "    <tr>\n",
       "      <th>0</th>\n",
       "      <td>CHEMBL266960</td>\n",
       "      <td>CHEMBL1827</td>\n",
       "      <td>589287</td>\n",
       "      <td>CHEMBL762826</td>\n",
       "      <td>Inhibition of Phosphodiesterase 5 from human p...</td>\n",
       "      <td>B</td>\n",
       "      <td>=</td>\n",
       "      <td>nM</td>\n",
       "      <td>0.6</td>\n",
       "      <td>Phosphodiesterase 5A</td>\n",
       "      <td>IC50</td>\n",
       "      <td>nM</td>\n",
       "      <td>0.6</td>\n",
       "    </tr>\n",
       "  </tbody>\n",
       "</table>\n",
       "</div>"
      ],
      "text/plain": [
       "  molecule_chembl_id target_chembl_id  activity_id assay_chembl_id  \\\n",
       "0       CHEMBL266960       CHEMBL1827       589287    CHEMBL762826   \n",
       "\n",
       "                                   assay_description assay_type relation  \\\n",
       "0  Inhibition of Phosphodiesterase 5 from human p...          B        =   \n",
       "\n",
       "  standard_units  standard_value      target_pref_name  type units value  \n",
       "0             nM             0.6  Phosphodiesterase 5A  IC50    nM   0.6  "
      ]
     },
     "execution_count": 28,
     "metadata": {},
     "output_type": "execute_result"
    }
   ],
   "source": [
    "activities_active = activities_min[activities_min.standard_value <= ACTIVITY_THRESHOLD]\n",
    "activities_active"
   ]
  },
  {
   "cell_type": "code",
   "execution_count": 29,
   "metadata": {},
   "outputs": [
    {
     "data": {
      "text/html": [
       "<div>\n",
       "<style scoped>\n",
       "    .dataframe tbody tr th:only-of-type {\n",
       "        vertical-align: middle;\n",
       "    }\n",
       "\n",
       "    .dataframe tbody tr th {\n",
       "        vertical-align: top;\n",
       "    }\n",
       "\n",
       "    .dataframe thead th {\n",
       "        text-align: right;\n",
       "    }\n",
       "</style>\n",
       "<table border=\"1\" class=\"dataframe\">\n",
       "  <thead>\n",
       "    <tr style=\"text-align: right;\">\n",
       "      <th></th>\n",
       "      <th>filtering_step</th>\n",
       "      <th>molecules</th>\n",
       "      <th>targets</th>\n",
       "      <th>assays</th>\n",
       "      <th>activities</th>\n",
       "    </tr>\n",
       "  </thead>\n",
       "  <tbody>\n",
       "    <tr>\n",
       "      <th>0</th>\n",
       "      <td>ChEMBL bioactivity entries</td>\n",
       "      <td>1</td>\n",
       "      <td>1</td>\n",
       "      <td>2</td>\n",
       "      <td>2</td>\n",
       "    </tr>\n",
       "    <tr>\n",
       "      <th>1</th>\n",
       "      <td>Only human entries</td>\n",
       "      <td>1</td>\n",
       "      <td>1</td>\n",
       "      <td>2</td>\n",
       "      <td>2</td>\n",
       "    </tr>\n",
       "    <tr>\n",
       "      <th>2</th>\n",
       "      <td>Only \"active\" entries</td>\n",
       "      <td>1</td>\n",
       "      <td>1</td>\n",
       "      <td>1</td>\n",
       "      <td>1</td>\n",
       "    </tr>\n",
       "  </tbody>\n",
       "</table>\n",
       "</div>"
      ],
      "text/plain": [
       "               filtering_step molecules targets assays activities\n",
       "0  ChEMBL bioactivity entries         1       1      2          2\n",
       "1          Only human entries         1       1      2          2\n",
       "2       Only \"active\" entries         1       1      1          1"
      ]
     },
     "execution_count": 29,
     "metadata": {},
     "output_type": "execute_result"
    }
   ],
   "source": [
    "filtering = add_filtering_step(filtering, activities_active, 'Only \"active\" entries')\n",
    "filtering"
   ]
  },
  {
   "cell_type": "code",
   "execution_count": 30,
   "metadata": {},
   "outputs": [
    {
     "data": {
      "text/plain": [
       "<matplotlib.axes._subplots.AxesSubplot at 0x7f96635e4ac0>"
      ]
     },
     "execution_count": 30,
     "metadata": {},
     "output_type": "execute_result"
    },
    {
     "data": {
      "image/png": "[encoded data removed]",
      "text/plain": [
       "<Figure size 432x288 with 1 Axes>"
      ]
     },
     "metadata": {
      "needs_background": "light"
     },
     "output_type": "display_data"
    }
   ],
   "source": [
    "activities_active.standard_value.plot(kind='hist')"
   ]
  },
  {
   "cell_type": "markdown",
   "metadata": {},
   "source": [
    "### Investigate targets of active molecules\n",
    "\n",
    "1. Get ChEMBL target details: Protein target classification (PTC)\n",
    "2. Combine molecule, bioactivity, and target information\n",
    "3. Get targets per molecule / get molecules per target\n",
    "4. Add kinase names\n",
    "5. Show molecules with kinase target"
   ]
  },
  {
   "cell_type": "markdown",
   "metadata": {},
   "source": [
    "#### 1. Get ChEMBL target details: Protein target classification (PTC)"
   ]
  },
  {
   "cell_type": "markdown",
   "metadata": {},
   "source": [
    "In order to access the protein target classification, we follow the instructions given here: https://github.com/chembl/chembl_webservices_2/issues/95"
   ]
  },
  {
   "cell_type": "code",
   "execution_count": 31,
   "metadata": {},
   "outputs": [
    {
     "name": "stdout",
     "output_type": "stream",
     "text": [
      "1\n"
     ]
    },
    {
     "data": {
      "text/plain": [
       "['CHEMBL1827']"
      ]
     },
     "execution_count": 31,
     "metadata": {},
     "output_type": "execute_result"
    }
   ],
   "source": [
    "target_chembl_ids = list(activities_active.target_chembl_id.unique())\n",
    "print(len(target_chembl_ids))\n",
    "target_chembl_ids"
   ]
  },
  {
   "cell_type": "markdown",
   "metadata": {},
   "source": [
    "Get PTC for target ChEMBL IDs."
   ]
  },
  {
   "cell_type": "code",
   "execution_count": 32,
   "metadata": {},
   "outputs": [
    {
     "name": "stdout",
     "output_type": "stream",
     "text": [
      "Number of target ChEMBL IDs: 1\n",
      "Number of PTCs: 1\n"
     ]
    },
    {
     "data": {
      "text/html": [
       "<div>\n",
       "<style scoped>\n",
       "    .dataframe tbody tr th:only-of-type {\n",
       "        vertical-align: middle;\n",
       "    }\n",
       "\n",
       "    .dataframe tbody tr th {\n",
       "        vertical-align: top;\n",
       "    }\n",
       "\n",
       "    .dataframe thead th {\n",
       "        text-align: right;\n",
       "    }\n",
       "</style>\n",
       "<table border=\"1\" class=\"dataframe\">\n",
       "  <thead>\n",
       "    <tr style=\"text-align: right;\">\n",
       "      <th></th>\n",
       "      <th>l1</th>\n",
       "      <th>l2</th>\n",
       "      <th>l3</th>\n",
       "      <th>l4</th>\n",
       "      <th>l5</th>\n",
       "      <th>l6</th>\n",
       "      <th>l7</th>\n",
       "      <th>l8</th>\n",
       "      <th>protein_class_id</th>\n",
       "      <th>target_chembl_id</th>\n",
       "      <th>component_id</th>\n",
       "      <th>protein_classification_id</th>\n",
       "    </tr>\n",
       "  </thead>\n",
       "  <tbody>\n",
       "    <tr>\n",
       "      <th>0</th>\n",
       "      <td>Enzyme</td>\n",
       "      <td>Phosphodiesterase</td>\n",
       "      <td>Phosphodiesterase 5</td>\n",
       "      <td>Phosphodiesterase 5A</td>\n",
       "      <td>None</td>\n",
       "      <td>None</td>\n",
       "      <td>None</td>\n",
       "      <td>None</td>\n",
       "      <td>104</td>\n",
       "      <td>CHEMBL1827</td>\n",
       "      <td>124</td>\n",
       "      <td>104</td>\n",
       "    </tr>\n",
       "  </tbody>\n",
       "</table>\n",
       "</div>"
      ],
      "text/plain": [
       "       l1                 l2                   l3                    l4    l5  \\\n",
       "0  Enzyme  Phosphodiesterase  Phosphodiesterase 5  Phosphodiesterase 5A  None   \n",
       "\n",
       "     l6    l7    l8  protein_class_id target_chembl_id  component_id  \\\n",
       "0  None  None  None               104       CHEMBL1827           124   \n",
       "\n",
       "   protein_classification_id  \n",
       "0                        104  "
      ]
     },
     "execution_count": 32,
     "metadata": {},
     "output_type": "execute_result"
    }
   ],
   "source": [
    "protein_target_classifications = get_protein_target_classifications(target_chembl_ids)\n",
    "\n",
    "print(f'Number of target ChEMBL IDs: {len(target_chembl_ids)}')\n",
    "print(f'Number of PTCs: {len(protein_target_classifications.target_chembl_id.unique())}')\n",
    "\n",
    "protein_target_classifications.head()"
   ]
  },
  {
   "cell_type": "markdown",
   "metadata": {},
   "source": [
    "Show enzyme group distribution."
   ]
  },
  {
   "cell_type": "code",
   "execution_count": 33,
   "metadata": {},
   "outputs": [
    {
     "data": {
      "text/plain": [
       "l2\n",
       "Phosphodiesterase    1\n",
       "dtype: int64"
      ]
     },
     "execution_count": 33,
     "metadata": {},
     "output_type": "execute_result"
    }
   ],
   "source": [
    "protein_target_classifications.groupby(by='l2').size()"
   ]
  },
  {
   "cell_type": "markdown",
   "metadata": {},
   "source": [
    "#### 2. Combine molecule, bioactivity, and target information"
   ]
  },
  {
   "cell_type": "markdown",
   "metadata": {},
   "source": [
    "Merge bioactivities and PTC information on target ChEMBL IDs."
   ]
  },
  {
   "cell_type": "code",
   "execution_count": 34,
   "metadata": {},
   "outputs": [
    {
     "name": "stdout",
     "output_type": "stream",
     "text": [
      "(1, 12)\n"
     ]
    },
    {
     "data": {
      "text/html": [
       "<div>\n",
       "<style scoped>\n",
       "    .dataframe tbody tr th:only-of-type {\n",
       "        vertical-align: middle;\n",
       "    }\n",
       "\n",
       "    .dataframe tbody tr th {\n",
       "        vertical-align: top;\n",
       "    }\n",
       "\n",
       "    .dataframe thead th {\n",
       "        text-align: right;\n",
       "    }\n",
       "</style>\n",
       "<table border=\"1\" class=\"dataframe\">\n",
       "  <thead>\n",
       "    <tr style=\"text-align: right;\">\n",
       "      <th></th>\n",
       "      <th>molecule_chembl_id</th>\n",
       "      <th>target_chembl_id</th>\n",
       "      <th>target_pref_name</th>\n",
       "      <th>l1</th>\n",
       "      <th>l2</th>\n",
       "      <th>l3</th>\n",
       "      <th>l4</th>\n",
       "      <th>l5</th>\n",
       "      <th>l6</th>\n",
       "      <th>assay_chembl_id</th>\n",
       "      <th>assay_description</th>\n",
       "      <th>standard_value</th>\n",
       "    </tr>\n",
       "  </thead>\n",
       "  <tbody>\n",
       "    <tr>\n",
       "      <th>0</th>\n",
       "      <td>CHEMBL266960</td>\n",
       "      <td>CHEMBL1827</td>\n",
       "      <td>Phosphodiesterase 5A</td>\n",
       "      <td>Enzyme</td>\n",
       "      <td>Phosphodiesterase</td>\n",
       "      <td>Phosphodiesterase 5</td>\n",
       "      <td>Phosphodiesterase 5A</td>\n",
       "      <td>Unknown</td>\n",
       "      <td>Unknown</td>\n",
       "      <td>CHEMBL762826</td>\n",
       "      <td>Inhibition of Phosphodiesterase 5 from human p...</td>\n",
       "      <td>0.6</td>\n",
       "    </tr>\n",
       "  </tbody>\n",
       "</table>\n",
       "</div>"
      ],
      "text/plain": [
       "  molecule_chembl_id target_chembl_id      target_pref_name      l1  \\\n",
       "0       CHEMBL266960       CHEMBL1827  Phosphodiesterase 5A  Enzyme   \n",
       "\n",
       "                  l2                   l3                    l4       l5  \\\n",
       "0  Phosphodiesterase  Phosphodiesterase 5  Phosphodiesterase 5A  Unknown   \n",
       "\n",
       "        l6 assay_chembl_id                                  assay_description  \\\n",
       "0  Unknown    CHEMBL762826  Inhibition of Phosphodiesterase 5 from human p...   \n",
       "\n",
       "   standard_value  \n",
       "0             0.6  "
      ]
     },
     "execution_count": 34,
     "metadata": {},
     "output_type": "execute_result"
    }
   ],
   "source": [
    "molecules_targets_details = pd.merge(\n",
    "    activities_active, protein_target_classifications, on='target_chembl_id', how='left'\n",
    ").sort_values(\n",
    "    by='molecule_chembl_id'\n",
    ")[['molecule_chembl_id', 'target_chembl_id', 'target_pref_name', 'l1', 'l2', 'l3', 'l4', 'l5', 'l6', 'assay_chembl_id', 'assay_description', 'standard_value']]\n",
    "\n",
    "molecules_targets_details.sort_values(by=['molecule_chembl_id', 'standard_value'], inplace=True)\n",
    "molecules_targets_details.fillna('Unknown', inplace=True)\n",
    "\n",
    "print(molecules_targets_details.shape)\n",
    "molecules_targets_details"
   ]
  },
  {
   "cell_type": "code",
   "execution_count": 35,
   "metadata": {},
   "outputs": [
    {
     "data": {
      "text/html": [
       "<div>\n",
       "<style scoped>\n",
       "    .dataframe tbody tr th:only-of-type {\n",
       "        vertical-align: middle;\n",
       "    }\n",
       "\n",
       "    .dataframe tbody tr th {\n",
       "        vertical-align: top;\n",
       "    }\n",
       "\n",
       "    .dataframe thead th {\n",
       "        text-align: right;\n",
       "    }\n",
       "</style>\n",
       "<table border=\"1\" class=\"dataframe\">\n",
       "  <thead>\n",
       "    <tr style=\"text-align: right;\">\n",
       "      <th></th>\n",
       "      <th>filtering_step</th>\n",
       "      <th>molecules</th>\n",
       "      <th>targets</th>\n",
       "      <th>assays</th>\n",
       "      <th>activities</th>\n",
       "    </tr>\n",
       "  </thead>\n",
       "  <tbody>\n",
       "    <tr>\n",
       "      <th>0</th>\n",
       "      <td>ChEMBL bioactivity entries</td>\n",
       "      <td>1</td>\n",
       "      <td>1</td>\n",
       "      <td>2</td>\n",
       "      <td>2</td>\n",
       "    </tr>\n",
       "    <tr>\n",
       "      <th>1</th>\n",
       "      <td>Only human entries</td>\n",
       "      <td>1</td>\n",
       "      <td>1</td>\n",
       "      <td>2</td>\n",
       "      <td>2</td>\n",
       "    </tr>\n",
       "    <tr>\n",
       "      <th>2</th>\n",
       "      <td>Only \"active\" entries</td>\n",
       "      <td>1</td>\n",
       "      <td>1</td>\n",
       "      <td>1</td>\n",
       "      <td>1</td>\n",
       "    </tr>\n",
       "    <tr>\n",
       "      <th>3</th>\n",
       "      <td>Only kinases</td>\n",
       "      <td>0</td>\n",
       "      <td>0</td>\n",
       "      <td>0</td>\n",
       "      <td>0</td>\n",
       "    </tr>\n",
       "  </tbody>\n",
       "</table>\n",
       "</div>"
      ],
      "text/plain": [
       "               filtering_step molecules targets assays activities\n",
       "0  ChEMBL bioactivity entries         1       1      2          2\n",
       "1          Only human entries         1       1      2          2\n",
       "2       Only \"active\" entries         1       1      1          1\n",
       "3                Only kinases         0       0      0          0"
      ]
     },
     "execution_count": 35,
     "metadata": {},
     "output_type": "execute_result"
    }
   ],
   "source": [
    "filtering = add_filtering_step(filtering, molecules_targets_details[molecules_targets_details.l2 == 'Kinase'], 'Only kinases')\n",
    "filtering"
   ]
  },
  {
   "cell_type": "markdown",
   "metadata": {},
   "source": [
    "#### 3. Get targets per molecule / get molecules per target"
   ]
  },
  {
   "cell_type": "code",
   "execution_count": 36,
   "metadata": {},
   "outputs": [
    {
     "data": {
      "text/plain": [
       "l1      l2                 molecule_chembl_id\n",
       "Enzyme  Phosphodiesterase  CHEMBL266960          [Phosphodiesterase 5A]\n",
       "Name: target_pref_name, dtype: object"
      ]
     },
     "execution_count": 36,
     "metadata": {},
     "output_type": "execute_result"
    }
   ],
   "source": [
    "molecules_targets_details.groupby(\n",
    "    by=['l1', 'l2', 'molecule_chembl_id']\n",
    ")['target_pref_name'].apply(list)"
   ]
  },
  {
   "cell_type": "code",
   "execution_count": 37,
   "metadata": {},
   "outputs": [
    {
     "data": {
      "text/plain": [
       "molecule_chembl_id  l1      l2               \n",
       "CHEMBL266960        Enzyme  Phosphodiesterase    [Phosphodiesterase 5A]\n",
       "Name: target_pref_name, dtype: object"
      ]
     },
     "execution_count": 37,
     "metadata": {},
     "output_type": "execute_result"
    }
   ],
   "source": [
    "molecules_targets_details.groupby(\n",
    "    by=['molecule_chembl_id', 'l1', 'l2']\n",
    ")['target_pref_name'].apply(list)"
   ]
  },
  {
   "cell_type": "markdown",
   "metadata": {},
   "source": [
    "#### 4. Add kinase names"
   ]
  },
  {
   "cell_type": "code",
   "execution_count": null,
   "metadata": {},
   "outputs": [],
   "source": []
  },
  {
   "cell_type": "code",
   "execution_count": null,
   "metadata": {},
   "outputs": [],
   "source": []
  },
  {
   "cell_type": "code",
   "execution_count": null,
   "metadata": {},
   "outputs": [],
   "source": []
  },
  {
   "cell_type": "markdown",
   "metadata": {},
   "source": [
    "#### 5. Show molecules with kinase target"
   ]
  },
  {
   "cell_type": "code",
   "execution_count": null,
   "metadata": {},
   "outputs": [],
   "source": []
  },
  {
   "cell_type": "code",
   "execution_count": null,
   "metadata": {},
   "outputs": [],
   "source": []
  },
  {
   "cell_type": "code",
   "execution_count": null,
   "metadata": {},
   "outputs": [],
   "source": []
  },
  {
   "cell_type": "markdown",
   "metadata": {},
   "source": [
    "### Filtering overview"
   ]
  },
  {
   "cell_type": "code",
   "execution_count": 38,
   "metadata": {},
   "outputs": [
    {
     "data": {
      "text/html": [
       "<div>\n",
       "<style scoped>\n",
       "    .dataframe tbody tr th:only-of-type {\n",
       "        vertical-align: middle;\n",
       "    }\n",
       "\n",
       "    .dataframe tbody tr th {\n",
       "        vertical-align: top;\n",
       "    }\n",
       "\n",
       "    .dataframe thead th {\n",
       "        text-align: right;\n",
       "    }\n",
       "</style>\n",
       "<table border=\"1\" class=\"dataframe\">\n",
       "  <thead>\n",
       "    <tr style=\"text-align: right;\">\n",
       "      <th></th>\n",
       "      <th>filtering_step</th>\n",
       "      <th>molecules</th>\n",
       "      <th>targets</th>\n",
       "      <th>assays</th>\n",
       "      <th>activities</th>\n",
       "    </tr>\n",
       "  </thead>\n",
       "  <tbody>\n",
       "    <tr>\n",
       "      <th>0</th>\n",
       "      <td>ChEMBL bioactivity entries</td>\n",
       "      <td>1</td>\n",
       "      <td>1</td>\n",
       "      <td>2</td>\n",
       "      <td>2</td>\n",
       "    </tr>\n",
       "    <tr>\n",
       "      <th>1</th>\n",
       "      <td>Only human entries</td>\n",
       "      <td>1</td>\n",
       "      <td>1</td>\n",
       "      <td>2</td>\n",
       "      <td>2</td>\n",
       "    </tr>\n",
       "    <tr>\n",
       "      <th>2</th>\n",
       "      <td>Only \"active\" entries</td>\n",
       "      <td>1</td>\n",
       "      <td>1</td>\n",
       "      <td>1</td>\n",
       "      <td>1</td>\n",
       "    </tr>\n",
       "    <tr>\n",
       "      <th>3</th>\n",
       "      <td>Only kinases</td>\n",
       "      <td>0</td>\n",
       "      <td>0</td>\n",
       "      <td>0</td>\n",
       "      <td>0</td>\n",
       "    </tr>\n",
       "  </tbody>\n",
       "</table>\n",
       "</div>"
      ],
      "text/plain": [
       "               filtering_step molecules targets assays activities\n",
       "0  ChEMBL bioactivity entries         1       1      2          2\n",
       "1          Only human entries         1       1      2          2\n",
       "2       Only \"active\" entries         1       1      1          1\n",
       "3                Only kinases         0       0      0          0"
      ]
     },
     "execution_count": 38,
     "metadata": {},
     "output_type": "execute_result"
    }
   ],
   "source": [
    "filtering"
   ]
  },
  {
   "cell_type": "code",
   "execution_count": null,
   "metadata": {},
   "outputs": [],
   "source": []
  }
 ],
 "metadata": {
  "kernelspec": {
   "display_name": "kinfraglib",
   "language": "python",
   "name": "kinfraglib"
  },
  "language_info": {
   "codemirror_mode": {
    "name": "ipython",
    "version": 3
   },
   "file_extension": ".py",
   "mimetype": "text/x-python",
   "name": "python",
   "nbconvert_exporter": "python",
   "pygments_lexer": "ipython3",
   "version": "3.8.3"
  }
 },
 "nbformat": 4,
 "nbformat_minor": 4
}
