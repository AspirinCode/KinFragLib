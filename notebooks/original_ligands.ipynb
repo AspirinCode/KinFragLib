{
 "cells": [
  {
   "cell_type": "markdown",
   "metadata": {},
   "source": [
    "# Original ligands"
   ]
  },
  {
   "cell_type": "code",
   "execution_count": 1,
   "metadata": {},
   "outputs": [],
   "source": [
    "%load_ext autoreload\n",
    "%autoreload 2"
   ]
  },
  {
   "cell_type": "markdown",
   "metadata": {},
   "source": [
    "Install `klifs_utils` library for easy access to the KLIFS API (for installation change the following cell from \"Raw\" to \"Code\")."
   ]
  },
  {
   "cell_type": "raw",
   "metadata": {},
   "source": [
    "!pip install git+https://github.com/volkamerlab/klifs_utils.git@lib-skeleton"
   ]
  },
  {
   "cell_type": "code",
   "execution_count": 2,
   "metadata": {},
   "outputs": [],
   "source": [
    "from pathlib import Path\n",
    "\n",
    "import pandas as pd\n",
    "from rdkit.Chem import PandasTools\n",
    "\n",
    "import klifs_utils\n",
    "from util import get_original_ligands"
   ]
  },
  {
   "cell_type": "code",
   "execution_count": 3,
   "metadata": {},
   "outputs": [],
   "source": [
    "# Needed to display ROMol images in DataFrames\n",
    "PandasTools.RenderImagesInAllDataFrames(images=True)"
   ]
  },
  {
   "cell_type": "code",
   "execution_count": 4,
   "metadata": {},
   "outputs": [],
   "source": [
    "PATH_DATA = Path('.') / '..' / 'data'"
   ]
  },
  {
   "cell_type": "markdown",
   "metadata": {},
   "source": [
    "## Aim of this notebook\n",
    "\n",
    "Based on the fragment library, get all ligands from which these fragments originated from (\"original ligands\" from KLIFS dataset)."
   ]
  },
  {
   "cell_type": "markdown",
   "metadata": {},
   "source": [
    "## Load fragment library"
   ]
  },
  {
   "cell_type": "code",
   "execution_count": 5,
   "metadata": {},
   "outputs": [],
   "source": [
    "fragment_library_concat = pd.read_csv(PATH_DATA / 'fragment_library' / 'fragment_library.csv')\n",
    "PandasTools.AddMoleculeColumnToFrame(fragment_library_concat, 'smiles')"
   ]
  },
  {
   "cell_type": "code",
   "execution_count": 6,
   "metadata": {},
   "outputs": [
    {
     "name": "stdout",
     "output_type": "stream",
     "text": [
      "(7486, 13)\n"
     ]
    },
    {
     "data": {
      "text/html": [
       "<div>\n",
       "<style scoped>\n",
       "    .dataframe tbody tr th:only-of-type {\n",
       "        vertical-align: middle;\n",
       "    }\n",
       "\n",
       "    .dataframe tbody tr th {\n",
       "        vertical-align: top;\n",
       "    }\n",
       "\n",
       "    .dataframe thead th {\n",
       "        text-align: right;\n",
       "    }\n",
       "</style>\n",
       "<table border=\"1\" class=\"dataframe\">\n",
       "  <thead>\n",
       "    <tr style=\"text-align: right;\">\n",
       "      <th></th>\n",
       "      <th>kinase</th>\n",
       "      <th>family</th>\n",
       "      <th>group</th>\n",
       "      <th>complex_pdb</th>\n",
       "      <th>ligand_pdb</th>\n",
       "      <th>alt</th>\n",
       "      <th>chain</th>\n",
       "      <th>subpocket</th>\n",
       "      <th>atom_subpockets</th>\n",
       "      <th>atom_environments</th>\n",
       "      <th>smiles</th>\n",
       "      <th>smiles_dummy_atoms</th>\n",
       "      <th>ROMol</th>\n",
       "    </tr>\n",
       "  </thead>\n",
       "  <tbody>\n",
       "    <tr>\n",
       "      <th>0</th>\n",
       "      <td>AAK1</td>\n",
       "      <td>NAK</td>\n",
       "      <td>Other</td>\n",
       "      <td>5l4q</td>\n",
       "      <td>LKB</td>\n",
       "      <td>B</td>\n",
       "      <td>A</td>\n",
       "      <td>AP</td>\n",
       "      <td>AP AP AP AP AP AP AP AP AP AP AP AP AP AP AP F...</td>\n",
       "      <td>16 16 16 16 16 16 16 16 16 16 16 16 16 5 5 na na</td>\n",
       "      <td>Nc1c[nH]c2ncccc12</td>\n",
       "      <td>[11*]c1cnc2[nH]cc(N[27*])c2c1</td>\n",
       "      <td><img data-content=\"rdkit/molecule\" src=\"data:image/png;base64,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\" alt=\"Mol\"/></td>\n",
       "    </tr>\n",
       "    <tr>\n",
       "      <th>1</th>\n",
       "      <td>AAK1</td>\n",
       "      <td>NAK</td>\n",
       "      <td>Other</td>\n",
       "      <td>5te0</td>\n",
       "      <td>XIN</td>\n",
       "      <td></td>\n",
       "      <td>A</td>\n",
       "      <td>AP</td>\n",
       "      <td>AP AP AP AP AP AP AP AP AP AP AP AP AP AP AP A...</td>\n",
       "      <td>7 7 7 7 7 7 7 7 7 7 7 7 7 7 7 7 7 7 7 7 7 7 7 ...</td>\n",
       "      <td>N/C(=C1\\C(=O)Nc2ccccc21)c1ccccc1</td>\n",
       "      <td>[12*]N/C(=C1\\C(=O)Nc2cc([20*])ccc21)c1ccccc1</td>\n",
       "      <td><img data-content=\"rdkit/molecule\" src=\"data:image/png;base64,iVBORw0KGgoAAAANSUhEUgAAAMgAAADICAIAAAAiOjnJAAAABmJLR0QA/wD/AP+gvaeTAAAduklEQVR4nO2de1jUVf7H3wMDDAOoXL2AgWAKXtZHTddC1kzUcjG1xJ+6YWrFupmT9Zis2fPMVmaYuo5hbZpbopKkqxK11ko8uqKAhqYueEkBb8lNAQGBkZk5vz+OO36dGYe5fL/z/c56Xk//eGbmfD807zmXz+dzPkdGCAGDwTceYhvA+N+ECYshCExYDEFgwmIIAhMWQxCYsBiCwITFEAQmLIYgMGExBIEJiyEITFgMQWDCYggCExZDEJiwGILAhMUQBCYshiAwYTEEgQmLIQhMWAxBYMJiCAITFkMQmLAYgsCExRAEudgGMO6DELJ3795jx45xGxUKha+vr/mbAwMDzRt9fX0VCoVJo0wm69atG7clPj7eYp98wYQlIQwGw9ixY1taWk6cOCH0s9LS0ubNm9e/f3+B+pexk9DS4fPPP09NTQ0JCVGpVN7e3sb29vb2trY28/c3NDSYN7a1tbW3t5s0EkIaGxuN/7xw4cLly5cnT56cm5vLk+1mEIY0qK+vDw0NBZCdnS30s2pqarp27QrgX//6l0CPYMKSCosWLQIwevRog8Hggsd9+OGHAH7zm9/odDoh+mfCkgSlpaVeXl6enp4nT550zRO1Wm1MTAyAzz//XIj+mbAkwdixYwEsWrTIlQ/Nzs4GEBYWduvWLd47Z4t38fn6669nzpwZHBx8/vz54OBgk1fXrVu3b98+k0a5XB4QEGDeVUBAgFxuutP39vb28/P78MMPZTKZyUsJCQmHDx9etmzZypUrnfsjzOBdqgy7uH37dmRkJB48Jb300kvOf8symcxi58ePH/fw8FAoFJWVlfz+XWzEEpnly5evXLly2LBhP/30k4eHhUDImTNnrl+/btLY0dHR0tJi/uampia9Xm/SeOfOndbW1qVLl1o04IUXXsjKypo5c+aOHTsc+gseAL86ZdjFxYsXFQqFTCYrKCgQy4Zr164plUrebWCxQjF544032tvb58yZM3r0aLFsCA8Pf/PNNwkhS5YsITxOXzyKlGEX+/fvBxAQEHD9+nVxLWlubu7VqxeArKwsvvpkwhIHrVZL43Rr164V2xZCCPniiy8ARERE3L59m5cOmbDEIT09HUBcXNydO3fEtoUQQvR6/fDhwwGsWLGClw6ZsESgqqqqS5cuAL7//nuxbbnHgQMHAPj7+/MyNTNhicDs2bMBPPfcc2IbYsrUqVMBvPTSS853xfxYrubIkSMJCQkKhaKsrKxPnz5im3MfFRUVAwYM6OjoOHbsGJ0ZHYa5G1yKwWBYvHgxIWTp0qVSUxWA6OjohQsXGgyGJUuWONuX84Mew3Y++eQTAL17925paRHbFss0NDSEhIQAyMnJcaYfJizXcfPmTfqd7d69W2xbrJGRkQEgJiamvb3d4U6YsFzHggULAIwbN05sQzqho6Nj4MCBANatW+dwJxISlk6nO3To0Llz527evCm2Lfxz4sQJT09PuVx++vRpsW3pnO+++w5AYGBgXV2dYz2IL6z29va8vDyVStWzZ08ACQkJPXr0+Pnnn8W2i08MBsPvfvc7ADQq5xZMnDgRTuQeiiasxsbGHTt2zJgxg5uw1rdv30cffRRAt27dRAz48862bdsAdO/evbGxUWxbbKWsrEwul8vl8tLSUgc+7mph1dXVZWZmJiUl+fj4GPU0YMAAtVpdUlJCCNFqtTNmzADg4+Mj8UWujTQ1NdEQ75dffim2Lfbxxz/+EUBSUpIDn3WRsCorKzUaTWJiojFx1tPTMz4+Pj09/ZdffjF5s06no3+Sp6fn5s2bXWOhcNAMu8cee0yv14tti33U1tY6fEpMWGGVlpaq1WquD1ehUCQmJmo0mqqqKuufpWFamUy2atUqQY0UlAsXLvj4+Hh4eBw9elRsWxyBfgvUHW/XB/kXlk6nKygoSEtLo6slSmBgYHJycmZmZlNTk+1dbdiwgWbrqlQq15y2451JkyYBePnll8U2xEG0Wm3fvn0BbNy40a4P8iastrY2urnr0aOHUU+hoaEpKSm5ublardaxbrOysry8vADMmTPH3h+N6HzzzTcAunTp0unwLGV27twJICwszK6dh7PCqq+v37lzZ0pKCndzFx0drVKpCgoKbBlm9Hp9YWFhfn7+g97w448/0s6fffbZ1tZWJw12JSdOnOjbt+/MmTPFNsQpDAbDiBEjZDLZ9u3bbf+Ug8Kqra2lmztu7Qru5q5T6IypUqnCw8MBjBgxwsqbjx49SoMhY8aMcaMd++7du+mw3dDQwG03GAzZ2dnz588Xy7AHceTIEYtzy/jx4/39/fft22d7V3YLa8OGDSNHjjQefZTL5YmJiRs2bLh69aotH29ubt61a9fs2bO55ZqioqLefPNN65umM2fO9O7dG8CgQYN+/fVXe80Wi3HjxgGg5xSM1NfXBwUFAfjuu+/EMsycyspKX1/f2NjY5uZmbnt+fj4ApVJ5+fJl23uzT1hZWVnx8fEAfH19k5KSNm7cWFNTY8sHb9y4kZmZmZyc7Ofnxx3h0tLSbJwxCSGXLl2ieeJ9+vS5cOGCXZaLxc8//+zh4eHt7W3iVVm3bh2A/v37SyQ1mRAybdo0AH/4wx+4jR0dHYMHDwawcuVKu3qzT1iDBg0CsGrVKhvXOpcuXdq4cWNSUhJdgAPw8PAYPny4Wq0+d+6cXY+m3Lx5c9SoUQDcKOwzd+5cAM8//zy38c6dO/369QPw8ccfi2UYlx9//BGAv7//tWvXuO1//etfaaZDW1ubXR3aIaxbt255enr6+Ph0mk1RWlqanp4eHx/PnTHj4+M1Go3zs1hzc/OECRNo2OfQoUNO9uYCqqur6ebj3//+N7ed7hkDAwNv3Lghlm2Ujo4O45DBba+pqaErFgembDuERc/BPf744xZf1ev1JSUlarU6NjbWONkplcqkpKTMzEx+V9xuF/Z59913AQwdOtRkHTl+/HgAb7zxhliGUdasWUMDtSZDxrx58wBMmDDBgT7tEBb9v2P+f8FgMCxYsKB79+5GPXXv3j01NXXfvn3OZIpZx73CPq2trY888giALVu2cNtPnjzp6enp5eV1/vx5sWyrrq6mcZt//vOf3PaSkhK6OnTMNjuE9cwzzwDYuXOn+Us0JyQqKkqlUuXl5bnMk+lGYR+a4NCrVy+TpGRaTGbKlCliGfbiiy8CmDx5MrdRr9f/9re/BbBs2TLHurVVWAaDge6QLboVioqKxMpfy8jIcIuwj8FgGDlyJAC1Ws1tr6mpoWcM8/LyXG9VYWGhTCYzH5Y2b94MIDw83MT1YDu2Cuvs2bP0B+fYYwTFXcI+9Fv09fU1cQh98MEHAIYMGSJQOdAHodfrqdaXL1/Obb916xaNy3311VcOd26rsOjZ/uTkZIefJCjuEvZJTk4GkJKSwm1sa2uLiooC8Pe//92VxmzatAlARESEyez8+uuvA4iPj3dmBrBVWK+88gokU8HCIm4R9qmoqKAFsUyyaL766iu66RGiHKhFjNW/v/76a257WVkZL2V2bRUW9XMUFhY68zChKSsrk37YJy0tjXptuOOBwWCgIQ2TWUk4XnvtNViq/k19hAsXLnSyf5uE1dTURF2j9rpfXY/0wz5NTU10BbNr1y5ue3FxsUwmUygUly5dEtqG0tJSuVzu6el56tQpbjvNkAkKCnLeZ2uTsPLy8gCMGjXKyYe5htraWpqzGhsb6+LlsI189tlnVPomP9RZs2YBmD17ttAGPPnkk3QfzW1sbW2lS73PPvvM+UfYJKz33ntPCg5i22lqaoqMjBw5cqSNOTwuRqfT0ciuifvt6tWrtBzo4cOHhXs6LWIbHBxsMiy98847NDzAy6/RJmFR16jJKk/i0JIbJkO9dKC5KAEBASbJpW+//TadHATyyT2o+nd5eTndVZgENB2mc2EZDAZa1f7KlSu8PNIF1NTU0K9NmlMh5fe//z2ABQsWcBubm5vpwd0dO3YI8VAq3GHDhplELadMmWLuB3GGzoUlZdcoIaSysjInJ6e6uprbuHfvXki+SsK5c+foxt4kaEG93jyWAzVirP5dVFTEbadr6ICAAB630p0L68svvwQwffp0vh7JL2vXrgXwyiuvcBvplv6dd94RyyoboTd+PfXUU9xGYzlQe3PrOiUpKQnA3LlzuY1arZYmpKxevZrHZ3UurNTUVCm7Rqkv+4svvuA20qC4SbhegtTX19NlhompdAUWGRnJY34pzXoyPzL00UcfWcyZcZLOhUX3L5J1jUZERAA4e/assaWjo8PPz08mkzlcKcWV0BTN2NhYEw1t2rSJ36o7Wq121apVn376KbfRmDNj10EJW+hEWNQ16u3tLU3X6K+//kpTSblL0ZKSEgD9+vUT0TDbMeYoZ2RkuP7pKSkpAiXtdFKD9OjRo3q9fujQoeYXo0uBI0eOAHj88ce51xsVFRXRRtHMsgcvLy86GanV6vr6elc+uqioaPv27T4+PqtXr+a9806EJfEviZpHj1cYKS4uhoRtNmfKlCmJiYn19fU0f8Y1GAyG119/nRCydOlSbjEE3rA+oNHSA5J1jVL17N+/n9sYHR0NCbtGLUJzlB3OA3YAGlYSrsyuNWEZDAaaiCJN12h7e7tCofDw8OAmybiFa9Qi8+fPBzBt2jQXPKu+vp5+sxYTzXnBmrDOnTsHCbtG6Tw4aNAgbmNOTg4k7xq1SHV1Nc1R3rp1a/l/qbeE8xupV199FWb+M34xvT+Yi1sssEzMs7jqcgu6d+++aNGi1atXz5kzx4GPy2QybtUCI0qlkls8EYBer79+/bpcLl+/fr2DttqANWFJfBX8v7Fy59KrV687d+74+/uHhYXRloaGBvO3tbW1tbe3mzQSQiy+2WJjYGBgWFgYTd4UCDcescw1pNPpjh8/LpPJ6NElt2PPnj0AMjIy6Kl8uyCENDY2mre3trZqtVqTlscee+zixYt1dXU0O1kQHjRHUteol5eXNM8mWHSNHj9+HO7jGjWhrq5OLpd7eXm5oMw93ewLenbjgX6sY8eO6fX6YcOG+fr6CiVqJygsLAQwatQo93WNmvCPf/xDp9NNnDiRnt8UFHp9HN3oCMQDhWXlSyouLqZZiCJicYHlvit3ALt27QJAY+pCM2XKFE9Pz/379zc3Nwv1DOujZXZ2tkl7dXV1cHCwh4fH+vXrhRtIO+WJJ56AWZnomJgYAE6eWxKF2tpauVzu7e1dX1/vmifSQ0EmBzp45IHC2rRpU1BQ0Pz5881zZNevX08noLS0NIHMso5Wq6UJa9yvgbpG/fz8pHwY+kF8+umnMCugICi0woxJmTUeeaCw9u3bR8+tv/zyy+Ze7G3bttFX586d6/ovku4HBw4cyG2k5aYEdfoJx9ixYwFs3brVZU+srKwE0LVrV4cLWlvHmuc9Ly/P398fDzi3/u2339J1/dSpU12cVEPrLJoUT//zn/8MFx745JHq6mp6bNPFB7hppp0Dt07YgrXshsTExPz8/JCQkNzc3GeeeebWrVvcV5OSkg4cOBAcHJyTkzNp0qSmpiY+l35W+R9bue/evVuv10+cOJHm3LkMWnRUqL1hp9IrKyujWZqDBw82T7YvLS2l9bSHDx9uY6Fb56FFzMrKyowtHR0d/v7+MpmstrbWNTbwCD0+um3bNhc/98SJEwB69eolxFEzm84VWj+3XllZSRN6oqOjL168yLuJJlhxjT766KNCP513qqqqRJkHKfT0ZXFxMe8923SLfWRkZGFh4ahRoyorKxMSEk6dOsV9NSoqqqCgYOjQoRUVFQkJCadPn+ZxQDWnvr5+9OjRY8aM4bpG3TdESOfBp59+2sXzIIUeJ6Sn5XjGdg1yyxWb31LZ3NxMS7UGBgYKekLcIi+88AKAv/3tby5+rvOMGTMGgF23ifDIwYMH/fz8p01b0vlb7cS+Ou9arZa6hi2WK25vb58+fToApVLJ+6kP61DXqLtUfjdC50GFQuGyslgm6HT68PA2gJw5w3PPdl95wi1XbB7F1Ol0tESbXC43OesnHHV1dTKZzB1dox9//DGAqVOnimjDvHkEIB98wHO3Dl7SZCxX/NFHH5m8ZDAY1Go1fXXNmjVOW9g51DU6duxYFzyLXxISEgBkZWWJaENuLgGI1TuyHMHxa+Wslyt2Zdhn2bJlAN5++22hH8Qvos+DlPZ2EhBAZDLC78EGp+4r3L59u5VyxS4I+zQ1NWVnZ9PyLM6U+BUFmhnsmtMT1nn+eQIQfg/MOnsRpo1hnylTpvAY9qF3iSUlJRmzuX18fGJjY00uGJI4o0ePlsjvYft2AhB+D6DwcHWv9XLFBQUF3bp1UyqVzmezlJeXr1mzZvTo0UYPlqen55gxY959992BAwcCiIyMdOxSMddz/fp1Dw8P0edBSmMj8fYmcjnhsdgFP3dCG8M+FssVnzp16ocffnC4c/O7xBQKRWJiokajuX79On0P9ZoCCAoKMin+JE00Gg3M7poTkfHjCUAyM3nrkLfLxvktV6zX6wsKCtLS0mjBDIqfnx+9S8zir/z27ds0OdHPz0+giD2P0Dw78zxKsfj0UwIQHtd7vAmL3H9LpWMTX1tbW15enkqloutxSkhISEpKSm5ubqeZQx0dHfQ8sbe3t2TLAhBCrl275uHhoVQqHb6phnd+/ZV4eBClkvB14J5PYZHOwj4PoqWlJTc3NyUlhR4FpvTp00elUhUUFFi/K9oEg8GwZMkSuvySbISH5pNJrUjiqFEEIHv38tMbz8Ii9txSWVdXRzd33t7eRj0NGDBArVY7WUY7PT2dLsjESp62Dk3Yl9qYmp5OAPLii/z0xr+wSGdhn4qKCo1GEx8fz93cxcfHp6en83iXxJYtW+RyOYCFCxfaNeYJzdWrV2UymVKpFKjMi8P88gsBSFAQ4cXnKIiwKCZhn9LSUrVaTcu2Gjd3SUlJGzduNKl5zBc5OTm0Xtzs2bOlc1k8rQ0pzXvUUlLI2rWEl2LNAgqLEKLRaOiUREu4UoKCglJSUvbs2cN7uWlzDhw4QNdt48aNa2pqEvpxtkCTxoSrHyQRhBUWISQrKys+Pt7f3z80NNTGzR2/lJSU0BobI0aMEL3c7ZUrV6Q5D1LCw0n//vemwvj4u2v58HDCdQ6OGUM6zaMWXFiEEIPBcPHiRRHv1S0vL6cJW3FxceIWkaPlRmfMmCGiDVYIDydRUcS4mXZGWDalJjuJTCaLiYkx+s1dT3R0dEFBwZAhQ86ePZuQkHD+/HkXG9DQ0LBr1645c+ao1WofHx9RspBt5L338P77aGlxuiNhpC9FGhoaXBz2uXbt2ieffDJ+/Hia5QHA+OtKTk6W4DWw4eHk55/JnDnkL38h5P4Rq0cPEhl59z8fH2lMhdKBG/ZxJnxpnfLycov+FI1Gc/Xq1d27d9PSe/SIikA2OAYV1uXLJCSEVFdLfo0lKYQL+5j7U3x9fak/xeTE5aVLl2jsSy6Xq9Vq0d1sJ0+SI0cI+a+wCCFLlpA//YkJy054DPvodLqCggKVSkWTOyhBQUHJycmZmZlWQoEdHR1qtZoOaePHjxfIk9cpBgPRaIiPDwkPJzdu3BNWfT0JDSUREUxY9uNM2Ke1tTU3Nzc1NdVYLBRA7969U1NTc3NzbXfG5ubmUg9fRETEoUOH7DXDSWpqyKRJBCAASUkhLS33hEUI+eije6FDJiz7sDfsU19fv3PnzpSUFJo0S4mOjqbBcsf8KVevXqVbCk9PT7Va7bLy9D/8QHr0IAAJDSXffMN//w+1sIhtYZ8rV65s3LgxKSnJuLnDf4PlZ2w7j9fe3m5FMdxpcezYsTzeRmmRtjaiUhGZjAAkMZEI9LSHXVjkwWEf4+bO6CMwbu5sTK6/ffs2TQfq2rVrXl6e9Tfn5+fTLLTQ0FDhjvv+5z9k8GACEB8fkp5OhNs2MGERcn/Yp6CgQK1Wx8XFmWzuMjMzGxoabOmturp606ZNkyZN4lbuX7FiRacfrKmpefrpp6m7S6VS8Rs4N67TARIXR4Q+NM6EdZfz589HRUVxXcehoaHz58/Pzc218XxRZWWlRqNJTEyk6zYAHh4eNB3I9quXDAaDRqOhc+7IkSMrKiqc+JvuUV1NnnmGAEQmI6mp/OQvWIcJ6x6HDx8G0KVLl8WLFx88eNDGdbSVsx4ml+TaTnFxMS0w1LVrV+fzIL799lZICAFIWBhx2W3GTFj32LJlC4Dnnnuu03c6cNbDXm7cuEHvBqfTomMXNre2tqpUqh49hgcFGcaPF2qdbhEmrHssWLAAVi9zN5716NGjB3fGFCgdiE6LNG972LBh9qbXHj9+nJ6bUigUmzcfcHFyCRPWPYYMGQLAvLhXY2Pj9u3bp0+fznVf9evXLy0traioSOiATElJSd++fQEEBATYWD6Eq8gBAwaIUvieCesuLS0t9Cob80IB33//vYn7ysmzHvZy69atWbNmUQNSUlKsZ95WVVUZt5apqakuSNO1CBPWXfLz8+lGzPwlrVablJSUkZEhbpJgZmamUqkEEBcXd/r0aYvv2bNnD40RhYWFffvtty62kAsT1l1WrFgBQKVSiW2INcrKyuglg76+vhqNhvsSXafTUW3ChAnG4gNiwYR1F7oF27Fjh9iGdAJXQNOnT6fZgj/99BPdnyoUCo1GI2IWuBEmLEIIMRgM9ErIS5cuiW2LTWRmZtKdRL9+/ZYsWULX6QMHDjx16pTYpt2FCYsQQn755RcAPXv2FNsQm9DpdOXl5fn5+XQb6+vrS31dVVVV0jn8Y+3q3ocH97pBs6qqKiYmJiIi4sKFC2vXrh04cKBSqaypqenZs2dKSsrWrVvFNhCwfif0w4N73cNjMBgA0Lpty5cvp42ZmZm0UUzLOEjFDnFxrxHLKKxOG0VEKnaIyO3b2srKS15eXtxzEFJGr9cD8PT05DZKTVhsKsRPP/m0tt6YNKlcmteqm2NRQxbVJiJSEbiIFBZCp5NHRfUX2xBbYVOhe1BUBABusnAHmLDcAkJw9CgAuMnCHXjArMemQmlx8SLq6tC9O+5PS5Y0bMRyA4qLAeCJJ8S2wx6YsNwAusByo3kQbuJukIodYuF2K3cwd4P0uX0bpaXw8oKbeEbvwqZCqXPsGHQ6DBkCpVJsU+zBLYT1UHve6crdvRZYAOJksquPP67r25fb+H/+/tMSEuSBgWJZZcJDLSx3XLkD6HbnTreiInAqlACIaWhAQQGeekosq0yQysgpCseOAe62cgcAgwEATGY9QgBAvArCJjy8wrp8GbW16N4dffqIbYq96PUAYLIBtNgoHg/vVBgZiZs3UVkpth0OYHHEstgoHg+vsAAEBkIyi117cAdhScUOVxIRgdhY6HR3/zl6NHJy7rbTfSLlySexfbsI5nWORQ1JbCp8GIUFQKvF5s1iG+EwFjXERiwpwNvFHqLApkLJMngwEhOxdq1p+7RpiIq6+x93WpQW7iCsh3fx/v77GD4cCxbc17h37z231pNPutwmG6FTIVtjSZNHHsHcuXj3XbHtcAA6OEl7jfXwjlgA3n4b/fuDU9rYAseOYfFiyOUICsKOHZDEQR53mAqlYocoBAbirbdw7Zq19/TujR9/xKFDGDoUWVmussw6VtwNkhHWwzhicZX01lt46y0L7QAOHrzvn97ekvnWunXD8OGIibmvMTgY0dHo1k0km0yRERq8ZFjl2jVMnozDh+HnJ7YpboJEfoOSpqUFs2bhiy+kpKqODrzzDqKi0Ls3+vVDRobYBpnyME6FdqHXY9YspKVh6FCxTeEybx6qq1FSgpAQVFTg2WfR1IT/Vp6RAmwq7ITsbLz6KoYNA4BZs/DSS2IbBODiRcTFobISxts3Dx7E5Mm4caOTLa4LYcJyQ3buxLJlKC+/16LVQqnEyZMYPFg8s+6DrbHcE/NMUYkNEExYbsiwYbh8+T7vSFERlEpwLvYRHSYsN6RvXyQnY9483LgBABUVeO01pKVJZ4EFtsZyV+7cgVqNr76CwQCFAgsXYvFisW26DyYshiCwqZAhCExYDEFgwmIIAhMWQxCYsBiCwITFEAQmLIYgMGExBIEJiyEITFgMQWDCYggCExZDEJiwGILAhMUQBCYshiAwYTEEgQmLIQhMWAxBYMJiCAITFkMQmLAYgsCExRAEJiyGIDBhMQSBCYshCP8PHIkBZB7jgrMAAAAASUVORK5CYII=\" alt=\"Mol\"/></td>\n",
       "    </tr>\n",
       "  </tbody>\n",
       "</table>\n",
       "</div>"
      ],
      "text/plain": [
       "  kinase family  group complex_pdb ligand_pdb alt chain subpocket  \\\n",
       "0   AAK1    NAK  Other        5l4q        LKB   B     A        AP   \n",
       "1   AAK1    NAK  Other        5te0        XIN         A        AP   \n",
       "\n",
       "                                     atom_subpockets  \\\n",
       "0  AP AP AP AP AP AP AP AP AP AP AP AP AP AP AP F...   \n",
       "1  AP AP AP AP AP AP AP AP AP AP AP AP AP AP AP A...   \n",
       "\n",
       "                                   atom_environments  \\\n",
       "0   16 16 16 16 16 16 16 16 16 16 16 16 16 5 5 na na   \n",
       "1  7 7 7 7 7 7 7 7 7 7 7 7 7 7 7 7 7 7 7 7 7 7 7 ...   \n",
       "\n",
       "                             smiles  \\\n",
       "0                 Nc1c[nH]c2ncccc12   \n",
       "1  N/C(=C1\\C(=O)Nc2ccccc21)c1ccccc1   \n",
       "\n",
       "                             smiles_dummy_atoms  \\\n",
       "0                 [11*]c1cnc2[nH]cc(N[27*])c2c1   \n",
       "1  [12*]N/C(=C1\\C(=O)Nc2cc([20*])ccc21)c1ccccc1   \n",
       "\n",
       "                                               ROMol  \n",
       "0  <img data-content=\"rdkit/molecule\" src=\"data:i...  \n",
       "1  <img data-content=\"rdkit/molecule\" src=\"data:i...  "
      ]
     },
     "execution_count": 6,
     "metadata": {},
     "output_type": "execute_result"
    }
   ],
   "source": [
    "print(fragment_library_concat.shape)\n",
    "fragment_library_concat.head(2)"
   ]
  },
  {
   "cell_type": "markdown",
   "metadata": {},
   "source": [
    "## Get original ligands from fragment library"
   ]
  },
  {
   "cell_type": "markdown",
   "metadata": {},
   "source": [
    "Group fragment library by ligand: For each ligand collect the following data:\n",
    "\n",
    "- PDB complex and ligand ID, alternate model, chain, and aC-helix conformation for the KLIFS structure that the ligand was co-crystallized with\n",
    "- Kinase name, family, and group of the kinase the ligand was co-crystallized with\n",
    "- Subpockets occupied by the ligand\n",
    "- Ligand RDKit molecule (remote KLIFS access) and SMILES (generated from RDKit molecule)"
   ]
  },
  {
   "cell_type": "code",
   "execution_count": 7,
   "metadata": {},
   "outputs": [],
   "source": [
    "# Takes a couple of minutes (queries KLIFS database)\n",
    "original_ligands = get_original_ligands(fragment_library_concat)"
   ]
  },
  {
   "cell_type": "code",
   "execution_count": 8,
   "metadata": {},
   "outputs": [
    {
     "name": "stdout",
     "output_type": "stream",
     "text": [
      "(2553, 11)\n"
     ]
    },
    {
     "data": {
      "text/html": [
       "<div>\n",
       "<style scoped>\n",
       "    .dataframe tbody tr th:only-of-type {\n",
       "        vertical-align: middle;\n",
       "    }\n",
       "\n",
       "    .dataframe tbody tr th {\n",
       "        vertical-align: top;\n",
       "    }\n",
       "\n",
       "    .dataframe thead th {\n",
       "        text-align: right;\n",
       "    }\n",
       "</style>\n",
       "<table border=\"1\" class=\"dataframe\">\n",
       "  <thead>\n",
       "    <tr style=\"text-align: right;\">\n",
       "      <th></th>\n",
       "      <th>complex_pdb</th>\n",
       "      <th>ligand_pdb</th>\n",
       "      <th>subpocket</th>\n",
       "      <th>kinase</th>\n",
       "      <th>family</th>\n",
       "      <th>group</th>\n",
       "      <th>alt</th>\n",
       "      <th>chain</th>\n",
       "      <th>aC_helix</th>\n",
       "      <th>ROMol</th>\n",
       "      <th>smiles</th>\n",
       "    </tr>\n",
       "  </thead>\n",
       "  <tbody>\n",
       "    <tr>\n",
       "      <th>0</th>\n",
       "      <td>1a9u</td>\n",
       "      <td>SB2</td>\n",
       "      <td>[AP, GA, B2]</td>\n",
       "      <td>p38a</td>\n",
       "      <td>MAPK</td>\n",
       "      <td>CMGC</td>\n",
       "      <td></td>\n",
       "      <td>A</td>\n",
       "      <td>out-like</td>\n",
       "      <td><img data-content=\"rdkit/molecule\" src=\"data:image/png;base64,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\" alt=\"Mol\"/></td>\n",
       "      <td>C[S@](=O)c1ccc(-c2nc(-c3ccc(F)cc3)c(-c3ccncc3)...</td>\n",
       "    </tr>\n",
       "    <tr>\n",
       "      <th>1</th>\n",
       "      <td>1agw</td>\n",
       "      <td>SU2</td>\n",
       "      <td>[AP, SE]</td>\n",
       "      <td>FGFR1</td>\n",
       "      <td>FGFR</td>\n",
       "      <td>TK</td>\n",
       "      <td>B</td>\n",
       "      <td>B</td>\n",
       "      <td>out-like</td>\n",
       "      <td><img data-content=\"rdkit/molecule\" src=\"data:image/png;base64,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\" alt=\"Mol\"/></td>\n",
       "      <td>O=CN1CCN(c2ccc(C[C@@H]3C(=O)Nc4ccccc43)cc2)CC1</td>\n",
       "    </tr>\n",
       "  </tbody>\n",
       "</table>\n",
       "</div>"
      ],
      "text/plain": [
       "  complex_pdb ligand_pdb     subpocket kinase family group alt chain  \\\n",
       "0        1a9u        SB2  [AP, GA, B2]   p38a   MAPK  CMGC         A   \n",
       "1        1agw        SU2      [AP, SE]  FGFR1   FGFR    TK   B     B   \n",
       "\n",
       "   aC_helix                                              ROMol  \\\n",
       "0  out-like  <img data-content=\"rdkit/molecule\" src=\"data:i...   \n",
       "1  out-like  <img data-content=\"rdkit/molecule\" src=\"data:i...   \n",
       "\n",
       "                                              smiles  \n",
       "0  C[S@](=O)c1ccc(-c2nc(-c3ccc(F)cc3)c(-c3ccncc3)...  \n",
       "1     O=CN1CCN(c2ccc(C[C@@H]3C(=O)Nc4ccccc43)cc2)CC1  "
      ]
     },
     "execution_count": 8,
     "metadata": {},
     "output_type": "execute_result"
    }
   ],
   "source": [
    "print(original_ligands.shape)\n",
    "original_ligands.head(2)"
   ]
  },
  {
   "cell_type": "markdown",
   "metadata": {},
   "source": [
    "## Save original ligands to file"
   ]
  },
  {
   "cell_type": "code",
   "execution_count": 9,
   "metadata": {},
   "outputs": [],
   "source": [
    "original_ligands.drop('ROMol', axis=1).to_csv(PATH_DATA / 'fragment_library' / 'original_ligands.csv', index=False)"
   ]
  }
 ],
 "metadata": {
  "kernelspec": {
   "display_name": "kinfraglib",
   "language": "python",
   "name": "kinfraglib"
  },
  "language_info": {
   "codemirror_mode": {
    "name": "ipython",
    "version": 3
   },
   "file_extension": ".py",
   "mimetype": "text/x-python",
   "name": "python",
   "nbconvert_exporter": "python",
   "pygments_lexer": "ipython3",
   "version": "3.7.6"
  }
 },
 "nbformat": 4,
 "nbformat_minor": 4
}
