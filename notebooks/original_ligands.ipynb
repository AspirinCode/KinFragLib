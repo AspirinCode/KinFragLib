{
 "cells": [
  {
   "cell_type": "markdown",
   "metadata": {},
   "source": [
    "# Original ligands"
   ]
  },
  {
   "cell_type": "markdown",
   "metadata": {},
   "source": [
    "## Aim of this notebook\n",
    "\n",
    "Based on the fragment library, get all ligands from which these fragments originated from (\"original ligands\" from KLIFS dataset)."
   ]
  },
  {
   "cell_type": "code",
   "execution_count": 1,
   "metadata": {},
   "outputs": [],
   "source": [
    "%load_ext autoreload\n",
    "%autoreload 2"
   ]
  },
  {
   "cell_type": "markdown",
   "metadata": {},
   "source": [
    "Install `klifs_utils` library for easy access to the KLIFS API (for installation change the following cell from \"Raw\" to \"Code\").\n",
    "\n",
    "Note this needs only to be done the first time you run this."
   ]
  },
  {
   "cell_type": "code",
   "execution_count": 2,
   "metadata": {},
   "outputs": [],
   "source": [
    "# !pip install git+https://github.com/volkamerlab/klifs_utils.git@lib-skeleton"
   ]
  },
  {
   "cell_type": "code",
   "execution_count": 3,
   "metadata": {},
   "outputs": [],
   "source": [
    "from pathlib import Path\n",
    "\n",
    "import pandas as pd\n",
    "from rdkit.Chem import PandasTools\n",
    "\n",
    "import klifs_utils\n",
    "from util import get_original_ligands"
   ]
  },
  {
   "cell_type": "code",
   "execution_count": 4,
   "metadata": {},
   "outputs": [],
   "source": [
    "# Needed to display ROMol images in DataFrames\n",
    "PandasTools.RenderImagesInAllDataFrames(images=True)"
   ]
  },
  {
   "cell_type": "code",
   "execution_count": 5,
   "metadata": {},
   "outputs": [],
   "source": [
    "PATH_DATA = Path('.') / '..' / 'data'"
   ]
  },
  {
   "cell_type": "markdown",
   "metadata": {},
   "source": [
    "## Load fragment library"
   ]
  },
  {
   "cell_type": "code",
   "execution_count": 6,
   "metadata": {},
   "outputs": [],
   "source": [
    "fragment_library_concat = pd.read_csv(PATH_DATA / 'fragment_library' / 'fragment_library.csv')\n",
    "PandasTools.AddMoleculeColumnToFrame(fragment_library_concat, 'smiles')"
   ]
  },
  {
   "cell_type": "code",
   "execution_count": 7,
   "metadata": {},
   "outputs": [
    {
     "name": "stdout",
     "output_type": "stream",
     "text": [
      "(7486, 13)\n"
     ]
    },
    {
     "data": {
      "text/html": [
       "<div>\n",
       "<style scoped>\n",
       "    .dataframe tbody tr th:only-of-type {\n",
       "        vertical-align: middle;\n",
       "    }\n",
       "\n",
       "    .dataframe tbody tr th {\n",
       "        vertical-align: top;\n",
       "    }\n",
       "\n",
       "    .dataframe thead th {\n",
       "        text-align: right;\n",
       "    }\n",
       "</style>\n",
       "<table border=\"1\" class=\"dataframe\">\n",
       "  <thead>\n",
       "    <tr style=\"text-align: right;\">\n",
       "      <th></th>\n",
       "      <th>kinase</th>\n",
       "      <th>family</th>\n",
       "      <th>group</th>\n",
       "      <th>complex_pdb</th>\n",
       "      <th>ligand_pdb</th>\n",
       "      <th>alt</th>\n",
       "      <th>chain</th>\n",
       "      <th>subpocket</th>\n",
       "      <th>atom_subpockets</th>\n",
       "      <th>atom_environments</th>\n",
       "      <th>smiles</th>\n",
       "      <th>smiles_dummy_atoms</th>\n",
       "      <th>ROMol</th>\n",
       "    </tr>\n",
       "  </thead>\n",
       "  <tbody>\n",
       "    <tr>\n",
       "      <th>0</th>\n",
       "      <td>AAK1</td>\n",
       "      <td>NAK</td>\n",
       "      <td>Other</td>\n",
       "      <td>5l4q</td>\n",
       "      <td>LKB</td>\n",
       "      <td>B</td>\n",
       "      <td>A</td>\n",
       "      <td>AP</td>\n",
       "      <td>AP AP AP AP AP AP AP AP AP AP AP AP AP AP AP F...</td>\n",
       "      <td>16 16 16 16 16 16 16 16 16 16 16 16 16 5 5 na na</td>\n",
       "      <td>Nc1c[nH]c2ncccc12</td>\n",
       "      <td>[11*]c1cnc2[nH]cc(N[27*])c2c1</td>\n",
       "      <td><img data-content=\"rdkit/molecule\" src=\"data:image/png;base64,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\" alt=\"Mol\"/></td>\n",
       "    </tr>\n",
       "    <tr>\n",
       "      <th>1</th>\n",
       "      <td>AAK1</td>\n",
       "      <td>NAK</td>\n",
       "      <td>Other</td>\n",
       "      <td>5te0</td>\n",
       "      <td>XIN</td>\n",
       "      <td></td>\n",
       "      <td>A</td>\n",
       "      <td>AP</td>\n",
       "      <td>AP AP AP AP AP AP AP AP AP AP AP AP AP AP AP A...</td>\n",
       "      <td>7 7 7 7 7 7 7 7 7 7 7 7 7 7 7 7 7 7 7 7 7 7 7 ...</td>\n",
       "      <td>N/C(=C1\\C(=O)Nc2ccccc21)c1ccccc1</td>\n",
       "      <td>[12*]N/C(=C1\\C(=O)Nc2cc([20*])ccc21)c1ccccc1</td>\n",
       "      <td><img data-content=\"rdkit/molecule\" src=\"data:image/png;base64,iVBORw0KGgoAAAANSUhEUgAAAMgAAADICAIAAAAiOjnJAAAABmJLR0QA/wD/AP+gvaeTAAAcKklEQVR4nO2deVxU1xXHz5thl1UDKEoEQUGRRMVqBK2a4hKlaGqwUUNMEwNqGlwa1MSmkzSkMVr6GfTjR0laDfohMa4IWo24RFEQlQAGggoqYlV2hWGdYd7tH1eHcWYY3sy8beL9fvIHefPefUf4zV3OOfdcCiEEBALbSIQ2gPDrhAiLwAlEWAROIMIicAIRFoETiLAInECEReAEIiwCJxBhETiBCIvACURYBE4gwiJwAhEWgROIsAicQIRF4AQiLAInEGEROIEIi8AJRFgETiDCInACERaBE4iwCJxgI7QBBAPcuXNHrVZr/tfNzU0i0e0C7Ozs+vTpw69dJkCEJS6USuX27ds/++yz+vp681pgqEKJRHLixAk/Pz+Kosy01SgU2bAqKjZu3Lh27Vo3N7d+/fppLjY1NdE0rXNnZ2dnW1ub2S+SSCRSqTQ9PT0mJsbsRoxAhCUiqqurg4KCmpubjx07NnPmTPMaMahCpVLZ2tqqfWXPnj3r16/39/f/5ZdfHBwczLTYCIggGhYtWgQAr776Kg/v6urqCg0NBYAvv/ySi/aJsMTChQsXKIpydHS8desWP288deoUALi4uDx48ID1xom7QRTQNL1ixQqE0Jo1a/z9/fl56csvvzx79myFQvHpp5+y3jiZY4mCbdu2LV++3NfXt6ysTN+JcOTIkY6ODnd3d/0HHR0d9WdIFEXp32xra+vr66tz8fr166GhoTRNFxYW4pGRNVjvAwmm0tDQ8NxzzwHAgQMHDN7g4+Nj+R86ODjYYOPvv/8+ALz88svs/qNIjyU8y5Yt2759++9+97uTJ08avCEuLu7hw4ePHj3S/6i9vb2jo0PnIkJI/+aAgIATJ07ot/Dw4cOhQ4c2NDQcPXp01qxZZv0LDMGuTgmm8tNPP0mlUhsbm6tXrwplw7/+9S8ACA4OViqVbLVJhCUkNE3/9re/BYBVq1YJaIZSqRw2bBgAbNmyha02ibCEZPfu3QDg5eX18OFDYS3JyMgAgL59+zY0NLDSIBGWYCgUioEDBwLAzp07hbYFIYQiIyMBYPXq1ay0RoQlGGvWrAGAsWPHqtVqoW1BCKGioiKpVGpnZ3f9+nXLWyPCEoby8nJ7e3uJRJKfny+0Ld28/fbbwFJMiQhLGPDCfsmSJUIb8hTV1dWurq4AkJ2dbWFTRFgCcPjwYQBwdXXlIkhnIZ999hkAjBo1ysIBmgiLbzo6OoYOHQoAKSkpQttigLa2tsGDBwPAjh07LGmHCItvcJcwYsQIFr2R7JKeng4A3t7ezc3NZjdChMUrd+/exTHm06dPC21Lj9A0HRERAQAff/yx2Y0QYfHK/PnzAWD+/PlCG9ILeXl5ODmssrLSvBaIsPgjJyfHwr8Wn/zxj38EgEWLFpn3uFiyG1pbW48fP56RkeHu7u7t7f3BBx9wkogtHGq1esyYMVevXk1KSlq/fr3Q5vTO3bt3g4OD29vbz58/Hx4ebvLzrKrcZOrq6nbs2BEdHe3o6IjtwXqaMmXKo0ePhLWNXVJSUgBgyJAh7e3tQtvClA8//BAAJkyYQNO0qc8KI6w7d+6kpqZGRUXZ2tpiPUkkkrCwMJlMduTIEZzoOHLkyHv37gliHuvU19fj7VyHDx8W2hYTUCgUAwYMAIDvv//e1Gd5FdbNmzflcnlERIRmk6RUKo2IiJDL5doaqqysDAoKAgB/f//y8nI+LeSIJUuWAMC0adOENsRkvvrqKwDw9fVtbW016UHOhaVWq69cuSKTyYKDgzXjr5OTU1RUVFpaWk/jXUNDw0svvQQA/fv3Lyws5NpITikoKJBIJHZ2dteuXRPaFpPBU0MA+OKLL0x6kCthdXV15eTkJCQkaOdr9+vXLzY2du/evS0tLb22oFAopk+fDgDu7u7nzp3jyE6uoWkaf0PWrFkjtC1mcvr0aTB9lxjLwmptbc3MzIyNjXVzc9PoafDgwQkJCdnZ2SqVyqTWOjs7sePH3t6+p40GImfnzp24321qahLaFvP5/e9/DwBxcXHMH2FHWPX19WlpaTExMdpbl0aMGLF27dqcnBwz1hQaurq64uPj8Wzs3//+NyvW8snkyZMBYPfu3UIbYhEVFRV2dnZSqbS4uJjhIxYJq7KyUi6XR0ZG2tjY6CzuGCaLKZXK7Ozs5cuXz5o1y8htGzZsAACKojjaD84dr776KvQQwGlqamIrD5gHZs6c6efn99NPPzG83xxhlZSUbNiwQXtx5+DgEBkZKZfL79+/z6SFlpaW/fv3v/HGGx4eHpoezvjW8i1btuDqPAkJCZZ0gTyTlJQEhrJQjh8/7uXl9e677wplmEFUKtWCBQvOnj2rc72pqcnb2xt63vmoj8nCwl9BjJub28KFC/fu3atQKJg829DQgEdMZ2dnTSNDhgxJSEhgMmKmp6djv9ebb75p6nRNKNrb2w1moVRUVOAM0oKCAqFs02fLli34L6Lz6129ejUAhIeHM/9Kmyas2NhYX19fd3f32NjYzMzMjo4OJk8ZcYeWlZWZZMDJkyddXFwAIDo6uq2tzaRnhUKThaIzf1+5ciUATJ06VSjDdNB4cTMyMrSv//LLL7a2thKJ5NKlS8xbM01Yzz//PAAw3FrJ0B1qKvn5+XhD+uTJk60i7NNTFkpjYyP+Q2ZmZgplmzbvvvsuAERGRupcx5W6li5dalJrJgjr3r17AODq6mokaVXjDh0+fDhzd6iplJaWWlfYp6csFBxADAgI6OzsFMo2TEFBAd6iozOGHDhwAAA8PDzq6upMatAEYe3fvx8Apk+frv+Rxh2KN8qZ4Q41FasL+7z++uugl4WiUqlCQkJA6DRlmqYnTZoEAImJidrX29racE2lrVu3mtqmCcL64IMPAEAmk+l/9OKLL2r05O/vv3r16nPnznV1dZlqjUlYV9inqqrKycmJoqjz589rX8/KysJdQn19vVC2ffPNN3gWqDOkyGQyPCyYsVQyQVh4onD8+HH9j1atWsWKO9RUrCvsg7NQXnrpJZ1fEf4n4MJr/NPc3IxTGHbt2qV9vaqqCru7f/zxRzOaZSospVLp6OhIUVRjY6P+p1x3TkaworCPJgtlz5492tdLS0ttbGxsbW0FiVL/5S9/AUNJV3/4wx8AYOHCheY1y1RY+fn5ADB8+HDzXsMpVhT2+frrr8FQFgpekUVHR/NsT0+uBFypy8nJ6c6dO+a1zFRYcrkcAN5++23zXsMDmrDPxo0bhbalR3rKQqmpqcFh+xMnTvBpD3YlxMfHa19UqVS4bOSGDRvMbpmpsPCi5uuvvzb7TTxgFWEfTRaKTvjrH//4BwC8+OKLvM0rDh48aNCVkJycDACBgYEMHeAGYSosHJcoKSkx+038YBVhH5yFohMo7OjoCAgI4O3b25Mrobq6GvedR48etaR9RsK6f/9+r65R8SD+sE9PWSh79uwBAC8vLx6Stz755BMACAkJ0fn6LV68GACioqIsbJ+RsLD71YpStnNzcz08PBwdHZnnD/HMihUrwFCt4okTJwLARx99xOnbNa6EM2fOaF+/fPkyzqK2vEQWI2ElJiYCwN/+9jcLX8YneMoSGxsrtCGG0QQKs7KytK/n5+dTFOXg4HD79m3u3j5v3jwAWLBggfZFtVo9btw4tmTNSFj4a3Ts2DHL38cbS5cuBYBNmzYJbUiP4IV2UFCQTnUQfKLO66+/ztF78Ukn+q4E7AoZNGgQwyQo4/QuLKVSiWMRVpTuiJ5EmXTiJ6JCpVKNGDFCP1B49+5d/AvPycnh4qXYlaDj72hsbPT09NR33ppN78K6dOmSaF2jCCGlUjlnzpykpCRt/0JLSwv2ZYtz8q4hMzPTYKDwr3/9KwCMHz+edacJLukeEBCg40rA51NMnDiRrTf2Liyc2vGnP/2JlfexzuXLl0HvPA/c2//mN78RyirmTJs2DQBWrlypfVGhUOBtc+np6Sy+q6amBp+xc+TIEe3rJSUltra2Uqm0qKiIrXf1fvpXXl4ejiX1eqcgGDRP5DZrs2nTJqlUunXr1hs3bmguOjs7JyUlOTo61tXVsfiuQ4cONTU1zZ49e/bs2drX33//fZVKtWzZMu0sFUvpVXp+fn4A8PPPP7OlZXZZsGABAKSmpmpfjIqKAoDvvvtOKKtMAm/A1wkUqtXqu3fvsv6us2fPVlRUaF/BzrO+ffuym7fTi7Cqq6sBwNXVVcD8BeNg3WtnS9M0jeehVlGGCiFUU1ODaxXzHChEWhVHv/rqK3Zb7kVYOJwkWtdoTU0NALi4uGjrHo8pAwYMENAwU+E/UIjBlbrGjBnD+nt7mWOJfLKSm5sLAOPHj5dKpZqLIrfZIKtWrfLz8ysuLsbJnPxw69at5ORkiqLkcrn2L5AVGAkLZwCLECMzd9HabBAHB4cvvvgCAD766KPm5mZ+Xrpy5cqOjo4333wTJ7yzjJHeTPyuUfwb0YnDjxo1CgC48C5yCk3T/AQKMfhQTP3sHbawMaK54uLitra24ODgvn37sq9oi1GpVAUFBRRF4QgXprW1FXtlcD6dFUFR1D//+c8JEyYkJyc7OzvjSKLB050BwMnJyd7eXueiVCrFiwAdXFxcNMU1MCqV6r333gMAmUyGs6XZx4joNm/eDKJ3jQYFBWlfxGl0VuEaNcjEiRPxrmCucXV19ff35+4QA2M9lsgnK9buGjVIa2trVVXVjBkzsBcAGTrdGd+mVCp1LnZ1dSkUCv2bFQpFV1eXzuO1tbVhYWGaoges07uwRPtHunjxIvwqZu4abt26VVhY6OrqmpGRwWk18traWh8fn9zcXIVCgZMiWafHVWFtbW1lZaWLiwuOwIsQfd2jJ7uJRPtlMA52gs+dO5frGvdeXl4TJkzo7Ow8fvw4R6/oUVgGXUTioba29vbt2zq6v3nzZl1dnbe3N3bHWx379u0DgJiYGB7ehctR4aOguaBHYRkZB7/99tvFixerVCqObGIC1v24ceP0XaPmHKMgAm7cuFFUVOTu7o7zHbgG70c9evSo/lyNFXoRVlhYmM71R48e/fnPf961a9e8efPa29u5sIkJvxrXqAbcXc2ZM0ffj8AFfn5+L7zwQlNT05kzZ7hov0dhffjhhy4uLsnJyTqOYHd39xMnTnh6emZlZU2dOrWhoYELs3rFyMzdSidYfI6DGG5Hw578EMXFxf379weAsWPH1tbW6nxaVlaG3S0hISH/+9//OPKF9IRKperTpw9FUdo7LTVZo6aeoSAGrl+/DgDu7u58FsoqLCwEAG9vby529RlzkN6+fRsfMhsQEKCTxIMQunfvHs6e9vPzu3HjBuuWGeHKlSvQg2t07NixfFrCFvjY1bfeeovn9w4ZMgQAcnNzWW/ZWBDaz88vJydn9OjRN2/enDRp0tWrV7U/9fHx+fHHH8PDwysrKydNmoTlzw8GhzyDg6O1wP84iJkzZw5wNBr2Kj2FQhEZGQkAHh4e+pteWlpacGEJZ2fn7Oxs1oVvkIULFwLA9u3btS/ifevffvstPzawyLVr14D3cRBz9uxZAAgMDGS9ZUb7Cjs6Ol577TUAcHJy+u9//6vzaWdnJy4ZYm9vv2/fPtZN1Ad34Dq7nHEhcuPF4sXJp59+CgLFZNVqNZ5Js16Vg2lRkK6uLlzDycbGZufOnTqf0jS9atUqAJBKpawnueqgVqtlMll0dLR20mN5eTkAeHl5cfpqjhg5ciQA6H9j+eGdd94BgKSkJHabNaFUJE3TuCglTvDQv0FTocpgnVJO2bVrFwDMnTuX5/daDh4HPTw8hCqcfOTI0dDQiEWL2Nxnhsw4mUIul+MaVGvXrtX/dOvWrZoKVXyWplm+fDkAWN1JO+hJ1Zd33nlHKAM6OpCLC6IoZG7tPsOYc5bO7t27cbrFW2+9pV+D6uDBgziG+sYbb3CX7qPD6NGjAUD89W31weW4DZYM5o2YGASANm9ms00zT//KysrCx4PPnTtX//TsU6dO4WSMqKgoHja5W69rtKysTNhxEJOejgAQu2evmH+sXF5eHk6fnTp1qn6hsEuXLuHNfePHj+e6gjmOdoWFhXH6Fi7Ac9YlS5YIa8ajR8jODkmlyMTTJ4xh0XmFJSUl+CiKsLAwQcI+9+/f3759e0hICEVRBo/MEDk45+eHH34Q2hA0YwYCQN98w1qDlp6wKkjY59atW/j4J7xQwO5ZvD+OrVfwQElJCQD069dPDLVSt21DAGjOHNYaZOHo3urqajx3HjBggH5pxrq6unHjxjk5OVkekCopKZHJZNqZPA4ODlFRUampqZ9//rlmrSraesk64HFQJGdhVlcjiQQ5OiK2zj1i50xo42EfhUJx4cIF81rGxz+tXbsW94sYDw+PmJiYtLS05uZmzZ3G16oiBI+D/Ndr6IkJExAAOniQndZYO8XeeNjHVNrb2zMzM+Pi4nCgBuPp6YkP4OxpDZWVleXk5AQAc+bM0V+rigoc0X/uuefE8x348ksEgNgq2sqasFBvYR8mNDY27t27NzY2VnvrCPOzfRFCFy9exGvVKVOm8FDU2mw+/vhjAIiLixPakG7KyxEAcndHrDgf2RQWejrsk5yczPCp2tratLS0qKgoOzs7jZ5GjBghk8lKS0tNtaGkpGTQoEF4rVpTU2Pq4/yADwrlLR+EISEhCACdPMlCUywLC2M87KPByNm+FtYcu3379rBhw3Bvp79WFZzi4mKxjYOY9esRAHrvPRaa4kRYCKFdu3b1NJXGizvtbVuOjo54ccdiB1NdXY3LNwwYMIDF0pqsgGvX6hyNJAauXEEAaOBAZPnCmithoafDPi0tLfhsXzxIYfr27YvP9mWlsLg+CoUCb6UyuFYVkODgYAA4ycqQwyo0jZYvR3v3IsvLsHEoLITQuXPncLEU7a29gwcPXrFixZkzZ3ioXqe9VrXw1CG2KCoqwitcsY2D7MKtsBBCRUVF0dHRISEhJi3uWER7rfqf//yHz1cbBFdnXLZsmdCGGAAvDDVnt4eHo/JyVF6OwsO7b9D8bBzOhYURduWvvVYV9hAUmqaxp/f06dMCmtETWFgaH4glwuq9zjsrGCwIxhsURX3yySebN2+mKCoxMXHdunUIIT4NUKvV58+fX7duXWBgYHNzs52dnSbKKTZwfYKKCosb4kL4ooXnsE9ra+uhQ4cWL16MfbYYPOm0sbH5/PPPxXb+I+6Qyssfd1qaHgug+z9xDYXigYewj/H4gVKplMlkuMeaOnXqvXv3uLDBDGi6e6SLi+sWmajnWKKCo7CPSfGDU6dO4eKfnp6eYjiv7/hx9MILKC/vsW5wp0WEZTIshn2MxA+MpzfW1NTMmDEDACiKSkhI4G1/gA6trWjp0sfD3IoV3bqJi3u8QiTCMg0Lwz6sxA9ompbL5XjaN27cOP532/78MwoNRQDI3h5t2ICuX39KQ0RYZqKdosgk7IOTw1iPH1y8eBGXIHRzc+NnKzlCiKaRXI7s7REAGj4cFRay3P4zLSzELOzT1taGk8O8vLw0enr++efj4uIyMzMZDmHGD2Gor6/HJ5bhYZHrTTvV1eiVVxAAoigUF4e42Nz0rAsL9Rz2aWhoSEtLi4mJcXZ21l/cMYwfaNKpBw4caPwRPCziiX9YWFi5xv/NNocOoX79EADy9ESZmRy9hAgLIfR02GfTpk2pqalRUVGaGugSiSQsLEwmk5WVlTFs7fTp0wkJCdpHAXh4eDCZQl2+fDkgIAAAXFxcWK+c09aGEhIez9OnTUOcOjqIsB5D0/S6devwREdnccfQ1WReOrU+TU1NuHoPAMTGxrK1C/fKFRQUhACQgwPasAFx7ZolwnqK0NBQiUQyadKk77777tGjR0wesTyd2iBpaWnYkTt8+HDtYz7NQK1Wb9t21c4OAaDQUMTPWblEWN3QNI0dp1VVVb3ezG46tUFKS0txhSNHR0ezt0w+ePBg5syZEonNqFEPOZqnG4QIqxtcScHHx8fIPdylUxukra0tLi5OMyya6tHYv38/Prmtf//+P/xwhnXzjECE1c2OHTsA4LXXXtP/KD8/f926dUFBQZrOqU+fPvPmzdu9e3djYyPXhqWlpeGV6bBhwwqZeZza2toSEhKwqdOnT+foUEIjEGF1g/sGg5uLxo4dy5Y71DyuXbuGD/i0t7fvdVi8fPkyDio4ODjI5XJBtoYTYXWDy0wYLAWQmprKWzp1T7S3t2s6oblz5xrsKbWdYSEhIfoVD3iDCOsxzc3NUqnUzs5O5FuoDx486OHhgV3/OoULqqqqpkyZonHfd3R0CGUkIsLSkJ2dDQDjx48X2pDeqaysxOXsbWxsZDIZzhY8cOAAnqd7eXmJYdsIEdZj/v73vwPAypUrhTaEESqVSjtbcMmSJXiInDFjxoMHD4S2DiEiLA2zZs0CgO+//15oQxihUCiqq6v37dunOZPcyckpJSWlha0qRBYj0pR+nkEIXbp0CaznxJTDhw/3798/IyOjqKho48aNKSkpV65cuXnzprOzMz4iXnCMnQn97HDjxo36+nofHx9fX1+hbWEETdMAIJFIBg0alJiYqHNRSMueIAojBMfqDjo0qCG1Wg0AIjlqmQgLAKCgoAis6mhWgxoSVY9FhkIAgJwcuZ/f8ogIN6ENYYpBDRFhiQuFAkpKQCIZNmqU0KYwhgyFVsClS6BWw5gx4OgotCmMEX+PJQojhCUvDwDAeuZXANYwxxKFEcJy8SIAgPWsCAHIUCh+EIL8fIBfhbBIjyUiysuhvh58fEBrQ40VQIQldvAEy7q6K+hh1CNDoYiwxpk7kB5L/FjjzB2sQVjPtIO0tRVKS8HWFsaMEdoUE4l2cZkyeXIfrUKBALDS1zdu8uShWgWqBUQU6haK/Hzo6oLRo63JNYoZ0dj40tmzoc3N2hcn37r1ytmzgWq1UFZp80wLy0pn7gAANA0AoDPqGbwoEKIwQiisdOYOYAXCeqbnWNu3Q14eTJ4stB1mYFBDeBAUh7vhmRbWoEEQEyO0EeYh+h5LFEbwTEUFUFR3jfyICKiogIoKiIjovkHzs0ghwhItmzYJbYElGBz1iLAEh7WDPYRC9HOsZ1RYAJCYqNtp5eYCRQFFwdChAtnEHDIUipbAQICnO63wcEAIEILycqGMYgwRlpjR77SsBoOjHhkKRQLutHJzhbbDDEiPJXKe7CLukfh4iI+HY8d4sYY5ohfWs+ggDQyECxe6f9acial9Ef+ckgKJiRAYCBER8MorvBtqBNELi0L8njVqpUREdMtOvDQ3g1oNrq5imGY9iz2WqUREQFqa0EYwQdDzkXUQRbcpZrCq8DRfjEREPHa+xccLbcpTEGEZIz4eRo6ETZvE9ld7QkQEzJ//2PkGICoryRzLaqmogMWLn5r6URSI5q9JeiyrpbwcRo586kp4uHjCn0RYBE4gwrJahg6FkpKnruTmimeVQYRltWANpaQ8/t/4eHhynJMYIMKyZi5cgL17H7sbACA1VWiDuiGrQgInkB6LwAlEWAROIMIicAIRFoETiLAInECEReAEIiwCJxBhETiBCIvACURYBE4gwiJwAhEWgROIsAicQIRF4AQiLAInEGEROIEIi8AJRFgETiDCInACERaBE4iwCJxAhEXgBCIsAicQYRE44f/0o6W9V2RlBgAAAABJRU5ErkJggg==\" alt=\"Mol\"/></td>\n",
       "    </tr>\n",
       "  </tbody>\n",
       "</table>\n",
       "</div>"
      ],
      "text/plain": [
       "  kinase family  group complex_pdb ligand_pdb alt chain subpocket  \\\n",
       "0   AAK1    NAK  Other        5l4q        LKB   B     A        AP   \n",
       "1   AAK1    NAK  Other        5te0        XIN         A        AP   \n",
       "\n",
       "                                     atom_subpockets  \\\n",
       "0  AP AP AP AP AP AP AP AP AP AP AP AP AP AP AP F...   \n",
       "1  AP AP AP AP AP AP AP AP AP AP AP AP AP AP AP A...   \n",
       "\n",
       "                                   atom_environments  \\\n",
       "0   16 16 16 16 16 16 16 16 16 16 16 16 16 5 5 na na   \n",
       "1  7 7 7 7 7 7 7 7 7 7 7 7 7 7 7 7 7 7 7 7 7 7 7 ...   \n",
       "\n",
       "                             smiles  \\\n",
       "0                 Nc1c[nH]c2ncccc12   \n",
       "1  N/C(=C1\\C(=O)Nc2ccccc21)c1ccccc1   \n",
       "\n",
       "                             smiles_dummy_atoms  \\\n",
       "0                 [11*]c1cnc2[nH]cc(N[27*])c2c1   \n",
       "1  [12*]N/C(=C1\\C(=O)Nc2cc([20*])ccc21)c1ccccc1   \n",
       "\n",
       "                                               ROMol  \n",
       "0  <img data-content=\"rdkit/molecule\" src=\"data:i...  \n",
       "1  <img data-content=\"rdkit/molecule\" src=\"data:i...  "
      ]
     },
     "execution_count": 7,
     "metadata": {},
     "output_type": "execute_result"
    }
   ],
   "source": [
    "print(fragment_library_concat.shape)\n",
    "fragment_library_concat.head(2)"
   ]
  },
  {
   "cell_type": "markdown",
   "metadata": {},
   "source": [
    "## Get original ligands from fragment library"
   ]
  },
  {
   "cell_type": "markdown",
   "metadata": {},
   "source": [
    "Group fragment library by ligand: For each ligand collect the following data:\n",
    "\n",
    "- PDB complex and ligand ID, alternate model, chain, and aC-helix conformation for the KLIFS structure that the ligand was co-crystallized with\n",
    "- Kinase name, family, and group of the kinase the ligand was co-crystallized with\n",
    "- Subpockets occupied by the ligand\n",
    "- Ligand RDKit molecule (remote KLIFS access) and SMILES (generated from RDKit molecule)"
   ]
  },
  {
   "cell_type": "code",
   "execution_count": 8,
   "metadata": {},
   "outputs": [],
   "source": [
    "# Takes a couple of minutes (queries KLIFS database)\n",
    "original_ligands = get_original_ligands(fragment_library_concat)"
   ]
  },
  {
   "cell_type": "code",
   "execution_count": 9,
   "metadata": {},
   "outputs": [
    {
     "name": "stdout",
     "output_type": "stream",
     "text": [
      "(2553, 11)\n"
     ]
    },
    {
     "data": {
      "text/html": [
       "<div>\n",
       "<style scoped>\n",
       "    .dataframe tbody tr th:only-of-type {\n",
       "        vertical-align: middle;\n",
       "    }\n",
       "\n",
       "    .dataframe tbody tr th {\n",
       "        vertical-align: top;\n",
       "    }\n",
       "\n",
       "    .dataframe thead th {\n",
       "        text-align: right;\n",
       "    }\n",
       "</style>\n",
       "<table border=\"1\" class=\"dataframe\">\n",
       "  <thead>\n",
       "    <tr style=\"text-align: right;\">\n",
       "      <th></th>\n",
       "      <th>complex_pdb</th>\n",
       "      <th>ligand_pdb</th>\n",
       "      <th>subpocket</th>\n",
       "      <th>kinase</th>\n",
       "      <th>family</th>\n",
       "      <th>group</th>\n",
       "      <th>alt</th>\n",
       "      <th>chain</th>\n",
       "      <th>ac_helix</th>\n",
       "      <th>ROMol</th>\n",
       "      <th>smiles</th>\n",
       "    </tr>\n",
       "  </thead>\n",
       "  <tbody>\n",
       "    <tr>\n",
       "      <th>0</th>\n",
       "      <td>1a9u</td>\n",
       "      <td>SB2</td>\n",
       "      <td>[AP, GA, B2]</td>\n",
       "      <td>p38a</td>\n",
       "      <td>MAPK</td>\n",
       "      <td>CMGC</td>\n",
       "      <td></td>\n",
       "      <td>A</td>\n",
       "      <td>out-like</td>\n",
       "      <td><img data-content=\"rdkit/molecule\" src=\"data:image/png;base64,iVBORw0KGgoAAAANSUhEUgAAAMgAAADICAIAAAAiOjnJAAAABmJLR0QA/wD/AP+gvaeTAAAboElEQVR4nO2deVyU1f74PzMMmwjIIpuKKIwlgomaGyqGuCW4U9pVe2XdsU272be4/fQVdk2d9HZFM2ssTbMoUdNIxJC03MAcQEQcBATZdxhkGQaY+fz+ODpNgDjLc3Cw837x8jUM83yeM857zjnPec75HB4iAoPBNfxHXQDG4wkTi0EFJhaDCkwsBhWYWAwqMLEYVGBiMajAxGJQgYnFoAITi0EFJhaDCkwsBhWYWAwqMLEYVGBiMajAxGJQgYnFoAITi0EFJhaDCkwsBhWYWAwqMLEYVGBiMajAxGJQgYnFoAITi0EFJhaDCkwsBhWYWAwqMLEYVGBiMajAxGJQgYnFoAITi0EFJhaDCkwsBhWYWAwqMLEYVGBiMajAxGJQgYnFoAITi0EFJhaDCkwsBhWYWAwqCB51ARiGo1QqGxoaWltbPTw8HnVZOsJqrN5Kfn7+mDFjVq1aNWjQoMmTJ+/du7exsfFRF+pPeGy/wt7IhQsXFi1aVF1d7erqWl9f39LSAgC2traLFi1auXLltGnT+PxHXWUgo7cRHR1tZWUFALNnz5bL5bW1tV988UVgYCCPxyOf6aBBg7Zu/frmzUdZSCZWb0KtVkdGRhJ71q5d297erv3XgoICsVgsFAoBIDDwEAD6+qJYjOXlj6CoTKxeQ0NDw/z58wFAIBB89tlniFhZWVlQUNDhZWq1+sKFC2++2divHwIgAJqb47x5ePQotrT0XGmZWL2DoqKi0aNHA4Cjo+PZs2cRMSMjY8iQIb6+vnK5vMtDFAqMicHQUDQ3v2eYgwP+8EMPFZiJ1Qu4fPmyq6srAAiFwqysLESMi4uzs7MDgAkTJlRUVHR/eG0tSiQYGIgAuG4dRkUh4r1/6cHEMnW+//57a2trAJg5c2ZdXR0iSiQSgUAAAM8991xzc7PuobKyMCoKT53CnBwm1t8Y7a66SCRqa2tra2t74403AIDH40VERKjVan1jEp9EIibW35XGxsaFCxeSrvqnn36KiDU1Nc888wwAWFlZfffdd4aFjYrC0lLctg2HDOG0uJ1gYpkixcXFY8aMIV31X3/9FRGzs7OfeOIJAPDw8Pjjjz+MCZ6RgQAoFHJU1gfAxDI5kpKS3NzcAMDHx0cmkyFiQkJCv379AGDUqFGFhYVGxm9tRQsL5POxsZGL4j4AJpbJsW/fPoFAMGPGDE1X3dzcHACWLFnS1NRkcNiMDPz0U0xKQkT090cAvHqVqyJ3ARPL5HB0dASAoqIiRFSpVKGhoTweLzIy0oCuujYffogA+N57iIjLliEA7t/PSXm75lHfqmR0YsSIEQCQlZUFAHw+Pzo6+qefftq4caPmVqBh+PsDANy4AQDg5/fnY0owsUwOf39/AMjIyCC/2trahoWFGR9WWyZtySjBxDI5/Pz8AOAG1x+7tzfY2EBREcjl9yS7ry4VmFgmR4caiyv4fBg+HBAhMxO8vGDChAvDhu2srpZze5Y/T0cpLsNg/P39eTxeZmamWq3mNvKMGd8HBITIZN/yeADw3u+//yszM53bU2hgYpkc9vb2AwYMaG5uzsvL4zayk1NpWtqv164lA7V6UQMTyxQhnzrn3SztsJR6chqYWKYI+dQ5r060aylWY/0doVRjubu7Ozs719bWlpaWasRCOqtpmFimCKUai0S2s7MrLCx0dnZ2dXVtaGgoLCzk/CzAxDJNfH19BQJBTk6OUqnkNvLx48fr6+snTJgA1OpFAhPLFLG0tPTx8Wlvbyc3djiEzJIAgMbGxpKSEmIwt6cgMLFMFKqd68LCwsmTJ8tksubm5uDgYBqnYGKZKJ2HA7hqFpOTk8ePH5+eni4UCk+fPk3m5HAOE8tE6dx/nz9//tixY3fu3FldXW1w2MOHDwcHB5eXl8+YMeOPP/4gs1KpQHFKDsMIsrOzAcDT05P82tDQoOkeWVlZhYeHx8bGtra26h6QLM0gc29EIpFexxoAE8tEUalU1tbWPB7v3Llz5BmFQhETExMaGqrpbjs4OIhEogsXLjw0mvbSjF27dtEtOiIysUwTtVotFov5fL6TkxMADB8+PDIyMi8vj/y1pKQkKiqKLIwmPPnkk9ov6EBxcfHYsWOJiImJiT3zFphYJkdzc/PSpUsBwMzMLDg4mKyBBgA+nx8SEnLw4MGGhgbyytTU1Lffflv7BUuXLu0QLTU1deDAgaC1NKNnYGKZFqWlpePGjQMAW1vb2NhYRGxvbz9z5syKFStsbGw69LHa2toQUaVSaV7wr3/9Szva4cOH+/TpAwAhISG1tbU9+UaYWCZEenq6p6cnAAwdOvTGjRsd/iqXyw8ePBgSEqKZ/O7h4bF27drU1FTNCzR5HEhj2mNd9c4wsUyFY8eOkTopMDCw+zwfhYWFYrF42LBhmj6Wr6+vWCwuKysjL1AoFC+88AJpTMVicY8UvyNMLJMgKiqKJHdctWqVUqnU8ajLly+/9tprZLkYueKbO3fu559/TlZR29ranjx5kmqxu4GJpSuaLBpRUfd+kItkQC0tLStXrgQAsnjQsAixsbHh4eEWFhYkDo/H0yQ8elSw5La6snMn3Lx577GvLwwbBkIhxMWBvz/U18PUqeDkpHfM6urqxYsXnz9/vm/fvt9++y1J2GcwNTU133//vUwme/rpp+fNm6epyR4JvU+s+vr62traurq6uro68qBv376kS0GVnTvhrbfuPQCAt96C1avB1xcSEuDUKQCAoUMhJARCQiA4WCfJMjIy5s2bd+fOnYEDB8bGxgYEBNAsfk9jQhsIKJXK5ORkjS7a6mg/6Lx2xcfHZ/v27adPn9aM6FBFpQJSBIkEAgNh8WJoaYGkJMjLg717Ye9e4PNh5EhYsCArICB7ypQpDg4OnYPEx8cvXbr07t27EydOPH78eM+UvEd5hM2wNuXl5Vu3btWlwPb29l5eXqNHj54+ffqSJUtEIhHJE7x48eKeKerGjThsGF68+Jcn29pQKkWxGENC0NoaAXDatA0AwOfzfX19RSJRTExMTU0NebGmq7506VK9UvL1IrprCvPy8k6ePDl79mztK1tKvPvuu//973/d3NwmTJjg4ODg6OjocB/NY/Kgc2r8kpISPz8/uVweHR29bNkyquXMyYGRI0GphMREeNBEppYWuHIFrl49cPLkgeTkZM10FzMzM9LeSaVSPp+/ZcuWiIgIqqV9lHSpm1qt3r17NxlWcXd3NyZ7ji5UV1fb2toCwFVDM+vs3bsXAJycnDRjOTRQq3H6dATAV17R9ZC2tjapVCoWi0NCQkjWf09PTysrq+PHj9MrpynQtVgkJaGG7du3Uy3E+++/DwChoaEGHHv16lVyXT1nzhwACAsL47p0f7J/PwKgszNWVRlyeHNz8/bt2wFgypQpXBfN5OhCrNbW1g61Wv/+/TU3Pjmnrq6OzDS6dOkSIuoyCUTD8ePHBQLBuHHj2traSkpKSDf5m2++oVHO6mrs3x8B8NtvDQ+SkpICAAEBAdyVy0TpQqzm5mYXF5cObm3evJlSCT744AMAmDVrFiLGxcUBwIIFC3Q8tr6+ntxc27JlCyLu378fAOzt7UnWMm5ZsQIB8Jln0ID8ZydOnNizZ09jY2N+fj4AeHl5cV48U6PrprCqqqrDBbCDg8ODdkAwhvr6elLNnD9/HhEDAwMB4JNPPtE9QmJiIo/Hs7S0vH79OiIuWLAAAObOncttOX/77Za1tcLaGnNzDTmcXLdmZ2fL5XKiPrfFM0EeONwgk8ns7e213frggw84P/2mTZsAIDg4GBETEhIAwNnZWd9md/Xq1aR9aW1tLSkpISPO+7lLhKhQKIRCoZeXcNeu24ZFIDNhkpOT1Wq1QCDg8XhkxstjTHfjWImJidpLOAQCQXW1Qb3WB9DY2Ni/f38AILNvp06dCgAG3I1vbGz09vYGgP/85z+IePDgQVIrGJ9gmLBhwwYA8PPzM3jyyezZswEgPj4eEcmk0CrD+v+9h4cMkO7bt08jFo8H2dnvcHhusVgMAJMmTULEc+fOAYCjo+Pdu3cNCHX27FkejycQCKRSKSIuWrQIAEJCQoxMCIuIWVlZlpaWfD7/YochUX0go2vR0dGo1SwaWTAT5+Ej72QsAADmzYPUVJu2todsCaQjTU1N5BIhISEBEcmyyU2bNhkckOwF8tRTTymVysrKSlIXfvnll8YUUq1Wk5GXV1991Zg4r7/+OgDs3r0b7zeLV65cMSag6fNwsdRqdXT09K++AqkUpFIoKnqbkxN/8sknADB+/HhEvHz5Mmm8SGZzw2hqavLx8QEAMvnku+++AwA7O7vOO/rpjkQiAQA3Nzcj5/WSxpR8bWbNmqVpFh9jdLpXqFIpsrImEbFSU62USmMv5hUKBdl4PS4uDu//Xxt/cXDx4kU+ny8QCMgI/pIlS8iVgWENYllZGbliPXz4sOYZwwpGvkXr1q3DvzaLjzE6zW7g8628vX/KypqoVOaq1S3l5WJPz926HPggvvzyy9LS0oCAgDlz5qSkpCQkJPTt23fNmjXGxASAwMDAN998c9euXS+++GJKSsrnn39+/vz5s2fPSiSSV199lbxGoVDU6UZlZSWfz580adJzzz2HiB9++OGOHTsuXrxIsiroBRG0trZW87iurs7IN2vq6O6gQiFLS3OQSiElxaKlpeslbLqgVCoHDx4MACdOnEDE0NBQAHj//fcNDqhNU1OTUCi0tbUlOxkdPnwYAKytrYVCYf/+/c3MzHT/n+HxeGZmZi4uLkVFRWq1+h//+AcAeHl5PXTjyc6cOHECAObPn4+I69evB+N6k70CPeZjWVk96eNzIjt7JqKyvHzL4MFf6iPwn+zfv7+goGDEiBFhYWHXrl2Li4sj65YMi9aBPn36HD582NHRkbi7cOHCfv36WVlZ5eTk3H8XVg664ejoGBYWlpiYGBYWdvHixa+++ur27dvJycmLFy9OTEy0tLTUvVTatRSrsbqmunp/SopZScl6fQ9Uq9U1NTVZWVnkJsyRI0cQ8ZtvvrGxsXnnHS5HMbQhN3nIWs3Kykp9hyVra2vJlKGFCxeqVKqysrJBgwYBwKpVL+sV5/r16wDg5+enKdJLL72kV4RehyET/ZTKOxUVUS0tOS0tOeXlnyiVBc3N1+7ePVtXd6yq6qvy8m3Fxe8XFLz6yisvzpgxY+zYsUOHDtWeRenq6urq6qpSqUi0yspKzQw4bmlvbydafGvEfePbt287OzsDwPr16xExLS3N0dE9MDBXrwkfxcXFADBgwABEPH78OOhzP7SXYuAMUrn81J07Irn8VG1tDLla7PwjFHp1qB0dHR2HDBliYWHB4/F++eUXbt9JZw4dOgQA3t7eRt4/+f3330mZDx06hIg//dTE5yOfj7GxukZoamoaMmRIYGAgiQYAU6dONaZIpo+BYrW05JB/CwvfvH7dMzPzqVu3puXmLrpz5+Wiov8rK9tSWfn56dM/JiQkXL16NTc3V3scaMuWLeTrS3XRt0qlIimmvv76a+Oj7dmzBwD8/VckJakQcfNmBMC+fTE9Xe9QpFn09/c3vlSmjH5iNTYmlZSsb2urlstPVVREkR99T9ne3j5+/HgAePll/XoqevHDDz8AwODBg3Vf/9k9kZEnbGzUbm5IBlzJLJrBg7G8XL84ZEqWi4uLpjPwWKKfWDk5c6RSKCn5ABHVasM/MJlMZm1tDfcHSDlHrVaPHDkSAPbu3ctVzPZ2nDsXAXDECKyvR4UCJ05EJyfUcYNmkrojPDzc3NzcwsLC0tIyICDA4KnY3dPW1lZbW1tfX08juI7oIVZTU4pUyktNtWlrq2pvl6enDygqelutNrD7sm3bNgDw8PCg0SAeO3YMAAYNGsRVdUWor8cRIxAAn30W29uxvFyn6VllZWVbtmwZOnQo6Wiam5sHBQW5u7sDgEAgePfdd7ldUnDmzJmRI0fOnDnT1tZWLBa3t7dzGFx39BArJydMKoXi4n8jYmnpR1Ip3Lr1jMEnVqlUU6ZMAYAXX3zR4CAPguQZIzd9uSUv794E5X//+yGvVKvx7Nn6JUuWaKYeeXl5ffTRR6WlpYjY1NQUERFBBmwHDBjw448/Gl+2hIQE8sbJdRJ5MGbMmJSUFOOD64uuYjU1pUmlvNTUPm1tFSpV47Vr/aVSuHv3rDHnvnXrFmkQOflv1RAbGwsAbm5ulJbsnT+PFhYIgA+aOVFbixLJvbrN29uXJEyLiYnpfHGalpb29NNPEwNCQ0MNnlF95cqV6dOnkzj9+/cXi8UtLS1xcXFeXl4AwOfzRSKRYfORDEZXsXJzF0mlUFS0DhHLyj6WSkEmm2j86f/3v/8BgLu7O4dDWWReyo4dO7gK2Jm9exEAfXxQu6VVq/HXX/H55+9pB4CenrhzZ1JxcXE3odra2qKiosjqN3t7+6ioKL069TKZLDw8nOTBcnR0FIvF2l+npqamyMhIkizEw8Pj6NGj+r9XA9FNrMyMwp+D0lL7tbaWqlSK9HR3qRTq608bf3qVSkUmji5fvtz4aIgYHx9PxmBpr4XctQtLS//8dccOFArv+WRmhvPm4cmTqLshxcXFZHIiAEyaNInsndQ9hYWFIpGIJLrt06dPREREh0lHSUlJ5Jn09HRyGU7qRa4m1naPbmI9/zwCqP7fOkSsqNghlYJMNo6rEuTl5fXt2xcAdP8+yeXy/Pz81NTUxMTEDteVkydPBoBt27ZxVbxu0E5mtHAhAqCHB0ZE4J07BgaMjY0lt4zMzc3Xrl3b2NjY5cuqqqoiIiLI8ldzc3ORSFSq7TgiItbU1Li4uLi6uh48eBARVSqVRCKxs7MDABsbmx7o1OsglkyGfD5aWGBBASoUbVP9io8F1df8zGEhdu7cSToH2hMHZDLZhg0bXn/99WXLls2ePXv8+PFCodDZ2bnDDAVHR0fNIYmJiQDg5OTUM/2JqCg8dQpzcjAqCq9exZ9/RuM/LLlcvnbtWvIehw4d2uH+RENDg1gsJn7w+fzw8PCcnJwu49y5c4dcGwHAnDlz8vPzEbG0tDQ8PJw8OXr0aEqDHQQdxFq+HAHwtdcQET/9FAFw1ChDFtc9GJVKNW3aNADQTvp7iiQH6go7OzsvL6+AgIDg4ODnn39ec0hQUBDQXALZAVJdiUQcpF/rQEpKCsnKBwDh4eEVFRVKpVIikWjW5IWEhKSlpXUfRK1WHzx4kNzotLa2joyMJIMvsbGxZB6AQCBYu3YtpaXIDxMrNxcFAjQ3x/x8bG3FwYMRADm9iCPk5+eTDmxMTIzmmU2bNu3evTs6Ojo+Pj45OTk7O7uqqupBdfilS5fA6PnNeqHxadIk7oO3trZu3bqVXDXb29uTKfwAEBQUdPnyZd3jlJeXr1ixghw7cuTIpKQk/Otgx5AhQ2jMk36YWC+99GcSjC++uDfwTOdexGeffQYAzs7O5Q+4S0K6VikpKYmJiUeOHJFIJGKx+L333vvnP/+5ZMkS8m3euHEjjbI9Km7fvj1z5sw+ffpYW1v7+flpvnX6cu7cObJtDo/HE4lEZFD+ypUro0aNIs4tW7aM2y9kt2Kp1bhsGVpYYG4utrbikCEIgIa+t4eiVqvJYIy/vz/pWs2aNWvcuHFCodDJyalz9qLObN68uYezmfcAd+/eJT1uI5eyNTc3a4Ye3N3dSaeeDHbY2Ni4u7vrVRE+FB1SRZaVgbs77NsHr7wCw4fDjRugw2dsGAUFBbNmzbp7925ZWVnnv9rb23eZMUvzICgoiNK2jo+QiooKNzc3FxeXiooK46NlZGSsXr06KSkJANasWbNr1y4AOHTo0MqVK2fOnPnLL78YfwpCtx9DfDwAgFAIq1fDO+/AypUwZw49qwBg8ODBMpnswIEDCoWiszq6VFqPHwqFAgBIZ0sqlR49enTkyJEG51z19/e/dOnSoUOH1q1bFxYWRp4kvVtyCs7orjrT9E5zcvDUKQ7rSYbuZGZmAsDw4cMR8cCBA8DR3VXtFC/R0dHw10ty49GtDri/EoHR82jXWM3NzcBR1aKd8YWEJbvucEW3Ys2dC6tXQ3w8nDgBc+ZweFaG7mh/6kQybg2Av7rLFd32sXx8QCIBAGbVI4RSjaVNj9dYDBNAu5aiUbVQCsvEMnW0aykmFoMztGssGm0W0Om6MbFMnR6osWh03ZhYpk7nPharsRgcoF2dUL0qZDXW3wvt5o/VWAzO6Nx57xU11uM2F+DxQ/tTnzp1qvakP66gUWMxsUwd7abw448/5iRme3t7bW2tZmMb1sf6O0I+9c47ZxkGIh45cmTEiBHLly/XPEllFIPDmRIMGpw+fdrb29vOzk7ftaxdhho9ejT53IcNG1ZdXU2eJ1VX5zVkxsDEMnXkcvmzzz5LbJgyZUpmZqYBQZKTk4Pvbwg7YMAAiURC1vtnZmaGh4dbWlra29vPnj2bw7WsTKzeQWxs7MCBAwHA3Nw8IiJCoVDoeODNmze7XIOfl5e3fPlyMinX2tpasxxoz549nCTuYmL1GshaVqKCt7c32SqmGwoKCkQiEVnjZWNjo1mDTxZSk6zPFhYWIpGorKyspKSE7LcAAKNHjyZbEhkDE6uXcenSJZICEwDCw8MrKys7v6aqqmrNmjVkQY6FhcWaNWvIirrOC6lv3/7LRnmaNf7Gr2VlYvU+NGu2AMDBwUEikXRYGVZQUEB2LAsPD8/NzUVEspBaM74QEhJy7dq1LoPX19e/8cYbpF58/dSpZEPTAjKxeiu3b98mexABwNSpU2/evKn916+//vrGjRuI2NraKpFIyM5FABAYGEg2s+2e5OTkF9avHyuVjpFKN+Tl1eifdpqJ1buJiYkh9RDp1Le0tGj+pFarY2JiyPaIAODv76/XQup2tTq6omJKauoYqXRaWlp0RYVeXXomVq+nrq5O06kXCoWJiYmIeObMGc2Q1RNPPBETE2PYQuqSlpY1OTljpNIxUunLWVm3db4aZWI9Jvz222+a7AxkHyEAGDRo0L59+4zff/p0Tc2M9PQxUunElJRE3ZIYsFs6jwlBQUEZGRlisdjS0tLT09PJyUksFt+6dWvVqlXGpx2Y5eh4bMSIpS4ulnx+XktLkVJZpFR2f4gOuRsYvYqSkhIzMzMbGxuycJ5b5O3t8bW1gy0tAWCS1pLXzrDZDY8bAwYMoBe8n0AAD1OKwJpCBhVYU8igAquxGFRgYjGowMRiUIGJxaACE4tBBSYWgwpMLAYVmFgMKjCxGFRgYjGowMRiUIGJxaACE4tBBSYWgwpMLAYVmFgMKjCxGFRgYjGowMRiUIGJxaACE4tBBSYWgwpMLAYVmFgMKjCxGFRgYjGowMRiUIGJxaACE4tBBSYWgwpMLAYVmFgMKjCxGFRgYjGowMRiUIGJxaACE4tBBSYWgwpMLAYVmFgMKjCxGFRgYjGowMRiUIGJxaACE4tBBSYWgwpMLAYV/j9mKlt1vOJK8wAAAABJRU5ErkJggg==\" alt=\"Mol\"/></td>\n",
       "      <td>C[S@](=O)c1ccc(-c2nc(-c3ccc(F)cc3)c(-c3ccncc3)...</td>\n",
       "    </tr>\n",
       "    <tr>\n",
       "      <th>1</th>\n",
       "      <td>1agw</td>\n",
       "      <td>SU2</td>\n",
       "      <td>[AP, SE]</td>\n",
       "      <td>FGFR1</td>\n",
       "      <td>FGFR</td>\n",
       "      <td>TK</td>\n",
       "      <td>B</td>\n",
       "      <td>B</td>\n",
       "      <td>out-like</td>\n",
       "      <td><img data-content=\"rdkit/molecule\" src=\"data:image/png;base64,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\" alt=\"Mol\"/></td>\n",
       "      <td>O=CN1CCN(c2ccc(C[C@@H]3C(=O)Nc4ccccc43)cc2)CC1</td>\n",
       "    </tr>\n",
       "  </tbody>\n",
       "</table>\n",
       "</div>"
      ],
      "text/plain": [
       "  complex_pdb ligand_pdb     subpocket kinase family group alt chain  \\\n",
       "0        1a9u        SB2  [AP, GA, B2]   p38a   MAPK  CMGC         A   \n",
       "1        1agw        SU2      [AP, SE]  FGFR1   FGFR    TK   B     B   \n",
       "\n",
       "   ac_helix                                              ROMol  \\\n",
       "0  out-like  <img data-content=\"rdkit/molecule\" src=\"data:i...   \n",
       "1  out-like  <img data-content=\"rdkit/molecule\" src=\"data:i...   \n",
       "\n",
       "                                              smiles  \n",
       "0  C[S@](=O)c1ccc(-c2nc(-c3ccc(F)cc3)c(-c3ccncc3)...  \n",
       "1     O=CN1CCN(c2ccc(C[C@@H]3C(=O)Nc4ccccc43)cc2)CC1  "
      ]
     },
     "execution_count": 9,
     "metadata": {},
     "output_type": "execute_result"
    }
   ],
   "source": [
    "print(original_ligands.shape)\n",
    "original_ligands.head(2)"
   ]
  },
  {
   "cell_type": "markdown",
   "metadata": {},
   "source": [
    "## Save original ligands to file"
   ]
  },
  {
   "cell_type": "code",
   "execution_count": 10,
   "metadata": {},
   "outputs": [],
   "source": [
    "original_ligands.drop('ROMol', axis=1).to_csv(PATH_DATA / 'fragment_library' / 'original_ligands.csv', index=False)"
   ]
  }
 ],
 "metadata": {
  "kernelspec": {
   "display_name": "kinfraglib",
   "language": "python",
   "name": "kinfraglib"
  },
  "language_info": {
   "codemirror_mode": {
    "name": "ipython",
    "version": 3
   },
   "file_extension": ".py",
   "mimetype": "text/x-python",
   "name": "python",
   "nbconvert_exporter": "python",
   "pygments_lexer": "ipython3",
   "version": "3.7.6"
  }
 },
 "nbformat": 4,
 "nbformat_minor": 4
}
